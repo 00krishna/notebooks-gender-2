{
 "cells": [
  {
   "cell_type": "markdown",
   "metadata": {
    "toc": "true"
   },
   "source": [
    "<h1>Table of Contents<span class=\"tocSkip\"></span></h1>\n",
    "<div class=\"toc\"><ul class=\"toc-item\"><li><span><a href=\"#Set-Model-Parameters\" data-toc-modified-id=\"Set-Model-Parameters-1\"><span class=\"toc-item-num\">1&nbsp;&nbsp;</span>Set Model Parameters</a></span></li><li><span><a href=\"#Notes\" data-toc-modified-id=\"Notes-2\"><span class=\"toc-item-num\">2&nbsp;&nbsp;</span>Notes</a></span></li><li><span><a href=\"#Confirm-Model-Settings-and-Execute-Simulation\" data-toc-modified-id=\"Confirm-Model-Settings-and-Execute-Simulation-3\"><span class=\"toc-item-num\">3&nbsp;&nbsp;</span>Confirm Model Settings and Execute Simulation</a></span></li><li><span><a href=\"#Simulation-Results\" data-toc-modified-id=\"Simulation-Results-4\"><span class=\"toc-item-num\">4&nbsp;&nbsp;</span>Simulation Results</a></span><ul class=\"toc-item\"><li><span><a href=\"#Comparison-of-Model-3-Growth-Models:-Change-in-Proportion-of-Women\" data-toc-modified-id=\"Comparison-of-Model-3-Growth-Models:-Change-in-Proportion-of-Women-4.1\"><span class=\"toc-item-num\">4.1&nbsp;&nbsp;</span>Comparison of Model 3 Growth Models: Change in Proportion of Women</a></span></li><li><span><a href=\"#Comparison-of-Model-3-Growth-Models:-Probability-of-Achieving-25%-Women\" data-toc-modified-id=\"Comparison-of-Model-3-Growth-Models:-Probability-of-Achieving-25%-Women-4.2\"><span class=\"toc-item-num\">4.2&nbsp;&nbsp;</span>Comparison of Model 3 Growth Models: Probability of Achieving 25% Women</a></span></li><li><span><a href=\"#Comparison-of-Model-3-Growth-Models:-Change-in-Number-Women,-Model-3\" data-toc-modified-id=\"Comparison-of-Model-3-Growth-Models:-Change-in-Number-Women,-Model-3-4.3\"><span class=\"toc-item-num\">4.3&nbsp;&nbsp;</span>Comparison of Model 3 Growth Models: Change in Number Women, Model 3</a></span></li><li><span><a href=\"#Comparison-of-Model-3-Growth-Models:-Department-Size\" data-toc-modified-id=\"Comparison-of-Model-3-Growth-Models:-Department-Size-4.4\"><span class=\"toc-item-num\">4.4&nbsp;&nbsp;</span>Comparison of Model 3 Growth Models: Department Size</a></span></li></ul></li><li><span><a href=\"#Data-Export\" data-toc-modified-id=\"Data-Export-5\"><span class=\"toc-item-num\">5&nbsp;&nbsp;</span>Data Export</a></span><ul class=\"toc-item\"><li><span><a href=\"#PDF-Export\" data-toc-modified-id=\"PDF-Export-5.1\"><span class=\"toc-item-num\">5.1&nbsp;&nbsp;</span>PDF Export</a></span></li></ul></li><li><span><a href=\"#Notebook-Settings\" data-toc-modified-id=\"Notebook-Settings-6\"><span class=\"toc-item-num\">6&nbsp;&nbsp;</span>Notebook Settings</a></span><ul class=\"toc-item\"><li><span><a href=\"#Initialize-Widgets\" data-toc-modified-id=\"Initialize-Widgets-6.1\"><span class=\"toc-item-num\">6.1&nbsp;&nbsp;</span>Initialize Widgets</a></span></li><li><span><a href=\"#Widget-setup\" data-toc-modified-id=\"Widget-setup-6.2\"><span class=\"toc-item-num\">6.2&nbsp;&nbsp;</span>Widget setup</a></span><ul class=\"toc-item\"><li><span><a href=\"#Model-Settings-Widget\" data-toc-modified-id=\"Model-Settings-Widget-6.2.1\"><span class=\"toc-item-num\">6.2.1&nbsp;&nbsp;</span>Model Settings Widget</a></span></li><li><span><a href=\"#Model-Confirmation-Widget\" data-toc-modified-id=\"Model-Confirmation-Widget-6.2.2\"><span class=\"toc-item-num\">6.2.2&nbsp;&nbsp;</span>Model Confirmation Widget</a></span></li><li><span><a href=\"#Data-Export-Widget\" data-toc-modified-id=\"Data-Export-Widget-6.2.3\"><span class=\"toc-item-num\">6.2.3&nbsp;&nbsp;</span>Data Export Widget</a></span></li></ul></li></ul></li><li><span><a href=\"#Auxillary-functions\" data-toc-modified-id=\"Auxillary-functions-7\"><span class=\"toc-item-num\">7&nbsp;&nbsp;</span>Auxillary functions</a></span></li></ul></div>"
   ]
  },
  {
   "cell_type": "markdown",
   "metadata": {
    "hide_input": false
   },
   "source": [
    "# Set Model Parameters "
   ]
  },
  {
   "cell_type": "code",
   "execution_count": 9,
   "metadata": {
    "hide_input": false,
    "scrolled": true,
    "tags": [
     "widget_display",
     "widget_input_refresh"
    ]
   },
   "outputs": [
    {
     "data": {
      "application/vnd.jupyter.widget-view+json": {
       "model_id": "501aaeb283ff4cbd9df1c894585d1a2f",
       "version_major": 2,
       "version_minor": 0
      },
      "text/plain": [
       "Tab(children=(HBox(children=(VBox(children=(IntText(value=2, description='Women Assistant Professors', style=D…"
      ]
     },
     "metadata": {},
     "output_type": "display_data"
    }
   ],
   "source": [
    "display(tab)"
   ]
  },
  {
   "cell_type": "markdown",
   "metadata": {
    "hide_input": true
   },
   "source": [
    "# Notes "
   ]
  },
  {
   "cell_type": "code",
   "execution_count": 10,
   "metadata": {
    "hide_input": false,
    "scrolled": false,
    "tags": [
     "widget_display"
    ]
   },
   "outputs": [
    {
     "data": {
      "application/vnd.jupyter.widget-view+json": {
       "model_id": "386c6dfa7cab45f98a445050a786ee11",
       "version_major": 2,
       "version_minor": 0
      },
      "text/plain": [
       "VBox(children=(Textarea(value='', layout=Layout(height='100%')),), layout=Layout(height='300px'))"
      ]
     },
     "metadata": {},
     "output_type": "display_data"
    }
   ],
   "source": [
    "display(annotation_box)"
   ]
  },
  {
   "cell_type": "markdown",
   "metadata": {
    "hide_input": false
   },
   "source": [
    "# Confirm Model Settings and Execute Simulation\n"
   ]
  },
  {
   "cell_type": "code",
   "execution_count": 11,
   "metadata": {
    "hide_input": false,
    "scrolled": false,
    "tags": [
     "widget_display"
    ]
   },
   "outputs": [
    {
     "data": {
      "application/vnd.jupyter.widget-view+json": {
       "model_id": "2698bab2863d4c50911d6df76efd16b8",
       "version_major": 2,
       "version_minor": 0
      },
      "text/plain": [
       "HBox(children=(Button(description='Show Model Settings', style=ButtonStyle()), Button(description='Save and Ex…"
      ]
     },
     "metadata": {},
     "output_type": "display_data"
    },
    {
     "data": {
      "application/vnd.jupyter.widget-view+json": {
       "model_id": "a6d18c62606f4857ad8024c1c7eecdba",
       "version_major": 2,
       "version_minor": 0
      },
      "text/plain": [
       "Tab(children=(VBox(children=(HBox(children=(Output(),)), Label(value='Simulation Settings'), HBox(children=(Ou…"
      ]
     },
     "metadata": {},
     "output_type": "display_data"
    },
    {
     "data": {
      "application/javascript": [
       "window.runSimulation()"
      ],
      "text/plain": [
       "<IPython.core.display.Javascript object>"
      ]
     },
     "metadata": {},
     "output_type": "display_data"
    },
    {
     "data": {
      "application/javascript": [
       "window.runPlotCells()"
      ],
      "text/plain": [
       "<IPython.core.display.Javascript object>"
      ]
     },
     "metadata": {},
     "output_type": "display_data"
    },
    {
     "data": {
      "application/javascript": [
       "window.runCSVCodeRefresh()"
      ],
      "text/plain": [
       "<IPython.core.display.Javascript object>"
      ]
     },
     "metadata": {},
     "output_type": "display_data"
    },
    {
     "data": {
      "application/javascript": [
       "window.runCSVWidgetRefresh()"
      ],
      "text/plain": [
       "<IPython.core.display.Javascript object>"
      ]
     },
     "metadata": {},
     "output_type": "display_data"
    }
   ],
   "source": [
    "display(buttons)"
   ]
  },
  {
   "cell_type": "code",
   "execution_count": 14,
   "metadata": {
    "hide_input": false,
    "scrolled": false,
    "tags": [
     "run_simulation"
    ]
   },
   "outputs": [
    {
     "name": "stderr",
     "output_type": "stream",
     "text": [
      "100%|██████████| 100/100 [01:24<00:00,  1.19it/s]\n",
      "100%|██████████| 100/100 [01:24<00:00,  1.19it/s]\n",
      "100%|██████████| 100/100 [01:27<00:00,  1.14it/s]\n",
      "100%|██████████| 100/100 [01:26<00:00,  1.16it/s]\n"
     ]
    }
   ],
   "source": [
    "\n",
    "data_mgmt = { 'number_of_females_1': numbers_dict['f1'].value,\n",
    "              'number_of_females_2': numbers_dict['f2'].value,\n",
    "              'number_of_females_3': numbers_dict['f3'].value,\n",
    "              'number_of_males_1': numbers_dict['m1'].value,\n",
    "              'number_of_males_2': numbers_dict['m2'].value,\n",
    "              'number_of_males_3': numbers_dict['m3'].value,\n",
    "              'hiring_rate_women_1':hiring_dict['f1'].value,\n",
    "              'hiring_rate_women_2':hiring_dict['f2'].value,\n",
    "              'hiring_rate_women_3':hiring_dict['f3'].value,\n",
    "              'hiring_rate_men_1': hiring_dict['m1'].value,\n",
    "              'hiring_rate_men_2': hiring_dict['m2'].value,\n",
    "              'hiring_rate_men_3': hiring_dict['m3'].value,\n",
    "              'attrition_rate_women_1':attrition_dict['f1'].value,\n",
    "              'attrition_rate_women_2':attrition_dict['f2'].value,\n",
    "              'attrition_rate_women_3':attrition_dict['f3'].value,\n",
    "              'attrition_rate_men_1':attrition_dict['m1'].value,\n",
    "              'attrition_rate_men_2':attrition_dict['m2'].value,\n",
    "              'attrition_rate_men_3':attrition_dict['m3'].value,\n",
    "              'female_promotion_probability_1': promotion_dict['f1'].value,\n",
    "              'female_promotion_probability_2': promotion_dict['f2'].value,\n",
    "              'male_promotion_probability_1' : promotion_dict['m1'].value,\n",
    "              'male_promotion_probability_2' : promotion_dict['m2'].value,\n",
    "              'duration':model_settings_dict['duration'].value,\n",
    "              'upperbound': model_settings_dict['upperbound'].value,\n",
    "              'lowerbound': model_settings_dict['lowerbound'].value,\n",
    "              't_fpct': model_settings_dict['target_percentage_women'].value,\n",
    "              'variation_range': model_settings_dict['variation_range'].value,\n",
    "              'annotation_text': annotation_text.value, \n",
    "              'linear_growth_info': [growth_rate_dict['widget_linear_growth_rate'].value],\n",
    "              'threeyr_growth_info': [growth_rate_dict['widget_increment3_' + str(i)].value for i in range(growth_rate_dict['increment3'])],\n",
    "              'fouryr_growth_info': [growth_rate_dict['widget_increment4_' + str(i)].value for i in range(growth_rate_dict['increment4'])]\n",
    "            \n",
    "            }\n",
    "\n",
    "data_mgmt['growth_rate'] = [0.0]\n",
    "model_no_growth = pyugend2.ModelGenderDiversityGrowthAsDrift(data_mgmt)\n",
    "model_no_growth.model_common_name = 'No Growth Model'\n",
    "\n",
    "data_mgmt['growth_rate'] = [growth_rate_dict['widget_linear_growth_rate'].value]\n",
    "model_linear_growth = pyugend2.ModelGenderDiversityGrowthAsDrift(data_mgmt)\n",
    "model_linear_growth.model_common_name = 'Linear Growth Model'\n",
    "\n",
    "data_mgmt['growth_rate'] = [growth_rate_dict['widget_increment3_' + str(i)].value for i in range(growth_rate_dict['increment3'])]\n",
    "model_3yr_growth_rate = pyugend2.ModelGenderDiversityGrowthAsDrift(data_mgmt)\n",
    "model_3yr_growth_rate.model_common_name = '3yr Growth Model'\n",
    "\n",
    "data_mgmt['growth_rate'] = [growth_rate_dict['widget_increment4_' + str(i)].value for i in range(growth_rate_dict['increment4'])]\n",
    "model_4yr_growth_rate = pyugend2.ModelGenderDiversityGrowthAsDrift(data_mgmt)\n",
    "model_4yr_growth_rate.model_common_name = '4yr Growth Model'\n",
    "\n",
    "model_list = [model_no_growth, model_linear_growth, model_3yr_growth_rate, model_4yr_growth_rate]\n",
    "results = pyugend2.Comparison(model_list)\n",
    "\n",
    "results.run_all_models(100)"
   ]
  },
  {
   "cell_type": "markdown",
   "metadata": {
    "hide_input": true
   },
   "source": [
    "# Simulation Results\n"
   ]
  },
  {
   "cell_type": "markdown",
   "metadata": {
    "hide_input": false
   },
   "source": [
    "## Comparison of Model 3 Growth Models: Change in Proportion of Women"
   ]
  },
  {
   "cell_type": "code",
   "execution_count": 15,
   "metadata": {
    "hide_input": true,
    "scrolled": false,
    "tags": [
     "plotcell"
    ]
   },
   "outputs": [
    {
     "data": {
      "application/vnd.plotly.v1+json": {
       "config": {
        "linkText": "Export to plot.ly",
        "plotlyServerURL": "https://plot.ly",
        "showLink": false
       },
       "data": [
        {
         "fill": "tozerox",
         "fillcolor": "rgba(0,0,255,0.25)",
         "legendgroup": "no growth",
         "line": {
          "color": "rgb(0,0,255)",
          "width": 1
         },
         "mode": "lines",
         "name": "no growth",
         "showlegend": false,
         "type": "scatter",
         "x": [
          0,
          1,
          2,
          3,
          4,
          5,
          6,
          7,
          8,
          9,
          10,
          11,
          12,
          13,
          14,
          15,
          16,
          17,
          18,
          19,
          19,
          18,
          17,
          16,
          15,
          14,
          13,
          12,
          11,
          10,
          9,
          8,
          7,
          6,
          5,
          4,
          3,
          2,
          1,
          0
         ],
         "y": [
          0.108,
          0.153,
          0.172,
          0.2,
          0.223,
          0.25,
          0.274,
          0.275,
          0.281,
          0.303,
          0.308,
          0.326,
          0.331,
          0.343,
          0.351,
          0.378,
          0.372,
          0.376,
          0.396,
          0.403,
          0.2,
          0.189,
          0.187,
          0.18,
          0.186,
          0.174,
          0.175,
          0.169,
          0.169,
          0.159,
          0.148,
          0.15,
          0.139,
          0.123,
          0.118,
          0.109,
          0.11,
          0.109,
          0.093,
          0.108
         ]
        },
        {
         "legendgroup": "no growth",
         "line": {
          "color": "rgb(0,0,255)",
          "width": 2
         },
         "marker": {
          "size": 4
         },
         "mode": "lines+markers",
         "name": "no growth",
         "showlegend": true,
         "type": "scatter",
         "x": [
          0,
          1,
          2,
          3,
          4,
          5,
          6,
          7,
          8,
          9,
          10,
          11,
          12,
          13,
          14,
          15,
          16,
          17,
          18,
          19
         ],
         "y": [
          0.108,
          0.122,
          0.137,
          0.149,
          0.163,
          0.176,
          0.19,
          0.2,
          0.211,
          0.218,
          0.231,
          0.24,
          0.25,
          0.257,
          0.265,
          0.272,
          0.277,
          0.284,
          0.291,
          0.294
         ]
        },
        {
         "fill": "tozerox",
         "fillcolor": "rgba(0,128,0,0.25)",
         "legendgroup": "linear growth",
         "line": {
          "color": "rgb(0,128,0)",
          "width": 1
         },
         "mode": "lines",
         "name": "linear growth",
         "showlegend": false,
         "type": "scatter",
         "x": [
          0,
          1,
          2,
          3,
          4,
          5,
          6,
          7,
          8,
          9,
          10,
          11,
          12,
          13,
          14,
          15,
          16,
          17,
          18,
          19,
          19,
          18,
          17,
          16,
          15,
          14,
          13,
          12,
          11,
          10,
          9,
          8,
          7,
          6,
          5,
          4,
          3,
          2,
          1,
          0
         ],
         "y": [
          0.108,
          0.158,
          0.189,
          0.219,
          0.232,
          0.239,
          0.245,
          0.267,
          0.278,
          0.294,
          0.305,
          0.314,
          0.322,
          0.329,
          0.349,
          0.35,
          0.355,
          0.362,
          0.368,
          0.379,
          0.22,
          0.212,
          0.193,
          0.172,
          0.19,
          0.183,
          0.183,
          0.169,
          0.161,
          0.154,
          0.155,
          0.151,
          0.144,
          0.145,
          0.126,
          0.114,
          0.118,
          0.098,
          0.091,
          0.108
         ]
        },
        {
         "legendgroup": "linear growth",
         "line": {
          "color": "rgb(0,128,0)",
          "width": 2
         },
         "marker": {
          "size": 4
         },
         "mode": "lines+markers",
         "name": "linear growth",
         "showlegend": true,
         "type": "scatter",
         "x": [
          0,
          1,
          2,
          3,
          4,
          5,
          6,
          7,
          8,
          9,
          10,
          11,
          12,
          13,
          14,
          15,
          16,
          17,
          18,
          19
         ],
         "y": [
          0.108,
          0.123,
          0.138,
          0.155,
          0.17,
          0.179,
          0.191,
          0.203,
          0.212,
          0.218,
          0.225,
          0.235,
          0.243,
          0.253,
          0.259,
          0.267,
          0.274,
          0.282,
          0.288,
          0.293
         ]
        },
        {
         "fill": "tozerox",
         "fillcolor": "rgba(128,0,128,0.25)",
         "legendgroup": "3 year growth",
         "line": {
          "color": "rgb(128,0,128)",
          "width": 1
         },
         "mode": "lines",
         "name": "3 year growth",
         "showlegend": false,
         "type": "scatter",
         "x": [
          0,
          1,
          2,
          3,
          4,
          5,
          6,
          7,
          8,
          9,
          10,
          11,
          12,
          13,
          14,
          15,
          16,
          17,
          18,
          19,
          19,
          18,
          17,
          16,
          15,
          14,
          13,
          12,
          11,
          10,
          9,
          8,
          7,
          6,
          5,
          4,
          3,
          2,
          1,
          0
         ],
         "y": [
          0.108,
          0.156,
          0.179,
          0.196,
          0.222,
          0.249,
          0.268,
          0.279,
          0.305,
          0.318,
          0.328,
          0.322,
          0.327,
          0.343,
          0.355,
          0.361,
          0.375,
          0.377,
          0.393,
          0.398,
          0.19,
          0.188,
          0.189,
          0.184,
          0.177,
          0.167,
          0.175,
          0.172,
          0.168,
          0.161,
          0.154,
          0.152,
          0.146,
          0.137,
          0.129,
          0.127,
          0.115,
          0.1,
          0.096,
          0.108
         ]
        },
        {
         "legendgroup": "3 year growth",
         "line": {
          "color": "rgb(128,0,128)",
          "width": 2
         },
         "marker": {
          "size": 4
         },
         "mode": "lines+markers",
         "name": "3 year growth",
         "showlegend": true,
         "type": "scatter",
         "x": [
          0,
          1,
          2,
          3,
          4,
          5,
          6,
          7,
          8,
          9,
          10,
          11,
          12,
          13,
          14,
          15,
          16,
          17,
          18,
          19
         ],
         "y": [
          0.108,
          0.122,
          0.137,
          0.153,
          0.167,
          0.182,
          0.195,
          0.205,
          0.217,
          0.228,
          0.236,
          0.245,
          0.251,
          0.258,
          0.265,
          0.272,
          0.278,
          0.284,
          0.292,
          0.299
         ]
        },
        {
         "fill": "tozerox",
         "fillcolor": "rgba(160,82,45,0.25)",
         "legendgroup": "4 year growth",
         "line": {
          "color": "rgb(139,69,19)",
          "width": 1
         },
         "mode": "lines",
         "name": "4 year growth",
         "showlegend": false,
         "type": "scatter",
         "x": [
          0,
          1,
          2,
          3,
          4,
          5,
          6,
          7,
          8,
          9,
          10,
          11,
          12,
          13,
          14,
          15,
          16,
          17,
          18,
          19,
          19,
          18,
          17,
          16,
          15,
          14,
          13,
          12,
          11,
          10,
          9,
          8,
          7,
          6,
          5,
          4,
          3,
          2,
          1,
          0
         ],
         "y": [
          0.108,
          0.15,
          0.168,
          0.181,
          0.217,
          0.235,
          0.252,
          0.26,
          0.286,
          0.309,
          0.307,
          0.315,
          0.329,
          0.352,
          0.368,
          0.373,
          0.376,
          0.37,
          0.392,
          0.405,
          0.201,
          0.2,
          0.185,
          0.185,
          0.182,
          0.176,
          0.166,
          0.163,
          0.151,
          0.161,
          0.147,
          0.14,
          0.122,
          0.115,
          0.108,
          0.096,
          0.096,
          0.09,
          0.092,
          0.108
         ]
        },
        {
         "legendgroup": "4 year growth",
         "line": {
          "color": "rgb(139,69,19)",
          "width": 2
         },
         "marker": {
          "size": 4
         },
         "mode": "lines+markers",
         "name": "4 year growth",
         "showlegend": true,
         "type": "scatter",
         "x": [
          0,
          1,
          2,
          3,
          4,
          5,
          6,
          7,
          8,
          9,
          10,
          11,
          12,
          13,
          14,
          15,
          16,
          17,
          18,
          19
         ],
         "y": [
          0.108,
          0.12,
          0.132,
          0.143,
          0.159,
          0.171,
          0.183,
          0.194,
          0.206,
          0.214,
          0.227,
          0.235,
          0.247,
          0.256,
          0.263,
          0.269,
          0.277,
          0.279,
          0.286,
          0.293
         ]
        },
        {
         "line": {
          "color": "blue",
          "dash": "dashdot"
         },
         "marker": {
          "size": 4
         },
         "mode": "lines+markers",
         "name": "Management Data",
         "type": "scatter",
         "x": [
          0,
          1,
          2,
          3,
          4,
          5,
          6,
          7,
          8,
          9,
          10,
          11,
          12,
          13,
          14,
          15,
          16,
          17,
          18,
          19
         ],
         "y": [
          0.10800000000000001,
          0.099,
          0.115,
          0.128,
          0.14300000000000002,
          0.153,
          0.146,
          0.14,
          0.136,
          0.16899999999999998,
          0.17300000000000001,
          0.22,
          0.213,
          null,
          null,
          null,
          null,
          null,
          null,
          null
         ]
        },
        {
         "line": {
          "color": "red",
          "dash": "dash",
          "width": 1
         },
         "mode": "lines",
         "name": "Target Percentage",
         "type": "scatter",
         "x": [
          0,
          1,
          2,
          3,
          4,
          5,
          6,
          7,
          8,
          9,
          10,
          11,
          12,
          13,
          14,
          15,
          16,
          17,
          18,
          19
         ],
         "y": [
          0.25,
          0.25,
          0.25,
          0.25,
          0.25,
          0.25,
          0.25,
          0.25,
          0.25,
          0.25,
          0.25,
          0.25,
          0.25,
          0.25,
          0.25,
          0.25,
          0.25,
          0.25,
          0.25,
          0.25
         ]
        }
       ],
       "layout": {
        "height": 800,
        "paper_bgcolor": "rgb(255,255,255)",
        "plot_bgcolor": "rgb(255,255,255)",
        "template": {
         "data": {
          "bar": [
           {
            "error_x": {
             "color": "#2a3f5f"
            },
            "error_y": {
             "color": "#2a3f5f"
            },
            "marker": {
             "line": {
              "color": "#E5ECF6",
              "width": 0.5
             }
            },
            "type": "bar"
           }
          ],
          "barpolar": [
           {
            "marker": {
             "line": {
              "color": "#E5ECF6",
              "width": 0.5
             }
            },
            "type": "barpolar"
           }
          ],
          "carpet": [
           {
            "aaxis": {
             "endlinecolor": "#2a3f5f",
             "gridcolor": "white",
             "linecolor": "white",
             "minorgridcolor": "white",
             "startlinecolor": "#2a3f5f"
            },
            "baxis": {
             "endlinecolor": "#2a3f5f",
             "gridcolor": "white",
             "linecolor": "white",
             "minorgridcolor": "white",
             "startlinecolor": "#2a3f5f"
            },
            "type": "carpet"
           }
          ],
          "choropleth": [
           {
            "colorbar": {
             "outlinewidth": 0,
             "ticks": ""
            },
            "type": "choropleth"
           }
          ],
          "contour": [
           {
            "colorbar": {
             "outlinewidth": 0,
             "ticks": ""
            },
            "colorscale": [
             [
              0,
              "#0d0887"
             ],
             [
              0.1111111111111111,
              "#46039f"
             ],
             [
              0.2222222222222222,
              "#7201a8"
             ],
             [
              0.3333333333333333,
              "#9c179e"
             ],
             [
              0.4444444444444444,
              "#bd3786"
             ],
             [
              0.5555555555555556,
              "#d8576b"
             ],
             [
              0.6666666666666666,
              "#ed7953"
             ],
             [
              0.7777777777777778,
              "#fb9f3a"
             ],
             [
              0.8888888888888888,
              "#fdca26"
             ],
             [
              1,
              "#f0f921"
             ]
            ],
            "type": "contour"
           }
          ],
          "contourcarpet": [
           {
            "colorbar": {
             "outlinewidth": 0,
             "ticks": ""
            },
            "type": "contourcarpet"
           }
          ],
          "heatmap": [
           {
            "colorbar": {
             "outlinewidth": 0,
             "ticks": ""
            },
            "colorscale": [
             [
              0,
              "#0d0887"
             ],
             [
              0.1111111111111111,
              "#46039f"
             ],
             [
              0.2222222222222222,
              "#7201a8"
             ],
             [
              0.3333333333333333,
              "#9c179e"
             ],
             [
              0.4444444444444444,
              "#bd3786"
             ],
             [
              0.5555555555555556,
              "#d8576b"
             ],
             [
              0.6666666666666666,
              "#ed7953"
             ],
             [
              0.7777777777777778,
              "#fb9f3a"
             ],
             [
              0.8888888888888888,
              "#fdca26"
             ],
             [
              1,
              "#f0f921"
             ]
            ],
            "type": "heatmap"
           }
          ],
          "heatmapgl": [
           {
            "colorbar": {
             "outlinewidth": 0,
             "ticks": ""
            },
            "colorscale": [
             [
              0,
              "#0d0887"
             ],
             [
              0.1111111111111111,
              "#46039f"
             ],
             [
              0.2222222222222222,
              "#7201a8"
             ],
             [
              0.3333333333333333,
              "#9c179e"
             ],
             [
              0.4444444444444444,
              "#bd3786"
             ],
             [
              0.5555555555555556,
              "#d8576b"
             ],
             [
              0.6666666666666666,
              "#ed7953"
             ],
             [
              0.7777777777777778,
              "#fb9f3a"
             ],
             [
              0.8888888888888888,
              "#fdca26"
             ],
             [
              1,
              "#f0f921"
             ]
            ],
            "type": "heatmapgl"
           }
          ],
          "histogram": [
           {
            "marker": {
             "colorbar": {
              "outlinewidth": 0,
              "ticks": ""
             }
            },
            "type": "histogram"
           }
          ],
          "histogram2d": [
           {
            "colorbar": {
             "outlinewidth": 0,
             "ticks": ""
            },
            "colorscale": [
             [
              0,
              "#0d0887"
             ],
             [
              0.1111111111111111,
              "#46039f"
             ],
             [
              0.2222222222222222,
              "#7201a8"
             ],
             [
              0.3333333333333333,
              "#9c179e"
             ],
             [
              0.4444444444444444,
              "#bd3786"
             ],
             [
              0.5555555555555556,
              "#d8576b"
             ],
             [
              0.6666666666666666,
              "#ed7953"
             ],
             [
              0.7777777777777778,
              "#fb9f3a"
             ],
             [
              0.8888888888888888,
              "#fdca26"
             ],
             [
              1,
              "#f0f921"
             ]
            ],
            "type": "histogram2d"
           }
          ],
          "histogram2dcontour": [
           {
            "colorbar": {
             "outlinewidth": 0,
             "ticks": ""
            },
            "colorscale": [
             [
              0,
              "#0d0887"
             ],
             [
              0.1111111111111111,
              "#46039f"
             ],
             [
              0.2222222222222222,
              "#7201a8"
             ],
             [
              0.3333333333333333,
              "#9c179e"
             ],
             [
              0.4444444444444444,
              "#bd3786"
             ],
             [
              0.5555555555555556,
              "#d8576b"
             ],
             [
              0.6666666666666666,
              "#ed7953"
             ],
             [
              0.7777777777777778,
              "#fb9f3a"
             ],
             [
              0.8888888888888888,
              "#fdca26"
             ],
             [
              1,
              "#f0f921"
             ]
            ],
            "type": "histogram2dcontour"
           }
          ],
          "mesh3d": [
           {
            "colorbar": {
             "outlinewidth": 0,
             "ticks": ""
            },
            "type": "mesh3d"
           }
          ],
          "parcoords": [
           {
            "line": {
             "colorbar": {
              "outlinewidth": 0,
              "ticks": ""
             }
            },
            "type": "parcoords"
           }
          ],
          "scatter": [
           {
            "marker": {
             "colorbar": {
              "outlinewidth": 0,
              "ticks": ""
             }
            },
            "type": "scatter"
           }
          ],
          "scatter3d": [
           {
            "line": {
             "colorbar": {
              "outlinewidth": 0,
              "ticks": ""
             }
            },
            "marker": {
             "colorbar": {
              "outlinewidth": 0,
              "ticks": ""
             }
            },
            "type": "scatter3d"
           }
          ],
          "scattercarpet": [
           {
            "marker": {
             "colorbar": {
              "outlinewidth": 0,
              "ticks": ""
             }
            },
            "type": "scattercarpet"
           }
          ],
          "scattergeo": [
           {
            "marker": {
             "colorbar": {
              "outlinewidth": 0,
              "ticks": ""
             }
            },
            "type": "scattergeo"
           }
          ],
          "scattergl": [
           {
            "marker": {
             "colorbar": {
              "outlinewidth": 0,
              "ticks": ""
             }
            },
            "type": "scattergl"
           }
          ],
          "scattermapbox": [
           {
            "marker": {
             "colorbar": {
              "outlinewidth": 0,
              "ticks": ""
             }
            },
            "type": "scattermapbox"
           }
          ],
          "scatterpolar": [
           {
            "marker": {
             "colorbar": {
              "outlinewidth": 0,
              "ticks": ""
             }
            },
            "type": "scatterpolar"
           }
          ],
          "scatterpolargl": [
           {
            "marker": {
             "colorbar": {
              "outlinewidth": 0,
              "ticks": ""
             }
            },
            "type": "scatterpolargl"
           }
          ],
          "scatterternary": [
           {
            "marker": {
             "colorbar": {
              "outlinewidth": 0,
              "ticks": ""
             }
            },
            "type": "scatterternary"
           }
          ],
          "surface": [
           {
            "colorbar": {
             "outlinewidth": 0,
             "ticks": ""
            },
            "colorscale": [
             [
              0,
              "#0d0887"
             ],
             [
              0.1111111111111111,
              "#46039f"
             ],
             [
              0.2222222222222222,
              "#7201a8"
             ],
             [
              0.3333333333333333,
              "#9c179e"
             ],
             [
              0.4444444444444444,
              "#bd3786"
             ],
             [
              0.5555555555555556,
              "#d8576b"
             ],
             [
              0.6666666666666666,
              "#ed7953"
             ],
             [
              0.7777777777777778,
              "#fb9f3a"
             ],
             [
              0.8888888888888888,
              "#fdca26"
             ],
             [
              1,
              "#f0f921"
             ]
            ],
            "type": "surface"
           }
          ],
          "table": [
           {
            "cells": {
             "fill": {
              "color": "#EBF0F8"
             },
             "line": {
              "color": "white"
             }
            },
            "header": {
             "fill": {
              "color": "#C8D4E3"
             },
             "line": {
              "color": "white"
             }
            },
            "type": "table"
           }
          ]
         },
         "layout": {
          "annotationdefaults": {
           "arrowcolor": "#2a3f5f",
           "arrowhead": 0,
           "arrowwidth": 1
          },
          "colorscale": {
           "diverging": [
            [
             0,
             "#8e0152"
            ],
            [
             0.1,
             "#c51b7d"
            ],
            [
             0.2,
             "#de77ae"
            ],
            [
             0.3,
             "#f1b6da"
            ],
            [
             0.4,
             "#fde0ef"
            ],
            [
             0.5,
             "#f7f7f7"
            ],
            [
             0.6,
             "#e6f5d0"
            ],
            [
             0.7,
             "#b8e186"
            ],
            [
             0.8,
             "#7fbc41"
            ],
            [
             0.9,
             "#4d9221"
            ],
            [
             1,
             "#276419"
            ]
           ],
           "sequential": [
            [
             0,
             "#0d0887"
            ],
            [
             0.1111111111111111,
             "#46039f"
            ],
            [
             0.2222222222222222,
             "#7201a8"
            ],
            [
             0.3333333333333333,
             "#9c179e"
            ],
            [
             0.4444444444444444,
             "#bd3786"
            ],
            [
             0.5555555555555556,
             "#d8576b"
            ],
            [
             0.6666666666666666,
             "#ed7953"
            ],
            [
             0.7777777777777778,
             "#fb9f3a"
            ],
            [
             0.8888888888888888,
             "#fdca26"
            ],
            [
             1,
             "#f0f921"
            ]
           ],
           "sequentialminus": [
            [
             0,
             "#0d0887"
            ],
            [
             0.1111111111111111,
             "#46039f"
            ],
            [
             0.2222222222222222,
             "#7201a8"
            ],
            [
             0.3333333333333333,
             "#9c179e"
            ],
            [
             0.4444444444444444,
             "#bd3786"
            ],
            [
             0.5555555555555556,
             "#d8576b"
            ],
            [
             0.6666666666666666,
             "#ed7953"
            ],
            [
             0.7777777777777778,
             "#fb9f3a"
            ],
            [
             0.8888888888888888,
             "#fdca26"
            ],
            [
             1,
             "#f0f921"
            ]
           ]
          },
          "colorway": [
           "#636efa",
           "#EF553B",
           "#00cc96",
           "#ab63fa",
           "#FFA15A",
           "#19d3f3",
           "#FF6692",
           "#B6E880",
           "#FF97FF",
           "#FECB52"
          ],
          "font": {
           "color": "#2a3f5f"
          },
          "geo": {
           "bgcolor": "white",
           "lakecolor": "white",
           "landcolor": "#E5ECF6",
           "showlakes": true,
           "showland": true,
           "subunitcolor": "white"
          },
          "hoverlabel": {
           "align": "left"
          },
          "hovermode": "closest",
          "mapbox": {
           "style": "light"
          },
          "paper_bgcolor": "white",
          "plot_bgcolor": "#E5ECF6",
          "polar": {
           "angularaxis": {
            "gridcolor": "white",
            "linecolor": "white",
            "ticks": ""
           },
           "bgcolor": "#E5ECF6",
           "radialaxis": {
            "gridcolor": "white",
            "linecolor": "white",
            "ticks": ""
           }
          },
          "scene": {
           "xaxis": {
            "backgroundcolor": "#E5ECF6",
            "gridcolor": "white",
            "gridwidth": 2,
            "linecolor": "white",
            "showbackground": true,
            "ticks": "",
            "zerolinecolor": "white"
           },
           "yaxis": {
            "backgroundcolor": "#E5ECF6",
            "gridcolor": "white",
            "gridwidth": 2,
            "linecolor": "white",
            "showbackground": true,
            "ticks": "",
            "zerolinecolor": "white"
           },
           "zaxis": {
            "backgroundcolor": "#E5ECF6",
            "gridcolor": "white",
            "gridwidth": 2,
            "linecolor": "white",
            "showbackground": true,
            "ticks": "",
            "zerolinecolor": "white"
           }
          },
          "shapedefaults": {
           "line": {
            "color": "#2a3f5f"
           }
          },
          "ternary": {
           "aaxis": {
            "gridcolor": "white",
            "linecolor": "white",
            "ticks": ""
           },
           "baxis": {
            "gridcolor": "white",
            "linecolor": "white",
            "ticks": ""
           },
           "bgcolor": "#E5ECF6",
           "caxis": {
            "gridcolor": "white",
            "linecolor": "white",
            "ticks": ""
           }
          },
          "title": {
           "x": 0.05
          },
          "xaxis": {
           "automargin": true,
           "gridcolor": "white",
           "linecolor": "white",
           "ticks": "",
           "zerolinecolor": "white",
           "zerolinewidth": 2
          },
          "yaxis": {
           "automargin": true,
           "gridcolor": "white",
           "linecolor": "white",
           "ticks": "",
           "zerolinecolor": "white",
           "zerolinewidth": 2
          }
         }
        },
        "title": {
         "text": "Comparison of Growth Models: Change in Proportion of Women"
        },
        "width": 900,
        "xaxis": {
         "gridcolor": "rgb(229,229,229)",
         "showgrid": true,
         "showline": true,
         "showticklabels": true,
         "tickcolor": "rgb(127,127,127)",
         "ticks": "outside",
         "title": {
          "text": "Year"
         },
         "visible": true,
         "zeroline": false
        },
        "yaxis": {
         "gridcolor": "rgb(229,229,229)",
         "showgrid": true,
         "showline": true,
         "showticklabels": true,
         "tickcolor": "rgb(127,127,127)",
         "ticks": "outside",
         "title": {
          "text": "Percentage Women Faculty"
         },
         "zeroline": false
        }
       }
      },
      "text/html": [
       "<div>\n",
       "        \n",
       "        \n",
       "            <div id=\"2619a153-6a5d-469e-b483-7d2c988b90e7\" class=\"plotly-graph-div\" style=\"height:800px; width:900px;\"></div>\n",
       "            <script type=\"text/javascript\">\n",
       "                require([\"plotly\"], function(Plotly) {\n",
       "                    window.PLOTLYENV=window.PLOTLYENV || {};\n",
       "                    \n",
       "                if (document.getElementById(\"2619a153-6a5d-469e-b483-7d2c988b90e7\")) {\n",
       "                    Plotly.newPlot(\n",
       "                        '2619a153-6a5d-469e-b483-7d2c988b90e7',\n",
       "                        [{\"fill\": \"tozerox\", \"fillcolor\": \"rgba(0,0,255,0.25)\", \"legendgroup\": \"no growth\", \"line\": {\"color\": \"rgb(0,0,255)\", \"width\": 1}, \"mode\": \"lines\", \"name\": \"no growth\", \"showlegend\": false, \"type\": \"scatter\", \"x\": [0.0, 1.0, 2.0, 3.0, 4.0, 5.0, 6.0, 7.0, 8.0, 9.0, 10.0, 11.0, 12.0, 13.0, 14.0, 15.0, 16.0, 17.0, 18.0, 19.0, 19.0, 18.0, 17.0, 16.0, 15.0, 14.0, 13.0, 12.0, 11.0, 10.0, 9.0, 8.0, 7.0, 6.0, 5.0, 4.0, 3.0, 2.0, 1.0, 0.0], \"y\": [0.108, 0.153, 0.172, 0.2, 0.223, 0.25, 0.274, 0.275, 0.281, 0.303, 0.308, 0.326, 0.331, 0.343, 0.351, 0.378, 0.372, 0.376, 0.396, 0.403, 0.2, 0.189, 0.187, 0.18, 0.186, 0.174, 0.175, 0.169, 0.169, 0.159, 0.148, 0.15, 0.139, 0.123, 0.118, 0.109, 0.11, 0.109, 0.093, 0.108]}, {\"legendgroup\": \"no growth\", \"line\": {\"color\": \"rgb(0,0,255)\", \"width\": 2}, \"marker\": {\"size\": 4}, \"mode\": \"lines+markers\", \"name\": \"no growth\", \"showlegend\": true, \"type\": \"scatter\", \"x\": [0.0, 1.0, 2.0, 3.0, 4.0, 5.0, 6.0, 7.0, 8.0, 9.0, 10.0, 11.0, 12.0, 13.0, 14.0, 15.0, 16.0, 17.0, 18.0, 19.0], \"y\": [0.108, 0.122, 0.137, 0.149, 0.163, 0.176, 0.19, 0.2, 0.211, 0.218, 0.231, 0.24, 0.25, 0.257, 0.265, 0.272, 0.277, 0.284, 0.291, 0.294]}, {\"fill\": \"tozerox\", \"fillcolor\": \"rgba(0,128,0,0.25)\", \"legendgroup\": \"linear growth\", \"line\": {\"color\": \"rgb(0,128,0)\", \"width\": 1}, \"mode\": \"lines\", \"name\": \"linear growth\", \"showlegend\": false, \"type\": \"scatter\", \"x\": [0.0, 1.0, 2.0, 3.0, 4.0, 5.0, 6.0, 7.0, 8.0, 9.0, 10.0, 11.0, 12.0, 13.0, 14.0, 15.0, 16.0, 17.0, 18.0, 19.0, 19.0, 18.0, 17.0, 16.0, 15.0, 14.0, 13.0, 12.0, 11.0, 10.0, 9.0, 8.0, 7.0, 6.0, 5.0, 4.0, 3.0, 2.0, 1.0, 0.0], \"y\": [0.108, 0.158, 0.189, 0.219, 0.232, 0.239, 0.245, 0.267, 0.278, 0.294, 0.305, 0.314, 0.322, 0.329, 0.349, 0.35, 0.355, 0.362, 0.368, 0.379, 0.22, 0.212, 0.193, 0.172, 0.19, 0.183, 0.183, 0.169, 0.161, 0.154, 0.155, 0.151, 0.144, 0.145, 0.126, 0.114, 0.118, 0.098, 0.091, 0.108]}, {\"legendgroup\": \"linear growth\", \"line\": {\"color\": \"rgb(0,128,0)\", \"width\": 2}, \"marker\": {\"size\": 4}, \"mode\": \"lines+markers\", \"name\": \"linear growth\", \"showlegend\": true, \"type\": \"scatter\", \"x\": [0.0, 1.0, 2.0, 3.0, 4.0, 5.0, 6.0, 7.0, 8.0, 9.0, 10.0, 11.0, 12.0, 13.0, 14.0, 15.0, 16.0, 17.0, 18.0, 19.0], \"y\": [0.108, 0.123, 0.138, 0.155, 0.17, 0.179, 0.191, 0.203, 0.212, 0.218, 0.225, 0.235, 0.243, 0.253, 0.259, 0.267, 0.274, 0.282, 0.288, 0.293]}, {\"fill\": \"tozerox\", \"fillcolor\": \"rgba(128,0,128,0.25)\", \"legendgroup\": \"3 year growth\", \"line\": {\"color\": \"rgb(128,0,128)\", \"width\": 1}, \"mode\": \"lines\", \"name\": \"3 year growth\", \"showlegend\": false, \"type\": \"scatter\", \"x\": [0.0, 1.0, 2.0, 3.0, 4.0, 5.0, 6.0, 7.0, 8.0, 9.0, 10.0, 11.0, 12.0, 13.0, 14.0, 15.0, 16.0, 17.0, 18.0, 19.0, 19.0, 18.0, 17.0, 16.0, 15.0, 14.0, 13.0, 12.0, 11.0, 10.0, 9.0, 8.0, 7.0, 6.0, 5.0, 4.0, 3.0, 2.0, 1.0, 0.0], \"y\": [0.108, 0.156, 0.179, 0.196, 0.222, 0.249, 0.268, 0.279, 0.305, 0.318, 0.328, 0.322, 0.327, 0.343, 0.355, 0.361, 0.375, 0.377, 0.393, 0.398, 0.19, 0.188, 0.189, 0.184, 0.177, 0.167, 0.175, 0.172, 0.168, 0.161, 0.154, 0.152, 0.146, 0.137, 0.129, 0.127, 0.115, 0.1, 0.096, 0.108]}, {\"legendgroup\": \"3 year growth\", \"line\": {\"color\": \"rgb(128,0,128)\", \"width\": 2}, \"marker\": {\"size\": 4}, \"mode\": \"lines+markers\", \"name\": \"3 year growth\", \"showlegend\": true, \"type\": \"scatter\", \"x\": [0.0, 1.0, 2.0, 3.0, 4.0, 5.0, 6.0, 7.0, 8.0, 9.0, 10.0, 11.0, 12.0, 13.0, 14.0, 15.0, 16.0, 17.0, 18.0, 19.0], \"y\": [0.108, 0.122, 0.137, 0.153, 0.167, 0.182, 0.195, 0.205, 0.217, 0.228, 0.236, 0.245, 0.251, 0.258, 0.265, 0.272, 0.278, 0.284, 0.292, 0.299]}, {\"fill\": \"tozerox\", \"fillcolor\": \"rgba(160,82,45,0.25)\", \"legendgroup\": \"4 year growth\", \"line\": {\"color\": \"rgb(139,69,19)\", \"width\": 1}, \"mode\": \"lines\", \"name\": \"4 year growth\", \"showlegend\": false, \"type\": \"scatter\", \"x\": [0.0, 1.0, 2.0, 3.0, 4.0, 5.0, 6.0, 7.0, 8.0, 9.0, 10.0, 11.0, 12.0, 13.0, 14.0, 15.0, 16.0, 17.0, 18.0, 19.0, 19.0, 18.0, 17.0, 16.0, 15.0, 14.0, 13.0, 12.0, 11.0, 10.0, 9.0, 8.0, 7.0, 6.0, 5.0, 4.0, 3.0, 2.0, 1.0, 0.0], \"y\": [0.108, 0.15, 0.168, 0.181, 0.217, 0.235, 0.252, 0.26, 0.286, 0.309, 0.307, 0.315, 0.329, 0.352, 0.368, 0.373, 0.376, 0.37, 0.392, 0.405, 0.201, 0.2, 0.185, 0.185, 0.182, 0.176, 0.166, 0.163, 0.151, 0.161, 0.147, 0.14, 0.122, 0.115, 0.108, 0.096, 0.096, 0.09, 0.092, 0.108]}, {\"legendgroup\": \"4 year growth\", \"line\": {\"color\": \"rgb(139,69,19)\", \"width\": 2}, \"marker\": {\"size\": 4}, \"mode\": \"lines+markers\", \"name\": \"4 year growth\", \"showlegend\": true, \"type\": \"scatter\", \"x\": [0.0, 1.0, 2.0, 3.0, 4.0, 5.0, 6.0, 7.0, 8.0, 9.0, 10.0, 11.0, 12.0, 13.0, 14.0, 15.0, 16.0, 17.0, 18.0, 19.0], \"y\": [0.108, 0.12, 0.132, 0.143, 0.159, 0.171, 0.183, 0.194, 0.206, 0.214, 0.227, 0.235, 0.247, 0.256, 0.263, 0.269, 0.277, 0.279, 0.286, 0.293]}, {\"line\": {\"color\": \"blue\", \"dash\": \"dashdot\"}, \"marker\": {\"size\": 4}, \"mode\": \"lines+markers\", \"name\": \"Management Data\", \"type\": \"scatter\", \"x\": [0.0, 1.0, 2.0, 3.0, 4.0, 5.0, 6.0, 7.0, 8.0, 9.0, 10.0, 11.0, 12.0, 13.0, 14.0, 15.0, 16.0, 17.0, 18.0, 19.0], \"y\": [0.10800000000000001, 0.099, 0.115, 0.128, 0.14300000000000002, 0.153, 0.146, 0.14, 0.136, 0.16899999999999998, 0.17300000000000001, 0.22, 0.213, null, null, null, null, null, null, null]}, {\"line\": {\"color\": \"red\", \"dash\": \"dash\", \"width\": 1}, \"mode\": \"lines\", \"name\": \"Target Percentage\", \"type\": \"scatter\", \"x\": [0.0, 1.0, 2.0, 3.0, 4.0, 5.0, 6.0, 7.0, 8.0, 9.0, 10.0, 11.0, 12.0, 13.0, 14.0, 15.0, 16.0, 17.0, 18.0, 19.0], \"y\": [0.25, 0.25, 0.25, 0.25, 0.25, 0.25, 0.25, 0.25, 0.25, 0.25, 0.25, 0.25, 0.25, 0.25, 0.25, 0.25, 0.25, 0.25, 0.25, 0.25]}],\n",
       "                        {\"height\": 800, \"paper_bgcolor\": \"rgb(255,255,255)\", \"plot_bgcolor\": \"rgb(255,255,255)\", \"template\": {\"data\": {\"bar\": [{\"error_x\": {\"color\": \"#2a3f5f\"}, \"error_y\": {\"color\": \"#2a3f5f\"}, \"marker\": {\"line\": {\"color\": \"#E5ECF6\", \"width\": 0.5}}, \"type\": \"bar\"}], \"barpolar\": [{\"marker\": {\"line\": {\"color\": \"#E5ECF6\", \"width\": 0.5}}, \"type\": \"barpolar\"}], \"carpet\": [{\"aaxis\": {\"endlinecolor\": \"#2a3f5f\", \"gridcolor\": \"white\", \"linecolor\": \"white\", \"minorgridcolor\": \"white\", \"startlinecolor\": \"#2a3f5f\"}, \"baxis\": {\"endlinecolor\": \"#2a3f5f\", \"gridcolor\": \"white\", \"linecolor\": \"white\", \"minorgridcolor\": \"white\", \"startlinecolor\": \"#2a3f5f\"}, \"type\": \"carpet\"}], \"choropleth\": [{\"colorbar\": {\"outlinewidth\": 0, \"ticks\": \"\"}, \"type\": \"choropleth\"}], \"contour\": [{\"colorbar\": {\"outlinewidth\": 0, \"ticks\": \"\"}, \"colorscale\": [[0.0, \"#0d0887\"], [0.1111111111111111, \"#46039f\"], [0.2222222222222222, \"#7201a8\"], [0.3333333333333333, \"#9c179e\"], [0.4444444444444444, \"#bd3786\"], [0.5555555555555556, \"#d8576b\"], [0.6666666666666666, \"#ed7953\"], [0.7777777777777778, \"#fb9f3a\"], [0.8888888888888888, \"#fdca26\"], [1.0, \"#f0f921\"]], \"type\": \"contour\"}], \"contourcarpet\": [{\"colorbar\": {\"outlinewidth\": 0, \"ticks\": \"\"}, \"type\": \"contourcarpet\"}], \"heatmap\": [{\"colorbar\": {\"outlinewidth\": 0, \"ticks\": \"\"}, \"colorscale\": [[0.0, \"#0d0887\"], [0.1111111111111111, \"#46039f\"], [0.2222222222222222, \"#7201a8\"], [0.3333333333333333, \"#9c179e\"], [0.4444444444444444, \"#bd3786\"], [0.5555555555555556, \"#d8576b\"], [0.6666666666666666, \"#ed7953\"], [0.7777777777777778, \"#fb9f3a\"], [0.8888888888888888, \"#fdca26\"], [1.0, \"#f0f921\"]], \"type\": \"heatmap\"}], \"heatmapgl\": [{\"colorbar\": {\"outlinewidth\": 0, \"ticks\": \"\"}, \"colorscale\": [[0.0, \"#0d0887\"], [0.1111111111111111, \"#46039f\"], [0.2222222222222222, \"#7201a8\"], [0.3333333333333333, \"#9c179e\"], [0.4444444444444444, \"#bd3786\"], [0.5555555555555556, \"#d8576b\"], [0.6666666666666666, \"#ed7953\"], [0.7777777777777778, \"#fb9f3a\"], [0.8888888888888888, \"#fdca26\"], [1.0, \"#f0f921\"]], \"type\": \"heatmapgl\"}], \"histogram\": [{\"marker\": {\"colorbar\": {\"outlinewidth\": 0, \"ticks\": \"\"}}, \"type\": \"histogram\"}], \"histogram2d\": [{\"colorbar\": {\"outlinewidth\": 0, \"ticks\": \"\"}, \"colorscale\": [[0.0, \"#0d0887\"], [0.1111111111111111, \"#46039f\"], [0.2222222222222222, \"#7201a8\"], [0.3333333333333333, \"#9c179e\"], [0.4444444444444444, \"#bd3786\"], [0.5555555555555556, \"#d8576b\"], [0.6666666666666666, \"#ed7953\"], [0.7777777777777778, \"#fb9f3a\"], [0.8888888888888888, \"#fdca26\"], [1.0, \"#f0f921\"]], \"type\": \"histogram2d\"}], \"histogram2dcontour\": [{\"colorbar\": {\"outlinewidth\": 0, \"ticks\": \"\"}, \"colorscale\": [[0.0, \"#0d0887\"], [0.1111111111111111, \"#46039f\"], [0.2222222222222222, \"#7201a8\"], [0.3333333333333333, \"#9c179e\"], [0.4444444444444444, \"#bd3786\"], [0.5555555555555556, \"#d8576b\"], [0.6666666666666666, \"#ed7953\"], [0.7777777777777778, \"#fb9f3a\"], [0.8888888888888888, \"#fdca26\"], [1.0, \"#f0f921\"]], \"type\": \"histogram2dcontour\"}], \"mesh3d\": [{\"colorbar\": {\"outlinewidth\": 0, \"ticks\": \"\"}, \"type\": \"mesh3d\"}], \"parcoords\": [{\"line\": {\"colorbar\": {\"outlinewidth\": 0, \"ticks\": \"\"}}, \"type\": \"parcoords\"}], \"scatter\": [{\"marker\": {\"colorbar\": {\"outlinewidth\": 0, \"ticks\": \"\"}}, \"type\": \"scatter\"}], \"scatter3d\": [{\"line\": {\"colorbar\": {\"outlinewidth\": 0, \"ticks\": \"\"}}, \"marker\": {\"colorbar\": {\"outlinewidth\": 0, \"ticks\": \"\"}}, \"type\": \"scatter3d\"}], \"scattercarpet\": [{\"marker\": {\"colorbar\": {\"outlinewidth\": 0, \"ticks\": \"\"}}, \"type\": \"scattercarpet\"}], \"scattergeo\": [{\"marker\": {\"colorbar\": {\"outlinewidth\": 0, \"ticks\": \"\"}}, \"type\": \"scattergeo\"}], \"scattergl\": [{\"marker\": {\"colorbar\": {\"outlinewidth\": 0, \"ticks\": \"\"}}, \"type\": \"scattergl\"}], \"scattermapbox\": [{\"marker\": {\"colorbar\": {\"outlinewidth\": 0, \"ticks\": \"\"}}, \"type\": \"scattermapbox\"}], \"scatterpolar\": [{\"marker\": {\"colorbar\": {\"outlinewidth\": 0, \"ticks\": \"\"}}, \"type\": \"scatterpolar\"}], \"scatterpolargl\": [{\"marker\": {\"colorbar\": {\"outlinewidth\": 0, \"ticks\": \"\"}}, \"type\": \"scatterpolargl\"}], \"scatterternary\": [{\"marker\": {\"colorbar\": {\"outlinewidth\": 0, \"ticks\": \"\"}}, \"type\": \"scatterternary\"}], \"surface\": [{\"colorbar\": {\"outlinewidth\": 0, \"ticks\": \"\"}, \"colorscale\": [[0.0, \"#0d0887\"], [0.1111111111111111, \"#46039f\"], [0.2222222222222222, \"#7201a8\"], [0.3333333333333333, \"#9c179e\"], [0.4444444444444444, \"#bd3786\"], [0.5555555555555556, \"#d8576b\"], [0.6666666666666666, \"#ed7953\"], [0.7777777777777778, \"#fb9f3a\"], [0.8888888888888888, \"#fdca26\"], [1.0, \"#f0f921\"]], \"type\": \"surface\"}], \"table\": [{\"cells\": {\"fill\": {\"color\": \"#EBF0F8\"}, \"line\": {\"color\": \"white\"}}, \"header\": {\"fill\": {\"color\": \"#C8D4E3\"}, \"line\": {\"color\": \"white\"}}, \"type\": \"table\"}]}, \"layout\": {\"annotationdefaults\": {\"arrowcolor\": \"#2a3f5f\", \"arrowhead\": 0, \"arrowwidth\": 1}, \"colorscale\": {\"diverging\": [[0, \"#8e0152\"], [0.1, \"#c51b7d\"], [0.2, \"#de77ae\"], [0.3, \"#f1b6da\"], [0.4, \"#fde0ef\"], [0.5, \"#f7f7f7\"], [0.6, \"#e6f5d0\"], [0.7, \"#b8e186\"], [0.8, \"#7fbc41\"], [0.9, \"#4d9221\"], [1, \"#276419\"]], \"sequential\": [[0.0, \"#0d0887\"], [0.1111111111111111, \"#46039f\"], [0.2222222222222222, \"#7201a8\"], [0.3333333333333333, \"#9c179e\"], [0.4444444444444444, \"#bd3786\"], [0.5555555555555556, \"#d8576b\"], [0.6666666666666666, \"#ed7953\"], [0.7777777777777778, \"#fb9f3a\"], [0.8888888888888888, \"#fdca26\"], [1.0, \"#f0f921\"]], \"sequentialminus\": [[0.0, \"#0d0887\"], [0.1111111111111111, \"#46039f\"], [0.2222222222222222, \"#7201a8\"], [0.3333333333333333, \"#9c179e\"], [0.4444444444444444, \"#bd3786\"], [0.5555555555555556, \"#d8576b\"], [0.6666666666666666, \"#ed7953\"], [0.7777777777777778, \"#fb9f3a\"], [0.8888888888888888, \"#fdca26\"], [1.0, \"#f0f921\"]]}, \"colorway\": [\"#636efa\", \"#EF553B\", \"#00cc96\", \"#ab63fa\", \"#FFA15A\", \"#19d3f3\", \"#FF6692\", \"#B6E880\", \"#FF97FF\", \"#FECB52\"], \"font\": {\"color\": \"#2a3f5f\"}, \"geo\": {\"bgcolor\": \"white\", \"lakecolor\": \"white\", \"landcolor\": \"#E5ECF6\", \"showlakes\": true, \"showland\": true, \"subunitcolor\": \"white\"}, \"hoverlabel\": {\"align\": \"left\"}, \"hovermode\": \"closest\", \"mapbox\": {\"style\": \"light\"}, \"paper_bgcolor\": \"white\", \"plot_bgcolor\": \"#E5ECF6\", \"polar\": {\"angularaxis\": {\"gridcolor\": \"white\", \"linecolor\": \"white\", \"ticks\": \"\"}, \"bgcolor\": \"#E5ECF6\", \"radialaxis\": {\"gridcolor\": \"white\", \"linecolor\": \"white\", \"ticks\": \"\"}}, \"scene\": {\"xaxis\": {\"backgroundcolor\": \"#E5ECF6\", \"gridcolor\": \"white\", \"gridwidth\": 2, \"linecolor\": \"white\", \"showbackground\": true, \"ticks\": \"\", \"zerolinecolor\": \"white\"}, \"yaxis\": {\"backgroundcolor\": \"#E5ECF6\", \"gridcolor\": \"white\", \"gridwidth\": 2, \"linecolor\": \"white\", \"showbackground\": true, \"ticks\": \"\", \"zerolinecolor\": \"white\"}, \"zaxis\": {\"backgroundcolor\": \"#E5ECF6\", \"gridcolor\": \"white\", \"gridwidth\": 2, \"linecolor\": \"white\", \"showbackground\": true, \"ticks\": \"\", \"zerolinecolor\": \"white\"}}, \"shapedefaults\": {\"line\": {\"color\": \"#2a3f5f\"}}, \"ternary\": {\"aaxis\": {\"gridcolor\": \"white\", \"linecolor\": \"white\", \"ticks\": \"\"}, \"baxis\": {\"gridcolor\": \"white\", \"linecolor\": \"white\", \"ticks\": \"\"}, \"bgcolor\": \"#E5ECF6\", \"caxis\": {\"gridcolor\": \"white\", \"linecolor\": \"white\", \"ticks\": \"\"}}, \"title\": {\"x\": 0.05}, \"xaxis\": {\"automargin\": true, \"gridcolor\": \"white\", \"linecolor\": \"white\", \"ticks\": \"\", \"zerolinecolor\": \"white\", \"zerolinewidth\": 2}, \"yaxis\": {\"automargin\": true, \"gridcolor\": \"white\", \"linecolor\": \"white\", \"ticks\": \"\", \"zerolinecolor\": \"white\", \"zerolinewidth\": 2}}}, \"title\": {\"text\": \"Comparison of Growth Models: Change in Proportion of Women\"}, \"width\": 900, \"xaxis\": {\"gridcolor\": \"rgb(229,229,229)\", \"showgrid\": true, \"showline\": true, \"showticklabels\": true, \"tickcolor\": \"rgb(127,127,127)\", \"ticks\": \"outside\", \"title\": {\"text\": \"Year\"}, \"visible\": true, \"zeroline\": false}, \"yaxis\": {\"gridcolor\": \"rgb(229,229,229)\", \"showgrid\": true, \"showline\": true, \"showticklabels\": true, \"tickcolor\": \"rgb(127,127,127)\", \"ticks\": \"outside\", \"title\": {\"text\": \"Percentage Women Faculty\"}, \"zeroline\": false}},\n",
       "                        {\"responsive\": true}\n",
       "                    ).then(function(){\n",
       "                            \n",
       "var gd = document.getElementById('2619a153-6a5d-469e-b483-7d2c988b90e7');\n",
       "var x = new MutationObserver(function (mutations, observer) {{\n",
       "        var display = window.getComputedStyle(gd).display;\n",
       "        if (!display || display === 'none') {{\n",
       "            console.log([gd, 'removed!']);\n",
       "            Plotly.purge(gd);\n",
       "            observer.disconnect();\n",
       "        }}\n",
       "}});\n",
       "\n",
       "// Listen for the removal of the full notebook cells\n",
       "var notebookContainer = gd.closest('#notebook-container');\n",
       "if (notebookContainer) {{\n",
       "    x.observe(notebookContainer, {childList: true});\n",
       "}}\n",
       "\n",
       "// Listen for the clearing of the current output cell\n",
       "var outputEl = gd.closest('.output');\n",
       "if (outputEl) {{\n",
       "    x.observe(outputEl, {childList: true});\n",
       "}}\n",
       "\n",
       "                        })\n",
       "                };\n",
       "                });\n",
       "            </script>\n",
       "        </div>"
      ]
     },
     "metadata": {},
     "output_type": "display_data"
    }
   ],
   "source": [
    "data = []\n",
    "linecolors = ['rgb(0,0,255)', 'rgb(0,128,0)', 'rgb(128,0,128)', 'rgb(139,69,19)']\n",
    "fillcolors = ['rgba(0,0,255,0.25)', 'rgba(0,128,0,0.25)', 'rgba(128,0,128,0.25)', 'rgba(160,82,45,0.25)']\n",
    "legend_labels = ['no growth', 'linear growth', '3 year growth', '4 year growth']\n",
    "\n",
    "for k,v in enumerate(results.mlist):\n",
    "    data.append(go.Scatter(\n",
    "        x=np.append(v.summary_matrix['yr'], v.summary_matrix['yr'].values[::-1]),\n",
    "        y=np.append(v.summary_matrix['fpct_975'], v.summary_matrix['fpct_025'].values[::-1]),\n",
    "        fill='tozerox',\n",
    "        fillcolor=fillcolors[k],\n",
    "        line=dict(color=linecolors[k],\n",
    "                 width=1),\n",
    "        legendgroup=legend_labels[k],\n",
    "        showlegend=False,\n",
    "        mode='lines',\n",
    "        name=legend_labels[k],\n",
    "    ))\n",
    "\n",
    "    data.append(go.Scatter(\n",
    "        x=v.summary_matrix['yr'],\n",
    "        y=v.summary_matrix['fpct_avg'],\n",
    "        line=dict(color=linecolors[k],\n",
    "                 width=2),\n",
    "        legendgroup=legend_labels[k],\n",
    "        showlegend=True,\n",
    "        marker=dict(\n",
    "            size=4),\n",
    "        mode='lines+markers',\n",
    "        name=legend_labels[k],\n",
    "    ))\n",
    "\n",
    "\n",
    "data.append(go.Scatter(\n",
    "    x=v.summary_matrix['yr'], \n",
    "    y=v.summary_matrix['act_fpct'],\n",
    "    line=dict(color='blue',\n",
    "             dash='dashdot'),\n",
    "    name='Management Data',\n",
    "    mode='lines+markers',\n",
    "    marker=dict(\n",
    "        size=4),\n",
    "\n",
    "))\n",
    "\n",
    "data.append(go.Scatter(\n",
    "    x=v.summary_matrix['yr'], \n",
    "    y=np.repeat(v.target_female_percentage, len(v.summary_matrix['yr'])),\n",
    "    line=dict(color='red',\n",
    "             dash='dash',\n",
    "             width=1),\n",
    "    name='Target Percentage',\n",
    "    mode='lines',\n",
    "))\n",
    "    \n",
    "layout = go.Layout(\n",
    "    title='Comparison of Growth Models: Change in Proportion of Women',\n",
    "    height=800,\n",
    "    width=900,\n",
    "    paper_bgcolor='rgb(255,255,255)',\n",
    "    plot_bgcolor='rgb(255,255,255)',\n",
    "    xaxis=dict(\n",
    "        visible=True,\n",
    "        title='Year',\n",
    "        gridcolor='rgb(229,229,229)',\n",
    "        showgrid=True,\n",
    "        showline=True,\n",
    "        showticklabels=True,\n",
    "        tickcolor='rgb(127,127,127)',\n",
    "        ticks='outside',\n",
    "        zeroline=False\n",
    "    ),\n",
    "    yaxis=dict(\n",
    "        title='Percentage Women Faculty',\n",
    "        gridcolor='rgb(229,229,229)',\n",
    "        showgrid=True,\n",
    "        showline=True,\n",
    "        showticklabels=True,\n",
    "        tickcolor='rgb(127,127,127)',\n",
    "        ticks='outside',\n",
    "        zeroline=False\n",
    "    ),\n",
    ")\n",
    "fig = go.Figure(data=data, layout=layout)\n",
    "plotly.offline.iplot(fig, filename= 'shaded_lines')\n",
    "\n",
    "# export image for ingestion to pdf file.\n",
    "# if not os.path.exists('images'):\n",
    "#     os.mkdir('images')\n",
    "# pio.write_image(fig, 'images/change_in_percentage_faculty_women.png')"
   ]
  },
  {
   "cell_type": "code",
   "execution_count": 16,
   "metadata": {
    "hide_input": true,
    "tags": [
     "plotcell"
    ]
   },
   "outputs": [],
   "source": [
    "linecolors = ['blue', 'green', 'purple', 'brown']\n",
    "legend_labels = ['no growth', 'linear growth', '3 year growth', '4 year growth']\n",
    "\n",
    "plt.figure(figsize=(12,12))\n",
    "\n",
    "for k,v in enumerate(results.mlist):\n",
    "    plt.plot(\n",
    "             v.summary_matrix['yr'], \n",
    "             v.summary_matrix['fpct_avg'],\n",
    "             linewidth=2,\n",
    "             color=linecolors[k],\n",
    "             label=legend_labels[k],\n",
    "             marker=\"o\",\n",
    "            )\n",
    "    plt.fill_between(\n",
    "             v.summary_matrix['yr'],\n",
    "             v.summary_matrix['fpct_975'],\n",
    "             v.summary_matrix['fpct_025'],\n",
    "             alpha=0.25,\n",
    "             facecolor=linecolors[k]\n",
    "            )\n",
    "\n",
    "plt.plot(\n",
    "        v.summary_matrix['yr'],\n",
    "        v.summary_matrix['act_fpct'],\n",
    "        color='blue',\n",
    "        linewidth=2,\n",
    "        linestyle='-.',\n",
    "        label='Management Data')\n",
    "\n",
    "plt.hlines(\n",
    "        v.target_female_percentage,\n",
    "        0,\n",
    "        v.summary_matrix['yr'].max(),\n",
    "        colors='red',\n",
    "        linestyle='--',\n",
    "        label='Target Percentage'\n",
    "        )\n",
    "    \n",
    "plt.title('Comparison of Growth Models: Change in Proportion of Women', fontsize=20)\n",
    "plt.xlabel('Year', fontsize=16)\n",
    "plt.ylabel('Percentage Female Faculty', fontsize=16)\n",
    "plt.legend(loc='upper right', fontsize=16)\n",
    "if not os.path.exists('images'):\n",
    "    os.mkdir('images')\n",
    "plt.savefig('images/change_in_percentage_faculty_women.png')\n",
    "plt.close()"
   ]
  },
  {
   "cell_type": "markdown",
   "metadata": {
    "hide_input": true
   },
   "source": [
    "## Comparison of Model 3 Growth Models: Probability of Achieving 25% Women"
   ]
  },
  {
   "cell_type": "code",
   "execution_count": 17,
   "metadata": {
    "hide_input": true,
    "scrolled": false,
    "tags": [
     "plotcell"
    ]
   },
   "outputs": [
    {
     "data": {
      "application/vnd.plotly.v1+json": {
       "config": {
        "linkText": "Export to plot.ly",
        "plotlyServerURL": "https://plot.ly",
        "showLink": false
       },
       "data": [
        {
         "legendgroup": "no growth",
         "line": {
          "color": "rgb(0,0,255)",
          "width": 2
         },
         "marker": {
          "size": 4
         },
         "mode": "lines+markers",
         "name": "no growth",
         "showlegend": true,
         "type": "scatter",
         "x": [
          0,
          1,
          2,
          3,
          4,
          5,
          6,
          7,
          8,
          9,
          10,
          11,
          12,
          13,
          14,
          15,
          16,
          17,
          18,
          19
         ],
         "y": [
          0,
          0,
          0,
          0,
          0.010000000000000009,
          0.020000000000000018,
          0.06000000000000005,
          0.06000000000000005,
          0.12,
          0.21999999999999997,
          0.33999999999999997,
          0.38,
          0.49,
          0.54,
          0.5800000000000001,
          0.64,
          0.69,
          0.78,
          0.78,
          0.79
         ]
        },
        {
         "legendgroup": "linear growth",
         "line": {
          "color": "rgb(0,128,0)",
          "width": 2
         },
         "marker": {
          "size": 4
         },
         "mode": "lines+markers",
         "name": "linear growth",
         "showlegend": true,
         "type": "scatter",
         "x": [
          0,
          1,
          2,
          3,
          4,
          5,
          6,
          7,
          8,
          9,
          10,
          11,
          12,
          13,
          14,
          15,
          16,
          17,
          18,
          19
         ],
         "y": [
          0,
          0,
          0,
          0,
          0,
          0,
          0.020000000000000018,
          0.06999999999999995,
          0.18999999999999995,
          0.24,
          0.22999999999999998,
          0.36,
          0.43000000000000005,
          0.53,
          0.55,
          0.64,
          0.72,
          0.8,
          0.79,
          0.8200000000000001
         ]
        },
        {
         "legendgroup": "3 year growth",
         "line": {
          "color": "rgb(128,0,128)",
          "width": 2
         },
         "marker": {
          "size": 4
         },
         "mode": "lines+markers",
         "name": "3 year growth",
         "showlegend": true,
         "type": "scatter",
         "x": [
          0,
          1,
          2,
          3,
          4,
          5,
          6,
          7,
          8,
          9,
          10,
          11,
          12,
          13,
          14,
          15,
          16,
          17,
          18,
          19
         ],
         "y": [
          0,
          0,
          0,
          0,
          0,
          0.030000000000000027,
          0.08999999999999997,
          0.16000000000000003,
          0.22999999999999998,
          0.31000000000000005,
          0.36,
          0.43999999999999995,
          0.44999999999999996,
          0.5,
          0.5700000000000001,
          0.69,
          0.74,
          0.74,
          0.81,
          0.84
         ]
        },
        {
         "legendgroup": "4 year growth",
         "line": {
          "color": "rgb(139,69,19)",
          "width": 2
         },
         "marker": {
          "size": 4
         },
         "mode": "lines+markers",
         "name": "4 year growth",
         "showlegend": true,
         "type": "scatter",
         "x": [
          0,
          1,
          2,
          3,
          4,
          5,
          6,
          7,
          8,
          9,
          10,
          11,
          12,
          13,
          14,
          15,
          16,
          17,
          18,
          19
         ],
         "y": [
          0,
          0,
          0,
          0,
          0,
          0,
          0.030000000000000027,
          0.08999999999999997,
          0.09999999999999998,
          0.13,
          0.27,
          0.38,
          0.48,
          0.55,
          0.63,
          0.6,
          0.6599999999999999,
          0.6799999999999999,
          0.73,
          0.77
         ]
        },
        {
         "line": {
          "color": "red",
          "dash": "dash"
         },
         "mode": "lines",
         "name": "Target Probability",
         "type": "scatter",
         "x": [
          0,
          1,
          2,
          3,
          4,
          5,
          6,
          7,
          8,
          9,
          10,
          11,
          12,
          13,
          14,
          15,
          16,
          17,
          18,
          19
         ],
         "y": [
          0.5,
          0.5,
          0.5,
          0.5,
          0.5,
          0.5,
          0.5,
          0.5,
          0.5,
          0.5,
          0.5,
          0.5,
          0.5,
          0.5,
          0.5,
          0.5,
          0.5,
          0.5,
          0.5,
          0.5
         ]
        }
       ],
       "layout": {
        "height": 800,
        "paper_bgcolor": "rgb(255,255,255)",
        "plot_bgcolor": "rgb(255,255,255)",
        "template": {
         "data": {
          "bar": [
           {
            "error_x": {
             "color": "#2a3f5f"
            },
            "error_y": {
             "color": "#2a3f5f"
            },
            "marker": {
             "line": {
              "color": "#E5ECF6",
              "width": 0.5
             }
            },
            "type": "bar"
           }
          ],
          "barpolar": [
           {
            "marker": {
             "line": {
              "color": "#E5ECF6",
              "width": 0.5
             }
            },
            "type": "barpolar"
           }
          ],
          "carpet": [
           {
            "aaxis": {
             "endlinecolor": "#2a3f5f",
             "gridcolor": "white",
             "linecolor": "white",
             "minorgridcolor": "white",
             "startlinecolor": "#2a3f5f"
            },
            "baxis": {
             "endlinecolor": "#2a3f5f",
             "gridcolor": "white",
             "linecolor": "white",
             "minorgridcolor": "white",
             "startlinecolor": "#2a3f5f"
            },
            "type": "carpet"
           }
          ],
          "choropleth": [
           {
            "colorbar": {
             "outlinewidth": 0,
             "ticks": ""
            },
            "type": "choropleth"
           }
          ],
          "contour": [
           {
            "colorbar": {
             "outlinewidth": 0,
             "ticks": ""
            },
            "colorscale": [
             [
              0,
              "#0d0887"
             ],
             [
              0.1111111111111111,
              "#46039f"
             ],
             [
              0.2222222222222222,
              "#7201a8"
             ],
             [
              0.3333333333333333,
              "#9c179e"
             ],
             [
              0.4444444444444444,
              "#bd3786"
             ],
             [
              0.5555555555555556,
              "#d8576b"
             ],
             [
              0.6666666666666666,
              "#ed7953"
             ],
             [
              0.7777777777777778,
              "#fb9f3a"
             ],
             [
              0.8888888888888888,
              "#fdca26"
             ],
             [
              1,
              "#f0f921"
             ]
            ],
            "type": "contour"
           }
          ],
          "contourcarpet": [
           {
            "colorbar": {
             "outlinewidth": 0,
             "ticks": ""
            },
            "type": "contourcarpet"
           }
          ],
          "heatmap": [
           {
            "colorbar": {
             "outlinewidth": 0,
             "ticks": ""
            },
            "colorscale": [
             [
              0,
              "#0d0887"
             ],
             [
              0.1111111111111111,
              "#46039f"
             ],
             [
              0.2222222222222222,
              "#7201a8"
             ],
             [
              0.3333333333333333,
              "#9c179e"
             ],
             [
              0.4444444444444444,
              "#bd3786"
             ],
             [
              0.5555555555555556,
              "#d8576b"
             ],
             [
              0.6666666666666666,
              "#ed7953"
             ],
             [
              0.7777777777777778,
              "#fb9f3a"
             ],
             [
              0.8888888888888888,
              "#fdca26"
             ],
             [
              1,
              "#f0f921"
             ]
            ],
            "type": "heatmap"
           }
          ],
          "heatmapgl": [
           {
            "colorbar": {
             "outlinewidth": 0,
             "ticks": ""
            },
            "colorscale": [
             [
              0,
              "#0d0887"
             ],
             [
              0.1111111111111111,
              "#46039f"
             ],
             [
              0.2222222222222222,
              "#7201a8"
             ],
             [
              0.3333333333333333,
              "#9c179e"
             ],
             [
              0.4444444444444444,
              "#bd3786"
             ],
             [
              0.5555555555555556,
              "#d8576b"
             ],
             [
              0.6666666666666666,
              "#ed7953"
             ],
             [
              0.7777777777777778,
              "#fb9f3a"
             ],
             [
              0.8888888888888888,
              "#fdca26"
             ],
             [
              1,
              "#f0f921"
             ]
            ],
            "type": "heatmapgl"
           }
          ],
          "histogram": [
           {
            "marker": {
             "colorbar": {
              "outlinewidth": 0,
              "ticks": ""
             }
            },
            "type": "histogram"
           }
          ],
          "histogram2d": [
           {
            "colorbar": {
             "outlinewidth": 0,
             "ticks": ""
            },
            "colorscale": [
             [
              0,
              "#0d0887"
             ],
             [
              0.1111111111111111,
              "#46039f"
             ],
             [
              0.2222222222222222,
              "#7201a8"
             ],
             [
              0.3333333333333333,
              "#9c179e"
             ],
             [
              0.4444444444444444,
              "#bd3786"
             ],
             [
              0.5555555555555556,
              "#d8576b"
             ],
             [
              0.6666666666666666,
              "#ed7953"
             ],
             [
              0.7777777777777778,
              "#fb9f3a"
             ],
             [
              0.8888888888888888,
              "#fdca26"
             ],
             [
              1,
              "#f0f921"
             ]
            ],
            "type": "histogram2d"
           }
          ],
          "histogram2dcontour": [
           {
            "colorbar": {
             "outlinewidth": 0,
             "ticks": ""
            },
            "colorscale": [
             [
              0,
              "#0d0887"
             ],
             [
              0.1111111111111111,
              "#46039f"
             ],
             [
              0.2222222222222222,
              "#7201a8"
             ],
             [
              0.3333333333333333,
              "#9c179e"
             ],
             [
              0.4444444444444444,
              "#bd3786"
             ],
             [
              0.5555555555555556,
              "#d8576b"
             ],
             [
              0.6666666666666666,
              "#ed7953"
             ],
             [
              0.7777777777777778,
              "#fb9f3a"
             ],
             [
              0.8888888888888888,
              "#fdca26"
             ],
             [
              1,
              "#f0f921"
             ]
            ],
            "type": "histogram2dcontour"
           }
          ],
          "mesh3d": [
           {
            "colorbar": {
             "outlinewidth": 0,
             "ticks": ""
            },
            "type": "mesh3d"
           }
          ],
          "parcoords": [
           {
            "line": {
             "colorbar": {
              "outlinewidth": 0,
              "ticks": ""
             }
            },
            "type": "parcoords"
           }
          ],
          "scatter": [
           {
            "marker": {
             "colorbar": {
              "outlinewidth": 0,
              "ticks": ""
             }
            },
            "type": "scatter"
           }
          ],
          "scatter3d": [
           {
            "line": {
             "colorbar": {
              "outlinewidth": 0,
              "ticks": ""
             }
            },
            "marker": {
             "colorbar": {
              "outlinewidth": 0,
              "ticks": ""
             }
            },
            "type": "scatter3d"
           }
          ],
          "scattercarpet": [
           {
            "marker": {
             "colorbar": {
              "outlinewidth": 0,
              "ticks": ""
             }
            },
            "type": "scattercarpet"
           }
          ],
          "scattergeo": [
           {
            "marker": {
             "colorbar": {
              "outlinewidth": 0,
              "ticks": ""
             }
            },
            "type": "scattergeo"
           }
          ],
          "scattergl": [
           {
            "marker": {
             "colorbar": {
              "outlinewidth": 0,
              "ticks": ""
             }
            },
            "type": "scattergl"
           }
          ],
          "scattermapbox": [
           {
            "marker": {
             "colorbar": {
              "outlinewidth": 0,
              "ticks": ""
             }
            },
            "type": "scattermapbox"
           }
          ],
          "scatterpolar": [
           {
            "marker": {
             "colorbar": {
              "outlinewidth": 0,
              "ticks": ""
             }
            },
            "type": "scatterpolar"
           }
          ],
          "scatterpolargl": [
           {
            "marker": {
             "colorbar": {
              "outlinewidth": 0,
              "ticks": ""
             }
            },
            "type": "scatterpolargl"
           }
          ],
          "scatterternary": [
           {
            "marker": {
             "colorbar": {
              "outlinewidth": 0,
              "ticks": ""
             }
            },
            "type": "scatterternary"
           }
          ],
          "surface": [
           {
            "colorbar": {
             "outlinewidth": 0,
             "ticks": ""
            },
            "colorscale": [
             [
              0,
              "#0d0887"
             ],
             [
              0.1111111111111111,
              "#46039f"
             ],
             [
              0.2222222222222222,
              "#7201a8"
             ],
             [
              0.3333333333333333,
              "#9c179e"
             ],
             [
              0.4444444444444444,
              "#bd3786"
             ],
             [
              0.5555555555555556,
              "#d8576b"
             ],
             [
              0.6666666666666666,
              "#ed7953"
             ],
             [
              0.7777777777777778,
              "#fb9f3a"
             ],
             [
              0.8888888888888888,
              "#fdca26"
             ],
             [
              1,
              "#f0f921"
             ]
            ],
            "type": "surface"
           }
          ],
          "table": [
           {
            "cells": {
             "fill": {
              "color": "#EBF0F8"
             },
             "line": {
              "color": "white"
             }
            },
            "header": {
             "fill": {
              "color": "#C8D4E3"
             },
             "line": {
              "color": "white"
             }
            },
            "type": "table"
           }
          ]
         },
         "layout": {
          "annotationdefaults": {
           "arrowcolor": "#2a3f5f",
           "arrowhead": 0,
           "arrowwidth": 1
          },
          "colorscale": {
           "diverging": [
            [
             0,
             "#8e0152"
            ],
            [
             0.1,
             "#c51b7d"
            ],
            [
             0.2,
             "#de77ae"
            ],
            [
             0.3,
             "#f1b6da"
            ],
            [
             0.4,
             "#fde0ef"
            ],
            [
             0.5,
             "#f7f7f7"
            ],
            [
             0.6,
             "#e6f5d0"
            ],
            [
             0.7,
             "#b8e186"
            ],
            [
             0.8,
             "#7fbc41"
            ],
            [
             0.9,
             "#4d9221"
            ],
            [
             1,
             "#276419"
            ]
           ],
           "sequential": [
            [
             0,
             "#0d0887"
            ],
            [
             0.1111111111111111,
             "#46039f"
            ],
            [
             0.2222222222222222,
             "#7201a8"
            ],
            [
             0.3333333333333333,
             "#9c179e"
            ],
            [
             0.4444444444444444,
             "#bd3786"
            ],
            [
             0.5555555555555556,
             "#d8576b"
            ],
            [
             0.6666666666666666,
             "#ed7953"
            ],
            [
             0.7777777777777778,
             "#fb9f3a"
            ],
            [
             0.8888888888888888,
             "#fdca26"
            ],
            [
             1,
             "#f0f921"
            ]
           ],
           "sequentialminus": [
            [
             0,
             "#0d0887"
            ],
            [
             0.1111111111111111,
             "#46039f"
            ],
            [
             0.2222222222222222,
             "#7201a8"
            ],
            [
             0.3333333333333333,
             "#9c179e"
            ],
            [
             0.4444444444444444,
             "#bd3786"
            ],
            [
             0.5555555555555556,
             "#d8576b"
            ],
            [
             0.6666666666666666,
             "#ed7953"
            ],
            [
             0.7777777777777778,
             "#fb9f3a"
            ],
            [
             0.8888888888888888,
             "#fdca26"
            ],
            [
             1,
             "#f0f921"
            ]
           ]
          },
          "colorway": [
           "#636efa",
           "#EF553B",
           "#00cc96",
           "#ab63fa",
           "#FFA15A",
           "#19d3f3",
           "#FF6692",
           "#B6E880",
           "#FF97FF",
           "#FECB52"
          ],
          "font": {
           "color": "#2a3f5f"
          },
          "geo": {
           "bgcolor": "white",
           "lakecolor": "white",
           "landcolor": "#E5ECF6",
           "showlakes": true,
           "showland": true,
           "subunitcolor": "white"
          },
          "hoverlabel": {
           "align": "left"
          },
          "hovermode": "closest",
          "mapbox": {
           "style": "light"
          },
          "paper_bgcolor": "white",
          "plot_bgcolor": "#E5ECF6",
          "polar": {
           "angularaxis": {
            "gridcolor": "white",
            "linecolor": "white",
            "ticks": ""
           },
           "bgcolor": "#E5ECF6",
           "radialaxis": {
            "gridcolor": "white",
            "linecolor": "white",
            "ticks": ""
           }
          },
          "scene": {
           "xaxis": {
            "backgroundcolor": "#E5ECF6",
            "gridcolor": "white",
            "gridwidth": 2,
            "linecolor": "white",
            "showbackground": true,
            "ticks": "",
            "zerolinecolor": "white"
           },
           "yaxis": {
            "backgroundcolor": "#E5ECF6",
            "gridcolor": "white",
            "gridwidth": 2,
            "linecolor": "white",
            "showbackground": true,
            "ticks": "",
            "zerolinecolor": "white"
           },
           "zaxis": {
            "backgroundcolor": "#E5ECF6",
            "gridcolor": "white",
            "gridwidth": 2,
            "linecolor": "white",
            "showbackground": true,
            "ticks": "",
            "zerolinecolor": "white"
           }
          },
          "shapedefaults": {
           "line": {
            "color": "#2a3f5f"
           }
          },
          "ternary": {
           "aaxis": {
            "gridcolor": "white",
            "linecolor": "white",
            "ticks": ""
           },
           "baxis": {
            "gridcolor": "white",
            "linecolor": "white",
            "ticks": ""
           },
           "bgcolor": "#E5ECF6",
           "caxis": {
            "gridcolor": "white",
            "linecolor": "white",
            "ticks": ""
           }
          },
          "title": {
           "x": 0.05
          },
          "xaxis": {
           "automargin": true,
           "gridcolor": "white",
           "linecolor": "white",
           "ticks": "",
           "zerolinecolor": "white",
           "zerolinewidth": 2
          },
          "yaxis": {
           "automargin": true,
           "gridcolor": "white",
           "linecolor": "white",
           "ticks": "",
           "zerolinecolor": "white",
           "zerolinewidth": 2
          }
         }
        },
        "title": {
         "text": "Comparison of Model 3 Growth Models: Probability of Achieving 25% Women"
        },
        "width": 900,
        "xaxis": {
         "gridcolor": "rgb(229,229,229)",
         "showgrid": true,
         "showline": true,
         "showticklabels": true,
         "tickcolor": "rgb(127,127,127)",
         "ticks": "outside",
         "title": {
          "text": "Year"
         },
         "visible": true,
         "zeroline": false
        },
        "yaxis": {
         "gridcolor": "rgb(229,229,229)",
         "showgrid": true,
         "showline": true,
         "showticklabels": true,
         "tickcolor": "rgb(127,127,127)",
         "ticks": "outside",
         "title": {
          "text": "Probability of Achieving Target"
         },
         "zeroline": false
        }
       }
      },
      "text/html": [
       "<div>\n",
       "        \n",
       "        \n",
       "            <div id=\"315ee4a1-8ab3-4fa0-b2f8-732304fc8a6b\" class=\"plotly-graph-div\" style=\"height:800px; width:900px;\"></div>\n",
       "            <script type=\"text/javascript\">\n",
       "                require([\"plotly\"], function(Plotly) {\n",
       "                    window.PLOTLYENV=window.PLOTLYENV || {};\n",
       "                    \n",
       "                if (document.getElementById(\"315ee4a1-8ab3-4fa0-b2f8-732304fc8a6b\")) {\n",
       "                    Plotly.newPlot(\n",
       "                        '315ee4a1-8ab3-4fa0-b2f8-732304fc8a6b',\n",
       "                        [{\"legendgroup\": \"no growth\", \"line\": {\"color\": \"rgb(0,0,255)\", \"width\": 2}, \"marker\": {\"size\": 4}, \"mode\": \"lines+markers\", \"name\": \"no growth\", \"showlegend\": true, \"type\": \"scatter\", \"x\": [0.0, 1.0, 2.0, 3.0, 4.0, 5.0, 6.0, 7.0, 8.0, 9.0, 10.0, 11.0, 12.0, 13.0, 14.0, 15.0, 16.0, 17.0, 18.0, 19.0], \"y\": [0.0, 0.0, 0.0, 0.0, 0.010000000000000009, 0.020000000000000018, 0.06000000000000005, 0.06000000000000005, 0.12, 0.21999999999999997, 0.33999999999999997, 0.38, 0.49, 0.54, 0.5800000000000001, 0.64, 0.69, 0.78, 0.78, 0.79]}, {\"legendgroup\": \"linear growth\", \"line\": {\"color\": \"rgb(0,128,0)\", \"width\": 2}, \"marker\": {\"size\": 4}, \"mode\": \"lines+markers\", \"name\": \"linear growth\", \"showlegend\": true, \"type\": \"scatter\", \"x\": [0.0, 1.0, 2.0, 3.0, 4.0, 5.0, 6.0, 7.0, 8.0, 9.0, 10.0, 11.0, 12.0, 13.0, 14.0, 15.0, 16.0, 17.0, 18.0, 19.0], \"y\": [0.0, 0.0, 0.0, 0.0, 0.0, 0.0, 0.020000000000000018, 0.06999999999999995, 0.18999999999999995, 0.24, 0.22999999999999998, 0.36, 0.43000000000000005, 0.53, 0.55, 0.64, 0.72, 0.8, 0.79, 0.8200000000000001]}, {\"legendgroup\": \"3 year growth\", \"line\": {\"color\": \"rgb(128,0,128)\", \"width\": 2}, \"marker\": {\"size\": 4}, \"mode\": \"lines+markers\", \"name\": \"3 year growth\", \"showlegend\": true, \"type\": \"scatter\", \"x\": [0.0, 1.0, 2.0, 3.0, 4.0, 5.0, 6.0, 7.0, 8.0, 9.0, 10.0, 11.0, 12.0, 13.0, 14.0, 15.0, 16.0, 17.0, 18.0, 19.0], \"y\": [0.0, 0.0, 0.0, 0.0, 0.0, 0.030000000000000027, 0.08999999999999997, 0.16000000000000003, 0.22999999999999998, 0.31000000000000005, 0.36, 0.43999999999999995, 0.44999999999999996, 0.5, 0.5700000000000001, 0.69, 0.74, 0.74, 0.81, 0.84]}, {\"legendgroup\": \"4 year growth\", \"line\": {\"color\": \"rgb(139,69,19)\", \"width\": 2}, \"marker\": {\"size\": 4}, \"mode\": \"lines+markers\", \"name\": \"4 year growth\", \"showlegend\": true, \"type\": \"scatter\", \"x\": [0.0, 1.0, 2.0, 3.0, 4.0, 5.0, 6.0, 7.0, 8.0, 9.0, 10.0, 11.0, 12.0, 13.0, 14.0, 15.0, 16.0, 17.0, 18.0, 19.0], \"y\": [0.0, 0.0, 0.0, 0.0, 0.0, 0.0, 0.030000000000000027, 0.08999999999999997, 0.09999999999999998, 0.13, 0.27, 0.38, 0.48, 0.55, 0.63, 0.6, 0.6599999999999999, 0.6799999999999999, 0.73, 0.77]}, {\"line\": {\"color\": \"red\", \"dash\": \"dash\"}, \"mode\": \"lines\", \"name\": \"Target Probability\", \"type\": \"scatter\", \"x\": [0.0, 1.0, 2.0, 3.0, 4.0, 5.0, 6.0, 7.0, 8.0, 9.0, 10.0, 11.0, 12.0, 13.0, 14.0, 15.0, 16.0, 17.0, 18.0, 19.0], \"y\": [0.5, 0.5, 0.5, 0.5, 0.5, 0.5, 0.5, 0.5, 0.5, 0.5, 0.5, 0.5, 0.5, 0.5, 0.5, 0.5, 0.5, 0.5, 0.5, 0.5]}],\n",
       "                        {\"height\": 800, \"paper_bgcolor\": \"rgb(255,255,255)\", \"plot_bgcolor\": \"rgb(255,255,255)\", \"template\": {\"data\": {\"bar\": [{\"error_x\": {\"color\": \"#2a3f5f\"}, \"error_y\": {\"color\": \"#2a3f5f\"}, \"marker\": {\"line\": {\"color\": \"#E5ECF6\", \"width\": 0.5}}, \"type\": \"bar\"}], \"barpolar\": [{\"marker\": {\"line\": {\"color\": \"#E5ECF6\", \"width\": 0.5}}, \"type\": \"barpolar\"}], \"carpet\": [{\"aaxis\": {\"endlinecolor\": \"#2a3f5f\", \"gridcolor\": \"white\", \"linecolor\": \"white\", \"minorgridcolor\": \"white\", \"startlinecolor\": \"#2a3f5f\"}, \"baxis\": {\"endlinecolor\": \"#2a3f5f\", \"gridcolor\": \"white\", \"linecolor\": \"white\", \"minorgridcolor\": \"white\", \"startlinecolor\": \"#2a3f5f\"}, \"type\": \"carpet\"}], \"choropleth\": [{\"colorbar\": {\"outlinewidth\": 0, \"ticks\": \"\"}, \"type\": \"choropleth\"}], \"contour\": [{\"colorbar\": {\"outlinewidth\": 0, \"ticks\": \"\"}, \"colorscale\": [[0.0, \"#0d0887\"], [0.1111111111111111, \"#46039f\"], [0.2222222222222222, \"#7201a8\"], [0.3333333333333333, \"#9c179e\"], [0.4444444444444444, \"#bd3786\"], [0.5555555555555556, \"#d8576b\"], [0.6666666666666666, \"#ed7953\"], [0.7777777777777778, \"#fb9f3a\"], [0.8888888888888888, \"#fdca26\"], [1.0, \"#f0f921\"]], \"type\": \"contour\"}], \"contourcarpet\": [{\"colorbar\": {\"outlinewidth\": 0, \"ticks\": \"\"}, \"type\": \"contourcarpet\"}], \"heatmap\": [{\"colorbar\": {\"outlinewidth\": 0, \"ticks\": \"\"}, \"colorscale\": [[0.0, \"#0d0887\"], [0.1111111111111111, \"#46039f\"], [0.2222222222222222, \"#7201a8\"], [0.3333333333333333, \"#9c179e\"], [0.4444444444444444, \"#bd3786\"], [0.5555555555555556, \"#d8576b\"], [0.6666666666666666, \"#ed7953\"], [0.7777777777777778, \"#fb9f3a\"], [0.8888888888888888, \"#fdca26\"], [1.0, \"#f0f921\"]], \"type\": \"heatmap\"}], \"heatmapgl\": [{\"colorbar\": {\"outlinewidth\": 0, \"ticks\": \"\"}, \"colorscale\": [[0.0, \"#0d0887\"], [0.1111111111111111, \"#46039f\"], [0.2222222222222222, \"#7201a8\"], [0.3333333333333333, \"#9c179e\"], [0.4444444444444444, \"#bd3786\"], [0.5555555555555556, \"#d8576b\"], [0.6666666666666666, \"#ed7953\"], [0.7777777777777778, \"#fb9f3a\"], [0.8888888888888888, \"#fdca26\"], [1.0, \"#f0f921\"]], \"type\": \"heatmapgl\"}], \"histogram\": [{\"marker\": {\"colorbar\": {\"outlinewidth\": 0, \"ticks\": \"\"}}, \"type\": \"histogram\"}], \"histogram2d\": [{\"colorbar\": {\"outlinewidth\": 0, \"ticks\": \"\"}, \"colorscale\": [[0.0, \"#0d0887\"], [0.1111111111111111, \"#46039f\"], [0.2222222222222222, \"#7201a8\"], [0.3333333333333333, \"#9c179e\"], [0.4444444444444444, \"#bd3786\"], [0.5555555555555556, \"#d8576b\"], [0.6666666666666666, \"#ed7953\"], [0.7777777777777778, \"#fb9f3a\"], [0.8888888888888888, \"#fdca26\"], [1.0, \"#f0f921\"]], \"type\": \"histogram2d\"}], \"histogram2dcontour\": [{\"colorbar\": {\"outlinewidth\": 0, \"ticks\": \"\"}, \"colorscale\": [[0.0, \"#0d0887\"], [0.1111111111111111, \"#46039f\"], [0.2222222222222222, \"#7201a8\"], [0.3333333333333333, \"#9c179e\"], [0.4444444444444444, \"#bd3786\"], [0.5555555555555556, \"#d8576b\"], [0.6666666666666666, \"#ed7953\"], [0.7777777777777778, \"#fb9f3a\"], [0.8888888888888888, \"#fdca26\"], [1.0, \"#f0f921\"]], \"type\": \"histogram2dcontour\"}], \"mesh3d\": [{\"colorbar\": {\"outlinewidth\": 0, \"ticks\": \"\"}, \"type\": \"mesh3d\"}], \"parcoords\": [{\"line\": {\"colorbar\": {\"outlinewidth\": 0, \"ticks\": \"\"}}, \"type\": \"parcoords\"}], \"scatter\": [{\"marker\": {\"colorbar\": {\"outlinewidth\": 0, \"ticks\": \"\"}}, \"type\": \"scatter\"}], \"scatter3d\": [{\"line\": {\"colorbar\": {\"outlinewidth\": 0, \"ticks\": \"\"}}, \"marker\": {\"colorbar\": {\"outlinewidth\": 0, \"ticks\": \"\"}}, \"type\": \"scatter3d\"}], \"scattercarpet\": [{\"marker\": {\"colorbar\": {\"outlinewidth\": 0, \"ticks\": \"\"}}, \"type\": \"scattercarpet\"}], \"scattergeo\": [{\"marker\": {\"colorbar\": {\"outlinewidth\": 0, \"ticks\": \"\"}}, \"type\": \"scattergeo\"}], \"scattergl\": [{\"marker\": {\"colorbar\": {\"outlinewidth\": 0, \"ticks\": \"\"}}, \"type\": \"scattergl\"}], \"scattermapbox\": [{\"marker\": {\"colorbar\": {\"outlinewidth\": 0, \"ticks\": \"\"}}, \"type\": \"scattermapbox\"}], \"scatterpolar\": [{\"marker\": {\"colorbar\": {\"outlinewidth\": 0, \"ticks\": \"\"}}, \"type\": \"scatterpolar\"}], \"scatterpolargl\": [{\"marker\": {\"colorbar\": {\"outlinewidth\": 0, \"ticks\": \"\"}}, \"type\": \"scatterpolargl\"}], \"scatterternary\": [{\"marker\": {\"colorbar\": {\"outlinewidth\": 0, \"ticks\": \"\"}}, \"type\": \"scatterternary\"}], \"surface\": [{\"colorbar\": {\"outlinewidth\": 0, \"ticks\": \"\"}, \"colorscale\": [[0.0, \"#0d0887\"], [0.1111111111111111, \"#46039f\"], [0.2222222222222222, \"#7201a8\"], [0.3333333333333333, \"#9c179e\"], [0.4444444444444444, \"#bd3786\"], [0.5555555555555556, \"#d8576b\"], [0.6666666666666666, \"#ed7953\"], [0.7777777777777778, \"#fb9f3a\"], [0.8888888888888888, \"#fdca26\"], [1.0, \"#f0f921\"]], \"type\": \"surface\"}], \"table\": [{\"cells\": {\"fill\": {\"color\": \"#EBF0F8\"}, \"line\": {\"color\": \"white\"}}, \"header\": {\"fill\": {\"color\": \"#C8D4E3\"}, \"line\": {\"color\": \"white\"}}, \"type\": \"table\"}]}, \"layout\": {\"annotationdefaults\": {\"arrowcolor\": \"#2a3f5f\", \"arrowhead\": 0, \"arrowwidth\": 1}, \"colorscale\": {\"diverging\": [[0, \"#8e0152\"], [0.1, \"#c51b7d\"], [0.2, \"#de77ae\"], [0.3, \"#f1b6da\"], [0.4, \"#fde0ef\"], [0.5, \"#f7f7f7\"], [0.6, \"#e6f5d0\"], [0.7, \"#b8e186\"], [0.8, \"#7fbc41\"], [0.9, \"#4d9221\"], [1, \"#276419\"]], \"sequential\": [[0.0, \"#0d0887\"], [0.1111111111111111, \"#46039f\"], [0.2222222222222222, \"#7201a8\"], [0.3333333333333333, \"#9c179e\"], [0.4444444444444444, \"#bd3786\"], [0.5555555555555556, \"#d8576b\"], [0.6666666666666666, \"#ed7953\"], [0.7777777777777778, \"#fb9f3a\"], [0.8888888888888888, \"#fdca26\"], [1.0, \"#f0f921\"]], \"sequentialminus\": [[0.0, \"#0d0887\"], [0.1111111111111111, \"#46039f\"], [0.2222222222222222, \"#7201a8\"], [0.3333333333333333, \"#9c179e\"], [0.4444444444444444, \"#bd3786\"], [0.5555555555555556, \"#d8576b\"], [0.6666666666666666, \"#ed7953\"], [0.7777777777777778, \"#fb9f3a\"], [0.8888888888888888, \"#fdca26\"], [1.0, \"#f0f921\"]]}, \"colorway\": [\"#636efa\", \"#EF553B\", \"#00cc96\", \"#ab63fa\", \"#FFA15A\", \"#19d3f3\", \"#FF6692\", \"#B6E880\", \"#FF97FF\", \"#FECB52\"], \"font\": {\"color\": \"#2a3f5f\"}, \"geo\": {\"bgcolor\": \"white\", \"lakecolor\": \"white\", \"landcolor\": \"#E5ECF6\", \"showlakes\": true, \"showland\": true, \"subunitcolor\": \"white\"}, \"hoverlabel\": {\"align\": \"left\"}, \"hovermode\": \"closest\", \"mapbox\": {\"style\": \"light\"}, \"paper_bgcolor\": \"white\", \"plot_bgcolor\": \"#E5ECF6\", \"polar\": {\"angularaxis\": {\"gridcolor\": \"white\", \"linecolor\": \"white\", \"ticks\": \"\"}, \"bgcolor\": \"#E5ECF6\", \"radialaxis\": {\"gridcolor\": \"white\", \"linecolor\": \"white\", \"ticks\": \"\"}}, \"scene\": {\"xaxis\": {\"backgroundcolor\": \"#E5ECF6\", \"gridcolor\": \"white\", \"gridwidth\": 2, \"linecolor\": \"white\", \"showbackground\": true, \"ticks\": \"\", \"zerolinecolor\": \"white\"}, \"yaxis\": {\"backgroundcolor\": \"#E5ECF6\", \"gridcolor\": \"white\", \"gridwidth\": 2, \"linecolor\": \"white\", \"showbackground\": true, \"ticks\": \"\", \"zerolinecolor\": \"white\"}, \"zaxis\": {\"backgroundcolor\": \"#E5ECF6\", \"gridcolor\": \"white\", \"gridwidth\": 2, \"linecolor\": \"white\", \"showbackground\": true, \"ticks\": \"\", \"zerolinecolor\": \"white\"}}, \"shapedefaults\": {\"line\": {\"color\": \"#2a3f5f\"}}, \"ternary\": {\"aaxis\": {\"gridcolor\": \"white\", \"linecolor\": \"white\", \"ticks\": \"\"}, \"baxis\": {\"gridcolor\": \"white\", \"linecolor\": \"white\", \"ticks\": \"\"}, \"bgcolor\": \"#E5ECF6\", \"caxis\": {\"gridcolor\": \"white\", \"linecolor\": \"white\", \"ticks\": \"\"}}, \"title\": {\"x\": 0.05}, \"xaxis\": {\"automargin\": true, \"gridcolor\": \"white\", \"linecolor\": \"white\", \"ticks\": \"\", \"zerolinecolor\": \"white\", \"zerolinewidth\": 2}, \"yaxis\": {\"automargin\": true, \"gridcolor\": \"white\", \"linecolor\": \"white\", \"ticks\": \"\", \"zerolinecolor\": \"white\", \"zerolinewidth\": 2}}}, \"title\": {\"text\": \"Comparison of Model 3 Growth Models: Probability of Achieving 25% Women\"}, \"width\": 900, \"xaxis\": {\"gridcolor\": \"rgb(229,229,229)\", \"showgrid\": true, \"showline\": true, \"showticklabels\": true, \"tickcolor\": \"rgb(127,127,127)\", \"ticks\": \"outside\", \"title\": {\"text\": \"Year\"}, \"visible\": true, \"zeroline\": false}, \"yaxis\": {\"gridcolor\": \"rgb(229,229,229)\", \"showgrid\": true, \"showline\": true, \"showticklabels\": true, \"tickcolor\": \"rgb(127,127,127)\", \"ticks\": \"outside\", \"title\": {\"text\": \"Probability of Achieving Target\"}, \"zeroline\": false}},\n",
       "                        {\"responsive\": true}\n",
       "                    ).then(function(){\n",
       "                            \n",
       "var gd = document.getElementById('315ee4a1-8ab3-4fa0-b2f8-732304fc8a6b');\n",
       "var x = new MutationObserver(function (mutations, observer) {{\n",
       "        var display = window.getComputedStyle(gd).display;\n",
       "        if (!display || display === 'none') {{\n",
       "            console.log([gd, 'removed!']);\n",
       "            Plotly.purge(gd);\n",
       "            observer.disconnect();\n",
       "        }}\n",
       "}});\n",
       "\n",
       "// Listen for the removal of the full notebook cells\n",
       "var notebookContainer = gd.closest('#notebook-container');\n",
       "if (notebookContainer) {{\n",
       "    x.observe(notebookContainer, {childList: true});\n",
       "}}\n",
       "\n",
       "// Listen for the clearing of the current output cell\n",
       "var outputEl = gd.closest('.output');\n",
       "if (outputEl) {{\n",
       "    x.observe(outputEl, {childList: true});\n",
       "}}\n",
       "\n",
       "                        })\n",
       "                };\n",
       "                });\n",
       "            </script>\n",
       "        </div>"
      ]
     },
     "metadata": {},
     "output_type": "display_data"
    }
   ],
   "source": [
    "data = []\n",
    "linecolors = ['rgb(0,0,255)', 'rgb(0,128,0)', 'rgb(128,0,128)', 'rgb(139,69,19)']\n",
    "fillcolors = ['rgba(0,0,255,0.25)', 'rgba(0,128,0,0.25)', 'rgba(128,0,128,0.25)', 'rgba(160,82,45,0.25)']\n",
    "legend_labels = ['no growth', 'linear growth', '3 year growth', '4 year growth']\n",
    "\n",
    "\n",
    "for k,v in enumerate(results.mlist):\n",
    "\n",
    "    data.append(go.Scatter(\n",
    "        x=v.summary_matrix['yr'],\n",
    "        y=v.summary_matrix['p_fpct'],\n",
    "        line=dict(color=linecolors[k],\n",
    "                 width=2),\n",
    "        legendgroup=legend_labels[k],\n",
    "        showlegend=True,\n",
    "        marker=dict(\n",
    "            size=4),\n",
    "        mode='lines+markers',\n",
    "        name=legend_labels[k],\n",
    "    ))\n",
    "\n",
    "\n",
    "data.append(go.Scatter(\n",
    "    x=v.summary_matrix['yr'], \n",
    "    y=np.repeat(0.5, len(v.summary_matrix['yr'])),\n",
    "    line=dict(color='red',\n",
    "             dash='dash'),\n",
    "    name='Target Probability',\n",
    "    mode='lines',\n",
    "))\n",
    "    \n",
    "layout = go.Layout(\n",
    "    title='Comparison of Model 3 Growth Models: Probability of Achieving 25% Women',\n",
    "    height=800,\n",
    "    width=900,\n",
    "    paper_bgcolor='rgb(255,255,255)',\n",
    "    plot_bgcolor='rgb(255,255,255)',\n",
    "    xaxis=dict(\n",
    "        visible=True,\n",
    "        title='Year',\n",
    "        gridcolor='rgb(229,229,229)',\n",
    "        showgrid=True,\n",
    "        showline=True,\n",
    "        showticklabels=True,\n",
    "        tickcolor='rgb(127,127,127)',\n",
    "        ticks='outside',\n",
    "        zeroline=False\n",
    "    ),\n",
    "    yaxis=dict(\n",
    "        title='Probability of Achieving Target',\n",
    "        gridcolor='rgb(229,229,229)',\n",
    "        showgrid=True,\n",
    "        showline=True,\n",
    "        showticklabels=True,\n",
    "        tickcolor='rgb(127,127,127)',\n",
    "        ticks='outside',\n",
    "        zeroline=False\n",
    "    ),\n",
    ")\n",
    "fig = go.Figure(data=data, layout=layout)\n",
    "plotly.offline.iplot(fig, filename= 'shaded_lines')\n",
    "\n",
    "# export image for ingestion to pdf file.\n",
    "# if not os.path.exists('images'):\n",
    "#     os.mkdir('images')\n",
    "# pio.write_image(fig, 'images/probability_of_reaching_gender_target.png')"
   ]
  },
  {
   "cell_type": "code",
   "execution_count": 18,
   "metadata": {
    "hide_input": true,
    "scrolled": false,
    "tags": [
     "plotcell"
    ]
   },
   "outputs": [],
   "source": [
    "linecolors = ['blue', 'green', 'purple', 'brown']\n",
    "legend_labels = ['no growth', 'linear growth', '3 year growth', '4 year growth']\n",
    "\n",
    "plt.figure(figsize=(12,12))\n",
    "\n",
    "for k,v in enumerate(results.mlist):\n",
    "    plt.plot(\n",
    "             v.summary_matrix['yr'], \n",
    "             v.summary_matrix['p_fpct'],\n",
    "             linewidth=2,\n",
    "             color=linecolors[k],\n",
    "             label=legend_labels[k],\n",
    "             marker=\"o\",\n",
    "            )\n",
    "\n",
    "plt.hlines(\n",
    "        0.5,\n",
    "        0,\n",
    "        v.summary_matrix['yr'].max(),\n",
    "        colors='red',\n",
    "        linestyle='--',\n",
    "        label='Target Probability'\n",
    "        )\n",
    "    \n",
    "plt.title('Comparison of Model 3 Growth Models: Probability of Achieving 25% Women', fontsize=20)\n",
    "plt.xlabel('Year', fontsize=16)\n",
    "plt.ylabel('Probability of Achieving Target', fontsize=16)\n",
    "plt.legend(loc='upper right', fontsize=14)\n",
    "if not os.path.exists('images'):\n",
    "    os.mkdir('images')\n",
    "plt.savefig('images/probability_of_reaching_gender_target.png')\n",
    "plt.close()"
   ]
  },
  {
   "cell_type": "markdown",
   "metadata": {
    "hide_input": false
   },
   "source": [
    "## Comparison of Model 3 Growth Models: Change in Number Women, Model 3"
   ]
  },
  {
   "cell_type": "code",
   "execution_count": 19,
   "metadata": {
    "hide_input": true,
    "scrolled": false,
    "tags": [
     "plotcell"
    ]
   },
   "outputs": [
    {
     "data": {
      "application/vnd.plotly.v1+json": {
       "config": {
        "linkText": "Export to plot.ly",
        "plotlyServerURL": "https://plot.ly",
        "showLink": false
       },
       "data": [
        {
         "fill": "tozerox",
         "fillcolor": "rgba(0,0,255,0.25)",
         "legendgroup": "no growth",
         "line": {
          "color": "rgb(0,0,255)",
          "width": 1
         },
         "mode": "lines",
         "name": "no growth",
         "showlegend": false,
         "type": "scatter",
         "x": [
          0,
          1,
          2,
          3,
          4,
          5,
          6,
          7,
          8,
          9,
          10,
          11,
          12,
          13,
          14,
          15,
          16,
          17,
          18,
          19,
          19,
          18,
          17,
          16,
          15,
          14,
          13,
          12,
          11,
          10,
          9,
          8,
          7,
          6,
          5,
          4,
          3,
          2,
          1,
          0
         ],
         "y": [
          8,
          11,
          13,
          15,
          16.525,
          17.525,
          19.05,
          19,
          20.05,
          20,
          22,
          23.525,
          23,
          24,
          25,
          25.525,
          25,
          26,
          27,
          28,
          14,
          12.475,
          12.475,
          11.95,
          13,
          12,
          12,
          11,
          12,
          11,
          10,
          10,
          9.475,
          8,
          8,
          7.475,
          8,
          8,
          7,
          8
         ]
        },
        {
         "legendgroup": "no growth",
         "line": {
          "color": "rgb(0,0,255)",
          "width": 2
         },
         "marker": {
          "size": 4
         },
         "mode": "lines+markers",
         "name": "no growth",
         "showlegend": true,
         "type": "scatter",
         "x": [
          0,
          1,
          2,
          3,
          4,
          5,
          6,
          7,
          8,
          9,
          10,
          11,
          12,
          13,
          14,
          15,
          16,
          17,
          18,
          19
         ],
         "y": [
          8,
          8.85,
          9.75,
          10.54,
          11.38,
          12.14,
          12.96,
          13.67,
          14.37,
          14.83,
          15.74,
          16.4,
          17.03,
          17.63,
          18.28,
          18.8,
          19.03,
          19.52,
          19.98,
          20.23
         ]
        },
        {
         "fill": "tozerox",
         "fillcolor": "rgba(0,128,0,0.25)",
         "legendgroup": "linear growth",
         "line": {
          "color": "rgb(0,128,0)",
          "width": 1
         },
         "mode": "lines",
         "name": "linear growth",
         "showlegend": false,
         "type": "scatter",
         "x": [
          0,
          1,
          2,
          3,
          4,
          5,
          6,
          7,
          8,
          9,
          10,
          11,
          12,
          13,
          14,
          15,
          16,
          17,
          18,
          19,
          19,
          18,
          17,
          16,
          15,
          14,
          13,
          12,
          11,
          10,
          9,
          8,
          7,
          6,
          5,
          4,
          3,
          2,
          1,
          0
         ],
         "y": [
          8,
          12,
          14.525,
          16,
          17,
          17,
          18,
          20.525,
          20.525,
          22,
          23.525,
          24,
          25.525,
          24,
          27,
          27,
          29,
          29,
          29,
          29.525,
          16,
          15.475,
          13.95,
          13,
          14,
          13.475,
          12.475,
          12,
          11.475,
          11.475,
          11,
          11,
          10,
          10,
          8.475,
          8,
          8,
          7,
          6.475,
          8
         ]
        },
        {
         "legendgroup": "linear growth",
         "line": {
          "color": "rgb(0,128,0)",
          "width": 2
         },
         "marker": {
          "size": 4
         },
         "mode": "lines+markers",
         "name": "linear growth",
         "showlegend": true,
         "type": "scatter",
         "x": [
          0,
          1,
          2,
          3,
          4,
          5,
          6,
          7,
          8,
          9,
          10,
          11,
          12,
          13,
          14,
          15,
          16,
          17,
          18,
          19
         ],
         "y": [
          8,
          9.1,
          10.1,
          11.26,
          12.33,
          13.05,
          13.85,
          14.86,
          15.67,
          16.12,
          16.7,
          17.46,
          18.08,
          18.73,
          19.22,
          20.01,
          20.71,
          21.38,
          22,
          22.36
         ]
        },
        {
         "fill": "tozerox",
         "fillcolor": "rgba(128,0,128,0.25)",
         "legendgroup": "3 year growth",
         "line": {
          "color": "rgb(128,0,128)",
          "width": 1
         },
         "mode": "lines",
         "name": "3 year growth",
         "showlegend": false,
         "type": "scatter",
         "x": [
          0,
          1,
          2,
          3,
          4,
          5,
          6,
          7,
          8,
          9,
          10,
          11,
          12,
          13,
          14,
          15,
          16,
          17,
          18,
          19,
          19,
          18,
          17,
          16,
          15,
          14,
          13,
          12,
          11,
          10,
          9,
          8,
          7,
          6,
          5,
          4,
          3,
          2,
          1,
          0
         ],
         "y": [
          8,
          12,
          13,
          14,
          16.05,
          17,
          18,
          19,
          20,
          21,
          21.525,
          23,
          24.05,
          25,
          25,
          26,
          26,
          27,
          28,
          28,
          14,
          13.475,
          13.475,
          12.475,
          12,
          11.475,
          12,
          11.475,
          11.475,
          11,
          11,
          10,
          10,
          9,
          8.475,
          8,
          8,
          7,
          7,
          8
         ]
        },
        {
         "legendgroup": "3 year growth",
         "line": {
          "color": "rgb(128,0,128)",
          "width": 2
         },
         "marker": {
          "size": 4
         },
         "mode": "lines+markers",
         "name": "3 year growth",
         "showlegend": true,
         "type": "scatter",
         "x": [
          0,
          1,
          2,
          3,
          4,
          5,
          6,
          7,
          8,
          9,
          10,
          11,
          12,
          13,
          14,
          15,
          16,
          17,
          18,
          19
         ],
         "y": [
          8,
          8.82,
          9.79,
          10.66,
          11.61,
          12.57,
          13.26,
          13.95,
          14.66,
          15.34,
          15.84,
          16.64,
          17.08,
          17.65,
          18.08,
          18.63,
          19.13,
          19.53,
          19.93,
          20.31
         ]
        },
        {
         "fill": "tozerox",
         "fillcolor": "rgba(160,82,45,0.25)",
         "legendgroup": "4 year growth",
         "line": {
          "color": "rgb(139,69,19)",
          "width": 1
         },
         "mode": "lines",
         "name": "4 year growth",
         "showlegend": false,
         "type": "scatter",
         "x": [
          0,
          1,
          2,
          3,
          4,
          5,
          6,
          7,
          8,
          9,
          10,
          11,
          12,
          13,
          14,
          15,
          16,
          17,
          18,
          19,
          19,
          18,
          17,
          16,
          15,
          14,
          13,
          12,
          11,
          10,
          9,
          8,
          7,
          6,
          5,
          4,
          3,
          2,
          1,
          0
         ],
         "y": [
          8,
          11,
          12.525,
          13,
          15,
          16.525,
          18,
          18.525,
          19,
          20,
          20.525,
          21,
          22.525,
          23,
          24,
          25.525,
          26.525,
          25.575,
          28.05,
          27.525,
          13.475,
          13,
          12.475,
          12,
          12,
          11,
          11,
          10.475,
          9,
          10.475,
          9.475,
          9,
          7.475,
          7.475,
          7,
          6.475,
          6,
          6,
          7,
          8
         ]
        },
        {
         "legendgroup": "4 year growth",
         "line": {
          "color": "rgb(139,69,19)",
          "width": 2
         },
         "marker": {
          "size": 4
         },
         "mode": "lines+markers",
         "name": "4 year growth",
         "showlegend": true,
         "type": "scatter",
         "x": [
          0,
          1,
          2,
          3,
          4,
          5,
          6,
          7,
          8,
          9,
          10,
          11,
          12,
          13,
          14,
          15,
          16,
          17,
          18,
          19
         ],
         "y": [
          8,
          8.69,
          9.39,
          10.05,
          10.96,
          11.66,
          12.36,
          13.12,
          13.93,
          14.41,
          15.15,
          15.61,
          16.32,
          16.99,
          17.51,
          18.02,
          18.74,
          18.99,
          19.53,
          19.91
         ]
        },
        {
         "line": {
          "color": "blue",
          "dash": "dashdot"
         },
         "marker": {
          "size": 4
         },
         "mode": "lines+markers",
         "name": "Management Data",
         "type": "scatter",
         "x": [
          0,
          1,
          2,
          3,
          4,
          5,
          6,
          7,
          8,
          9,
          10,
          11,
          12,
          13,
          14,
          15,
          16,
          17,
          18,
          19
         ],
         "y": [
          8,
          7,
          9,
          10,
          12,
          13,
          13,
          12,
          11,
          14,
          14,
          18,
          19,
          null,
          null,
          null,
          null,
          null,
          null,
          null
         ]
        }
       ],
       "layout": {
        "height": 800,
        "paper_bgcolor": "rgb(255,255,255)",
        "plot_bgcolor": "rgb(255,255,255)",
        "template": {
         "data": {
          "bar": [
           {
            "error_x": {
             "color": "#2a3f5f"
            },
            "error_y": {
             "color": "#2a3f5f"
            },
            "marker": {
             "line": {
              "color": "#E5ECF6",
              "width": 0.5
             }
            },
            "type": "bar"
           }
          ],
          "barpolar": [
           {
            "marker": {
             "line": {
              "color": "#E5ECF6",
              "width": 0.5
             }
            },
            "type": "barpolar"
           }
          ],
          "carpet": [
           {
            "aaxis": {
             "endlinecolor": "#2a3f5f",
             "gridcolor": "white",
             "linecolor": "white",
             "minorgridcolor": "white",
             "startlinecolor": "#2a3f5f"
            },
            "baxis": {
             "endlinecolor": "#2a3f5f",
             "gridcolor": "white",
             "linecolor": "white",
             "minorgridcolor": "white",
             "startlinecolor": "#2a3f5f"
            },
            "type": "carpet"
           }
          ],
          "choropleth": [
           {
            "colorbar": {
             "outlinewidth": 0,
             "ticks": ""
            },
            "type": "choropleth"
           }
          ],
          "contour": [
           {
            "colorbar": {
             "outlinewidth": 0,
             "ticks": ""
            },
            "colorscale": [
             [
              0,
              "#0d0887"
             ],
             [
              0.1111111111111111,
              "#46039f"
             ],
             [
              0.2222222222222222,
              "#7201a8"
             ],
             [
              0.3333333333333333,
              "#9c179e"
             ],
             [
              0.4444444444444444,
              "#bd3786"
             ],
             [
              0.5555555555555556,
              "#d8576b"
             ],
             [
              0.6666666666666666,
              "#ed7953"
             ],
             [
              0.7777777777777778,
              "#fb9f3a"
             ],
             [
              0.8888888888888888,
              "#fdca26"
             ],
             [
              1,
              "#f0f921"
             ]
            ],
            "type": "contour"
           }
          ],
          "contourcarpet": [
           {
            "colorbar": {
             "outlinewidth": 0,
             "ticks": ""
            },
            "type": "contourcarpet"
           }
          ],
          "heatmap": [
           {
            "colorbar": {
             "outlinewidth": 0,
             "ticks": ""
            },
            "colorscale": [
             [
              0,
              "#0d0887"
             ],
             [
              0.1111111111111111,
              "#46039f"
             ],
             [
              0.2222222222222222,
              "#7201a8"
             ],
             [
              0.3333333333333333,
              "#9c179e"
             ],
             [
              0.4444444444444444,
              "#bd3786"
             ],
             [
              0.5555555555555556,
              "#d8576b"
             ],
             [
              0.6666666666666666,
              "#ed7953"
             ],
             [
              0.7777777777777778,
              "#fb9f3a"
             ],
             [
              0.8888888888888888,
              "#fdca26"
             ],
             [
              1,
              "#f0f921"
             ]
            ],
            "type": "heatmap"
           }
          ],
          "heatmapgl": [
           {
            "colorbar": {
             "outlinewidth": 0,
             "ticks": ""
            },
            "colorscale": [
             [
              0,
              "#0d0887"
             ],
             [
              0.1111111111111111,
              "#46039f"
             ],
             [
              0.2222222222222222,
              "#7201a8"
             ],
             [
              0.3333333333333333,
              "#9c179e"
             ],
             [
              0.4444444444444444,
              "#bd3786"
             ],
             [
              0.5555555555555556,
              "#d8576b"
             ],
             [
              0.6666666666666666,
              "#ed7953"
             ],
             [
              0.7777777777777778,
              "#fb9f3a"
             ],
             [
              0.8888888888888888,
              "#fdca26"
             ],
             [
              1,
              "#f0f921"
             ]
            ],
            "type": "heatmapgl"
           }
          ],
          "histogram": [
           {
            "marker": {
             "colorbar": {
              "outlinewidth": 0,
              "ticks": ""
             }
            },
            "type": "histogram"
           }
          ],
          "histogram2d": [
           {
            "colorbar": {
             "outlinewidth": 0,
             "ticks": ""
            },
            "colorscale": [
             [
              0,
              "#0d0887"
             ],
             [
              0.1111111111111111,
              "#46039f"
             ],
             [
              0.2222222222222222,
              "#7201a8"
             ],
             [
              0.3333333333333333,
              "#9c179e"
             ],
             [
              0.4444444444444444,
              "#bd3786"
             ],
             [
              0.5555555555555556,
              "#d8576b"
             ],
             [
              0.6666666666666666,
              "#ed7953"
             ],
             [
              0.7777777777777778,
              "#fb9f3a"
             ],
             [
              0.8888888888888888,
              "#fdca26"
             ],
             [
              1,
              "#f0f921"
             ]
            ],
            "type": "histogram2d"
           }
          ],
          "histogram2dcontour": [
           {
            "colorbar": {
             "outlinewidth": 0,
             "ticks": ""
            },
            "colorscale": [
             [
              0,
              "#0d0887"
             ],
             [
              0.1111111111111111,
              "#46039f"
             ],
             [
              0.2222222222222222,
              "#7201a8"
             ],
             [
              0.3333333333333333,
              "#9c179e"
             ],
             [
              0.4444444444444444,
              "#bd3786"
             ],
             [
              0.5555555555555556,
              "#d8576b"
             ],
             [
              0.6666666666666666,
              "#ed7953"
             ],
             [
              0.7777777777777778,
              "#fb9f3a"
             ],
             [
              0.8888888888888888,
              "#fdca26"
             ],
             [
              1,
              "#f0f921"
             ]
            ],
            "type": "histogram2dcontour"
           }
          ],
          "mesh3d": [
           {
            "colorbar": {
             "outlinewidth": 0,
             "ticks": ""
            },
            "type": "mesh3d"
           }
          ],
          "parcoords": [
           {
            "line": {
             "colorbar": {
              "outlinewidth": 0,
              "ticks": ""
             }
            },
            "type": "parcoords"
           }
          ],
          "scatter": [
           {
            "marker": {
             "colorbar": {
              "outlinewidth": 0,
              "ticks": ""
             }
            },
            "type": "scatter"
           }
          ],
          "scatter3d": [
           {
            "line": {
             "colorbar": {
              "outlinewidth": 0,
              "ticks": ""
             }
            },
            "marker": {
             "colorbar": {
              "outlinewidth": 0,
              "ticks": ""
             }
            },
            "type": "scatter3d"
           }
          ],
          "scattercarpet": [
           {
            "marker": {
             "colorbar": {
              "outlinewidth": 0,
              "ticks": ""
             }
            },
            "type": "scattercarpet"
           }
          ],
          "scattergeo": [
           {
            "marker": {
             "colorbar": {
              "outlinewidth": 0,
              "ticks": ""
             }
            },
            "type": "scattergeo"
           }
          ],
          "scattergl": [
           {
            "marker": {
             "colorbar": {
              "outlinewidth": 0,
              "ticks": ""
             }
            },
            "type": "scattergl"
           }
          ],
          "scattermapbox": [
           {
            "marker": {
             "colorbar": {
              "outlinewidth": 0,
              "ticks": ""
             }
            },
            "type": "scattermapbox"
           }
          ],
          "scatterpolar": [
           {
            "marker": {
             "colorbar": {
              "outlinewidth": 0,
              "ticks": ""
             }
            },
            "type": "scatterpolar"
           }
          ],
          "scatterpolargl": [
           {
            "marker": {
             "colorbar": {
              "outlinewidth": 0,
              "ticks": ""
             }
            },
            "type": "scatterpolargl"
           }
          ],
          "scatterternary": [
           {
            "marker": {
             "colorbar": {
              "outlinewidth": 0,
              "ticks": ""
             }
            },
            "type": "scatterternary"
           }
          ],
          "surface": [
           {
            "colorbar": {
             "outlinewidth": 0,
             "ticks": ""
            },
            "colorscale": [
             [
              0,
              "#0d0887"
             ],
             [
              0.1111111111111111,
              "#46039f"
             ],
             [
              0.2222222222222222,
              "#7201a8"
             ],
             [
              0.3333333333333333,
              "#9c179e"
             ],
             [
              0.4444444444444444,
              "#bd3786"
             ],
             [
              0.5555555555555556,
              "#d8576b"
             ],
             [
              0.6666666666666666,
              "#ed7953"
             ],
             [
              0.7777777777777778,
              "#fb9f3a"
             ],
             [
              0.8888888888888888,
              "#fdca26"
             ],
             [
              1,
              "#f0f921"
             ]
            ],
            "type": "surface"
           }
          ],
          "table": [
           {
            "cells": {
             "fill": {
              "color": "#EBF0F8"
             },
             "line": {
              "color": "white"
             }
            },
            "header": {
             "fill": {
              "color": "#C8D4E3"
             },
             "line": {
              "color": "white"
             }
            },
            "type": "table"
           }
          ]
         },
         "layout": {
          "annotationdefaults": {
           "arrowcolor": "#2a3f5f",
           "arrowhead": 0,
           "arrowwidth": 1
          },
          "colorscale": {
           "diverging": [
            [
             0,
             "#8e0152"
            ],
            [
             0.1,
             "#c51b7d"
            ],
            [
             0.2,
             "#de77ae"
            ],
            [
             0.3,
             "#f1b6da"
            ],
            [
             0.4,
             "#fde0ef"
            ],
            [
             0.5,
             "#f7f7f7"
            ],
            [
             0.6,
             "#e6f5d0"
            ],
            [
             0.7,
             "#b8e186"
            ],
            [
             0.8,
             "#7fbc41"
            ],
            [
             0.9,
             "#4d9221"
            ],
            [
             1,
             "#276419"
            ]
           ],
           "sequential": [
            [
             0,
             "#0d0887"
            ],
            [
             0.1111111111111111,
             "#46039f"
            ],
            [
             0.2222222222222222,
             "#7201a8"
            ],
            [
             0.3333333333333333,
             "#9c179e"
            ],
            [
             0.4444444444444444,
             "#bd3786"
            ],
            [
             0.5555555555555556,
             "#d8576b"
            ],
            [
             0.6666666666666666,
             "#ed7953"
            ],
            [
             0.7777777777777778,
             "#fb9f3a"
            ],
            [
             0.8888888888888888,
             "#fdca26"
            ],
            [
             1,
             "#f0f921"
            ]
           ],
           "sequentialminus": [
            [
             0,
             "#0d0887"
            ],
            [
             0.1111111111111111,
             "#46039f"
            ],
            [
             0.2222222222222222,
             "#7201a8"
            ],
            [
             0.3333333333333333,
             "#9c179e"
            ],
            [
             0.4444444444444444,
             "#bd3786"
            ],
            [
             0.5555555555555556,
             "#d8576b"
            ],
            [
             0.6666666666666666,
             "#ed7953"
            ],
            [
             0.7777777777777778,
             "#fb9f3a"
            ],
            [
             0.8888888888888888,
             "#fdca26"
            ],
            [
             1,
             "#f0f921"
            ]
           ]
          },
          "colorway": [
           "#636efa",
           "#EF553B",
           "#00cc96",
           "#ab63fa",
           "#FFA15A",
           "#19d3f3",
           "#FF6692",
           "#B6E880",
           "#FF97FF",
           "#FECB52"
          ],
          "font": {
           "color": "#2a3f5f"
          },
          "geo": {
           "bgcolor": "white",
           "lakecolor": "white",
           "landcolor": "#E5ECF6",
           "showlakes": true,
           "showland": true,
           "subunitcolor": "white"
          },
          "hoverlabel": {
           "align": "left"
          },
          "hovermode": "closest",
          "mapbox": {
           "style": "light"
          },
          "paper_bgcolor": "white",
          "plot_bgcolor": "#E5ECF6",
          "polar": {
           "angularaxis": {
            "gridcolor": "white",
            "linecolor": "white",
            "ticks": ""
           },
           "bgcolor": "#E5ECF6",
           "radialaxis": {
            "gridcolor": "white",
            "linecolor": "white",
            "ticks": ""
           }
          },
          "scene": {
           "xaxis": {
            "backgroundcolor": "#E5ECF6",
            "gridcolor": "white",
            "gridwidth": 2,
            "linecolor": "white",
            "showbackground": true,
            "ticks": "",
            "zerolinecolor": "white"
           },
           "yaxis": {
            "backgroundcolor": "#E5ECF6",
            "gridcolor": "white",
            "gridwidth": 2,
            "linecolor": "white",
            "showbackground": true,
            "ticks": "",
            "zerolinecolor": "white"
           },
           "zaxis": {
            "backgroundcolor": "#E5ECF6",
            "gridcolor": "white",
            "gridwidth": 2,
            "linecolor": "white",
            "showbackground": true,
            "ticks": "",
            "zerolinecolor": "white"
           }
          },
          "shapedefaults": {
           "line": {
            "color": "#2a3f5f"
           }
          },
          "ternary": {
           "aaxis": {
            "gridcolor": "white",
            "linecolor": "white",
            "ticks": ""
           },
           "baxis": {
            "gridcolor": "white",
            "linecolor": "white",
            "ticks": ""
           },
           "bgcolor": "#E5ECF6",
           "caxis": {
            "gridcolor": "white",
            "linecolor": "white",
            "ticks": ""
           }
          },
          "title": {
           "x": 0.05
          },
          "xaxis": {
           "automargin": true,
           "gridcolor": "white",
           "linecolor": "white",
           "ticks": "",
           "zerolinecolor": "white",
           "zerolinewidth": 2
          },
          "yaxis": {
           "automargin": true,
           "gridcolor": "white",
           "linecolor": "white",
           "ticks": "",
           "zerolinecolor": "white",
           "zerolinewidth": 2
          }
         }
        },
        "title": {
         "text": "Comparison of Model 3 Growth Models: Change in Number Women, Model 3"
        },
        "width": 900,
        "xaxis": {
         "gridcolor": "rgb(229,229,229)",
         "showgrid": true,
         "showline": true,
         "showticklabels": true,
         "tickcolor": "rgb(127,127,127)",
         "ticks": "outside",
         "title": {
          "text": "Year"
         },
         "visible": true,
         "zeroline": false
        },
        "yaxis": {
         "gridcolor": "rgb(229,229,229)",
         "showgrid": true,
         "showline": true,
         "showticklabels": true,
         "tickcolor": "rgb(127,127,127)",
         "ticks": "outside",
         "title": {
          "text": "Number of Women Faculty"
         },
         "zeroline": false
        }
       }
      },
      "text/html": [
       "<div>\n",
       "        \n",
       "        \n",
       "            <div id=\"b3317416-2d7a-4183-9740-318db34711ea\" class=\"plotly-graph-div\" style=\"height:800px; width:900px;\"></div>\n",
       "            <script type=\"text/javascript\">\n",
       "                require([\"plotly\"], function(Plotly) {\n",
       "                    window.PLOTLYENV=window.PLOTLYENV || {};\n",
       "                    \n",
       "                if (document.getElementById(\"b3317416-2d7a-4183-9740-318db34711ea\")) {\n",
       "                    Plotly.newPlot(\n",
       "                        'b3317416-2d7a-4183-9740-318db34711ea',\n",
       "                        [{\"fill\": \"tozerox\", \"fillcolor\": \"rgba(0,0,255,0.25)\", \"legendgroup\": \"no growth\", \"line\": {\"color\": \"rgb(0,0,255)\", \"width\": 1}, \"mode\": \"lines\", \"name\": \"no growth\", \"showlegend\": false, \"type\": \"scatter\", \"x\": [0.0, 1.0, 2.0, 3.0, 4.0, 5.0, 6.0, 7.0, 8.0, 9.0, 10.0, 11.0, 12.0, 13.0, 14.0, 15.0, 16.0, 17.0, 18.0, 19.0, 19.0, 18.0, 17.0, 16.0, 15.0, 14.0, 13.0, 12.0, 11.0, 10.0, 9.0, 8.0, 7.0, 6.0, 5.0, 4.0, 3.0, 2.0, 1.0, 0.0], \"y\": [8.0, 11.0, 13.0, 15.0, 16.525, 17.525, 19.05, 19.0, 20.05, 20.0, 22.0, 23.525, 23.0, 24.0, 25.0, 25.525, 25.0, 26.0, 27.0, 28.0, 14.0, 12.475, 12.475, 11.95, 13.0, 12.0, 12.0, 11.0, 12.0, 11.0, 10.0, 10.0, 9.475, 8.0, 8.0, 7.475, 8.0, 8.0, 7.0, 8.0]}, {\"legendgroup\": \"no growth\", \"line\": {\"color\": \"rgb(0,0,255)\", \"width\": 2}, \"marker\": {\"size\": 4}, \"mode\": \"lines+markers\", \"name\": \"no growth\", \"showlegend\": true, \"type\": \"scatter\", \"x\": [0.0, 1.0, 2.0, 3.0, 4.0, 5.0, 6.0, 7.0, 8.0, 9.0, 10.0, 11.0, 12.0, 13.0, 14.0, 15.0, 16.0, 17.0, 18.0, 19.0], \"y\": [8.0, 8.85, 9.75, 10.54, 11.38, 12.14, 12.96, 13.67, 14.37, 14.83, 15.74, 16.4, 17.03, 17.63, 18.28, 18.8, 19.03, 19.52, 19.98, 20.23]}, {\"fill\": \"tozerox\", \"fillcolor\": \"rgba(0,128,0,0.25)\", \"legendgroup\": \"linear growth\", \"line\": {\"color\": \"rgb(0,128,0)\", \"width\": 1}, \"mode\": \"lines\", \"name\": \"linear growth\", \"showlegend\": false, \"type\": \"scatter\", \"x\": [0.0, 1.0, 2.0, 3.0, 4.0, 5.0, 6.0, 7.0, 8.0, 9.0, 10.0, 11.0, 12.0, 13.0, 14.0, 15.0, 16.0, 17.0, 18.0, 19.0, 19.0, 18.0, 17.0, 16.0, 15.0, 14.0, 13.0, 12.0, 11.0, 10.0, 9.0, 8.0, 7.0, 6.0, 5.0, 4.0, 3.0, 2.0, 1.0, 0.0], \"y\": [8.0, 12.0, 14.525, 16.0, 17.0, 17.0, 18.0, 20.525, 20.525, 22.0, 23.525, 24.0, 25.525, 24.0, 27.0, 27.0, 29.0, 29.0, 29.0, 29.525, 16.0, 15.475, 13.95, 13.0, 14.0, 13.475, 12.475, 12.0, 11.475, 11.475, 11.0, 11.0, 10.0, 10.0, 8.475, 8.0, 8.0, 7.0, 6.475, 8.0]}, {\"legendgroup\": \"linear growth\", \"line\": {\"color\": \"rgb(0,128,0)\", \"width\": 2}, \"marker\": {\"size\": 4}, \"mode\": \"lines+markers\", \"name\": \"linear growth\", \"showlegend\": true, \"type\": \"scatter\", \"x\": [0.0, 1.0, 2.0, 3.0, 4.0, 5.0, 6.0, 7.0, 8.0, 9.0, 10.0, 11.0, 12.0, 13.0, 14.0, 15.0, 16.0, 17.0, 18.0, 19.0], \"y\": [8.0, 9.1, 10.1, 11.26, 12.33, 13.05, 13.85, 14.86, 15.67, 16.12, 16.7, 17.46, 18.08, 18.73, 19.22, 20.01, 20.71, 21.38, 22.0, 22.36]}, {\"fill\": \"tozerox\", \"fillcolor\": \"rgba(128,0,128,0.25)\", \"legendgroup\": \"3 year growth\", \"line\": {\"color\": \"rgb(128,0,128)\", \"width\": 1}, \"mode\": \"lines\", \"name\": \"3 year growth\", \"showlegend\": false, \"type\": \"scatter\", \"x\": [0.0, 1.0, 2.0, 3.0, 4.0, 5.0, 6.0, 7.0, 8.0, 9.0, 10.0, 11.0, 12.0, 13.0, 14.0, 15.0, 16.0, 17.0, 18.0, 19.0, 19.0, 18.0, 17.0, 16.0, 15.0, 14.0, 13.0, 12.0, 11.0, 10.0, 9.0, 8.0, 7.0, 6.0, 5.0, 4.0, 3.0, 2.0, 1.0, 0.0], \"y\": [8.0, 12.0, 13.0, 14.0, 16.05, 17.0, 18.0, 19.0, 20.0, 21.0, 21.525, 23.0, 24.05, 25.0, 25.0, 26.0, 26.0, 27.0, 28.0, 28.0, 14.0, 13.475, 13.475, 12.475, 12.0, 11.475, 12.0, 11.475, 11.475, 11.0, 11.0, 10.0, 10.0, 9.0, 8.475, 8.0, 8.0, 7.0, 7.0, 8.0]}, {\"legendgroup\": \"3 year growth\", \"line\": {\"color\": \"rgb(128,0,128)\", \"width\": 2}, \"marker\": {\"size\": 4}, \"mode\": \"lines+markers\", \"name\": \"3 year growth\", \"showlegend\": true, \"type\": \"scatter\", \"x\": [0.0, 1.0, 2.0, 3.0, 4.0, 5.0, 6.0, 7.0, 8.0, 9.0, 10.0, 11.0, 12.0, 13.0, 14.0, 15.0, 16.0, 17.0, 18.0, 19.0], \"y\": [8.0, 8.82, 9.79, 10.66, 11.61, 12.57, 13.26, 13.95, 14.66, 15.34, 15.84, 16.64, 17.08, 17.65, 18.08, 18.63, 19.13, 19.53, 19.93, 20.31]}, {\"fill\": \"tozerox\", \"fillcolor\": \"rgba(160,82,45,0.25)\", \"legendgroup\": \"4 year growth\", \"line\": {\"color\": \"rgb(139,69,19)\", \"width\": 1}, \"mode\": \"lines\", \"name\": \"4 year growth\", \"showlegend\": false, \"type\": \"scatter\", \"x\": [0.0, 1.0, 2.0, 3.0, 4.0, 5.0, 6.0, 7.0, 8.0, 9.0, 10.0, 11.0, 12.0, 13.0, 14.0, 15.0, 16.0, 17.0, 18.0, 19.0, 19.0, 18.0, 17.0, 16.0, 15.0, 14.0, 13.0, 12.0, 11.0, 10.0, 9.0, 8.0, 7.0, 6.0, 5.0, 4.0, 3.0, 2.0, 1.0, 0.0], \"y\": [8.0, 11.0, 12.525, 13.0, 15.0, 16.525, 18.0, 18.525, 19.0, 20.0, 20.525, 21.0, 22.525, 23.0, 24.0, 25.525, 26.525, 25.575, 28.05, 27.525, 13.475, 13.0, 12.475, 12.0, 12.0, 11.0, 11.0, 10.475, 9.0, 10.475, 9.475, 9.0, 7.475, 7.475, 7.0, 6.475, 6.0, 6.0, 7.0, 8.0]}, {\"legendgroup\": \"4 year growth\", \"line\": {\"color\": \"rgb(139,69,19)\", \"width\": 2}, \"marker\": {\"size\": 4}, \"mode\": \"lines+markers\", \"name\": \"4 year growth\", \"showlegend\": true, \"type\": \"scatter\", \"x\": [0.0, 1.0, 2.0, 3.0, 4.0, 5.0, 6.0, 7.0, 8.0, 9.0, 10.0, 11.0, 12.0, 13.0, 14.0, 15.0, 16.0, 17.0, 18.0, 19.0], \"y\": [8.0, 8.69, 9.39, 10.05, 10.96, 11.66, 12.36, 13.12, 13.93, 14.41, 15.15, 15.61, 16.32, 16.99, 17.51, 18.02, 18.74, 18.99, 19.53, 19.91]}, {\"line\": {\"color\": \"blue\", \"dash\": \"dashdot\"}, \"marker\": {\"size\": 4}, \"mode\": \"lines+markers\", \"name\": \"Management Data\", \"type\": \"scatter\", \"x\": [0.0, 1.0, 2.0, 3.0, 4.0, 5.0, 6.0, 7.0, 8.0, 9.0, 10.0, 11.0, 12.0, 13.0, 14.0, 15.0, 16.0, 17.0, 18.0, 19.0], \"y\": [8.0, 7.0, 9.0, 10.0, 12.0, 13.0, 13.0, 12.0, 11.0, 14.0, 14.0, 18.0, 19.0, null, null, null, null, null, null, null]}],\n",
       "                        {\"height\": 800, \"paper_bgcolor\": \"rgb(255,255,255)\", \"plot_bgcolor\": \"rgb(255,255,255)\", \"template\": {\"data\": {\"bar\": [{\"error_x\": {\"color\": \"#2a3f5f\"}, \"error_y\": {\"color\": \"#2a3f5f\"}, \"marker\": {\"line\": {\"color\": \"#E5ECF6\", \"width\": 0.5}}, \"type\": \"bar\"}], \"barpolar\": [{\"marker\": {\"line\": {\"color\": \"#E5ECF6\", \"width\": 0.5}}, \"type\": \"barpolar\"}], \"carpet\": [{\"aaxis\": {\"endlinecolor\": \"#2a3f5f\", \"gridcolor\": \"white\", \"linecolor\": \"white\", \"minorgridcolor\": \"white\", \"startlinecolor\": \"#2a3f5f\"}, \"baxis\": {\"endlinecolor\": \"#2a3f5f\", \"gridcolor\": \"white\", \"linecolor\": \"white\", \"minorgridcolor\": \"white\", \"startlinecolor\": \"#2a3f5f\"}, \"type\": \"carpet\"}], \"choropleth\": [{\"colorbar\": {\"outlinewidth\": 0, \"ticks\": \"\"}, \"type\": \"choropleth\"}], \"contour\": [{\"colorbar\": {\"outlinewidth\": 0, \"ticks\": \"\"}, \"colorscale\": [[0.0, \"#0d0887\"], [0.1111111111111111, \"#46039f\"], [0.2222222222222222, \"#7201a8\"], [0.3333333333333333, \"#9c179e\"], [0.4444444444444444, \"#bd3786\"], [0.5555555555555556, \"#d8576b\"], [0.6666666666666666, \"#ed7953\"], [0.7777777777777778, \"#fb9f3a\"], [0.8888888888888888, \"#fdca26\"], [1.0, \"#f0f921\"]], \"type\": \"contour\"}], \"contourcarpet\": [{\"colorbar\": {\"outlinewidth\": 0, \"ticks\": \"\"}, \"type\": \"contourcarpet\"}], \"heatmap\": [{\"colorbar\": {\"outlinewidth\": 0, \"ticks\": \"\"}, \"colorscale\": [[0.0, \"#0d0887\"], [0.1111111111111111, \"#46039f\"], [0.2222222222222222, \"#7201a8\"], [0.3333333333333333, \"#9c179e\"], [0.4444444444444444, \"#bd3786\"], [0.5555555555555556, \"#d8576b\"], [0.6666666666666666, \"#ed7953\"], [0.7777777777777778, \"#fb9f3a\"], [0.8888888888888888, \"#fdca26\"], [1.0, \"#f0f921\"]], \"type\": \"heatmap\"}], \"heatmapgl\": [{\"colorbar\": {\"outlinewidth\": 0, \"ticks\": \"\"}, \"colorscale\": [[0.0, \"#0d0887\"], [0.1111111111111111, \"#46039f\"], [0.2222222222222222, \"#7201a8\"], [0.3333333333333333, \"#9c179e\"], [0.4444444444444444, \"#bd3786\"], [0.5555555555555556, \"#d8576b\"], [0.6666666666666666, \"#ed7953\"], [0.7777777777777778, \"#fb9f3a\"], [0.8888888888888888, \"#fdca26\"], [1.0, \"#f0f921\"]], \"type\": \"heatmapgl\"}], \"histogram\": [{\"marker\": {\"colorbar\": {\"outlinewidth\": 0, \"ticks\": \"\"}}, \"type\": \"histogram\"}], \"histogram2d\": [{\"colorbar\": {\"outlinewidth\": 0, \"ticks\": \"\"}, \"colorscale\": [[0.0, \"#0d0887\"], [0.1111111111111111, \"#46039f\"], [0.2222222222222222, \"#7201a8\"], [0.3333333333333333, \"#9c179e\"], [0.4444444444444444, \"#bd3786\"], [0.5555555555555556, \"#d8576b\"], [0.6666666666666666, \"#ed7953\"], [0.7777777777777778, \"#fb9f3a\"], [0.8888888888888888, \"#fdca26\"], [1.0, \"#f0f921\"]], \"type\": \"histogram2d\"}], \"histogram2dcontour\": [{\"colorbar\": {\"outlinewidth\": 0, \"ticks\": \"\"}, \"colorscale\": [[0.0, \"#0d0887\"], [0.1111111111111111, \"#46039f\"], [0.2222222222222222, \"#7201a8\"], [0.3333333333333333, \"#9c179e\"], [0.4444444444444444, \"#bd3786\"], [0.5555555555555556, \"#d8576b\"], [0.6666666666666666, \"#ed7953\"], [0.7777777777777778, \"#fb9f3a\"], [0.8888888888888888, \"#fdca26\"], [1.0, \"#f0f921\"]], \"type\": \"histogram2dcontour\"}], \"mesh3d\": [{\"colorbar\": {\"outlinewidth\": 0, \"ticks\": \"\"}, \"type\": \"mesh3d\"}], \"parcoords\": [{\"line\": {\"colorbar\": {\"outlinewidth\": 0, \"ticks\": \"\"}}, \"type\": \"parcoords\"}], \"scatter\": [{\"marker\": {\"colorbar\": {\"outlinewidth\": 0, \"ticks\": \"\"}}, \"type\": \"scatter\"}], \"scatter3d\": [{\"line\": {\"colorbar\": {\"outlinewidth\": 0, \"ticks\": \"\"}}, \"marker\": {\"colorbar\": {\"outlinewidth\": 0, \"ticks\": \"\"}}, \"type\": \"scatter3d\"}], \"scattercarpet\": [{\"marker\": {\"colorbar\": {\"outlinewidth\": 0, \"ticks\": \"\"}}, \"type\": \"scattercarpet\"}], \"scattergeo\": [{\"marker\": {\"colorbar\": {\"outlinewidth\": 0, \"ticks\": \"\"}}, \"type\": \"scattergeo\"}], \"scattergl\": [{\"marker\": {\"colorbar\": {\"outlinewidth\": 0, \"ticks\": \"\"}}, \"type\": \"scattergl\"}], \"scattermapbox\": [{\"marker\": {\"colorbar\": {\"outlinewidth\": 0, \"ticks\": \"\"}}, \"type\": \"scattermapbox\"}], \"scatterpolar\": [{\"marker\": {\"colorbar\": {\"outlinewidth\": 0, \"ticks\": \"\"}}, \"type\": \"scatterpolar\"}], \"scatterpolargl\": [{\"marker\": {\"colorbar\": {\"outlinewidth\": 0, \"ticks\": \"\"}}, \"type\": \"scatterpolargl\"}], \"scatterternary\": [{\"marker\": {\"colorbar\": {\"outlinewidth\": 0, \"ticks\": \"\"}}, \"type\": \"scatterternary\"}], \"surface\": [{\"colorbar\": {\"outlinewidth\": 0, \"ticks\": \"\"}, \"colorscale\": [[0.0, \"#0d0887\"], [0.1111111111111111, \"#46039f\"], [0.2222222222222222, \"#7201a8\"], [0.3333333333333333, \"#9c179e\"], [0.4444444444444444, \"#bd3786\"], [0.5555555555555556, \"#d8576b\"], [0.6666666666666666, \"#ed7953\"], [0.7777777777777778, \"#fb9f3a\"], [0.8888888888888888, \"#fdca26\"], [1.0, \"#f0f921\"]], \"type\": \"surface\"}], \"table\": [{\"cells\": {\"fill\": {\"color\": \"#EBF0F8\"}, \"line\": {\"color\": \"white\"}}, \"header\": {\"fill\": {\"color\": \"#C8D4E3\"}, \"line\": {\"color\": \"white\"}}, \"type\": \"table\"}]}, \"layout\": {\"annotationdefaults\": {\"arrowcolor\": \"#2a3f5f\", \"arrowhead\": 0, \"arrowwidth\": 1}, \"colorscale\": {\"diverging\": [[0, \"#8e0152\"], [0.1, \"#c51b7d\"], [0.2, \"#de77ae\"], [0.3, \"#f1b6da\"], [0.4, \"#fde0ef\"], [0.5, \"#f7f7f7\"], [0.6, \"#e6f5d0\"], [0.7, \"#b8e186\"], [0.8, \"#7fbc41\"], [0.9, \"#4d9221\"], [1, \"#276419\"]], \"sequential\": [[0.0, \"#0d0887\"], [0.1111111111111111, \"#46039f\"], [0.2222222222222222, \"#7201a8\"], [0.3333333333333333, \"#9c179e\"], [0.4444444444444444, \"#bd3786\"], [0.5555555555555556, \"#d8576b\"], [0.6666666666666666, \"#ed7953\"], [0.7777777777777778, \"#fb9f3a\"], [0.8888888888888888, \"#fdca26\"], [1.0, \"#f0f921\"]], \"sequentialminus\": [[0.0, \"#0d0887\"], [0.1111111111111111, \"#46039f\"], [0.2222222222222222, \"#7201a8\"], [0.3333333333333333, \"#9c179e\"], [0.4444444444444444, \"#bd3786\"], [0.5555555555555556, \"#d8576b\"], [0.6666666666666666, \"#ed7953\"], [0.7777777777777778, \"#fb9f3a\"], [0.8888888888888888, \"#fdca26\"], [1.0, \"#f0f921\"]]}, \"colorway\": [\"#636efa\", \"#EF553B\", \"#00cc96\", \"#ab63fa\", \"#FFA15A\", \"#19d3f3\", \"#FF6692\", \"#B6E880\", \"#FF97FF\", \"#FECB52\"], \"font\": {\"color\": \"#2a3f5f\"}, \"geo\": {\"bgcolor\": \"white\", \"lakecolor\": \"white\", \"landcolor\": \"#E5ECF6\", \"showlakes\": true, \"showland\": true, \"subunitcolor\": \"white\"}, \"hoverlabel\": {\"align\": \"left\"}, \"hovermode\": \"closest\", \"mapbox\": {\"style\": \"light\"}, \"paper_bgcolor\": \"white\", \"plot_bgcolor\": \"#E5ECF6\", \"polar\": {\"angularaxis\": {\"gridcolor\": \"white\", \"linecolor\": \"white\", \"ticks\": \"\"}, \"bgcolor\": \"#E5ECF6\", \"radialaxis\": {\"gridcolor\": \"white\", \"linecolor\": \"white\", \"ticks\": \"\"}}, \"scene\": {\"xaxis\": {\"backgroundcolor\": \"#E5ECF6\", \"gridcolor\": \"white\", \"gridwidth\": 2, \"linecolor\": \"white\", \"showbackground\": true, \"ticks\": \"\", \"zerolinecolor\": \"white\"}, \"yaxis\": {\"backgroundcolor\": \"#E5ECF6\", \"gridcolor\": \"white\", \"gridwidth\": 2, \"linecolor\": \"white\", \"showbackground\": true, \"ticks\": \"\", \"zerolinecolor\": \"white\"}, \"zaxis\": {\"backgroundcolor\": \"#E5ECF6\", \"gridcolor\": \"white\", \"gridwidth\": 2, \"linecolor\": \"white\", \"showbackground\": true, \"ticks\": \"\", \"zerolinecolor\": \"white\"}}, \"shapedefaults\": {\"line\": {\"color\": \"#2a3f5f\"}}, \"ternary\": {\"aaxis\": {\"gridcolor\": \"white\", \"linecolor\": \"white\", \"ticks\": \"\"}, \"baxis\": {\"gridcolor\": \"white\", \"linecolor\": \"white\", \"ticks\": \"\"}, \"bgcolor\": \"#E5ECF6\", \"caxis\": {\"gridcolor\": \"white\", \"linecolor\": \"white\", \"ticks\": \"\"}}, \"title\": {\"x\": 0.05}, \"xaxis\": {\"automargin\": true, \"gridcolor\": \"white\", \"linecolor\": \"white\", \"ticks\": \"\", \"zerolinecolor\": \"white\", \"zerolinewidth\": 2}, \"yaxis\": {\"automargin\": true, \"gridcolor\": \"white\", \"linecolor\": \"white\", \"ticks\": \"\", \"zerolinecolor\": \"white\", \"zerolinewidth\": 2}}}, \"title\": {\"text\": \"Comparison of Model 3 Growth Models: Change in Number Women, Model 3\"}, \"width\": 900, \"xaxis\": {\"gridcolor\": \"rgb(229,229,229)\", \"showgrid\": true, \"showline\": true, \"showticklabels\": true, \"tickcolor\": \"rgb(127,127,127)\", \"ticks\": \"outside\", \"title\": {\"text\": \"Year\"}, \"visible\": true, \"zeroline\": false}, \"yaxis\": {\"gridcolor\": \"rgb(229,229,229)\", \"showgrid\": true, \"showline\": true, \"showticklabels\": true, \"tickcolor\": \"rgb(127,127,127)\", \"ticks\": \"outside\", \"title\": {\"text\": \"Number of Women Faculty\"}, \"zeroline\": false}},\n",
       "                        {\"responsive\": true}\n",
       "                    ).then(function(){\n",
       "                            \n",
       "var gd = document.getElementById('b3317416-2d7a-4183-9740-318db34711ea');\n",
       "var x = new MutationObserver(function (mutations, observer) {{\n",
       "        var display = window.getComputedStyle(gd).display;\n",
       "        if (!display || display === 'none') {{\n",
       "            console.log([gd, 'removed!']);\n",
       "            Plotly.purge(gd);\n",
       "            observer.disconnect();\n",
       "        }}\n",
       "}});\n",
       "\n",
       "// Listen for the removal of the full notebook cells\n",
       "var notebookContainer = gd.closest('#notebook-container');\n",
       "if (notebookContainer) {{\n",
       "    x.observe(notebookContainer, {childList: true});\n",
       "}}\n",
       "\n",
       "// Listen for the clearing of the current output cell\n",
       "var outputEl = gd.closest('.output');\n",
       "if (outputEl) {{\n",
       "    x.observe(outputEl, {childList: true});\n",
       "}}\n",
       "\n",
       "                        })\n",
       "                };\n",
       "                });\n",
       "            </script>\n",
       "        </div>"
      ]
     },
     "metadata": {},
     "output_type": "display_data"
    }
   ],
   "source": [
    "data = []\n",
    "linecolors = ['rgb(0,0,255)', 'rgb(0,128,0)', 'rgb(128,0,128)', 'rgb(139,69,19)']\n",
    "fillcolors = ['rgba(0,0,255,0.25)', 'rgba(0,128,0,0.25)', 'rgba(128,0,128,0.25)', 'rgba(160,82,45,0.25)']\n",
    "\n",
    "for k,v in enumerate(results.mlist):\n",
    "    data.append(go.Scatter(\n",
    "        x=np.append(v.summary_matrix['yr'], v.summary_matrix['yr'].values[::-1]),\n",
    "        y=np.append(v.summary_matrix['f_975'], v.summary_matrix['f_025'].values[::-1]),\n",
    "        fill='tozerox',\n",
    "        fillcolor=fillcolors[k],\n",
    "        line=dict(color=linecolors[k],\n",
    "                 width=1),\n",
    "        legendgroup=legend_labels[k],\n",
    "        showlegend=False,\n",
    "        mode='lines',\n",
    "        name=legend_labels[k],\n",
    "    ))\n",
    "\n",
    "    data.append(go.Scatter(\n",
    "        x=v.summary_matrix['yr'],\n",
    "        y=v.summary_matrix['f_avg'],\n",
    "        line=dict(color=linecolors[k],\n",
    "                 width=2),\n",
    "        legendgroup=legend_labels[k],\n",
    "        showlegend=True,\n",
    "        marker=dict(\n",
    "            size=4),\n",
    "        mode='lines+markers',\n",
    "        name=legend_labels[k],\n",
    "    ))\n",
    "\n",
    "\n",
    "data.append(go.Scatter(\n",
    "    x=v.summary_matrix['yr'], \n",
    "    y=v.summary_matrix['act_f'],\n",
    "    line=dict(color='blue',\n",
    "             dash='dashdot'),\n",
    "    name='Management Data',\n",
    "    mode='lines+markers',\n",
    "    marker=dict(\n",
    "        size=4),\n",
    "\n",
    "))\n",
    "    \n",
    "layout = go.Layout(\n",
    "    title='Comparison of Model 3 Growth Models: Change in Number Women, Model 3',\n",
    "    height=800,\n",
    "    width=900,\n",
    "    paper_bgcolor='rgb(255,255,255)',\n",
    "    plot_bgcolor='rgb(255,255,255)',\n",
    "    xaxis=dict(\n",
    "        visible=True,\n",
    "        title='Year',\n",
    "        gridcolor='rgb(229,229,229)',\n",
    "        showgrid=True,\n",
    "        showline=True,\n",
    "        showticklabels=True,\n",
    "        tickcolor='rgb(127,127,127)',\n",
    "        ticks='outside',\n",
    "        zeroline=False\n",
    "    ),\n",
    "    yaxis=dict(\n",
    "        title='Number of Women Faculty',\n",
    "        gridcolor='rgb(229,229,229)',\n",
    "        showgrid=True,\n",
    "        showline=True,\n",
    "        showticklabels=True,\n",
    "        tickcolor='rgb(127,127,127)',\n",
    "        ticks='outside',\n",
    "        zeroline=False\n",
    "    ),\n",
    ")\n",
    "fig = go.Figure(data=data, layout=layout)\n",
    "plotly.offline.iplot(fig, filename= 'shaded_lines')\n",
    "\n",
    "# export image for ingestion to pdf file.\n",
    "# if not os.path.exists('images'):\n",
    "#     os.mkdir('images')\n",
    "# pio.write_image(fig, 'images/change_in_number_women.png')"
   ]
  },
  {
   "cell_type": "code",
   "execution_count": 20,
   "metadata": {
    "hide_input": true,
    "tags": [
     "plotcell"
    ]
   },
   "outputs": [],
   "source": [
    "linecolors = ['blue', 'green', 'purple', 'brown']\n",
    "legend_labels = ['no growth', 'linear growth', '3 year growth', '4 year growth']\n",
    "\n",
    "plt.figure(figsize=(12,12))\n",
    "\n",
    "for k,v in enumerate(results.mlist):\n",
    "    plt.plot(\n",
    "             v.summary_matrix['yr'], \n",
    "             v.summary_matrix['f_avg'],\n",
    "             linewidth=2,\n",
    "             color=linecolors[k],\n",
    "             label=legend_labels[k],\n",
    "             marker=\"o\",\n",
    "            )\n",
    "    plt.fill_between(\n",
    "             v.summary_matrix['yr'],\n",
    "             v.summary_matrix['f_975'],\n",
    "             v.summary_matrix['f_025'],\n",
    "             alpha=0.25,\n",
    "             facecolor=linecolors[k]\n",
    "            )\n",
    "\n",
    "plt.plot(\n",
    "        v.summary_matrix['yr'],\n",
    "        v.summary_matrix['act_f'],\n",
    "        color='blue',\n",
    "        linewidth=2,\n",
    "        linestyle='-.',\n",
    "        label='Management Data')\n",
    "    \n",
    "plt.title('Comparison of Model 3 Growth Models: Change in Number Women, Model 3', fontsize=20)\n",
    "plt.xlabel('Year', fontsize=16)\n",
    "plt.ylabel('Number of Women Faculty', fontsize=16)\n",
    "plt.legend(loc='upper right', fontsize=16)\n",
    "if not os.path.exists('images'):\n",
    "    os.mkdir('images')\n",
    "plt.savefig('images/change_in_number_women.png')\n",
    "plt.close()"
   ]
  },
  {
   "cell_type": "markdown",
   "metadata": {
    "hide_input": true
   },
   "source": [
    "## Comparison of Model 3 Growth Models: Department Size"
   ]
  },
  {
   "cell_type": "code",
   "execution_count": 21,
   "metadata": {
    "hide_input": true,
    "scrolled": false,
    "tags": [
     "plotcell"
    ]
   },
   "outputs": [
    {
     "data": {
      "application/vnd.plotly.v1+json": {
       "config": {
        "linkText": "Export to plot.ly",
        "plotlyServerURL": "https://plot.ly",
        "showLink": false
       },
       "data": [
        {
         "fill": "tozerox",
         "fillcolor": "rgba(0,0,255,0.25)",
         "legendgroup": "no growth",
         "line": {
          "color": "rgb(0,0,255)",
          "width": 1
         },
         "mode": "lines",
         "name": "no growth",
         "showlegend": false,
         "type": "scatter",
         "x": [
          0,
          1,
          2,
          3,
          4,
          5,
          6,
          7,
          8,
          9,
          10,
          11,
          12,
          13,
          14,
          15,
          16,
          17,
          18,
          19,
          19,
          18,
          17,
          16,
          15,
          14,
          13,
          12,
          11,
          10,
          9,
          8,
          7,
          6,
          5,
          4,
          3,
          2,
          1,
          0
         ],
         "y": [
          74,
          78.525,
          79.525,
          79.525,
          80.525,
          79,
          77,
          82.525,
          81.05,
          79,
          80.525,
          81.525,
          79,
          79.525,
          80,
          81.525,
          81.525,
          82,
          81,
          80,
          60,
          60,
          61,
          60,
          59.475,
          60,
          59.475,
          58.475,
          58.475,
          59.475,
          59.475,
          59,
          59,
          59.475,
          60,
          61,
          62.475,
          62.95,
          66,
          74
         ]
        },
        {
         "legendgroup": "no growth",
         "line": {
          "color": "rgb(0,0,255)",
          "width": 2
         },
         "marker": {
          "size": 4
         },
         "mode": "lines+markers",
         "name": "no growth",
         "showlegend": true,
         "type": "scatter",
         "x": [
          0,
          1,
          2,
          3,
          4,
          5,
          6,
          7,
          8,
          9,
          10,
          11,
          12,
          13,
          14,
          15,
          16,
          17,
          18,
          19
         ],
         "y": [
          74,
          72.51,
          71.37,
          70.6,
          69.65,
          68.64,
          68.17,
          68.37,
          68.03,
          68.16,
          68.08,
          68.18,
          68.17,
          68.69,
          69.04,
          69.26,
          68.86,
          68.91,
          68.87,
          68.79
         ]
        },
        {
         "fill": "tozerox",
         "fillcolor": "rgba(0,128,0,0.25)",
         "legendgroup": "linear growth",
         "line": {
          "color": "rgb(0,128,0)",
          "width": 1
         },
         "mode": "lines",
         "name": "linear growth",
         "showlegend": false,
         "type": "scatter",
         "x": [
          0,
          1,
          2,
          3,
          4,
          5,
          6,
          7,
          8,
          9,
          10,
          11,
          12,
          13,
          14,
          15,
          16,
          17,
          18,
          19,
          19,
          18,
          17,
          16,
          15,
          14,
          13,
          12,
          11,
          10,
          9,
          8,
          7,
          6,
          5,
          4,
          3,
          2,
          1,
          0
         ],
         "y": [
          74,
          81,
          80,
          83,
          83,
          84,
          83,
          83.525,
          83,
          84,
          84,
          84.525,
          85.525,
          85,
          85,
          85,
          85,
          84,
          85.525,
          85,
          63.95,
          64.95,
          63.475,
          65,
          63.475,
          62.95,
          61.475,
          62,
          63,
          62.475,
          62.475,
          63.475,
          63.475,
          62,
          63,
          62.475,
          63,
          64.95,
          68,
          74
         ]
        },
        {
         "legendgroup": "linear growth",
         "line": {
          "color": "rgb(0,128,0)",
          "width": 2
         },
         "marker": {
          "size": 4
         },
         "mode": "lines+markers",
         "name": "linear growth",
         "showlegend": true,
         "type": "scatter",
         "x": [
          0,
          1,
          2,
          3,
          4,
          5,
          6,
          7,
          8,
          9,
          10,
          11,
          12,
          13,
          14,
          15,
          16,
          17,
          18,
          19
         ],
         "y": [
          74,
          74.16,
          72.94,
          72.53,
          72.62,
          72.83,
          72.57,
          73.3,
          74.02,
          74.09,
          74.17,
          74.25,
          74.37,
          74.05,
          74.33,
          75.08,
          75.68,
          75.85,
          76.39,
          76.42
         ]
        },
        {
         "fill": "tozerox",
         "fillcolor": "rgba(128,0,128,0.25)",
         "legendgroup": "3 year growth",
         "line": {
          "color": "rgb(128,0,128)",
          "width": 1
         },
         "mode": "lines",
         "name": "3 year growth",
         "showlegend": false,
         "type": "scatter",
         "x": [
          0,
          1,
          2,
          3,
          4,
          5,
          6,
          7,
          8,
          9,
          10,
          11,
          12,
          13,
          14,
          15,
          16,
          17,
          18,
          19,
          19,
          18,
          17,
          16,
          15,
          14,
          13,
          12,
          11,
          10,
          9,
          8,
          7,
          6,
          5,
          4,
          3,
          2,
          1,
          0
         ],
         "y": [
          74,
          78,
          79.525,
          78.525,
          76,
          78.525,
          78,
          77.1,
          79,
          77.575,
          78.05,
          77.525,
          77.525,
          78.525,
          78.525,
          77.525,
          79,
          79,
          77.525,
          78,
          59.475,
          59.475,
          60.475,
          61,
          58.475,
          61,
          61.475,
          60,
          60.475,
          60,
          60,
          61,
          60,
          59,
          60.475,
          62.475,
          62.475,
          64,
          66,
          74
         ]
        },
        {
         "legendgroup": "3 year growth",
         "line": {
          "color": "rgb(128,0,128)",
          "width": 2
         },
         "marker": {
          "size": 4
         },
         "mode": "lines+markers",
         "name": "3 year growth",
         "showlegend": true,
         "type": "scatter",
         "x": [
          0,
          1,
          2,
          3,
          4,
          5,
          6,
          7,
          8,
          9,
          10,
          11,
          12,
          13,
          14,
          15,
          16,
          17,
          18,
          19
         ],
         "y": [
          74,
          72.44,
          71.17,
          69.78,
          69.26,
          68.97,
          68.06,
          68.01,
          67.66,
          67.38,
          67.34,
          68.18,
          68.13,
          68.58,
          68.33,
          68.5,
          68.82,
          68.82,
          68.38,
          68.18
         ]
        },
        {
         "fill": "tozerox",
         "fillcolor": "rgba(160,82,45,0.25)",
         "legendgroup": "4 year growth",
         "line": {
          "color": "rgb(139,69,19)",
          "width": 1
         },
         "mode": "lines",
         "name": "4 year growth",
         "showlegend": false,
         "type": "scatter",
         "x": [
          0,
          1,
          2,
          3,
          4,
          5,
          6,
          7,
          8,
          9,
          10,
          11,
          12,
          13,
          14,
          15,
          16,
          17,
          18,
          19,
          19,
          18,
          17,
          16,
          15,
          14,
          13,
          12,
          11,
          10,
          9,
          8,
          7,
          6,
          5,
          4,
          3,
          2,
          1,
          0
         ],
         "y": [
          74,
          79,
          79.525,
          79.525,
          80,
          80.05,
          81.05,
          79,
          78.525,
          75,
          74.525,
          74.525,
          73.05,
          73,
          74.525,
          74.525,
          75.525,
          75,
          76,
          77.525,
          61,
          60.475,
          58.425,
          60.475,
          59.475,
          60,
          60,
          59,
          57.95,
          57.425,
          60.475,
          61,
          58,
          60.475,
          60,
          61.475,
          60.475,
          63,
          66.475,
          74
         ]
        },
        {
         "legendgroup": "4 year growth",
         "line": {
          "color": "rgb(139,69,19)",
          "width": 2
         },
         "marker": {
          "size": 4
         },
         "mode": "lines+markers",
         "name": "4 year growth",
         "showlegend": true,
         "type": "scatter",
         "x": [
          0,
          1,
          2,
          3,
          4,
          5,
          6,
          7,
          8,
          9,
          10,
          11,
          12,
          13,
          14,
          15,
          16,
          17,
          18,
          19
         ],
         "y": [
          74,
          72.62,
          71.17,
          70.05,
          69.19,
          68.18,
          67.6,
          67.56,
          67.77,
          67.33,
          66.8,
          66.34,
          66.11,
          66.25,
          66.49,
          66.99,
          67.7,
          67.99,
          68.17,
          67.96
         ]
        },
        {
         "line": {
          "color": "blue",
          "dash": "dashdot"
         },
         "marker": {
          "size": 4
         },
         "mode": "lines+markers",
         "name": "Management Data",
         "type": "scatter",
         "x": [
          0,
          1,
          2,
          3,
          4,
          5,
          6,
          7,
          8,
          9,
          10,
          11,
          12,
          13,
          14,
          15,
          16,
          17,
          18,
          19
         ],
         "y": [
          74,
          71,
          78,
          78,
          84,
          85,
          89,
          86,
          81,
          83,
          81,
          82,
          89,
          null,
          null,
          null,
          null,
          null,
          null,
          null
         ]
        }
       ],
       "layout": {
        "height": 800,
        "paper_bgcolor": "rgb(255,255,255)",
        "plot_bgcolor": "rgb(255,255,255)",
        "template": {
         "data": {
          "bar": [
           {
            "error_x": {
             "color": "#2a3f5f"
            },
            "error_y": {
             "color": "#2a3f5f"
            },
            "marker": {
             "line": {
              "color": "#E5ECF6",
              "width": 0.5
             }
            },
            "type": "bar"
           }
          ],
          "barpolar": [
           {
            "marker": {
             "line": {
              "color": "#E5ECF6",
              "width": 0.5
             }
            },
            "type": "barpolar"
           }
          ],
          "carpet": [
           {
            "aaxis": {
             "endlinecolor": "#2a3f5f",
             "gridcolor": "white",
             "linecolor": "white",
             "minorgridcolor": "white",
             "startlinecolor": "#2a3f5f"
            },
            "baxis": {
             "endlinecolor": "#2a3f5f",
             "gridcolor": "white",
             "linecolor": "white",
             "minorgridcolor": "white",
             "startlinecolor": "#2a3f5f"
            },
            "type": "carpet"
           }
          ],
          "choropleth": [
           {
            "colorbar": {
             "outlinewidth": 0,
             "ticks": ""
            },
            "type": "choropleth"
           }
          ],
          "contour": [
           {
            "colorbar": {
             "outlinewidth": 0,
             "ticks": ""
            },
            "colorscale": [
             [
              0,
              "#0d0887"
             ],
             [
              0.1111111111111111,
              "#46039f"
             ],
             [
              0.2222222222222222,
              "#7201a8"
             ],
             [
              0.3333333333333333,
              "#9c179e"
             ],
             [
              0.4444444444444444,
              "#bd3786"
             ],
             [
              0.5555555555555556,
              "#d8576b"
             ],
             [
              0.6666666666666666,
              "#ed7953"
             ],
             [
              0.7777777777777778,
              "#fb9f3a"
             ],
             [
              0.8888888888888888,
              "#fdca26"
             ],
             [
              1,
              "#f0f921"
             ]
            ],
            "type": "contour"
           }
          ],
          "contourcarpet": [
           {
            "colorbar": {
             "outlinewidth": 0,
             "ticks": ""
            },
            "type": "contourcarpet"
           }
          ],
          "heatmap": [
           {
            "colorbar": {
             "outlinewidth": 0,
             "ticks": ""
            },
            "colorscale": [
             [
              0,
              "#0d0887"
             ],
             [
              0.1111111111111111,
              "#46039f"
             ],
             [
              0.2222222222222222,
              "#7201a8"
             ],
             [
              0.3333333333333333,
              "#9c179e"
             ],
             [
              0.4444444444444444,
              "#bd3786"
             ],
             [
              0.5555555555555556,
              "#d8576b"
             ],
             [
              0.6666666666666666,
              "#ed7953"
             ],
             [
              0.7777777777777778,
              "#fb9f3a"
             ],
             [
              0.8888888888888888,
              "#fdca26"
             ],
             [
              1,
              "#f0f921"
             ]
            ],
            "type": "heatmap"
           }
          ],
          "heatmapgl": [
           {
            "colorbar": {
             "outlinewidth": 0,
             "ticks": ""
            },
            "colorscale": [
             [
              0,
              "#0d0887"
             ],
             [
              0.1111111111111111,
              "#46039f"
             ],
             [
              0.2222222222222222,
              "#7201a8"
             ],
             [
              0.3333333333333333,
              "#9c179e"
             ],
             [
              0.4444444444444444,
              "#bd3786"
             ],
             [
              0.5555555555555556,
              "#d8576b"
             ],
             [
              0.6666666666666666,
              "#ed7953"
             ],
             [
              0.7777777777777778,
              "#fb9f3a"
             ],
             [
              0.8888888888888888,
              "#fdca26"
             ],
             [
              1,
              "#f0f921"
             ]
            ],
            "type": "heatmapgl"
           }
          ],
          "histogram": [
           {
            "marker": {
             "colorbar": {
              "outlinewidth": 0,
              "ticks": ""
             }
            },
            "type": "histogram"
           }
          ],
          "histogram2d": [
           {
            "colorbar": {
             "outlinewidth": 0,
             "ticks": ""
            },
            "colorscale": [
             [
              0,
              "#0d0887"
             ],
             [
              0.1111111111111111,
              "#46039f"
             ],
             [
              0.2222222222222222,
              "#7201a8"
             ],
             [
              0.3333333333333333,
              "#9c179e"
             ],
             [
              0.4444444444444444,
              "#bd3786"
             ],
             [
              0.5555555555555556,
              "#d8576b"
             ],
             [
              0.6666666666666666,
              "#ed7953"
             ],
             [
              0.7777777777777778,
              "#fb9f3a"
             ],
             [
              0.8888888888888888,
              "#fdca26"
             ],
             [
              1,
              "#f0f921"
             ]
            ],
            "type": "histogram2d"
           }
          ],
          "histogram2dcontour": [
           {
            "colorbar": {
             "outlinewidth": 0,
             "ticks": ""
            },
            "colorscale": [
             [
              0,
              "#0d0887"
             ],
             [
              0.1111111111111111,
              "#46039f"
             ],
             [
              0.2222222222222222,
              "#7201a8"
             ],
             [
              0.3333333333333333,
              "#9c179e"
             ],
             [
              0.4444444444444444,
              "#bd3786"
             ],
             [
              0.5555555555555556,
              "#d8576b"
             ],
             [
              0.6666666666666666,
              "#ed7953"
             ],
             [
              0.7777777777777778,
              "#fb9f3a"
             ],
             [
              0.8888888888888888,
              "#fdca26"
             ],
             [
              1,
              "#f0f921"
             ]
            ],
            "type": "histogram2dcontour"
           }
          ],
          "mesh3d": [
           {
            "colorbar": {
             "outlinewidth": 0,
             "ticks": ""
            },
            "type": "mesh3d"
           }
          ],
          "parcoords": [
           {
            "line": {
             "colorbar": {
              "outlinewidth": 0,
              "ticks": ""
             }
            },
            "type": "parcoords"
           }
          ],
          "scatter": [
           {
            "marker": {
             "colorbar": {
              "outlinewidth": 0,
              "ticks": ""
             }
            },
            "type": "scatter"
           }
          ],
          "scatter3d": [
           {
            "line": {
             "colorbar": {
              "outlinewidth": 0,
              "ticks": ""
             }
            },
            "marker": {
             "colorbar": {
              "outlinewidth": 0,
              "ticks": ""
             }
            },
            "type": "scatter3d"
           }
          ],
          "scattercarpet": [
           {
            "marker": {
             "colorbar": {
              "outlinewidth": 0,
              "ticks": ""
             }
            },
            "type": "scattercarpet"
           }
          ],
          "scattergeo": [
           {
            "marker": {
             "colorbar": {
              "outlinewidth": 0,
              "ticks": ""
             }
            },
            "type": "scattergeo"
           }
          ],
          "scattergl": [
           {
            "marker": {
             "colorbar": {
              "outlinewidth": 0,
              "ticks": ""
             }
            },
            "type": "scattergl"
           }
          ],
          "scattermapbox": [
           {
            "marker": {
             "colorbar": {
              "outlinewidth": 0,
              "ticks": ""
             }
            },
            "type": "scattermapbox"
           }
          ],
          "scatterpolar": [
           {
            "marker": {
             "colorbar": {
              "outlinewidth": 0,
              "ticks": ""
             }
            },
            "type": "scatterpolar"
           }
          ],
          "scatterpolargl": [
           {
            "marker": {
             "colorbar": {
              "outlinewidth": 0,
              "ticks": ""
             }
            },
            "type": "scatterpolargl"
           }
          ],
          "scatterternary": [
           {
            "marker": {
             "colorbar": {
              "outlinewidth": 0,
              "ticks": ""
             }
            },
            "type": "scatterternary"
           }
          ],
          "surface": [
           {
            "colorbar": {
             "outlinewidth": 0,
             "ticks": ""
            },
            "colorscale": [
             [
              0,
              "#0d0887"
             ],
             [
              0.1111111111111111,
              "#46039f"
             ],
             [
              0.2222222222222222,
              "#7201a8"
             ],
             [
              0.3333333333333333,
              "#9c179e"
             ],
             [
              0.4444444444444444,
              "#bd3786"
             ],
             [
              0.5555555555555556,
              "#d8576b"
             ],
             [
              0.6666666666666666,
              "#ed7953"
             ],
             [
              0.7777777777777778,
              "#fb9f3a"
             ],
             [
              0.8888888888888888,
              "#fdca26"
             ],
             [
              1,
              "#f0f921"
             ]
            ],
            "type": "surface"
           }
          ],
          "table": [
           {
            "cells": {
             "fill": {
              "color": "#EBF0F8"
             },
             "line": {
              "color": "white"
             }
            },
            "header": {
             "fill": {
              "color": "#C8D4E3"
             },
             "line": {
              "color": "white"
             }
            },
            "type": "table"
           }
          ]
         },
         "layout": {
          "annotationdefaults": {
           "arrowcolor": "#2a3f5f",
           "arrowhead": 0,
           "arrowwidth": 1
          },
          "colorscale": {
           "diverging": [
            [
             0,
             "#8e0152"
            ],
            [
             0.1,
             "#c51b7d"
            ],
            [
             0.2,
             "#de77ae"
            ],
            [
             0.3,
             "#f1b6da"
            ],
            [
             0.4,
             "#fde0ef"
            ],
            [
             0.5,
             "#f7f7f7"
            ],
            [
             0.6,
             "#e6f5d0"
            ],
            [
             0.7,
             "#b8e186"
            ],
            [
             0.8,
             "#7fbc41"
            ],
            [
             0.9,
             "#4d9221"
            ],
            [
             1,
             "#276419"
            ]
           ],
           "sequential": [
            [
             0,
             "#0d0887"
            ],
            [
             0.1111111111111111,
             "#46039f"
            ],
            [
             0.2222222222222222,
             "#7201a8"
            ],
            [
             0.3333333333333333,
             "#9c179e"
            ],
            [
             0.4444444444444444,
             "#bd3786"
            ],
            [
             0.5555555555555556,
             "#d8576b"
            ],
            [
             0.6666666666666666,
             "#ed7953"
            ],
            [
             0.7777777777777778,
             "#fb9f3a"
            ],
            [
             0.8888888888888888,
             "#fdca26"
            ],
            [
             1,
             "#f0f921"
            ]
           ],
           "sequentialminus": [
            [
             0,
             "#0d0887"
            ],
            [
             0.1111111111111111,
             "#46039f"
            ],
            [
             0.2222222222222222,
             "#7201a8"
            ],
            [
             0.3333333333333333,
             "#9c179e"
            ],
            [
             0.4444444444444444,
             "#bd3786"
            ],
            [
             0.5555555555555556,
             "#d8576b"
            ],
            [
             0.6666666666666666,
             "#ed7953"
            ],
            [
             0.7777777777777778,
             "#fb9f3a"
            ],
            [
             0.8888888888888888,
             "#fdca26"
            ],
            [
             1,
             "#f0f921"
            ]
           ]
          },
          "colorway": [
           "#636efa",
           "#EF553B",
           "#00cc96",
           "#ab63fa",
           "#FFA15A",
           "#19d3f3",
           "#FF6692",
           "#B6E880",
           "#FF97FF",
           "#FECB52"
          ],
          "font": {
           "color": "#2a3f5f"
          },
          "geo": {
           "bgcolor": "white",
           "lakecolor": "white",
           "landcolor": "#E5ECF6",
           "showlakes": true,
           "showland": true,
           "subunitcolor": "white"
          },
          "hoverlabel": {
           "align": "left"
          },
          "hovermode": "closest",
          "mapbox": {
           "style": "light"
          },
          "paper_bgcolor": "white",
          "plot_bgcolor": "#E5ECF6",
          "polar": {
           "angularaxis": {
            "gridcolor": "white",
            "linecolor": "white",
            "ticks": ""
           },
           "bgcolor": "#E5ECF6",
           "radialaxis": {
            "gridcolor": "white",
            "linecolor": "white",
            "ticks": ""
           }
          },
          "scene": {
           "xaxis": {
            "backgroundcolor": "#E5ECF6",
            "gridcolor": "white",
            "gridwidth": 2,
            "linecolor": "white",
            "showbackground": true,
            "ticks": "",
            "zerolinecolor": "white"
           },
           "yaxis": {
            "backgroundcolor": "#E5ECF6",
            "gridcolor": "white",
            "gridwidth": 2,
            "linecolor": "white",
            "showbackground": true,
            "ticks": "",
            "zerolinecolor": "white"
           },
           "zaxis": {
            "backgroundcolor": "#E5ECF6",
            "gridcolor": "white",
            "gridwidth": 2,
            "linecolor": "white",
            "showbackground": true,
            "ticks": "",
            "zerolinecolor": "white"
           }
          },
          "shapedefaults": {
           "line": {
            "color": "#2a3f5f"
           }
          },
          "ternary": {
           "aaxis": {
            "gridcolor": "white",
            "linecolor": "white",
            "ticks": ""
           },
           "baxis": {
            "gridcolor": "white",
            "linecolor": "white",
            "ticks": ""
           },
           "bgcolor": "#E5ECF6",
           "caxis": {
            "gridcolor": "white",
            "linecolor": "white",
            "ticks": ""
           }
          },
          "title": {
           "x": 0.05
          },
          "xaxis": {
           "automargin": true,
           "gridcolor": "white",
           "linecolor": "white",
           "ticks": "",
           "zerolinecolor": "white",
           "zerolinewidth": 2
          },
          "yaxis": {
           "automargin": true,
           "gridcolor": "white",
           "linecolor": "white",
           "ticks": "",
           "zerolinecolor": "white",
           "zerolinewidth": 2
          }
         }
        },
        "title": {
         "text": "Comparison of Model 3 Growth Models: Department Size"
        },
        "width": 900,
        "xaxis": {
         "gridcolor": "rgb(229,229,229)",
         "showgrid": true,
         "showline": true,
         "showticklabels": true,
         "tickcolor": "rgb(127,127,127)",
         "ticks": "outside",
         "title": {
          "text": "Year"
         },
         "visible": true,
         "zeroline": false
        },
        "yaxis": {
         "gridcolor": "rgb(229,229,229)",
         "showgrid": true,
         "showline": true,
         "showticklabels": true,
         "tickcolor": "rgb(127,127,127)",
         "ticks": "outside",
         "title": {
          "text": "Number of Faculty in the Department"
         },
         "zeroline": false
        }
       }
      },
      "text/html": [
       "<div>\n",
       "        \n",
       "        \n",
       "            <div id=\"0473e72f-aab3-4efc-94ef-613fea9b8a1b\" class=\"plotly-graph-div\" style=\"height:800px; width:900px;\"></div>\n",
       "            <script type=\"text/javascript\">\n",
       "                require([\"plotly\"], function(Plotly) {\n",
       "                    window.PLOTLYENV=window.PLOTLYENV || {};\n",
       "                    \n",
       "                if (document.getElementById(\"0473e72f-aab3-4efc-94ef-613fea9b8a1b\")) {\n",
       "                    Plotly.newPlot(\n",
       "                        '0473e72f-aab3-4efc-94ef-613fea9b8a1b',\n",
       "                        [{\"fill\": \"tozerox\", \"fillcolor\": \"rgba(0,0,255,0.25)\", \"legendgroup\": \"no growth\", \"line\": {\"color\": \"rgb(0,0,255)\", \"width\": 1}, \"mode\": \"lines\", \"name\": \"no growth\", \"showlegend\": false, \"type\": \"scatter\", \"x\": [0.0, 1.0, 2.0, 3.0, 4.0, 5.0, 6.0, 7.0, 8.0, 9.0, 10.0, 11.0, 12.0, 13.0, 14.0, 15.0, 16.0, 17.0, 18.0, 19.0, 19.0, 18.0, 17.0, 16.0, 15.0, 14.0, 13.0, 12.0, 11.0, 10.0, 9.0, 8.0, 7.0, 6.0, 5.0, 4.0, 3.0, 2.0, 1.0, 0.0], \"y\": [74.0, 78.525, 79.525, 79.525, 80.525, 79.0, 77.0, 82.525, 81.05, 79.0, 80.525, 81.525, 79.0, 79.525, 80.0, 81.525, 81.525, 82.0, 81.0, 80.0, 60.0, 60.0, 61.0, 60.0, 59.475, 60.0, 59.475, 58.475, 58.475, 59.475, 59.475, 59.0, 59.0, 59.475, 60.0, 61.0, 62.475, 62.95, 66.0, 74.0]}, {\"legendgroup\": \"no growth\", \"line\": {\"color\": \"rgb(0,0,255)\", \"width\": 2}, \"marker\": {\"size\": 4}, \"mode\": \"lines+markers\", \"name\": \"no growth\", \"showlegend\": true, \"type\": \"scatter\", \"x\": [0.0, 1.0, 2.0, 3.0, 4.0, 5.0, 6.0, 7.0, 8.0, 9.0, 10.0, 11.0, 12.0, 13.0, 14.0, 15.0, 16.0, 17.0, 18.0, 19.0], \"y\": [74.0, 72.51, 71.37, 70.6, 69.65, 68.64, 68.17, 68.37, 68.03, 68.16, 68.08, 68.18, 68.17, 68.69, 69.04, 69.26, 68.86, 68.91, 68.87, 68.79]}, {\"fill\": \"tozerox\", \"fillcolor\": \"rgba(0,128,0,0.25)\", \"legendgroup\": \"linear growth\", \"line\": {\"color\": \"rgb(0,128,0)\", \"width\": 1}, \"mode\": \"lines\", \"name\": \"linear growth\", \"showlegend\": false, \"type\": \"scatter\", \"x\": [0.0, 1.0, 2.0, 3.0, 4.0, 5.0, 6.0, 7.0, 8.0, 9.0, 10.0, 11.0, 12.0, 13.0, 14.0, 15.0, 16.0, 17.0, 18.0, 19.0, 19.0, 18.0, 17.0, 16.0, 15.0, 14.0, 13.0, 12.0, 11.0, 10.0, 9.0, 8.0, 7.0, 6.0, 5.0, 4.0, 3.0, 2.0, 1.0, 0.0], \"y\": [74.0, 81.0, 80.0, 83.0, 83.0, 84.0, 83.0, 83.525, 83.0, 84.0, 84.0, 84.525, 85.525, 85.0, 85.0, 85.0, 85.0, 84.0, 85.525, 85.0, 63.95, 64.95, 63.475, 65.0, 63.475, 62.95, 61.475, 62.0, 63.0, 62.475, 62.475, 63.475, 63.475, 62.0, 63.0, 62.475, 63.0, 64.95, 68.0, 74.0]}, {\"legendgroup\": \"linear growth\", \"line\": {\"color\": \"rgb(0,128,0)\", \"width\": 2}, \"marker\": {\"size\": 4}, \"mode\": \"lines+markers\", \"name\": \"linear growth\", \"showlegend\": true, \"type\": \"scatter\", \"x\": [0.0, 1.0, 2.0, 3.0, 4.0, 5.0, 6.0, 7.0, 8.0, 9.0, 10.0, 11.0, 12.0, 13.0, 14.0, 15.0, 16.0, 17.0, 18.0, 19.0], \"y\": [74.0, 74.16, 72.94, 72.53, 72.62, 72.83, 72.57, 73.3, 74.02, 74.09, 74.17, 74.25, 74.37, 74.05, 74.33, 75.08, 75.68, 75.85, 76.39, 76.42]}, {\"fill\": \"tozerox\", \"fillcolor\": \"rgba(128,0,128,0.25)\", \"legendgroup\": \"3 year growth\", \"line\": {\"color\": \"rgb(128,0,128)\", \"width\": 1}, \"mode\": \"lines\", \"name\": \"3 year growth\", \"showlegend\": false, \"type\": \"scatter\", \"x\": [0.0, 1.0, 2.0, 3.0, 4.0, 5.0, 6.0, 7.0, 8.0, 9.0, 10.0, 11.0, 12.0, 13.0, 14.0, 15.0, 16.0, 17.0, 18.0, 19.0, 19.0, 18.0, 17.0, 16.0, 15.0, 14.0, 13.0, 12.0, 11.0, 10.0, 9.0, 8.0, 7.0, 6.0, 5.0, 4.0, 3.0, 2.0, 1.0, 0.0], \"y\": [74.0, 78.0, 79.525, 78.525, 76.0, 78.525, 78.0, 77.1, 79.0, 77.575, 78.05, 77.525, 77.525, 78.525, 78.525, 77.525, 79.0, 79.0, 77.525, 78.0, 59.475, 59.475, 60.475, 61.0, 58.475, 61.0, 61.475, 60.0, 60.475, 60.0, 60.0, 61.0, 60.0, 59.0, 60.475, 62.475, 62.475, 64.0, 66.0, 74.0]}, {\"legendgroup\": \"3 year growth\", \"line\": {\"color\": \"rgb(128,0,128)\", \"width\": 2}, \"marker\": {\"size\": 4}, \"mode\": \"lines+markers\", \"name\": \"3 year growth\", \"showlegend\": true, \"type\": \"scatter\", \"x\": [0.0, 1.0, 2.0, 3.0, 4.0, 5.0, 6.0, 7.0, 8.0, 9.0, 10.0, 11.0, 12.0, 13.0, 14.0, 15.0, 16.0, 17.0, 18.0, 19.0], \"y\": [74.0, 72.44, 71.17, 69.78, 69.26, 68.97, 68.06, 68.01, 67.66, 67.38, 67.34, 68.18, 68.13, 68.58, 68.33, 68.5, 68.82, 68.82, 68.38, 68.18]}, {\"fill\": \"tozerox\", \"fillcolor\": \"rgba(160,82,45,0.25)\", \"legendgroup\": \"4 year growth\", \"line\": {\"color\": \"rgb(139,69,19)\", \"width\": 1}, \"mode\": \"lines\", \"name\": \"4 year growth\", \"showlegend\": false, \"type\": \"scatter\", \"x\": [0.0, 1.0, 2.0, 3.0, 4.0, 5.0, 6.0, 7.0, 8.0, 9.0, 10.0, 11.0, 12.0, 13.0, 14.0, 15.0, 16.0, 17.0, 18.0, 19.0, 19.0, 18.0, 17.0, 16.0, 15.0, 14.0, 13.0, 12.0, 11.0, 10.0, 9.0, 8.0, 7.0, 6.0, 5.0, 4.0, 3.0, 2.0, 1.0, 0.0], \"y\": [74.0, 79.0, 79.525, 79.525, 80.0, 80.05, 81.05, 79.0, 78.525, 75.0, 74.525, 74.525, 73.05, 73.0, 74.525, 74.525, 75.525, 75.0, 76.0, 77.525, 61.0, 60.475, 58.425, 60.475, 59.475, 60.0, 60.0, 59.0, 57.95, 57.425, 60.475, 61.0, 58.0, 60.475, 60.0, 61.475, 60.475, 63.0, 66.475, 74.0]}, {\"legendgroup\": \"4 year growth\", \"line\": {\"color\": \"rgb(139,69,19)\", \"width\": 2}, \"marker\": {\"size\": 4}, \"mode\": \"lines+markers\", \"name\": \"4 year growth\", \"showlegend\": true, \"type\": \"scatter\", \"x\": [0.0, 1.0, 2.0, 3.0, 4.0, 5.0, 6.0, 7.0, 8.0, 9.0, 10.0, 11.0, 12.0, 13.0, 14.0, 15.0, 16.0, 17.0, 18.0, 19.0], \"y\": [74.0, 72.62, 71.17, 70.05, 69.19, 68.18, 67.6, 67.56, 67.77, 67.33, 66.8, 66.34, 66.11, 66.25, 66.49, 66.99, 67.7, 67.99, 68.17, 67.96]}, {\"line\": {\"color\": \"blue\", \"dash\": \"dashdot\"}, \"marker\": {\"size\": 4}, \"mode\": \"lines+markers\", \"name\": \"Management Data\", \"type\": \"scatter\", \"x\": [0.0, 1.0, 2.0, 3.0, 4.0, 5.0, 6.0, 7.0, 8.0, 9.0, 10.0, 11.0, 12.0, 13.0, 14.0, 15.0, 16.0, 17.0, 18.0, 19.0], \"y\": [74.0, 71.0, 78.0, 78.0, 84.0, 85.0, 89.0, 86.0, 81.0, 83.0, 81.0, 82.0, 89.0, null, null, null, null, null, null, null]}],\n",
       "                        {\"height\": 800, \"paper_bgcolor\": \"rgb(255,255,255)\", \"plot_bgcolor\": \"rgb(255,255,255)\", \"template\": {\"data\": {\"bar\": [{\"error_x\": {\"color\": \"#2a3f5f\"}, \"error_y\": {\"color\": \"#2a3f5f\"}, \"marker\": {\"line\": {\"color\": \"#E5ECF6\", \"width\": 0.5}}, \"type\": \"bar\"}], \"barpolar\": [{\"marker\": {\"line\": {\"color\": \"#E5ECF6\", \"width\": 0.5}}, \"type\": \"barpolar\"}], \"carpet\": [{\"aaxis\": {\"endlinecolor\": \"#2a3f5f\", \"gridcolor\": \"white\", \"linecolor\": \"white\", \"minorgridcolor\": \"white\", \"startlinecolor\": \"#2a3f5f\"}, \"baxis\": {\"endlinecolor\": \"#2a3f5f\", \"gridcolor\": \"white\", \"linecolor\": \"white\", \"minorgridcolor\": \"white\", \"startlinecolor\": \"#2a3f5f\"}, \"type\": \"carpet\"}], \"choropleth\": [{\"colorbar\": {\"outlinewidth\": 0, \"ticks\": \"\"}, \"type\": \"choropleth\"}], \"contour\": [{\"colorbar\": {\"outlinewidth\": 0, \"ticks\": \"\"}, \"colorscale\": [[0.0, \"#0d0887\"], [0.1111111111111111, \"#46039f\"], [0.2222222222222222, \"#7201a8\"], [0.3333333333333333, \"#9c179e\"], [0.4444444444444444, \"#bd3786\"], [0.5555555555555556, \"#d8576b\"], [0.6666666666666666, \"#ed7953\"], [0.7777777777777778, \"#fb9f3a\"], [0.8888888888888888, \"#fdca26\"], [1.0, \"#f0f921\"]], \"type\": \"contour\"}], \"contourcarpet\": [{\"colorbar\": {\"outlinewidth\": 0, \"ticks\": \"\"}, \"type\": \"contourcarpet\"}], \"heatmap\": [{\"colorbar\": {\"outlinewidth\": 0, \"ticks\": \"\"}, \"colorscale\": [[0.0, \"#0d0887\"], [0.1111111111111111, \"#46039f\"], [0.2222222222222222, \"#7201a8\"], [0.3333333333333333, \"#9c179e\"], [0.4444444444444444, \"#bd3786\"], [0.5555555555555556, \"#d8576b\"], [0.6666666666666666, \"#ed7953\"], [0.7777777777777778, \"#fb9f3a\"], [0.8888888888888888, \"#fdca26\"], [1.0, \"#f0f921\"]], \"type\": \"heatmap\"}], \"heatmapgl\": [{\"colorbar\": {\"outlinewidth\": 0, \"ticks\": \"\"}, \"colorscale\": [[0.0, \"#0d0887\"], [0.1111111111111111, \"#46039f\"], [0.2222222222222222, \"#7201a8\"], [0.3333333333333333, \"#9c179e\"], [0.4444444444444444, \"#bd3786\"], [0.5555555555555556, \"#d8576b\"], [0.6666666666666666, \"#ed7953\"], [0.7777777777777778, \"#fb9f3a\"], [0.8888888888888888, \"#fdca26\"], [1.0, \"#f0f921\"]], \"type\": \"heatmapgl\"}], \"histogram\": [{\"marker\": {\"colorbar\": {\"outlinewidth\": 0, \"ticks\": \"\"}}, \"type\": \"histogram\"}], \"histogram2d\": [{\"colorbar\": {\"outlinewidth\": 0, \"ticks\": \"\"}, \"colorscale\": [[0.0, \"#0d0887\"], [0.1111111111111111, \"#46039f\"], [0.2222222222222222, \"#7201a8\"], [0.3333333333333333, \"#9c179e\"], [0.4444444444444444, \"#bd3786\"], [0.5555555555555556, \"#d8576b\"], [0.6666666666666666, \"#ed7953\"], [0.7777777777777778, \"#fb9f3a\"], [0.8888888888888888, \"#fdca26\"], [1.0, \"#f0f921\"]], \"type\": \"histogram2d\"}], \"histogram2dcontour\": [{\"colorbar\": {\"outlinewidth\": 0, \"ticks\": \"\"}, \"colorscale\": [[0.0, \"#0d0887\"], [0.1111111111111111, \"#46039f\"], [0.2222222222222222, \"#7201a8\"], [0.3333333333333333, \"#9c179e\"], [0.4444444444444444, \"#bd3786\"], [0.5555555555555556, \"#d8576b\"], [0.6666666666666666, \"#ed7953\"], [0.7777777777777778, \"#fb9f3a\"], [0.8888888888888888, \"#fdca26\"], [1.0, \"#f0f921\"]], \"type\": \"histogram2dcontour\"}], \"mesh3d\": [{\"colorbar\": {\"outlinewidth\": 0, \"ticks\": \"\"}, \"type\": \"mesh3d\"}], \"parcoords\": [{\"line\": {\"colorbar\": {\"outlinewidth\": 0, \"ticks\": \"\"}}, \"type\": \"parcoords\"}], \"scatter\": [{\"marker\": {\"colorbar\": {\"outlinewidth\": 0, \"ticks\": \"\"}}, \"type\": \"scatter\"}], \"scatter3d\": [{\"line\": {\"colorbar\": {\"outlinewidth\": 0, \"ticks\": \"\"}}, \"marker\": {\"colorbar\": {\"outlinewidth\": 0, \"ticks\": \"\"}}, \"type\": \"scatter3d\"}], \"scattercarpet\": [{\"marker\": {\"colorbar\": {\"outlinewidth\": 0, \"ticks\": \"\"}}, \"type\": \"scattercarpet\"}], \"scattergeo\": [{\"marker\": {\"colorbar\": {\"outlinewidth\": 0, \"ticks\": \"\"}}, \"type\": \"scattergeo\"}], \"scattergl\": [{\"marker\": {\"colorbar\": {\"outlinewidth\": 0, \"ticks\": \"\"}}, \"type\": \"scattergl\"}], \"scattermapbox\": [{\"marker\": {\"colorbar\": {\"outlinewidth\": 0, \"ticks\": \"\"}}, \"type\": \"scattermapbox\"}], \"scatterpolar\": [{\"marker\": {\"colorbar\": {\"outlinewidth\": 0, \"ticks\": \"\"}}, \"type\": \"scatterpolar\"}], \"scatterpolargl\": [{\"marker\": {\"colorbar\": {\"outlinewidth\": 0, \"ticks\": \"\"}}, \"type\": \"scatterpolargl\"}], \"scatterternary\": [{\"marker\": {\"colorbar\": {\"outlinewidth\": 0, \"ticks\": \"\"}}, \"type\": \"scatterternary\"}], \"surface\": [{\"colorbar\": {\"outlinewidth\": 0, \"ticks\": \"\"}, \"colorscale\": [[0.0, \"#0d0887\"], [0.1111111111111111, \"#46039f\"], [0.2222222222222222, \"#7201a8\"], [0.3333333333333333, \"#9c179e\"], [0.4444444444444444, \"#bd3786\"], [0.5555555555555556, \"#d8576b\"], [0.6666666666666666, \"#ed7953\"], [0.7777777777777778, \"#fb9f3a\"], [0.8888888888888888, \"#fdca26\"], [1.0, \"#f0f921\"]], \"type\": \"surface\"}], \"table\": [{\"cells\": {\"fill\": {\"color\": \"#EBF0F8\"}, \"line\": {\"color\": \"white\"}}, \"header\": {\"fill\": {\"color\": \"#C8D4E3\"}, \"line\": {\"color\": \"white\"}}, \"type\": \"table\"}]}, \"layout\": {\"annotationdefaults\": {\"arrowcolor\": \"#2a3f5f\", \"arrowhead\": 0, \"arrowwidth\": 1}, \"colorscale\": {\"diverging\": [[0, \"#8e0152\"], [0.1, \"#c51b7d\"], [0.2, \"#de77ae\"], [0.3, \"#f1b6da\"], [0.4, \"#fde0ef\"], [0.5, \"#f7f7f7\"], [0.6, \"#e6f5d0\"], [0.7, \"#b8e186\"], [0.8, \"#7fbc41\"], [0.9, \"#4d9221\"], [1, \"#276419\"]], \"sequential\": [[0.0, \"#0d0887\"], [0.1111111111111111, \"#46039f\"], [0.2222222222222222, \"#7201a8\"], [0.3333333333333333, \"#9c179e\"], [0.4444444444444444, \"#bd3786\"], [0.5555555555555556, \"#d8576b\"], [0.6666666666666666, \"#ed7953\"], [0.7777777777777778, \"#fb9f3a\"], [0.8888888888888888, \"#fdca26\"], [1.0, \"#f0f921\"]], \"sequentialminus\": [[0.0, \"#0d0887\"], [0.1111111111111111, \"#46039f\"], [0.2222222222222222, \"#7201a8\"], [0.3333333333333333, \"#9c179e\"], [0.4444444444444444, \"#bd3786\"], [0.5555555555555556, \"#d8576b\"], [0.6666666666666666, \"#ed7953\"], [0.7777777777777778, \"#fb9f3a\"], [0.8888888888888888, \"#fdca26\"], [1.0, \"#f0f921\"]]}, \"colorway\": [\"#636efa\", \"#EF553B\", \"#00cc96\", \"#ab63fa\", \"#FFA15A\", \"#19d3f3\", \"#FF6692\", \"#B6E880\", \"#FF97FF\", \"#FECB52\"], \"font\": {\"color\": \"#2a3f5f\"}, \"geo\": {\"bgcolor\": \"white\", \"lakecolor\": \"white\", \"landcolor\": \"#E5ECF6\", \"showlakes\": true, \"showland\": true, \"subunitcolor\": \"white\"}, \"hoverlabel\": {\"align\": \"left\"}, \"hovermode\": \"closest\", \"mapbox\": {\"style\": \"light\"}, \"paper_bgcolor\": \"white\", \"plot_bgcolor\": \"#E5ECF6\", \"polar\": {\"angularaxis\": {\"gridcolor\": \"white\", \"linecolor\": \"white\", \"ticks\": \"\"}, \"bgcolor\": \"#E5ECF6\", \"radialaxis\": {\"gridcolor\": \"white\", \"linecolor\": \"white\", \"ticks\": \"\"}}, \"scene\": {\"xaxis\": {\"backgroundcolor\": \"#E5ECF6\", \"gridcolor\": \"white\", \"gridwidth\": 2, \"linecolor\": \"white\", \"showbackground\": true, \"ticks\": \"\", \"zerolinecolor\": \"white\"}, \"yaxis\": {\"backgroundcolor\": \"#E5ECF6\", \"gridcolor\": \"white\", \"gridwidth\": 2, \"linecolor\": \"white\", \"showbackground\": true, \"ticks\": \"\", \"zerolinecolor\": \"white\"}, \"zaxis\": {\"backgroundcolor\": \"#E5ECF6\", \"gridcolor\": \"white\", \"gridwidth\": 2, \"linecolor\": \"white\", \"showbackground\": true, \"ticks\": \"\", \"zerolinecolor\": \"white\"}}, \"shapedefaults\": {\"line\": {\"color\": \"#2a3f5f\"}}, \"ternary\": {\"aaxis\": {\"gridcolor\": \"white\", \"linecolor\": \"white\", \"ticks\": \"\"}, \"baxis\": {\"gridcolor\": \"white\", \"linecolor\": \"white\", \"ticks\": \"\"}, \"bgcolor\": \"#E5ECF6\", \"caxis\": {\"gridcolor\": \"white\", \"linecolor\": \"white\", \"ticks\": \"\"}}, \"title\": {\"x\": 0.05}, \"xaxis\": {\"automargin\": true, \"gridcolor\": \"white\", \"linecolor\": \"white\", \"ticks\": \"\", \"zerolinecolor\": \"white\", \"zerolinewidth\": 2}, \"yaxis\": {\"automargin\": true, \"gridcolor\": \"white\", \"linecolor\": \"white\", \"ticks\": \"\", \"zerolinecolor\": \"white\", \"zerolinewidth\": 2}}}, \"title\": {\"text\": \"Comparison of Model 3 Growth Models: Department Size\"}, \"width\": 900, \"xaxis\": {\"gridcolor\": \"rgb(229,229,229)\", \"showgrid\": true, \"showline\": true, \"showticklabels\": true, \"tickcolor\": \"rgb(127,127,127)\", \"ticks\": \"outside\", \"title\": {\"text\": \"Year\"}, \"visible\": true, \"zeroline\": false}, \"yaxis\": {\"gridcolor\": \"rgb(229,229,229)\", \"showgrid\": true, \"showline\": true, \"showticklabels\": true, \"tickcolor\": \"rgb(127,127,127)\", \"ticks\": \"outside\", \"title\": {\"text\": \"Number of Faculty in the Department\"}, \"zeroline\": false}},\n",
       "                        {\"responsive\": true}\n",
       "                    ).then(function(){\n",
       "                            \n",
       "var gd = document.getElementById('0473e72f-aab3-4efc-94ef-613fea9b8a1b');\n",
       "var x = new MutationObserver(function (mutations, observer) {{\n",
       "        var display = window.getComputedStyle(gd).display;\n",
       "        if (!display || display === 'none') {{\n",
       "            console.log([gd, 'removed!']);\n",
       "            Plotly.purge(gd);\n",
       "            observer.disconnect();\n",
       "        }}\n",
       "}});\n",
       "\n",
       "// Listen for the removal of the full notebook cells\n",
       "var notebookContainer = gd.closest('#notebook-container');\n",
       "if (notebookContainer) {{\n",
       "    x.observe(notebookContainer, {childList: true});\n",
       "}}\n",
       "\n",
       "// Listen for the clearing of the current output cell\n",
       "var outputEl = gd.closest('.output');\n",
       "if (outputEl) {{\n",
       "    x.observe(outputEl, {childList: true});\n",
       "}}\n",
       "\n",
       "                        })\n",
       "                };\n",
       "                });\n",
       "            </script>\n",
       "        </div>"
      ]
     },
     "metadata": {},
     "output_type": "display_data"
    }
   ],
   "source": [
    "data = []\n",
    "linecolors = ['rgb(0,0,255)', 'rgb(0,128,0)', 'rgb(128,0,128)', 'rgb(139,69,19)']\n",
    "fillcolors = ['rgba(0,0,255,0.25)', 'rgba(0,128,0,0.25)', 'rgba(128,0,128,0.25)', 'rgba(160,82,45,0.25)']\n",
    "\n",
    "for k,v in enumerate(results.mlist):\n",
    "    data.append(go.Scatter(\n",
    "        x=np.append(v.summary_matrix['yr'], v.summary_matrix['yr'].values[::-1]),\n",
    "        y=np.append(v.summary_matrix['deptn_975'], v.summary_matrix['deptn_025'].values[::-1]),\n",
    "        fill='tozerox',\n",
    "        fillcolor=fillcolors[k],\n",
    "        line=dict(color=linecolors[k],\n",
    "                 width=1),\n",
    "        legendgroup=legend_labels[k],\n",
    "        showlegend=False,\n",
    "        mode='lines',\n",
    "        name=legend_labels[k],\n",
    "    ))\n",
    "\n",
    "    data.append(go.Scatter(\n",
    "        x=v.summary_matrix['yr'],\n",
    "        y=v.summary_matrix['deptn_avg'],\n",
    "        line=dict(color=linecolors[k],\n",
    "                 width=2),\n",
    "        legendgroup=legend_labels[k],\n",
    "        showlegend=True,\n",
    "        marker=dict(\n",
    "            size=4),\n",
    "        mode='lines+markers',\n",
    "        name=legend_labels[k],\n",
    "    ))\n",
    "\n",
    "\n",
    "data.append(go.Scatter(\n",
    "    x=v.summary_matrix['yr'], \n",
    "    y=v.summary_matrix['act_deptn'],\n",
    "    line=dict(color='blue',\n",
    "             dash='dashdot'),\n",
    "    name='Management Data',\n",
    "    mode='lines+markers',\n",
    "    marker=dict(\n",
    "        size=4),\n",
    "\n",
    "))\n",
    "    \n",
    "layout = go.Layout(\n",
    "    title='Comparison of Model 3 Growth Models: Department Size',\n",
    "    height=800,\n",
    "    width=900,\n",
    "    paper_bgcolor='rgb(255,255,255)',\n",
    "    plot_bgcolor='rgb(255,255,255)',\n",
    "    xaxis=dict(\n",
    "        visible=True,\n",
    "        title='Year',\n",
    "        gridcolor='rgb(229,229,229)',\n",
    "        showgrid=True,\n",
    "        showline=True,\n",
    "        showticklabels=True,\n",
    "        tickcolor='rgb(127,127,127)',\n",
    "        ticks='outside',\n",
    "        zeroline=False\n",
    "    ),\n",
    "    yaxis=dict(\n",
    "        title='Number of Faculty in the Department',\n",
    "        gridcolor='rgb(229,229,229)',\n",
    "        showgrid=True,\n",
    "        showline=True,\n",
    "        showticklabels=True,\n",
    "        tickcolor='rgb(127,127,127)',\n",
    "        ticks='outside',\n",
    "        zeroline=False\n",
    "    ),\n",
    ")\n",
    "fig = go.Figure(data=data, layout=layout)\n",
    "plotly.offline.iplot(fig, filename= 'shaded_lines')\n",
    "\n",
    "# export image for ingestion to pdf file.\n",
    "# if not os.path.exists('images'):\n",
    "#     os.mkdir('images')\n",
    "# pio.write_image(fig, 'images/dept_size_plot.png')"
   ]
  },
  {
   "cell_type": "code",
   "execution_count": 22,
   "metadata": {
    "hide_input": true,
    "tags": [
     "plotcell"
    ]
   },
   "outputs": [],
   "source": [
    "linecolors = ['blue', 'green', 'purple', 'brown']\n",
    "legend_labels = ['no growth', 'linear growth', '3 year growth', '4 year growth']\n",
    "\n",
    "plt.figure(figsize=(12,12))\n",
    "\n",
    "for k,v in enumerate(results.mlist):\n",
    "    plt.plot(\n",
    "             v.summary_matrix['yr'], \n",
    "             v.summary_matrix['deptn_avg'],\n",
    "             linewidth=2,\n",
    "             color=linecolors[k],\n",
    "             label=legend_labels[k],\n",
    "             marker=\"o\",\n",
    "            )\n",
    "    plt.fill_between(\n",
    "             v.summary_matrix['yr'],\n",
    "             v.summary_matrix['deptn_975'],\n",
    "             v.summary_matrix['deptn_025'],\n",
    "             alpha=0.25,\n",
    "             facecolor=linecolors[k]\n",
    "            )\n",
    "\n",
    "plt.plot(\n",
    "        v.summary_matrix['yr'],\n",
    "        v.summary_matrix['act_deptn'],\n",
    "        color='blue',\n",
    "        linewidth=2,\n",
    "        linestyle='-.',\n",
    "        label='Management Data')\n",
    "    \n",
    "plt.title('Comparison of Model 3 Growth Models: Department Size', fontsize=20)\n",
    "plt.xlabel('Year', fontsize=16)\n",
    "plt.ylabel('Number of Faculty in the Department', fontsize=16)\n",
    "plt.legend(loc='upper right', fontsize=16)\n",
    "if not os.path.exists('images'):\n",
    "    os.mkdir('images')\n",
    "plt.savefig('images/dept_size_plot.png')\n",
    "plt.close()"
   ]
  },
  {
   "cell_type": "markdown",
   "metadata": {},
   "source": [
    "# Data Export\n",
    "\n",
    "This section of the notebook allows the user to export data do CSV format. "
   ]
  },
  {
   "cell_type": "code",
   "execution_count": 12,
   "metadata": {
    "hide_input": false,
    "tags": [
     "widget_display"
    ]
   },
   "outputs": [
    {
     "data": {
      "application/vnd.jupyter.widget-view+json": {
       "model_id": "50ac18102d274b3c9f229c3b3ebec381",
       "version_major": 2,
       "version_minor": 0
      },
      "text/plain": [
       "HBox(children=(Button(description='Export No Growth Model', icon='check', style=ButtonStyle(), tooltip='Export…"
      ]
     },
     "metadata": {},
     "output_type": "display_data"
    }
   ],
   "source": [
    "display(button_panel)"
   ]
  },
  {
   "cell_type": "markdown",
   "metadata": {
    "hide_input": true
   },
   "source": [
    "## PDF Export\n",
    "The button below will export the notebook data as a PDF file."
   ]
  },
  {
   "cell_type": "code",
   "execution_count": 13,
   "metadata": {
    "hide_input": true,
    "scrolled": true,
    "tags": [
     "widget_display"
    ]
   },
   "outputs": [
    {
     "data": {
      "application/vnd.jupyter.widget-view+json": {
       "model_id": "ce316191c5e641b682df9f926b200856",
       "version_major": 2,
       "version_minor": 0
      },
      "text/plain": [
       "Button(description='Generate PDF', style=ButtonStyle())"
      ]
     },
     "metadata": {},
     "output_type": "display_data"
    }
   ],
   "source": [
    "from IPython.display import display\n",
    "button = widgets.Button(description=\"Generate PDF\")\n",
    "display(button)\n",
    "\n",
    "def on_button_clicked(b):\n",
    "    \n",
    "    # TODO pull the dictionary with model settings and use it to populate Jinja 2 template\n",
    "    data_for_pdf = data_mgmt\n",
    "    data_for_pdf['date_time'] = model_no_growth.model_run_date_time\n",
    "    report_filename = 'pdf_exports/simulation_report'+ model_no_growth.model_run_date_time + '.pdf'\n",
    "    file_loader = FileSystemLoader('./styles')\n",
    "    env = Environment(loader=file_loader)\n",
    "    template = env.get_template('simulation_report.md')\n",
    "    output = template.render(data_for_pdf)\n",
    "    with open(\"styles/temp_simulation_report.md\", \"w\") as fh:\n",
    "        fh.write(output)\n",
    "        \n",
    "    subprocess.run(['md2pdf', 'styles/temp_simulation_report.md', report_filename])\n",
    "    os.remove('styles/temp_simulation_report.md')\n",
    "    print(\"PDF Generated\")\n",
    "button.on_click(on_button_clicked)\n"
   ]
  },
  {
   "cell_type": "markdown",
   "metadata": {
    "hide_input": false
   },
   "source": [
    "# Notebook Settings"
   ]
  },
  {
   "cell_type": "code",
   "execution_count": 1,
   "metadata": {
    "hide_input": true,
    "init_cell": true,
    "scrolled": false
   },
   "outputs": [
    {
     "data": {
      "text/html": [
       "        <script type=\"text/javascript\">\n",
       "        window.PlotlyConfig = {MathJaxConfig: 'local'};\n",
       "        if (window.MathJax) {MathJax.Hub.Config({SVG: {font: \"STIX-Web\"}});}\n",
       "        if (typeof require !== 'undefined') {\n",
       "        require.undef(\"plotly\");\n",
       "        requirejs.config({\n",
       "            paths: {\n",
       "                'plotly': ['https://cdn.plot.ly/plotly-latest.min']\n",
       "            }\n",
       "        });\n",
       "        require(['plotly'], function(Plotly) {\n",
       "            window._Plotly = Plotly;\n",
       "        });\n",
       "        }\n",
       "        </script>\n",
       "        "
      ]
     },
     "metadata": {},
     "output_type": "display_data"
    }
   ],
   "source": [
    "from ipywidgets import interact, interactive, fixed, interact_manual\n",
    "import ipywidgets as widgets\n",
    "from ipywidgets import Textarea, VBox\n",
    "from IPython.display import display, HTML, clear_output\n",
    "from IPython.core.display import Javascript\n",
    "from IPython.display import display\n",
    "import os\n",
    "import numpy as np\n",
    "import pandas as pd\n",
    "import pyugend2\n",
    "import time\n",
    "import datetime\n",
    "import builtins\n",
    "from IPython.lib import deepreload\n",
    "builtins.reload = deepreload.reload\n",
    "from IPython.display import display\n",
    "import math\n",
    "import datetime\n",
    "from IPython.display import Image\n",
    "import warnings\n",
    "warnings.filterwarnings('ignore')\n",
    "from fitter import Fitter\n",
    "%reload_ext autoreload\n",
    "import plotly\n",
    "import chart_studio.plotly as py\n",
    "import plotly.graph_objs as go\n",
    "plotly.offline.init_notebook_mode(connected=True)\n",
    "import plotly.io as pio\n",
    "import matplotlib.pyplot as plt\n",
    "\n",
    "plotly.__version__\n",
    "\n",
    "from jinja2 import Environment, FileSystemLoader\n",
    "import subprocess"
   ]
  },
  {
   "cell_type": "markdown",
   "metadata": {
    "hide_input": true
   },
   "source": [
    "## Initialize Widgets "
   ]
  },
  {
   "cell_type": "markdown",
   "metadata": {
    "hide_input": true
   },
   "source": [
    "## Widget setup\n",
    "\n"
   ]
  },
  {
   "cell_type": "markdown",
   "metadata": {
    "hide_input": true
   },
   "source": [
    "### Model Settings Widget"
   ]
  },
  {
   "cell_type": "code",
   "execution_count": 2,
   "metadata": {
    "hide_input": false,
    "init_cell": true
   },
   "outputs": [],
   "source": [
    "%run growth_files/widgets_settings.py\n"
   ]
  },
  {
   "cell_type": "code",
   "execution_count": 3,
   "metadata": {
    "hide_input": false,
    "init_cell": true,
    "tags": [
     "widget_input_refresh"
    ]
   },
   "outputs": [],
   "source": [
    "def create_widgets_tab():\n",
    "    tab_contents = ['P0', 'P1', 'P2', 'P3', 'P4']\n",
    "    tabnames = ['numbers',\n",
    "               'attrition',\n",
    "               'hiring',\n",
    "               'promotion',\n",
    "               'model settings',\n",
    "               'growth settings']\n",
    "    children = [widgets.Text(description=name) for name in tab_contents]\n",
    "    tab = widgets.Tab()\n",
    "    tab.children = [numbers_widget, \n",
    "                    attrition_widget, \n",
    "                    hiring_widget, \n",
    "                    promotion_widget, \n",
    "                    model_settings_widget, \n",
    "                    growth_rate_widget]\n",
    "\n",
    "    for i in range(len(tabnames)):\n",
    "        tab.set_title(i, tabnames[i])\n",
    "    return tab\n",
    "\n",
    "tab = create_widgets_tab()\n",
    "\n",
    "# Handler to connect change in duration to change in tab.\n",
    "def handle_growth_widget_change(change):\n",
    "    display(Javascript(\"window.runGrowthEventHandler()\"))\n",
    "    tab = create_widgets_tab()\n",
    "    \n",
    "def handle_update_average_rates(change):\n",
    "    avg = round(np.mean([attrition_dict[k].value for k in widget_sequence]), 4) \n",
    "    attrition_dict['avgl'].value = str(avg)\n",
    "\n",
    "model_settings_dict['duration'].observe(handle_growth_widget_change, names='value')\n",
    "\n",
    "for k in widget_sequence:\n",
    "    attrition_dict[k].observe(handle_update_average_rates, names='value')\n",
    "\n",
    "# disable hiring_dict and promotion_dict from displaying in the widgets box.\n",
    "hiring_dict['avgl'].value = ''\n",
    "hiring_dict['avgll'].value = ''\n",
    "hiring_dict['davgl'].value = ''\n",
    "hiring_dict['davgll'].value = ''\n",
    "\n",
    "promotion_dict['avgl'].value = ''\n",
    "promotion_dict['avgll'].value = ''\n",
    "promotion_dict['davgl'].value = ''\n",
    "promotion_dict['davgll'].value = ''\n",
    "\n",
    "annotation_text = Textarea(layout={'height': '100%'})\n",
    "annotation_box = VBox([annotation_text], layout={'height': '300px'})"
   ]
  },
  {
   "cell_type": "markdown",
   "metadata": {
    "hide_input": false
   },
   "source": [
    "### Model Confirmation Widget"
   ]
  },
  {
   "cell_type": "code",
   "execution_count": 4,
   "metadata": {
    "hide_input": false,
    "init_cell": true
   },
   "outputs": [],
   "source": [
    "def execute_models(b):\n",
    "    display(Javascript(\"window.runSimulation()\"))\n",
    "    display(Javascript(\"window.runPlotCells()\"))\n",
    "    display(Javascript(\"window.runCSVCodeRefresh()\"))\n",
    "    display(Javascript(\"window.runCSVWidgetRefresh()\"))\n",
    "def get_widget_data(b):\n",
    "    clear_output()\n",
    "    model_settings = display_model_settings()\n",
    "    growth_settings = display_growth_settings()\n",
    "    sim_settings = display_simulation_settings()\n",
    "    simulation_settings_label = widgets.Label(value='Simulation Settings')\n",
    "    growth_settings_label = widgets.Label(value='Growth Settings')\n",
    "    all_settings_tab = widgets.VBox([model_settings,\n",
    "                                     simulation_settings_label,\n",
    "                                     sim_settings,\n",
    "                                     growth_settings_label,\n",
    "                                     growth_settings])\n",
    "    tab_contents = ['P0', 'P1', 'P2']\n",
    "    tabnames = ['Model Settings',\n",
    "                'Simulation Settings',\n",
    "                'Model Choices']\n",
    "    children = [widgets.Text(description=name) for name in tab_contents]\n",
    "    confirm_tab = widgets.Tab()\n",
    "    confirm_tab.children = [all_settings_tab]\n",
    "\n",
    "    for i in range(len(tabnames)):\n",
    "        confirm_tab.set_title(i, tabnames[i])\n",
    "    display(buttons)\n",
    "    display(confirm_tab)\n",
    "    \n",
    "# Create button widgets for Showing, Confirming, and Executing models.\n",
    "button_model_settings = widgets.Button(description=\"Show Model Settings\")\n",
    "button_model_settings.on_click(get_widget_data)\n",
    "button_confirm = widgets.Button(description='Save and Execute')\n",
    "button_confirm.on_click(execute_models)\n",
    "buttons = widgets.HBox([button_model_settings, button_confirm])"
   ]
  },
  {
   "cell_type": "markdown",
   "metadata": {
    "hide_input": true
   },
   "source": [
    "### Data Export Widget"
   ]
  },
  {
   "cell_type": "code",
   "execution_count": 5,
   "metadata": {
    "hide_input": false,
    "init_cell": true
   },
   "outputs": [],
   "source": [
    "%run growth_files/widgets_data_export.py"
   ]
  },
  {
   "cell_type": "code",
   "execution_count": 23,
   "metadata": {
    "hide_input": false,
    "init_cell": true,
    "tags": [
     "csv_export_code"
    ]
   },
   "outputs": [],
   "source": [
    "\n",
    "\n",
    "data_export_button_dict, button_panel = data_export_widget()\n",
    "\n",
    "def on_button_clicked_no_growth(b):\n",
    "    d = model_no_growth.model_run_date_time\n",
    "    filename = 'csv_exports/no_growth_summary'+d+'.csv'\n",
    "    filename2 = 'csv_exports/no_growth_model_data'+d+'.csv'\n",
    "    model_no_growth.summary_matrix.to_csv(filename, index=False, header=True)\n",
    "    t = model_no_growth.simulation_matrix.to_dataframe('results').unstack()\n",
    "    t.columns = t.columns.droplevel(0)\n",
    "    t.loc[:,'notes'] = model_no_growth.annotation\n",
    "    t.reset_index().to_csv(filename2, index=False, header=True)\n",
    "    \n",
    "def on_button_clicked_linear_growth(b):\n",
    "    d = model_linear_growth.model_run_date_time\n",
    "    filename = 'csv_exports/linear_growth_summary'+d+'.csv'\n",
    "    filename2 = 'csv_exports/linear_growth_model_data'+d+'.csv'\n",
    "    model_linear_growth.summary_matrix.to_csv(filename, index=False, header=True)\n",
    "    t = model_linear_growth.simulation_matrix.to_dataframe('results').unstack()\n",
    "    t.columns = t.columns.droplevel(0)\n",
    "    t.loc[:,'notes'] = model_linear_growth.annotation\n",
    "    t.reset_index().to_csv(filename2, index=False, header=True)\n",
    "    \n",
    "def on_button_clicked_3yr_growth(b):\n",
    "    d = model_3yr_growth_rate.model_run_date_time\n",
    "    filename = 'csv_exports/model_3yr_growth_summary'+d+'.csv'\n",
    "    filename2 = 'csv_exports/model_3yr_growth_data'+d+'.csv'\n",
    "    model_3yr_growth_rate.summary_matrix.to_csv(filename, index=False, header=True)\n",
    "    t = model_3yr_growth_rate.simulation_matrix.to_dataframe('results').unstack()\n",
    "    t.columns = t.columns.droplevel(0)\n",
    "    t.loc[:,'notes'] = model_3yr_growth_rate.annotation\n",
    "    t.reset_index().to_csv(filename2, index=False, header=True)    \n",
    "    \n",
    "def on_button_clicked_4yr_growth(b):\n",
    "    d = model_4yr_growth_rate.model_run_date_time\n",
    "    filename = 'csv_exports/model_4yr_growth_summary'+d+'.csv'\n",
    "    filename2 = 'csv_exports/model_4yr_growth_data'+d+'.csv'\n",
    "    model_4yr_growth_rate.summary_matrix.to_csv(filename, index=False, header=True)\n",
    "    t = model_4yr_growth_rate.simulation_matrix.to_dataframe('results').unstack()\n",
    "    t.columns = t.columns.droplevel(0)\n",
    "    t.loc[:,'notes'] = model_3yr_growth_rate.annotation\n",
    "    t.reset_index().to_csv(filename2, index=False, header=True)\n",
    "    \n",
    "data_export_button_dict['button_no_growth'].on_click(on_button_clicked_no_growth)    \n",
    "data_export_button_dict['button_linear_growth'].on_click(on_button_clicked_linear_growth)    \n",
    "data_export_button_dict['button_3yr_growth'].on_click(on_button_clicked_3yr_growth)    \n",
    "data_export_button_dict['button_4yr_growth'].on_click(on_button_clicked_4yr_growth)    \n"
   ]
  },
  {
   "cell_type": "markdown",
   "metadata": {},
   "source": [
    "# Auxillary functions\n"
   ]
  },
  {
   "cell_type": "code",
   "execution_count": 7,
   "metadata": {
    "hide_input": false,
    "init_cell": true
   },
   "outputs": [
    {
     "data": {
      "application/javascript": [
       "window.findCellIndicesByTag = function findCellIndicesByTag(tagName) {\n",
       "  return (Jupyter.notebook.get_cells()\n",
       "    .filter(\n",
       "      ({metadata: {tags}}) => tags && tags.includes(tagName)\n",
       "    )\n",
       "    .map((cell) => Jupyter.notebook.find_cell_index(cell))\n",
       "  );\n",
       "};\n",
       "\n",
       "window.runPlotCells = function runPlotCells() {\n",
       "    var c = window.findCellIndicesByTag('plotcell');\n",
       "    Jupyter.notebook.execute_cells(c);\n",
       "};\n",
       "\n",
       "window.runWidgetCells = function runWidgetCells() {\n",
       "    var c = window.findCellIndicesByTag('widget_setup');\n",
       "    Jupyter.notebook.execute_cells(c);\n",
       "};\n",
       "\n",
       "window.runWidgetDisplay = function runWidgetDisplay() {\n",
       "    var c = window.findCellIndicesByTag('widget_display');\n",
       "    Jupyter.notebook.execute_cells(c);\n",
       "};\n",
       "\n",
       "window.runGrowthEventHandler = function runGrowthEventHandler() {\n",
       "    var c = window.findCellIndicesByTag('growth_event_handler');\n",
       "    Jupyter.notebook.execute_cells(c);\n",
       "};\n",
       "\n",
       "window.runGrowthWidgetRefresh = function runGrowthWidgetRefresh() {\n",
       "    var c = window.findCellIndicesByTag('widget_input_refresh');\n",
       "    Jupyter.notebook.execute_cells(c);\n",
       "};\n",
       "\n",
       "window.runSimulation = function runSimulation() {\n",
       "    var c = window.findCellIndicesByTag('run_simulation');\n",
       "    Jupyter.notebook.execute_cells(c);\n",
       "};\n",
       "\n",
       "window.runCSVCodeRefresh = function runCSVCodeRefresh() {\n",
       "    var c = window.findCellIndicesByTag('csv_export_code');\n",
       "    Jupyter.notebook.execute_cells(c);\n",
       "};\n",
       "\n",
       "window.runCSVWidgetRefresh = function runCSVWidgetRefresh() {\n",
       "    var c = window.findCellIndicesByTag('csv_export_widget');\n",
       "    Jupyter.notebook.execute_cells(c);\n",
       "};\n"
      ],
      "text/plain": [
       "<IPython.core.display.Javascript object>"
      ]
     },
     "metadata": {},
     "output_type": "display_data"
    }
   ],
   "source": [
    "%%javascript\n",
    "window.findCellIndicesByTag = function findCellIndicesByTag(tagName) {\n",
    "  return (Jupyter.notebook.get_cells()\n",
    "    .filter(\n",
    "      ({metadata: {tags}}) => tags && tags.includes(tagName)\n",
    "    )\n",
    "    .map((cell) => Jupyter.notebook.find_cell_index(cell))\n",
    "  );\n",
    "};\n",
    "\n",
    "window.runPlotCells = function runPlotCells() {\n",
    "    var c = window.findCellIndicesByTag('plotcell');\n",
    "    Jupyter.notebook.execute_cells(c);\n",
    "};\n",
    "\n",
    "window.runWidgetCells = function runWidgetCells() {\n",
    "    var c = window.findCellIndicesByTag('widget_setup');\n",
    "    Jupyter.notebook.execute_cells(c);\n",
    "};\n",
    "\n",
    "window.runWidgetDisplay = function runWidgetDisplay() {\n",
    "    var c = window.findCellIndicesByTag('widget_display');\n",
    "    Jupyter.notebook.execute_cells(c);\n",
    "};\n",
    "\n",
    "window.runGrowthEventHandler = function runGrowthEventHandler() {\n",
    "    var c = window.findCellIndicesByTag('growth_event_handler');\n",
    "    Jupyter.notebook.execute_cells(c);\n",
    "};\n",
    "\n",
    "window.runGrowthWidgetRefresh = function runGrowthWidgetRefresh() {\n",
    "    var c = window.findCellIndicesByTag('widget_input_refresh');\n",
    "    Jupyter.notebook.execute_cells(c);\n",
    "};\n",
    "\n",
    "window.runSimulation = function runSimulation() {\n",
    "    var c = window.findCellIndicesByTag('run_simulation');\n",
    "    Jupyter.notebook.execute_cells(c);\n",
    "};\n",
    "\n",
    "window.runCSVCodeRefresh = function runCSVCodeRefresh() {\n",
    "    var c = window.findCellIndicesByTag('csv_export_code');\n",
    "    Jupyter.notebook.execute_cells(c);\n",
    "};\n",
    "\n",
    "window.runCSVWidgetRefresh = function runCSVWidgetRefresh() {\n",
    "    var c = window.findCellIndicesByTag('csv_export_widget');\n",
    "    Jupyter.notebook.execute_cells(c);\n",
    "};"
   ]
  },
  {
   "cell_type": "code",
   "execution_count": 80,
   "metadata": {
    "hide_input": false,
    "tags": [
     "growth_event_handler"
    ]
   },
   "outputs": [
    {
     "data": {
      "application/javascript": [
       "window.runGrowthWidgetRefresh()"
      ],
      "text/plain": [
       "<IPython.core.display.Javascript object>"
      ]
     },
     "metadata": {},
     "output_type": "display_data"
    },
    {
     "data": {
      "application/javascript": [
       "window.runWidgetDisplay()"
      ],
      "text/plain": [
       "<IPython.core.display.Javascript object>"
      ]
     },
     "metadata": {},
     "output_type": "display_data"
    }
   ],
   "source": [
    "growth_rate_dict, growth_rate_widget = growth_widget_panel(model_settings_dict['duration'].value)\n",
    "display(Javascript(\"window.runGrowthWidgetRefresh()\"))\n",
    "display(Javascript(\"window.runWidgetDisplay()\"))"
   ]
  },
  {
   "cell_type": "code",
   "execution_count": 8,
   "metadata": {
    "hide_input": false,
    "init_cell": true
   },
   "outputs": [
    {
     "data": {
      "application/javascript": [
       "window.runWidgetCells()"
      ],
      "text/plain": [
       "<IPython.core.display.Javascript object>"
      ]
     },
     "metadata": {},
     "output_type": "display_data"
    },
    {
     "data": {
      "application/javascript": [
       "window.runWidgetDisplay()"
      ],
      "text/plain": [
       "<IPython.core.display.Javascript object>"
      ]
     },
     "metadata": {},
     "output_type": "display_data"
    }
   ],
   "source": [
    "display(Javascript(\"window.runWidgetCells()\"))\n",
    "display(Javascript(\"window.runWidgetDisplay()\"))\n"
   ]
  }
 ],
 "metadata": {
  "celltoolbar": "Tags",
  "kernelspec": {
   "display_name": "Python 3",
   "language": "python",
   "name": "python3"
  },
  "language_info": {
   "codemirror_mode": {
    "name": "ipython",
    "version": 3
   },
   "file_extension": ".py",
   "mimetype": "text/x-python",
   "name": "python",
   "nbconvert_exporter": "python",
   "pygments_lexer": "ipython3",
   "version": "3.7.4"
  },
  "latex_envs": {
   "LaTeX_envs_menu_present": true,
   "autoclose": false,
   "autocomplete": true,
   "bibliofile": "biblio.bib",
   "cite_by": "apalike",
   "current_citInitial": 1,
   "eqLabelWithNumbers": true,
   "eqNumInitial": 1,
   "hotkeys": {
    "equation": "Ctrl-E",
    "itemize": "Ctrl-I"
   },
   "labels_anchors": false,
   "latex_user_defs": false,
   "report_style_numbering": false,
   "user_envs_cfg": false
  },
  "toc": {
   "base_numbering": 1,
   "nav_menu": {},
   "number_sections": true,
   "sideBar": true,
   "skip_h1_title": false,
   "title_cell": "Table of Contents",
   "title_sidebar": "Contents",
   "toc_cell": true,
   "toc_position": {
    "height": "calc(100% - 180px)",
    "left": "10px",
    "top": "150px",
    "width": "165px"
   },
   "toc_section_display": false,
   "toc_window_display": false
  },
  "toc_position": {
   "left": "-4.65625px",
   "right": "20px",
   "top": "113px",
   "width": "300px"
  }
 },
 "nbformat": 4,
 "nbformat_minor": 2
}
