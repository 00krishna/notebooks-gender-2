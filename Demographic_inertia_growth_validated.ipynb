{
 "cells": [
  {
   "cell_type": "markdown",
   "metadata": {
    "toc": "true"
   },
   "source": [
    "<h1>Table of Contents<span class=\"tocSkip\"></span></h1>\n",
    "<div class=\"toc\"><ul class=\"toc-item\"><li><span><a href=\"#Set-Model-Parameters\" data-toc-modified-id=\"Set-Model-Parameters-1\"><span class=\"toc-item-num\">1&nbsp;&nbsp;</span>Set Model Parameters</a></span></li><li><span><a href=\"#Notes\" data-toc-modified-id=\"Notes-2\"><span class=\"toc-item-num\">2&nbsp;&nbsp;</span>Notes</a></span></li><li><span><a href=\"#Confirm-Model-Settings-and-Execute-Simulation\" data-toc-modified-id=\"Confirm-Model-Settings-and-Execute-Simulation-3\"><span class=\"toc-item-num\">3&nbsp;&nbsp;</span>Confirm Model Settings and Execute Simulation</a></span></li><li><span><a href=\"#Simulation-Results\" data-toc-modified-id=\"Simulation-Results-4\"><span class=\"toc-item-num\">4&nbsp;&nbsp;</span>Simulation Results</a></span><ul class=\"toc-item\"><li><span><a href=\"#Comparison-of-Model-3-Growth-Models:-Change-in-Proportion-of-Women\" data-toc-modified-id=\"Comparison-of-Model-3-Growth-Models:-Change-in-Proportion-of-Women-4.1\"><span class=\"toc-item-num\">4.1&nbsp;&nbsp;</span>Comparison of Model 3 Growth Models: Change in Proportion of Women</a></span></li><li><span><a href=\"#Comparison-of-Model-3-Growth-Models:-Probability-of-Achieving-25%-Women\" data-toc-modified-id=\"Comparison-of-Model-3-Growth-Models:-Probability-of-Achieving-25%-Women-4.2\"><span class=\"toc-item-num\">4.2&nbsp;&nbsp;</span>Comparison of Model 3 Growth Models: Probability of Achieving 25% Women</a></span></li><li><span><a href=\"#Comparison-of-Model-3-Growth-Models:-Change-in-Number-Women,-Model-3\" data-toc-modified-id=\"Comparison-of-Model-3-Growth-Models:-Change-in-Number-Women,-Model-3-4.3\"><span class=\"toc-item-num\">4.3&nbsp;&nbsp;</span>Comparison of Model 3 Growth Models: Change in Number Women, Model 3</a></span></li><li><span><a href=\"#Comparison-of-Model-3-Growth-Models:-Department-Size\" data-toc-modified-id=\"Comparison-of-Model-3-Growth-Models:-Department-Size-4.4\"><span class=\"toc-item-num\">4.4&nbsp;&nbsp;</span>Comparison of Model 3 Growth Models: Department Size</a></span></li></ul></li><li><span><a href=\"#Data-Export\" data-toc-modified-id=\"Data-Export-5\"><span class=\"toc-item-num\">5&nbsp;&nbsp;</span>Data Export</a></span><ul class=\"toc-item\"><li><span><a href=\"#PDF-Export\" data-toc-modified-id=\"PDF-Export-5.1\"><span class=\"toc-item-num\">5.1&nbsp;&nbsp;</span>PDF Export</a></span></li></ul></li><li><span><a href=\"#Notebook-Settings\" data-toc-modified-id=\"Notebook-Settings-6\"><span class=\"toc-item-num\">6&nbsp;&nbsp;</span>Notebook Settings</a></span><ul class=\"toc-item\"><li><span><a href=\"#Initialize-Widgets\" data-toc-modified-id=\"Initialize-Widgets-6.1\"><span class=\"toc-item-num\">6.1&nbsp;&nbsp;</span>Initialize Widgets</a></span></li><li><span><a href=\"#Widget-setup\" data-toc-modified-id=\"Widget-setup-6.2\"><span class=\"toc-item-num\">6.2&nbsp;&nbsp;</span>Widget setup</a></span><ul class=\"toc-item\"><li><span><a href=\"#Model-Settings-Widget\" data-toc-modified-id=\"Model-Settings-Widget-6.2.1\"><span class=\"toc-item-num\">6.2.1&nbsp;&nbsp;</span>Model Settings Widget</a></span></li><li><span><a href=\"#Model-Confirmation-Widget\" data-toc-modified-id=\"Model-Confirmation-Widget-6.2.2\"><span class=\"toc-item-num\">6.2.2&nbsp;&nbsp;</span>Model Confirmation Widget</a></span></li><li><span><a href=\"#Data-Export-Widget\" data-toc-modified-id=\"Data-Export-Widget-6.2.3\"><span class=\"toc-item-num\">6.2.3&nbsp;&nbsp;</span>Data Export Widget</a></span></li></ul></li></ul></li><li><span><a href=\"#Auxillary-functions\" data-toc-modified-id=\"Auxillary-functions-7\"><span class=\"toc-item-num\">7&nbsp;&nbsp;</span>Auxillary functions</a></span></li></ul></div>"
   ]
  },
  {
   "cell_type": "markdown",
   "metadata": {
    "hide_input": false
   },
   "source": [
    "# Set Model Parameters "
   ]
  },
  {
   "cell_type": "code",
   "execution_count": null,
   "metadata": {
    "hide_input": false,
    "scrolled": true,
    "tags": [
     "widget_display",
     "widget_input_refresh"
    ]
   },
   "outputs": [],
   "source": [
    "display(tab)"
   ]
  },
  {
   "cell_type": "markdown",
   "metadata": {
    "hide_input": true
   },
   "source": [
    "# Notes "
   ]
  },
  {
   "cell_type": "code",
   "execution_count": null,
   "metadata": {
    "hide_input": false,
    "scrolled": false,
    "tags": [
     "widget_display"
    ]
   },
   "outputs": [],
   "source": [
    "display(annotation_box)"
   ]
  },
  {
   "cell_type": "markdown",
   "metadata": {
    "hide_input": false
   },
   "source": [
    "# Confirm Model Settings and Execute Simulation\n"
   ]
  },
  {
   "cell_type": "code",
   "execution_count": null,
   "metadata": {
    "hide_input": false,
    "scrolled": false,
    "tags": [
     "widget_display"
    ]
   },
   "outputs": [],
   "source": [
    "display(buttons)"
   ]
  },
  {
   "cell_type": "code",
   "execution_count": 9,
   "metadata": {
    "hide_input": false,
    "scrolled": false,
    "tags": [
     "run_simulation"
    ]
   },
   "outputs": [
    {
     "name": "stderr",
     "output_type": "stream",
     "text": [
      " 97%|█████████▋| 97/100 [01:17<00:02,  1.25it/s]"
     ]
    },
    {
     "ename": "KeyboardInterrupt",
     "evalue": "",
     "output_type": "error",
     "traceback": [
      "\u001b[0;31m---------------------------------------------------------------------------\u001b[0m",
      "\u001b[0;31mKeyboardInterrupt\u001b[0m                         Traceback (most recent call last)",
      "\u001b[0;32m<ipython-input-9-e98cecd4ed16>\u001b[0m in \u001b[0;36m<module>\u001b[0;34m\u001b[0m\n\u001b[1;32m     52\u001b[0m \u001b[0mresults\u001b[0m \u001b[0;34m=\u001b[0m \u001b[0mpyugend2\u001b[0m\u001b[0;34m.\u001b[0m\u001b[0mComparison\u001b[0m\u001b[0;34m(\u001b[0m\u001b[0mmodel_list\u001b[0m\u001b[0;34m)\u001b[0m\u001b[0;34m\u001b[0m\u001b[0;34m\u001b[0m\u001b[0m\n\u001b[1;32m     53\u001b[0m \u001b[0;34m\u001b[0m\u001b[0m\n\u001b[0;32m---> 54\u001b[0;31m \u001b[0mresults\u001b[0m\u001b[0;34m.\u001b[0m\u001b[0mrun_all_models\u001b[0m\u001b[0;34m(\u001b[0m\u001b[0;36m100\u001b[0m\u001b[0;34m)\u001b[0m\u001b[0;34m\u001b[0m\u001b[0;34m\u001b[0m\u001b[0m\n\u001b[0m",
      "\u001b[0;32m/media/hayagriva/anaconda3/envs/pGendUniv/lib/python3.7/site-packages/pyugend2-0.2.0-py3.7.egg/pyugend2/Comparison.py\u001b[0m in \u001b[0;36mrun_all_models\u001b[0;34m(self, number_of_runs)\u001b[0m\n\u001b[1;32m     23\u001b[0m     \u001b[0;32mdef\u001b[0m \u001b[0mrun_all_models\u001b[0m\u001b[0;34m(\u001b[0m\u001b[0mself\u001b[0m\u001b[0;34m,\u001b[0m \u001b[0mnumber_of_runs\u001b[0m\u001b[0;34m)\u001b[0m\u001b[0;34m:\u001b[0m\u001b[0;34m\u001b[0m\u001b[0;34m\u001b[0m\u001b[0m\n\u001b[1;32m     24\u001b[0m         \u001b[0;32mfor\u001b[0m \u001b[0mmod\u001b[0m \u001b[0;32min\u001b[0m \u001b[0mself\u001b[0m\u001b[0;34m.\u001b[0m\u001b[0mmlist\u001b[0m\u001b[0;34m:\u001b[0m\u001b[0;34m\u001b[0m\u001b[0;34m\u001b[0m\u001b[0m\n\u001b[0;32m---> 25\u001b[0;31m             \u001b[0mmod\u001b[0m\u001b[0;34m.\u001b[0m\u001b[0mrun_multiple\u001b[0m\u001b[0;34m(\u001b[0m\u001b[0mnumber_of_runs\u001b[0m\u001b[0;34m)\u001b[0m\u001b[0;34m\u001b[0m\u001b[0;34m\u001b[0m\u001b[0m\n\u001b[0m\u001b[1;32m     26\u001b[0m \u001b[0;34m\u001b[0m\u001b[0m\n\u001b[1;32m     27\u001b[0m \u001b[0;34m\u001b[0m\u001b[0m\n",
      "\u001b[0;32m/media/hayagriva/anaconda3/envs/pGendUniv/lib/python3.7/site-packages/pyugend2-0.2.0-py3.7.egg/pyugend2/Models.py\u001b[0m in \u001b[0;36mrun_multiple\u001b[0;34m(self, num_iterations)\u001b[0m\n\u001b[1;32m    122\u001b[0m         \u001b[0;31m# first get the sizing of the storage array\u001b[0m\u001b[0;34m\u001b[0m\u001b[0;34m\u001b[0m\u001b[0;34m\u001b[0m\u001b[0m\n\u001b[1;32m    123\u001b[0m         \u001b[0;31m# set up the array to hold the data array from each model run.\u001b[0m\u001b[0;34m\u001b[0m\u001b[0;34m\u001b[0m\u001b[0;34m\u001b[0m\u001b[0m\n\u001b[0;32m--> 124\u001b[0;31m         \u001b[0mself\u001b[0m\u001b[0;34m.\u001b[0m\u001b[0mrun_model_iterations\u001b[0m\u001b[0;34m(\u001b[0m\u001b[0mnum_iterations\u001b[0m\u001b[0;34m)\u001b[0m\u001b[0;34m\u001b[0m\u001b[0;34m\u001b[0m\u001b[0m\n\u001b[0m\u001b[1;32m    125\u001b[0m         \u001b[0;31m# calculate summaries\u001b[0m\u001b[0;34m\u001b[0m\u001b[0;34m\u001b[0m\u001b[0;34m\u001b[0m\u001b[0m\n\u001b[1;32m    126\u001b[0m         \u001b[0mself\u001b[0m\u001b[0;34m.\u001b[0m\u001b[0mcalculate_simulation_summaries\u001b[0m\u001b[0;34m(\u001b[0m\u001b[0;34m)\u001b[0m\u001b[0;34m\u001b[0m\u001b[0;34m\u001b[0m\u001b[0m\n",
      "\u001b[0;32m/media/hayagriva/anaconda3/envs/pGendUniv/lib/python3.7/site-packages/pyugend2-0.2.0-py3.7.egg/pyugend2/Models.py\u001b[0m in \u001b[0;36mrun_model_iterations\u001b[0;34m(self, num_iterations)\u001b[0m\n\u001b[1;32m    140\u001b[0m         \u001b[0mself\u001b[0m\u001b[0;34m.\u001b[0m\u001b[0mitercount\u001b[0m \u001b[0;34m=\u001b[0m \u001b[0;36m0\u001b[0m\u001b[0;34m\u001b[0m\u001b[0;34m\u001b[0m\u001b[0m\n\u001b[1;32m    141\u001b[0m         \u001b[0;32mfor\u001b[0m \u001b[0mi\u001b[0m \u001b[0;32min\u001b[0m \u001b[0mtqdm\u001b[0m\u001b[0;34m(\u001b[0m\u001b[0mrange\u001b[0m\u001b[0;34m(\u001b[0m\u001b[0mnum_iterations\u001b[0m\u001b[0;34m)\u001b[0m\u001b[0;34m)\u001b[0m\u001b[0;34m:\u001b[0m\u001b[0;34m\u001b[0m\u001b[0;34m\u001b[0m\u001b[0m\n\u001b[0;32m--> 142\u001b[0;31m             \u001b[0msimulation_matrix\u001b[0m\u001b[0;34m[\u001b[0m\u001b[0mi\u001b[0m\u001b[0;34m,\u001b[0m \u001b[0;34m:\u001b[0m\u001b[0;34m,\u001b[0m \u001b[0;34m:\u001b[0m\u001b[0;34m]\u001b[0m \u001b[0;34m=\u001b[0m \u001b[0mself\u001b[0m\u001b[0;34m.\u001b[0m\u001b[0mrun_model\u001b[0m\u001b[0;34m(\u001b[0m\u001b[0;34m)\u001b[0m\u001b[0;34m\u001b[0m\u001b[0;34m\u001b[0m\u001b[0m\n\u001b[0m\u001b[1;32m    143\u001b[0m             \u001b[0mself\u001b[0m\u001b[0;34m.\u001b[0m\u001b[0mitercount\u001b[0m \u001b[0;34m+=\u001b[0m \u001b[0;36m1\u001b[0m\u001b[0;34m\u001b[0m\u001b[0;34m\u001b[0m\u001b[0m\n\u001b[1;32m    144\u001b[0m         \u001b[0mself\u001b[0m\u001b[0;34m.\u001b[0m\u001b[0msimulation_matrix\u001b[0m \u001b[0;34m=\u001b[0m \u001b[0msimulation_matrix\u001b[0m\u001b[0;34m\u001b[0m\u001b[0;34m\u001b[0m\u001b[0m\n",
      "\u001b[0;32m/media/hayagriva/anaconda3/envs/pGendUniv/lib/python3.7/site-packages/pyugend2-0.2.0-py3.7.egg/pyugend2/ModelGenderDiversityGrowthAsDrift.py\u001b[0m in \u001b[0;36mrun_model\u001b[0;34m(self)\u001b[0m\n\u001b[1;32m    272\u001b[0m \u001b[0;34m\u001b[0m\u001b[0m\n\u001b[1;32m    273\u001b[0m             \u001b[0;31m# capture gender proportion for department\u001b[0m\u001b[0;34m\u001b[0m\u001b[0;34m\u001b[0m\u001b[0;34m\u001b[0m\u001b[0m\n\u001b[0;32m--> 274\u001b[0;31m             \u001b[0mres\u001b[0m\u001b[0;34m.\u001b[0m\u001b[0mloc\u001b[0m\u001b[0;34m[\u001b[0m\u001b[0mi\u001b[0m\u001b[0;34m,\u001b[0m \u001b[0;34m'fpct'\u001b[0m\u001b[0;34m]\u001b[0m \u001b[0;34m=\u001b[0m \u001b[0mround\u001b[0m\u001b[0;34m(\u001b[0m\u001b[0mres\u001b[0m\u001b[0;34m.\u001b[0m\u001b[0mloc\u001b[0m\u001b[0;34m[\u001b[0m\u001b[0mi\u001b[0m\u001b[0;34m,\u001b[0m \u001b[0mfemale_columns\u001b[0m\u001b[0;34m]\u001b[0m\u001b[0;34m.\u001b[0m\u001b[0msum\u001b[0m\u001b[0;34m(\u001b[0m\u001b[0;34m)\u001b[0m\u001b[0;34m/\u001b[0m\u001b[0mres\u001b[0m\u001b[0;34m.\u001b[0m\u001b[0mloc\u001b[0m\u001b[0;34m[\u001b[0m\u001b[0mi\u001b[0m\u001b[0;34m,\u001b[0m\u001b[0mall_faculty\u001b[0m\u001b[0;34m]\u001b[0m\u001b[0;34m.\u001b[0m\u001b[0msum\u001b[0m\u001b[0;34m(\u001b[0m\u001b[0;34m)\u001b[0m\u001b[0;34m,\u001b[0m \u001b[0;36m3\u001b[0m\u001b[0;34m)\u001b[0m\u001b[0;34m\u001b[0m\u001b[0;34m\u001b[0m\u001b[0m\n\u001b[0m\u001b[1;32m    275\u001b[0m             \u001b[0mres\u001b[0m\u001b[0;34m.\u001b[0m\u001b[0mloc\u001b[0m\u001b[0;34m[\u001b[0m\u001b[0mi\u001b[0m\u001b[0;34m,\u001b[0m \u001b[0;34m'fpct1'\u001b[0m\u001b[0;34m]\u001b[0m \u001b[0;34m=\u001b[0m \u001b[0mround\u001b[0m\u001b[0;34m(\u001b[0m\u001b[0mres\u001b[0m\u001b[0;34m.\u001b[0m\u001b[0mloc\u001b[0m\u001b[0;34m[\u001b[0m\u001b[0mi\u001b[0m\u001b[0;34m,\u001b[0m \u001b[0;34m'f1'\u001b[0m\u001b[0;34m]\u001b[0m\u001b[0;34m/\u001b[0m\u001b[0mres\u001b[0m\u001b[0;34m.\u001b[0m\u001b[0mloc\u001b[0m\u001b[0;34m[\u001b[0m\u001b[0mi\u001b[0m\u001b[0;34m,\u001b[0m \u001b[0;34m[\u001b[0m\u001b[0;34m'f1'\u001b[0m\u001b[0;34m,\u001b[0m \u001b[0;34m'm1'\u001b[0m\u001b[0;34m]\u001b[0m\u001b[0;34m]\u001b[0m\u001b[0;34m.\u001b[0m\u001b[0msum\u001b[0m\u001b[0;34m(\u001b[0m\u001b[0;34m)\u001b[0m\u001b[0;34m,\u001b[0m \u001b[0;36m3\u001b[0m\u001b[0;34m)\u001b[0m\u001b[0;34m\u001b[0m\u001b[0;34m\u001b[0m\u001b[0m\n\u001b[1;32m    276\u001b[0m             \u001b[0mres\u001b[0m\u001b[0;34m.\u001b[0m\u001b[0mloc\u001b[0m\u001b[0;34m[\u001b[0m\u001b[0mi\u001b[0m\u001b[0;34m,\u001b[0m \u001b[0;34m'fpct2'\u001b[0m\u001b[0;34m]\u001b[0m \u001b[0;34m=\u001b[0m \u001b[0mround\u001b[0m\u001b[0;34m(\u001b[0m\u001b[0mres\u001b[0m\u001b[0;34m.\u001b[0m\u001b[0mloc\u001b[0m\u001b[0;34m[\u001b[0m\u001b[0mi\u001b[0m\u001b[0;34m,\u001b[0m \u001b[0;34m'f2'\u001b[0m\u001b[0;34m]\u001b[0m\u001b[0;34m/\u001b[0m\u001b[0mres\u001b[0m\u001b[0;34m.\u001b[0m\u001b[0mloc\u001b[0m\u001b[0;34m[\u001b[0m\u001b[0mi\u001b[0m\u001b[0;34m,\u001b[0m \u001b[0;34m[\u001b[0m\u001b[0;34m'f2'\u001b[0m\u001b[0;34m,\u001b[0m \u001b[0;34m'm2'\u001b[0m\u001b[0;34m]\u001b[0m\u001b[0;34m]\u001b[0m\u001b[0;34m.\u001b[0m\u001b[0msum\u001b[0m\u001b[0;34m(\u001b[0m\u001b[0;34m)\u001b[0m\u001b[0;34m,\u001b[0m \u001b[0;36m3\u001b[0m\u001b[0;34m)\u001b[0m\u001b[0;34m\u001b[0m\u001b[0;34m\u001b[0m\u001b[0m\n",
      "\u001b[0;32m/media/hayagriva/anaconda3/envs/pGendUniv/lib/python3.7/site-packages/pandas/core/indexing.py\u001b[0m in \u001b[0;36m__getitem__\u001b[0;34m(self, key)\u001b[0m\n\u001b[1;32m   1416\u001b[0m                 \u001b[0;32mexcept\u001b[0m \u001b[0;34m(\u001b[0m\u001b[0mKeyError\u001b[0m\u001b[0;34m,\u001b[0m \u001b[0mIndexError\u001b[0m\u001b[0;34m,\u001b[0m \u001b[0mAttributeError\u001b[0m\u001b[0;34m)\u001b[0m\u001b[0;34m:\u001b[0m\u001b[0;34m\u001b[0m\u001b[0;34m\u001b[0m\u001b[0m\n\u001b[1;32m   1417\u001b[0m                     \u001b[0;32mpass\u001b[0m\u001b[0;34m\u001b[0m\u001b[0;34m\u001b[0m\u001b[0m\n\u001b[0;32m-> 1418\u001b[0;31m             \u001b[0;32mreturn\u001b[0m \u001b[0mself\u001b[0m\u001b[0;34m.\u001b[0m\u001b[0m_getitem_tuple\u001b[0m\u001b[0;34m(\u001b[0m\u001b[0mkey\u001b[0m\u001b[0;34m)\u001b[0m\u001b[0;34m\u001b[0m\u001b[0;34m\u001b[0m\u001b[0m\n\u001b[0m\u001b[1;32m   1419\u001b[0m         \u001b[0;32melse\u001b[0m\u001b[0;34m:\u001b[0m\u001b[0;34m\u001b[0m\u001b[0;34m\u001b[0m\u001b[0m\n\u001b[1;32m   1420\u001b[0m             \u001b[0;31m# we by definition only have the 0th axis\u001b[0m\u001b[0;34m\u001b[0m\u001b[0;34m\u001b[0m\u001b[0;34m\u001b[0m\u001b[0m\n",
      "\u001b[0;32m/media/hayagriva/anaconda3/envs/pGendUniv/lib/python3.7/site-packages/pandas/core/indexing.py\u001b[0m in \u001b[0;36m_getitem_tuple\u001b[0;34m(self, tup)\u001b[0m\n\u001b[1;32m    803\u001b[0m     \u001b[0;32mdef\u001b[0m \u001b[0m_getitem_tuple\u001b[0m\u001b[0;34m(\u001b[0m\u001b[0mself\u001b[0m\u001b[0;34m,\u001b[0m \u001b[0mtup\u001b[0m\u001b[0;34m)\u001b[0m\u001b[0;34m:\u001b[0m\u001b[0;34m\u001b[0m\u001b[0;34m\u001b[0m\u001b[0m\n\u001b[1;32m    804\u001b[0m         \u001b[0;32mtry\u001b[0m\u001b[0;34m:\u001b[0m\u001b[0;34m\u001b[0m\u001b[0;34m\u001b[0m\u001b[0m\n\u001b[0;32m--> 805\u001b[0;31m             \u001b[0;32mreturn\u001b[0m \u001b[0mself\u001b[0m\u001b[0;34m.\u001b[0m\u001b[0m_getitem_lowerdim\u001b[0m\u001b[0;34m(\u001b[0m\u001b[0mtup\u001b[0m\u001b[0;34m)\u001b[0m\u001b[0;34m\u001b[0m\u001b[0;34m\u001b[0m\u001b[0m\n\u001b[0m\u001b[1;32m    806\u001b[0m         \u001b[0;32mexcept\u001b[0m \u001b[0mIndexingError\u001b[0m\u001b[0;34m:\u001b[0m\u001b[0;34m\u001b[0m\u001b[0;34m\u001b[0m\u001b[0m\n\u001b[1;32m    807\u001b[0m             \u001b[0;32mpass\u001b[0m\u001b[0;34m\u001b[0m\u001b[0;34m\u001b[0m\u001b[0m\n",
      "\u001b[0;32m/media/hayagriva/anaconda3/envs/pGendUniv/lib/python3.7/site-packages/pandas/core/indexing.py\u001b[0m in \u001b[0;36m_getitem_lowerdim\u001b[0;34m(self, tup)\u001b[0m\n\u001b[1;32m    927\u001b[0m         \u001b[0;32mfor\u001b[0m \u001b[0mi\u001b[0m\u001b[0;34m,\u001b[0m \u001b[0mkey\u001b[0m \u001b[0;32min\u001b[0m \u001b[0menumerate\u001b[0m\u001b[0;34m(\u001b[0m\u001b[0mtup\u001b[0m\u001b[0;34m)\u001b[0m\u001b[0;34m:\u001b[0m\u001b[0;34m\u001b[0m\u001b[0;34m\u001b[0m\u001b[0m\n\u001b[1;32m    928\u001b[0m             \u001b[0;32mif\u001b[0m \u001b[0mis_label_like\u001b[0m\u001b[0;34m(\u001b[0m\u001b[0mkey\u001b[0m\u001b[0;34m)\u001b[0m \u001b[0;32mor\u001b[0m \u001b[0misinstance\u001b[0m\u001b[0;34m(\u001b[0m\u001b[0mkey\u001b[0m\u001b[0;34m,\u001b[0m \u001b[0mtuple\u001b[0m\u001b[0;34m)\u001b[0m\u001b[0;34m:\u001b[0m\u001b[0;34m\u001b[0m\u001b[0;34m\u001b[0m\u001b[0m\n\u001b[0;32m--> 929\u001b[0;31m                 \u001b[0msection\u001b[0m \u001b[0;34m=\u001b[0m \u001b[0mself\u001b[0m\u001b[0;34m.\u001b[0m\u001b[0m_getitem_axis\u001b[0m\u001b[0;34m(\u001b[0m\u001b[0mkey\u001b[0m\u001b[0;34m,\u001b[0m \u001b[0maxis\u001b[0m\u001b[0;34m=\u001b[0m\u001b[0mi\u001b[0m\u001b[0;34m)\u001b[0m\u001b[0;34m\u001b[0m\u001b[0;34m\u001b[0m\u001b[0m\n\u001b[0m\u001b[1;32m    930\u001b[0m \u001b[0;34m\u001b[0m\u001b[0m\n\u001b[1;32m    931\u001b[0m                 \u001b[0;31m# we have yielded a scalar ?\u001b[0m\u001b[0;34m\u001b[0m\u001b[0;34m\u001b[0m\u001b[0;34m\u001b[0m\u001b[0m\n",
      "\u001b[0;32m/media/hayagriva/anaconda3/envs/pGendUniv/lib/python3.7/site-packages/pandas/core/indexing.py\u001b[0m in \u001b[0;36m_getitem_axis\u001b[0;34m(self, key, axis)\u001b[0m\n\u001b[1;32m   1848\u001b[0m         \u001b[0;31m# fall thru to straight lookup\u001b[0m\u001b[0;34m\u001b[0m\u001b[0;34m\u001b[0m\u001b[0;34m\u001b[0m\u001b[0m\n\u001b[1;32m   1849\u001b[0m         \u001b[0mself\u001b[0m\u001b[0;34m.\u001b[0m\u001b[0m_validate_key\u001b[0m\u001b[0;34m(\u001b[0m\u001b[0mkey\u001b[0m\u001b[0;34m,\u001b[0m \u001b[0maxis\u001b[0m\u001b[0;34m)\u001b[0m\u001b[0;34m\u001b[0m\u001b[0;34m\u001b[0m\u001b[0m\n\u001b[0;32m-> 1850\u001b[0;31m         \u001b[0;32mreturn\u001b[0m \u001b[0mself\u001b[0m\u001b[0;34m.\u001b[0m\u001b[0m_get_label\u001b[0m\u001b[0;34m(\u001b[0m\u001b[0mkey\u001b[0m\u001b[0;34m,\u001b[0m \u001b[0maxis\u001b[0m\u001b[0;34m=\u001b[0m\u001b[0maxis\u001b[0m\u001b[0;34m)\u001b[0m\u001b[0;34m\u001b[0m\u001b[0;34m\u001b[0m\u001b[0m\n\u001b[0m\u001b[1;32m   1851\u001b[0m \u001b[0;34m\u001b[0m\u001b[0m\n\u001b[1;32m   1852\u001b[0m \u001b[0;34m\u001b[0m\u001b[0m\n",
      "\u001b[0;32m/media/hayagriva/anaconda3/envs/pGendUniv/lib/python3.7/site-packages/pandas/core/indexing.py\u001b[0m in \u001b[0;36m_get_label\u001b[0;34m(self, label, axis)\u001b[0m\n\u001b[1;32m    158\u001b[0m             \u001b[0;32mraise\u001b[0m \u001b[0mIndexingError\u001b[0m\u001b[0;34m(\u001b[0m\u001b[0;34m\"no slices here, handle elsewhere\"\u001b[0m\u001b[0;34m)\u001b[0m\u001b[0;34m\u001b[0m\u001b[0;34m\u001b[0m\u001b[0m\n\u001b[1;32m    159\u001b[0m \u001b[0;34m\u001b[0m\u001b[0m\n\u001b[0;32m--> 160\u001b[0;31m         \u001b[0;32mreturn\u001b[0m \u001b[0mself\u001b[0m\u001b[0;34m.\u001b[0m\u001b[0mobj\u001b[0m\u001b[0;34m.\u001b[0m\u001b[0m_xs\u001b[0m\u001b[0;34m(\u001b[0m\u001b[0mlabel\u001b[0m\u001b[0;34m,\u001b[0m \u001b[0maxis\u001b[0m\u001b[0;34m=\u001b[0m\u001b[0maxis\u001b[0m\u001b[0;34m)\u001b[0m\u001b[0;34m\u001b[0m\u001b[0;34m\u001b[0m\u001b[0m\n\u001b[0m\u001b[1;32m    161\u001b[0m \u001b[0;34m\u001b[0m\u001b[0m\n\u001b[1;32m    162\u001b[0m     \u001b[0;32mdef\u001b[0m \u001b[0m_get_loc\u001b[0m\u001b[0;34m(\u001b[0m\u001b[0mself\u001b[0m\u001b[0;34m,\u001b[0m \u001b[0mkey\u001b[0m\u001b[0;34m:\u001b[0m \u001b[0mint\u001b[0m\u001b[0;34m,\u001b[0m \u001b[0maxis\u001b[0m\u001b[0;34m:\u001b[0m \u001b[0mint\u001b[0m\u001b[0;34m)\u001b[0m\u001b[0;34m:\u001b[0m\u001b[0;34m\u001b[0m\u001b[0;34m\u001b[0m\u001b[0m\n",
      "\u001b[0;32m/media/hayagriva/anaconda3/envs/pGendUniv/lib/python3.7/site-packages/pandas/core/generic.py\u001b[0m in \u001b[0;36mxs\u001b[0;34m(self, key, axis, level, drop_level)\u001b[0m\n\u001b[1;32m   3748\u001b[0m \u001b[0;34m\u001b[0m\u001b[0m\n\u001b[1;32m   3749\u001b[0m         \u001b[0;32mif\u001b[0m \u001b[0mis_scalar\u001b[0m\u001b[0;34m(\u001b[0m\u001b[0mloc\u001b[0m\u001b[0;34m)\u001b[0m\u001b[0;34m:\u001b[0m\u001b[0;34m\u001b[0m\u001b[0;34m\u001b[0m\u001b[0m\n\u001b[0;32m-> 3750\u001b[0;31m             \u001b[0mnew_values\u001b[0m \u001b[0;34m=\u001b[0m \u001b[0mself\u001b[0m\u001b[0;34m.\u001b[0m\u001b[0m_data\u001b[0m\u001b[0;34m.\u001b[0m\u001b[0mfast_xs\u001b[0m\u001b[0;34m(\u001b[0m\u001b[0mloc\u001b[0m\u001b[0;34m)\u001b[0m\u001b[0;34m\u001b[0m\u001b[0;34m\u001b[0m\u001b[0m\n\u001b[0m\u001b[1;32m   3751\u001b[0m \u001b[0;34m\u001b[0m\u001b[0m\n\u001b[1;32m   3752\u001b[0m             \u001b[0;31m# may need to box a datelike-scalar\u001b[0m\u001b[0;34m\u001b[0m\u001b[0;34m\u001b[0m\u001b[0;34m\u001b[0m\u001b[0m\n",
      "\u001b[0;32m/media/hayagriva/anaconda3/envs/pGendUniv/lib/python3.7/site-packages/pandas/core/internals/managers.py\u001b[0m in \u001b[0;36mfast_xs\u001b[0;34m(self, loc)\u001b[0m\n\u001b[1;32m    897\u001b[0m \u001b[0;34m\u001b[0m\u001b[0m\n\u001b[1;32m    898\u001b[0m         \u001b[0;31m# unique\u001b[0m\u001b[0;34m\u001b[0m\u001b[0;34m\u001b[0m\u001b[0;34m\u001b[0m\u001b[0m\n\u001b[0;32m--> 899\u001b[0;31m         \u001b[0mdtype\u001b[0m \u001b[0;34m=\u001b[0m \u001b[0m_interleaved_dtype\u001b[0m\u001b[0;34m(\u001b[0m\u001b[0mself\u001b[0m\u001b[0;34m.\u001b[0m\u001b[0mblocks\u001b[0m\u001b[0;34m)\u001b[0m\u001b[0;34m\u001b[0m\u001b[0;34m\u001b[0m\u001b[0m\n\u001b[0m\u001b[1;32m    900\u001b[0m \u001b[0;34m\u001b[0m\u001b[0m\n\u001b[1;32m    901\u001b[0m         \u001b[0mn\u001b[0m \u001b[0;34m=\u001b[0m \u001b[0mlen\u001b[0m\u001b[0;34m(\u001b[0m\u001b[0mitems\u001b[0m\u001b[0;34m)\u001b[0m\u001b[0;34m\u001b[0m\u001b[0;34m\u001b[0m\u001b[0m\n",
      "\u001b[0;32m/media/hayagriva/anaconda3/envs/pGendUniv/lib/python3.7/site-packages/pandas/core/internals/managers.py\u001b[0m in \u001b[0;36m_interleaved_dtype\u001b[0;34m(blocks)\u001b[0m\n\u001b[1;32m   1896\u001b[0m         \u001b[0;32mreturn\u001b[0m \u001b[0;32mNone\u001b[0m\u001b[0;34m\u001b[0m\u001b[0;34m\u001b[0m\u001b[0m\n\u001b[1;32m   1897\u001b[0m \u001b[0;34m\u001b[0m\u001b[0m\n\u001b[0;32m-> 1898\u001b[0;31m     \u001b[0;32mreturn\u001b[0m \u001b[0mfind_common_type\u001b[0m\u001b[0;34m(\u001b[0m\u001b[0;34m[\u001b[0m\u001b[0mb\u001b[0m\u001b[0;34m.\u001b[0m\u001b[0mdtype\u001b[0m \u001b[0;32mfor\u001b[0m \u001b[0mb\u001b[0m \u001b[0;32min\u001b[0m \u001b[0mblocks\u001b[0m\u001b[0;34m]\u001b[0m\u001b[0;34m)\u001b[0m\u001b[0;34m\u001b[0m\u001b[0;34m\u001b[0m\u001b[0m\n\u001b[0m\u001b[1;32m   1899\u001b[0m \u001b[0;34m\u001b[0m\u001b[0m\n\u001b[1;32m   1900\u001b[0m \u001b[0;34m\u001b[0m\u001b[0m\n",
      "\u001b[0;32m/media/hayagriva/anaconda3/envs/pGendUniv/lib/python3.7/site-packages/pandas/core/dtypes/cast.py\u001b[0m in \u001b[0;36mfind_common_type\u001b[0;34m(types)\u001b[0m\n\u001b[1;32m   1162\u001b[0m                 \u001b[0;32mreturn\u001b[0m \u001b[0mnp\u001b[0m\u001b[0;34m.\u001b[0m\u001b[0mobject\u001b[0m\u001b[0;34m\u001b[0m\u001b[0;34m\u001b[0m\u001b[0m\n\u001b[1;32m   1163\u001b[0m \u001b[0;34m\u001b[0m\u001b[0m\n\u001b[0;32m-> 1164\u001b[0;31m     \u001b[0;32mreturn\u001b[0m \u001b[0mnp\u001b[0m\u001b[0;34m.\u001b[0m\u001b[0mfind_common_type\u001b[0m\u001b[0;34m(\u001b[0m\u001b[0mtypes\u001b[0m\u001b[0;34m,\u001b[0m \u001b[0;34m[\u001b[0m\u001b[0;34m]\u001b[0m\u001b[0;34m)\u001b[0m\u001b[0;34m\u001b[0m\u001b[0;34m\u001b[0m\u001b[0m\n\u001b[0m\u001b[1;32m   1165\u001b[0m \u001b[0;34m\u001b[0m\u001b[0m\n\u001b[1;32m   1166\u001b[0m \u001b[0;34m\u001b[0m\u001b[0m\n",
      "\u001b[0;32m/media/hayagriva/anaconda3/envs/pGendUniv/lib/python3.7/site-packages/numpy/core/numerictypes.py\u001b[0m in \u001b[0;36mfind_common_type\u001b[0;34m(array_types, scalar_types)\u001b[0m\n\u001b[1;32m    655\u001b[0m     \u001b[0mscalar_types\u001b[0m \u001b[0;34m=\u001b[0m \u001b[0;34m[\u001b[0m\u001b[0mdtype\u001b[0m\u001b[0;34m(\u001b[0m\u001b[0mx\u001b[0m\u001b[0;34m)\u001b[0m \u001b[0;32mfor\u001b[0m \u001b[0mx\u001b[0m \u001b[0;32min\u001b[0m \u001b[0mscalar_types\u001b[0m\u001b[0;34m]\u001b[0m\u001b[0;34m\u001b[0m\u001b[0;34m\u001b[0m\u001b[0m\n\u001b[1;32m    656\u001b[0m \u001b[0;34m\u001b[0m\u001b[0m\n\u001b[0;32m--> 657\u001b[0;31m     \u001b[0mmaxa\u001b[0m \u001b[0;34m=\u001b[0m \u001b[0m_can_coerce_all\u001b[0m\u001b[0;34m(\u001b[0m\u001b[0marray_types\u001b[0m\u001b[0;34m)\u001b[0m\u001b[0;34m\u001b[0m\u001b[0;34m\u001b[0m\u001b[0m\n\u001b[0m\u001b[1;32m    658\u001b[0m     \u001b[0mmaxsc\u001b[0m \u001b[0;34m=\u001b[0m \u001b[0m_can_coerce_all\u001b[0m\u001b[0;34m(\u001b[0m\u001b[0mscalar_types\u001b[0m\u001b[0;34m)\u001b[0m\u001b[0;34m\u001b[0m\u001b[0;34m\u001b[0m\u001b[0m\n\u001b[1;32m    659\u001b[0m \u001b[0;34m\u001b[0m\u001b[0m\n",
      "\u001b[0;32m/media/hayagriva/anaconda3/envs/pGendUniv/lib/python3.7/site-packages/numpy/core/numerictypes.py\u001b[0m in \u001b[0;36m_can_coerce_all\u001b[0;34m(dtypelist, start)\u001b[0m\n\u001b[1;32m    584\u001b[0m     \u001b[0mthisind\u001b[0m \u001b[0;34m=\u001b[0m \u001b[0mstart\u001b[0m\u001b[0;34m\u001b[0m\u001b[0;34m\u001b[0m\u001b[0m\n\u001b[1;32m    585\u001b[0m     \u001b[0;32mwhile\u001b[0m \u001b[0mthisind\u001b[0m \u001b[0;34m<\u001b[0m \u001b[0m__len_test_types\u001b[0m\u001b[0;34m:\u001b[0m\u001b[0;34m\u001b[0m\u001b[0;34m\u001b[0m\u001b[0m\n\u001b[0;32m--> 586\u001b[0;31m         \u001b[0mnewdtype\u001b[0m \u001b[0;34m=\u001b[0m \u001b[0mdtype\u001b[0m\u001b[0;34m(\u001b[0m\u001b[0m__test_types\u001b[0m\u001b[0;34m[\u001b[0m\u001b[0mthisind\u001b[0m\u001b[0;34m]\u001b[0m\u001b[0;34m)\u001b[0m\u001b[0;34m\u001b[0m\u001b[0;34m\u001b[0m\u001b[0m\n\u001b[0m\u001b[1;32m    587\u001b[0m         \u001b[0mnumcoerce\u001b[0m \u001b[0;34m=\u001b[0m \u001b[0mlen\u001b[0m\u001b[0;34m(\u001b[0m\u001b[0;34m[\u001b[0m\u001b[0mx\u001b[0m \u001b[0;32mfor\u001b[0m \u001b[0mx\u001b[0m \u001b[0;32min\u001b[0m \u001b[0mdtypelist\u001b[0m \u001b[0;32mif\u001b[0m \u001b[0mnewdtype\u001b[0m \u001b[0;34m>=\u001b[0m \u001b[0mx\u001b[0m\u001b[0;34m]\u001b[0m\u001b[0;34m)\u001b[0m\u001b[0;34m\u001b[0m\u001b[0;34m\u001b[0m\u001b[0m\n\u001b[1;32m    588\u001b[0m         \u001b[0;32mif\u001b[0m \u001b[0mnumcoerce\u001b[0m \u001b[0;34m==\u001b[0m \u001b[0mN\u001b[0m\u001b[0;34m:\u001b[0m\u001b[0;34m\u001b[0m\u001b[0;34m\u001b[0m\u001b[0m\n",
      "\u001b[0;31mKeyboardInterrupt\u001b[0m: "
     ]
    }
   ],
   "source": [
    "\n",
    "data_mgmt = { 'number_of_females_1': numbers_dict['f1'].value,\n",
    "              'number_of_females_2': numbers_dict['f2'].value,\n",
    "              'number_of_females_3': numbers_dict['f3'].value,\n",
    "              'number_of_males_1': numbers_dict['m1'].value,\n",
    "              'number_of_males_2': numbers_dict['m2'].value,\n",
    "              'number_of_males_3': numbers_dict['m3'].value,\n",
    "              'hiring_rate_women_1':hiring_dict['f1'].value,\n",
    "              'hiring_rate_women_2':hiring_dict['f2'].value,\n",
    "              'hiring_rate_women_3':hiring_dict['f3'].value,\n",
    "              'hiring_rate_men_1': hiring_dict['m1'].value,\n",
    "              'hiring_rate_men_2': hiring_dict['m2'].value,\n",
    "              'hiring_rate_men_3': hiring_dict['m3'].value,\n",
    "              'attrition_rate_women_1':attrition_dict['f1'].value,\n",
    "              'attrition_rate_women_2':attrition_dict['f2'].value,\n",
    "              'attrition_rate_women_3':attrition_dict['f3'].value,\n",
    "              'attrition_rate_men_1':attrition_dict['m1'].value,\n",
    "              'attrition_rate_men_2':attrition_dict['m2'].value,\n",
    "              'attrition_rate_men_3':attrition_dict['m3'].value,\n",
    "              'female_promotion_probability_1': promotion_dict['f1'].value,\n",
    "              'female_promotion_probability_2': promotion_dict['f2'].value,\n",
    "              'male_promotion_probability_1' : promotion_dict['m1'].value,\n",
    "              'male_promotion_probability_2' : promotion_dict['m2'].value,\n",
    "              'duration':model_settings_dict['duration'].value,\n",
    "              'upperbound': model_settings_dict['upperbound'].value,\n",
    "              'lowerbound': model_settings_dict['lowerbound'].value,\n",
    "              't_fpct': model_settings_dict['target_percentage_women'].value,\n",
    "              'variation_range': model_settings_dict['variation_range'].value,\n",
    "              'annotation_text': annotation_text.value, \n",
    "              'linear_growth_info': [growth_rate_dict['widget_linear_growth_rate'].value],\n",
    "              'threeyr_growth_info': [growth_rate_dict['widget_increment3_' + str(i)].value for i in range(growth_rate_dict['increment3'])],\n",
    "              'fouryr_growth_info': [growth_rate_dict['widget_increment4_' + str(i)].value for i in range(growth_rate_dict['increment4'])]\n",
    "            \n",
    "            }\n",
    "\n",
    "data_mgmt['growth_rate'] = [0.0]\n",
    "model_no_growth = pyugend2.ModelGenderDiversityGrowthAsDrift(data_mgmt)\n",
    "model_no_growth.model_common_name = 'No Growth Model'\n",
    "\n",
    "data_mgmt['growth_rate'] = [growth_rate_dict['widget_linear_growth_rate'].value]\n",
    "model_linear_growth = pyugend2.ModelGenderDiversityGrowthAsDrift(data_mgmt)\n",
    "model_linear_growth.model_common_name = 'Linear Growth Model'\n",
    "\n",
    "data_mgmt['growth_rate'] = [growth_rate_dict['widget_increment3_' + str(i)].value for i in range(growth_rate_dict['increment3'])]\n",
    "model_3yr_growth_rate = pyugend2.ModelGenderDiversityGrowthAsDrift(data_mgmt)\n",
    "model_3yr_growth_rate.model_common_name = '3yr Growth Model'\n",
    "\n",
    "data_mgmt['growth_rate'] = [growth_rate_dict['widget_increment4_' + str(i)].value for i in range(growth_rate_dict['increment4'])]\n",
    "model_4yr_growth_rate = pyugend2.ModelGenderDiversityGrowthAsDrift(data_mgmt)\n",
    "model_4yr_growth_rate.model_common_name = '4yr Growth Model'\n",
    "\n",
    "model_list = [model_no_growth, model_linear_growth, model_3yr_growth_rate, model_4yr_growth_rate]\n",
    "results = pyugend2.Comparison(model_list)\n",
    "\n",
    "results.run_all_models(100)"
   ]
  },
  {
   "cell_type": "markdown",
   "metadata": {
    "hide_input": true
   },
   "source": [
    "# Simulation Results\n"
   ]
  },
  {
   "cell_type": "markdown",
   "metadata": {
    "hide_input": false
   },
   "source": [
    "## Comparison of Model 3 Growth Models: Change in Proportion of Women"
   ]
  },
  {
   "cell_type": "code",
   "execution_count": null,
   "metadata": {
    "hide_input": true,
    "scrolled": false,
    "tags": [
     "plotcell"
    ]
   },
   "outputs": [],
   "source": [
    "data = []\n",
    "linecolors = ['rgb(0,0,255)', 'rgb(0,128,0)', 'rgb(128,0,128)', 'rgb(139,69,19)']\n",
    "fillcolors = ['rgba(0,0,255,0.25)', 'rgba(0,128,0,0.25)', 'rgba(128,0,128,0.25)', 'rgba(160,82,45,0.25)']\n",
    "legend_labels = ['no growth', 'linear growth', '3 year growth', '4 year growth']\n",
    "\n",
    "for k,v in enumerate(results.mlist):\n",
    "    data.append(go.Scatter(\n",
    "        x=np.append(v.summary_matrix['yr'], v.summary_matrix['yr'].values[::-1]),\n",
    "        y=np.append(v.summary_matrix['fpct_975'], v.summary_matrix['fpct_025'].values[::-1]),\n",
    "        fill='tozerox',\n",
    "        fillcolor=fillcolors[k],\n",
    "        line=dict(color=linecolors[k],\n",
    "                 width=1),\n",
    "        legendgroup=legend_labels[k],\n",
    "        showlegend=False,\n",
    "        mode='lines',\n",
    "        name=legend_labels[k],\n",
    "    ))\n",
    "\n",
    "    data.append(go.Scatter(\n",
    "        x=v.summary_matrix['yr'],\n",
    "        y=v.summary_matrix['fpct_avg'],\n",
    "        line=dict(color=linecolors[k],\n",
    "                 width=2),\n",
    "        legendgroup=legend_labels[k],\n",
    "        showlegend=True,\n",
    "        marker=dict(\n",
    "            size=4),\n",
    "        mode='lines+markers',\n",
    "        name=legend_labels[k],\n",
    "    ))\n",
    "\n",
    "\n",
    "data.append(go.Scatter(\n",
    "    x=v.summary_matrix['yr'], \n",
    "    y=v.summary_matrix['act_fpct'],\n",
    "    line=dict(color='blue',\n",
    "             dash='dashdot'),\n",
    "    name='Management Data',\n",
    "    mode='lines+markers',\n",
    "    marker=dict(\n",
    "        size=4),\n",
    "\n",
    "))\n",
    "\n",
    "data.append(go.Scatter(\n",
    "    x=v.summary_matrix['yr'], \n",
    "    y=np.repeat(v.target_female_percentage, len(v.summary_matrix['yr'])),\n",
    "    line=dict(color='red',\n",
    "             dash='dash',\n",
    "             width=1),\n",
    "    name='Target Percentage',\n",
    "    mode='lines',\n",
    "))\n",
    "    \n",
    "layout = go.Layout(\n",
    "    title='Comparison of Growth Models: Change in Proportion of Women',\n",
    "    height=800,\n",
    "    width=900,\n",
    "    paper_bgcolor='rgb(255,255,255)',\n",
    "    plot_bgcolor='rgb(255,255,255)',\n",
    "    xaxis=dict(\n",
    "        visible=True,\n",
    "        title='Year',\n",
    "        gridcolor='rgb(229,229,229)',\n",
    "        showgrid=True,\n",
    "        showline=True,\n",
    "        showticklabels=True,\n",
    "        tickcolor='rgb(127,127,127)',\n",
    "        ticks='outside',\n",
    "        zeroline=False\n",
    "    ),\n",
    "    yaxis=dict(\n",
    "        title='Percentage Women Faculty',\n",
    "        gridcolor='rgb(229,229,229)',\n",
    "        showgrid=True,\n",
    "        showline=True,\n",
    "        showticklabels=True,\n",
    "        tickcolor='rgb(127,127,127)',\n",
    "        ticks='outside',\n",
    "        zeroline=False\n",
    "    ),\n",
    ")\n",
    "fig = go.Figure(data=data, layout=layout)\n",
    "plotly.offline.iplot(fig, filename= 'shaded_lines')\n",
    "\n",
    "# export image for ingestion to pdf file.\n",
    "# if not os.path.exists('images'):\n",
    "#     os.mkdir('images')\n",
    "# pio.write_image(fig, 'images/change_in_percentage_faculty_women.png')"
   ]
  },
  {
   "cell_type": "code",
   "execution_count": null,
   "metadata": {
    "hide_input": true,
    "tags": [
     "plotcell"
    ]
   },
   "outputs": [],
   "source": [
    "linecolors = ['blue', 'green', 'purple', 'brown']\n",
    "legend_labels = ['no growth', 'linear growth', '3 year growth', '4 year growth']\n",
    "\n",
    "plt.figure(figsize=(12,12))\n",
    "\n",
    "for k,v in enumerate(results.mlist):\n",
    "    plt.plot(\n",
    "             v.summary_matrix['yr'], \n",
    "             v.summary_matrix['fpct_avg'],\n",
    "             linewidth=2,\n",
    "             color=linecolors[k],\n",
    "             label=legend_labels[k],\n",
    "             marker=\"o\",\n",
    "            )\n",
    "    plt.fill_between(\n",
    "             v.summary_matrix['yr'],\n",
    "             v.summary_matrix['fpct_975'],\n",
    "             v.summary_matrix['fpct_025'],\n",
    "             alpha=0.25,\n",
    "             facecolor=linecolors[k]\n",
    "            )\n",
    "\n",
    "plt.plot(\n",
    "        v.summary_matrix['yr'],\n",
    "        v.summary_matrix['act_fpct'],\n",
    "        color='blue',\n",
    "        linewidth=2,\n",
    "        linestyle='-.',\n",
    "        label='Management Data')\n",
    "\n",
    "plt.hlines(\n",
    "        v.target_female_percentage,\n",
    "        0,\n",
    "        v.summary_matrix['yr'].max(),\n",
    "        colors='red',\n",
    "        linestyle='--',\n",
    "        label='Target Percentage'\n",
    "        )\n",
    "    \n",
    "plt.title('Comparison of Growth Models: Change in Proportion of Women', fontsize=20)\n",
    "plt.xlabel('Year', fontsize=16)\n",
    "plt.ylabel('Percentage Female Faculty', fontsize=16)\n",
    "plt.legend(loc='upper right', fontsize=16)\n",
    "if not os.path.exists('images'):\n",
    "    os.mkdir('images')\n",
    "plt.savefig('images/change_in_percentage_faculty_women.png')\n",
    "plt.close()"
   ]
  },
  {
   "cell_type": "markdown",
   "metadata": {
    "hide_input": true
   },
   "source": [
    "## Comparison of Model 3 Growth Models: Probability of Achieving 25% Women"
   ]
  },
  {
   "cell_type": "code",
   "execution_count": null,
   "metadata": {
    "hide_input": true,
    "scrolled": false,
    "tags": [
     "plotcell"
    ]
   },
   "outputs": [],
   "source": [
    "data = []\n",
    "linecolors = ['rgb(0,0,255)', 'rgb(0,128,0)', 'rgb(128,0,128)', 'rgb(139,69,19)']\n",
    "fillcolors = ['rgba(0,0,255,0.25)', 'rgba(0,128,0,0.25)', 'rgba(128,0,128,0.25)', 'rgba(160,82,45,0.25)']\n",
    "legend_labels = ['no growth', 'linear growth', '3 year growth', '4 year growth']\n",
    "\n",
    "\n",
    "for k,v in enumerate(results.mlist):\n",
    "\n",
    "    data.append(go.Scatter(\n",
    "        x=v.summary_matrix['yr'],\n",
    "        y=v.summary_matrix['p_fpct'],\n",
    "        line=dict(color=linecolors[k],\n",
    "                 width=2),\n",
    "        legendgroup=legend_labels[k],\n",
    "        showlegend=True,\n",
    "        marker=dict(\n",
    "            size=4),\n",
    "        mode='lines+markers',\n",
    "        name=legend_labels[k],\n",
    "    ))\n",
    "\n",
    "\n",
    "data.append(go.Scatter(\n",
    "    x=v.summary_matrix['yr'], \n",
    "    y=np.repeat(0.5, len(v.summary_matrix['yr'])),\n",
    "    line=dict(color='red',\n",
    "             dash='dash'),\n",
    "    name='Target Probability',\n",
    "    mode='lines',\n",
    "))\n",
    "    \n",
    "layout = go.Layout(\n",
    "    title='Comparison of Model 3 Growth Models: Probability of Achieving 25% Women',\n",
    "    height=800,\n",
    "    width=900,\n",
    "    paper_bgcolor='rgb(255,255,255)',\n",
    "    plot_bgcolor='rgb(255,255,255)',\n",
    "    xaxis=dict(\n",
    "        visible=True,\n",
    "        title='Year',\n",
    "        gridcolor='rgb(229,229,229)',\n",
    "        showgrid=True,\n",
    "        showline=True,\n",
    "        showticklabels=True,\n",
    "        tickcolor='rgb(127,127,127)',\n",
    "        ticks='outside',\n",
    "        zeroline=False\n",
    "    ),\n",
    "    yaxis=dict(\n",
    "        title='Probability of Achieving Target',\n",
    "        gridcolor='rgb(229,229,229)',\n",
    "        showgrid=True,\n",
    "        showline=True,\n",
    "        showticklabels=True,\n",
    "        tickcolor='rgb(127,127,127)',\n",
    "        ticks='outside',\n",
    "        zeroline=False\n",
    "    ),\n",
    ")\n",
    "fig = go.Figure(data=data, layout=layout)\n",
    "plotly.offline.iplot(fig, filename= 'shaded_lines')\n",
    "\n",
    "# export image for ingestion to pdf file.\n",
    "# if not os.path.exists('images'):\n",
    "#     os.mkdir('images')\n",
    "# pio.write_image(fig, 'images/probability_of_reaching_gender_target.png')"
   ]
  },
  {
   "cell_type": "code",
   "execution_count": null,
   "metadata": {
    "hide_input": true,
    "scrolled": false,
    "tags": [
     "plotcell"
    ]
   },
   "outputs": [],
   "source": [
    "linecolors = ['blue', 'green', 'purple', 'brown']\n",
    "legend_labels = ['no growth', 'linear growth', '3 year growth', '4 year growth']\n",
    "\n",
    "plt.figure(figsize=(12,12))\n",
    "\n",
    "for k,v in enumerate(results.mlist):\n",
    "    plt.plot(\n",
    "             v.summary_matrix['yr'], \n",
    "             v.summary_matrix['p_fpct'],\n",
    "             linewidth=2,\n",
    "             color=linecolors[k],\n",
    "             label=legend_labels[k],\n",
    "             marker=\"o\",\n",
    "            )\n",
    "\n",
    "plt.hlines(\n",
    "        0.5,\n",
    "        0,\n",
    "        v.summary_matrix['yr'].max(),\n",
    "        colors='red',\n",
    "        linestyle='--',\n",
    "        label='Target Probability'\n",
    "        )\n",
    "    \n",
    "plt.title('Comparison of Model 3 Growth Models: Probability of Achieving 25% Women', fontsize=20)\n",
    "plt.xlabel('Year', fontsize=16)\n",
    "plt.ylabel('Probability of Achieving Target', fontsize=16)\n",
    "plt.legend(loc='upper right', fontsize=14)\n",
    "if not os.path.exists('images'):\n",
    "    os.mkdir('images')\n",
    "plt.savefig('images/probability_of_reaching_gender_target.png')\n",
    "plt.close()"
   ]
  },
  {
   "cell_type": "markdown",
   "metadata": {
    "hide_input": false
   },
   "source": [
    "## Comparison of Model 3 Growth Models: Change in Number Women, Model 3"
   ]
  },
  {
   "cell_type": "code",
   "execution_count": null,
   "metadata": {
    "hide_input": true,
    "scrolled": false,
    "tags": [
     "plotcell"
    ]
   },
   "outputs": [],
   "source": [
    "data = []\n",
    "linecolors = ['rgb(0,0,255)', 'rgb(0,128,0)', 'rgb(128,0,128)', 'rgb(139,69,19)']\n",
    "fillcolors = ['rgba(0,0,255,0.25)', 'rgba(0,128,0,0.25)', 'rgba(128,0,128,0.25)', 'rgba(160,82,45,0.25)']\n",
    "\n",
    "for k,v in enumerate(results.mlist):\n",
    "    data.append(go.Scatter(\n",
    "        x=np.append(v.summary_matrix['yr'], v.summary_matrix['yr'].values[::-1]),\n",
    "        y=np.append(v.summary_matrix['f_975'], v.summary_matrix['f_025'].values[::-1]),\n",
    "        fill='tozerox',\n",
    "        fillcolor=fillcolors[k],\n",
    "        line=dict(color=linecolors[k],\n",
    "                 width=1),\n",
    "        legendgroup=legend_labels[k],\n",
    "        showlegend=False,\n",
    "        mode='lines',\n",
    "        name=legend_labels[k],\n",
    "    ))\n",
    "\n",
    "    data.append(go.Scatter(\n",
    "        x=v.summary_matrix['yr'],\n",
    "        y=v.summary_matrix['f_avg'],\n",
    "        line=dict(color=linecolors[k],\n",
    "                 width=2),\n",
    "        legendgroup=legend_labels[k],\n",
    "        showlegend=True,\n",
    "        marker=dict(\n",
    "            size=4),\n",
    "        mode='lines+markers',\n",
    "        name=legend_labels[k],\n",
    "    ))\n",
    "\n",
    "\n",
    "data.append(go.Scatter(\n",
    "    x=v.summary_matrix['yr'], \n",
    "    y=v.summary_matrix['act_f'],\n",
    "    line=dict(color='blue',\n",
    "             dash='dashdot'),\n",
    "    name='Management Data',\n",
    "    mode='lines+markers',\n",
    "    marker=dict(\n",
    "        size=4),\n",
    "\n",
    "))\n",
    "    \n",
    "layout = go.Layout(\n",
    "    title='Comparison of Model 3 Growth Models: Change in Number Women, Model 3',\n",
    "    height=800,\n",
    "    width=900,\n",
    "    paper_bgcolor='rgb(255,255,255)',\n",
    "    plot_bgcolor='rgb(255,255,255)',\n",
    "    xaxis=dict(\n",
    "        visible=True,\n",
    "        title='Year',\n",
    "        gridcolor='rgb(229,229,229)',\n",
    "        showgrid=True,\n",
    "        showline=True,\n",
    "        showticklabels=True,\n",
    "        tickcolor='rgb(127,127,127)',\n",
    "        ticks='outside',\n",
    "        zeroline=False\n",
    "    ),\n",
    "    yaxis=dict(\n",
    "        title='Number of Women Faculty',\n",
    "        gridcolor='rgb(229,229,229)',\n",
    "        showgrid=True,\n",
    "        showline=True,\n",
    "        showticklabels=True,\n",
    "        tickcolor='rgb(127,127,127)',\n",
    "        ticks='outside',\n",
    "        zeroline=False\n",
    "    ),\n",
    ")\n",
    "fig = go.Figure(data=data, layout=layout)\n",
    "plotly.offline.iplot(fig, filename= 'shaded_lines')\n",
    "\n",
    "# export image for ingestion to pdf file.\n",
    "# if not os.path.exists('images'):\n",
    "#     os.mkdir('images')\n",
    "# pio.write_image(fig, 'images/change_in_number_women.png')"
   ]
  },
  {
   "cell_type": "code",
   "execution_count": null,
   "metadata": {
    "hide_input": true,
    "tags": [
     "plotcell"
    ]
   },
   "outputs": [],
   "source": [
    "linecolors = ['blue', 'green', 'purple', 'brown']\n",
    "legend_labels = ['no growth', 'linear growth', '3 year growth', '4 year growth']\n",
    "\n",
    "plt.figure(figsize=(12,12))\n",
    "\n",
    "for k,v in enumerate(results.mlist):\n",
    "    plt.plot(\n",
    "             v.summary_matrix['yr'], \n",
    "             v.summary_matrix['f_avg'],\n",
    "             linewidth=2,\n",
    "             color=linecolors[k],\n",
    "             label=legend_labels[k],\n",
    "             marker=\"o\",\n",
    "            )\n",
    "    plt.fill_between(\n",
    "             v.summary_matrix['yr'],\n",
    "             v.summary_matrix['f_975'],\n",
    "             v.summary_matrix['f_025'],\n",
    "             alpha=0.25,\n",
    "             facecolor=linecolors[k]\n",
    "            )\n",
    "\n",
    "plt.plot(\n",
    "        v.summary_matrix['yr'],\n",
    "        v.summary_matrix['act_f'],\n",
    "        color='blue',\n",
    "        linewidth=2,\n",
    "        linestyle='-.',\n",
    "        label='Management Data')\n",
    "    \n",
    "plt.title('Comparison of Model 3 Growth Models: Change in Number Women, Model 3', fontsize=20)\n",
    "plt.xlabel('Year', fontsize=16)\n",
    "plt.ylabel('Number of Women Faculty', fontsize=16)\n",
    "plt.legend(loc='upper right', fontsize=16)\n",
    "if not os.path.exists('images'):\n",
    "    os.mkdir('images')\n",
    "plt.savefig('images/change_in_number_women.png')\n",
    "plt.close()"
   ]
  },
  {
   "cell_type": "markdown",
   "metadata": {
    "hide_input": true
   },
   "source": [
    "## Comparison of Model 3 Growth Models: Department Size"
   ]
  },
  {
   "cell_type": "code",
   "execution_count": null,
   "metadata": {
    "hide_input": true,
    "scrolled": false,
    "tags": [
     "plotcell"
    ]
   },
   "outputs": [],
   "source": [
    "data = []\n",
    "linecolors = ['rgb(0,0,255)', 'rgb(0,128,0)', 'rgb(128,0,128)', 'rgb(139,69,19)']\n",
    "fillcolors = ['rgba(0,0,255,0.25)', 'rgba(0,128,0,0.25)', 'rgba(128,0,128,0.25)', 'rgba(160,82,45,0.25)']\n",
    "\n",
    "for k,v in enumerate(results.mlist):\n",
    "    data.append(go.Scatter(\n",
    "        x=np.append(v.summary_matrix['yr'], v.summary_matrix['yr'].values[::-1]),\n",
    "        y=np.append(v.summary_matrix['deptn_975'], v.summary_matrix['deptn_025'].values[::-1]),\n",
    "        fill='tozerox',\n",
    "        fillcolor=fillcolors[k],\n",
    "        line=dict(color=linecolors[k],\n",
    "                 width=1),\n",
    "        legendgroup=legend_labels[k],\n",
    "        showlegend=False,\n",
    "        mode='lines',\n",
    "        name=legend_labels[k],\n",
    "    ))\n",
    "\n",
    "    data.append(go.Scatter(\n",
    "        x=v.summary_matrix['yr'],\n",
    "        y=v.summary_matrix['deptn_avg'],\n",
    "        line=dict(color=linecolors[k],\n",
    "                 width=2),\n",
    "        legendgroup=legend_labels[k],\n",
    "        showlegend=True,\n",
    "        marker=dict(\n",
    "            size=4),\n",
    "        mode='lines+markers',\n",
    "        name=legend_labels[k],\n",
    "    ))\n",
    "\n",
    "\n",
    "data.append(go.Scatter(\n",
    "    x=v.summary_matrix['yr'], \n",
    "    y=v.summary_matrix['act_deptn'],\n",
    "    line=dict(color='blue',\n",
    "             dash='dashdot'),\n",
    "    name='Management Data',\n",
    "    mode='lines+markers',\n",
    "    marker=dict(\n",
    "        size=4),\n",
    "\n",
    "))\n",
    "    \n",
    "layout = go.Layout(\n",
    "    title='Comparison of Model 3 Growth Models: Department Size',\n",
    "    height=800,\n",
    "    width=900,\n",
    "    paper_bgcolor='rgb(255,255,255)',\n",
    "    plot_bgcolor='rgb(255,255,255)',\n",
    "    xaxis=dict(\n",
    "        visible=True,\n",
    "        title='Year',\n",
    "        gridcolor='rgb(229,229,229)',\n",
    "        showgrid=True,\n",
    "        showline=True,\n",
    "        showticklabels=True,\n",
    "        tickcolor='rgb(127,127,127)',\n",
    "        ticks='outside',\n",
    "        zeroline=False\n",
    "    ),\n",
    "    yaxis=dict(\n",
    "        title='Number of Faculty in the Department',\n",
    "        gridcolor='rgb(229,229,229)',\n",
    "        showgrid=True,\n",
    "        showline=True,\n",
    "        showticklabels=True,\n",
    "        tickcolor='rgb(127,127,127)',\n",
    "        ticks='outside',\n",
    "        zeroline=False\n",
    "    ),\n",
    ")\n",
    "fig = go.Figure(data=data, layout=layout)\n",
    "plotly.offline.iplot(fig, filename= 'shaded_lines')\n",
    "\n",
    "# export image for ingestion to pdf file.\n",
    "# if not os.path.exists('images'):\n",
    "#     os.mkdir('images')\n",
    "# pio.write_image(fig, 'images/dept_size_plot.png')"
   ]
  },
  {
   "cell_type": "code",
   "execution_count": null,
   "metadata": {
    "hide_input": true,
    "tags": [
     "plotcell"
    ]
   },
   "outputs": [],
   "source": [
    "linecolors = ['blue', 'green', 'purple', 'brown']\n",
    "legend_labels = ['no growth', 'linear growth', '3 year growth', '4 year growth']\n",
    "\n",
    "plt.figure(figsize=(12,12))\n",
    "\n",
    "for k,v in enumerate(results.mlist):\n",
    "    plt.plot(\n",
    "             v.summary_matrix['yr'], \n",
    "             v.summary_matrix['deptn_avg'],\n",
    "             linewidth=2,\n",
    "             color=linecolors[k],\n",
    "             label=legend_labels[k],\n",
    "             marker=\"o\",\n",
    "            )\n",
    "    plt.fill_between(\n",
    "             v.summary_matrix['yr'],\n",
    "             v.summary_matrix['deptn_975'],\n",
    "             v.summary_matrix['deptn_025'],\n",
    "             alpha=0.25,\n",
    "             facecolor=linecolors[k]\n",
    "            )\n",
    "\n",
    "plt.plot(\n",
    "        v.summary_matrix['yr'],\n",
    "        v.summary_matrix['act_deptn'],\n",
    "        color='blue',\n",
    "        linewidth=2,\n",
    "        linestyle='-.',\n",
    "        label='Management Data')\n",
    "    \n",
    "plt.title('Comparison of Model 3 Growth Models: Department Size', fontsize=20)\n",
    "plt.xlabel('Year', fontsize=16)\n",
    "plt.ylabel('Number of Faculty in the Department', fontsize=16)\n",
    "plt.legend(loc='upper right', fontsize=16)\n",
    "if not os.path.exists('images'):\n",
    "    os.mkdir('images')\n",
    "plt.savefig('images/dept_size_plot.png')\n",
    "plt.close()"
   ]
  },
  {
   "cell_type": "markdown",
   "metadata": {},
   "source": [
    "# Data Export\n",
    "\n",
    "This section of the notebook allows the user to export data do CSV format. "
   ]
  },
  {
   "cell_type": "code",
   "execution_count": null,
   "metadata": {
    "hide_input": false,
    "tags": [
     "widget_display"
    ]
   },
   "outputs": [],
   "source": [
    "display(button_panel)"
   ]
  },
  {
   "cell_type": "markdown",
   "metadata": {
    "hide_input": true
   },
   "source": [
    "## PDF Export\n",
    "The button below will export the notebook data as a PDF file."
   ]
  },
  {
   "cell_type": "code",
   "execution_count": null,
   "metadata": {
    "hide_input": true,
    "scrolled": true,
    "tags": [
     "widget_display"
    ]
   },
   "outputs": [],
   "source": [
    "from IPython.display import display\n",
    "button = widgets.Button(description=\"Generate PDF\")\n",
    "display(button)\n",
    "\n",
    "def on_button_clicked(b):\n",
    "    \n",
    "    # TODO pull the dictionary with model settings and use it to populate Jinja 2 template\n",
    "    data_for_pdf = data_mgmt\n",
    "    data_for_pdf['date_time'] = model_no_growth.model_run_date_time\n",
    "    report_filename = 'pdf_exports/simulation_report'+ model_no_growth.model_run_date_time + '.pdf'\n",
    "    file_loader = FileSystemLoader('./styles')\n",
    "    env = Environment(loader=file_loader)\n",
    "    template = env.get_template('simulation_report.md')\n",
    "    output = template.render(data_for_pdf)\n",
    "    with open(\"styles/temp_simulation_report.md\", \"w\") as fh:\n",
    "        fh.write(output)\n",
    "        \n",
    "    subprocess.run(['md2pdf', 'styles/temp_simulation_report.md', report_filename])\n",
    "    os.remove('styles/temp_simulation_report.md')\n",
    "    print(\"PDF Generated\")\n",
    "button.on_click(on_button_clicked)\n"
   ]
  },
  {
   "cell_type": "markdown",
   "metadata": {
    "hide_input": false
   },
   "source": [
    "# Notebook Settings"
   ]
  },
  {
   "cell_type": "code",
   "execution_count": 1,
   "metadata": {
    "hide_input": true,
    "init_cell": true,
    "scrolled": false
   },
   "outputs": [
    {
     "data": {
      "text/html": [
       "        <script type=\"text/javascript\">\n",
       "        window.PlotlyConfig = {MathJaxConfig: 'local'};\n",
       "        if (window.MathJax) {MathJax.Hub.Config({SVG: {font: \"STIX-Web\"}});}\n",
       "        if (typeof require !== 'undefined') {\n",
       "        require.undef(\"plotly\");\n",
       "        requirejs.config({\n",
       "            paths: {\n",
       "                'plotly': ['https://cdn.plot.ly/plotly-latest.min']\n",
       "            }\n",
       "        });\n",
       "        require(['plotly'], function(Plotly) {\n",
       "            window._Plotly = Plotly;\n",
       "        });\n",
       "        }\n",
       "        </script>\n",
       "        "
      ]
     },
     "metadata": {},
     "output_type": "display_data"
    }
   ],
   "source": [
    "from ipywidgets import interact, interactive, fixed, interact_manual\n",
    "import ipywidgets as widgets\n",
    "from ipywidgets import Textarea, VBox\n",
    "from IPython.display import display, HTML, clear_output\n",
    "from IPython.core.display import Javascript\n",
    "from IPython.display import display\n",
    "import os\n",
    "import numpy as np\n",
    "import pandas as pd\n",
    "import pyugend2\n",
    "import time\n",
    "import datetime\n",
    "import builtins\n",
    "from IPython.lib import deepreload\n",
    "builtins.reload = deepreload.reload\n",
    "from IPython.display import display\n",
    "import math\n",
    "import datetime\n",
    "from IPython.display import Image\n",
    "import warnings\n",
    "warnings.filterwarnings('ignore')\n",
    "from fitter import Fitter\n",
    "%reload_ext autoreload\n",
    "import plotly\n",
    "import chart_studio.plotly as py\n",
    "import plotly.graph_objs as go\n",
    "plotly.offline.init_notebook_mode(connected=True)\n",
    "import plotly.io as pio\n",
    "import matplotlib.pyplot as plt\n",
    "\n",
    "plotly.__version__\n",
    "\n",
    "from jinja2 import Environment, FileSystemLoader\n",
    "import subprocess"
   ]
  },
  {
   "cell_type": "markdown",
   "metadata": {
    "hide_input": true
   },
   "source": [
    "## Initialize Widgets "
   ]
  },
  {
   "cell_type": "markdown",
   "metadata": {
    "hide_input": true
   },
   "source": [
    "## Widget setup\n",
    "\n"
   ]
  },
  {
   "cell_type": "markdown",
   "metadata": {
    "hide_input": true
   },
   "source": [
    "### Model Settings Widget"
   ]
  },
  {
   "cell_type": "code",
   "execution_count": 2,
   "metadata": {
    "hide_input": false,
    "init_cell": true
   },
   "outputs": [],
   "source": [
    "%run growth_files/widgets_settings.py\n"
   ]
  },
  {
   "cell_type": "code",
   "execution_count": 3,
   "metadata": {
    "hide_input": false,
    "init_cell": true,
    "tags": [
     "widget_input_refresh"
    ]
   },
   "outputs": [],
   "source": [
    "def create_widgets_tab():\n",
    "    tab_contents = ['P0', 'P1', 'P2', 'P3', 'P4']\n",
    "    tabnames = ['numbers',\n",
    "               'attrition',\n",
    "               'hiring',\n",
    "               'promotion',\n",
    "               'model settings',\n",
    "               'growth settings']\n",
    "    children = [widgets.Text(description=name) for name in tab_contents]\n",
    "    tab = widgets.Tab()\n",
    "    tab.children = [numbers_widget, \n",
    "                    attrition_widget, \n",
    "                    hiring_widget, \n",
    "                    promotion_widget, \n",
    "                    model_settings_widget, \n",
    "                    growth_rate_widget]\n",
    "\n",
    "    for i in range(len(tabnames)):\n",
    "        tab.set_title(i, tabnames[i])\n",
    "    return tab\n",
    "\n",
    "tab = create_widgets_tab()\n",
    "\n",
    "# Handler to connect change in duration to change in tab.\n",
    "def handle_growth_widget_change(change):\n",
    "    display(Javascript(\"window.runGrowthEventHandler()\"))\n",
    "    tab = create_widgets_tab()\n",
    "    \n",
    "def handle_update_average_rates(change):\n",
    "    avg = round(np.mean([attrition_dict[k].value for k in widget_sequence]), 4) \n",
    "    attrition_dict['avgl'].value = str(avg)\n",
    "\n",
    "model_settings_dict['duration'].observe(handle_growth_widget_change, names='value')\n",
    "\n",
    "for k in widget_sequence:\n",
    "    attrition_dict[k].observe(handle_update_average_rates, names='value')\n",
    "\n",
    "# disable hiring_dict and promotion_dict from displaying in the widgets box.\n",
    "hiring_dict['avgl'].value = ''\n",
    "hiring_dict['avgll'].value = ''\n",
    "hiring_dict['davgl'].value = ''\n",
    "hiring_dict['davgll'].value = ''\n",
    "\n",
    "promotion_dict['avgl'].value = ''\n",
    "promotion_dict['avgll'].value = ''\n",
    "promotion_dict['davgl'].value = ''\n",
    "promotion_dict['davgll'].value = ''\n",
    "\n",
    "annotation_text = Textarea(layout={'height': '100%'})\n",
    "annotation_box = VBox([annotation_text], layout={'height': '300px'})"
   ]
  },
  {
   "cell_type": "markdown",
   "metadata": {
    "hide_input": false
   },
   "source": [
    "### Model Confirmation Widget"
   ]
  },
  {
   "cell_type": "code",
   "execution_count": 4,
   "metadata": {
    "hide_input": false,
    "init_cell": true
   },
   "outputs": [],
   "source": [
    "def execute_models(b):\n",
    "    display(Javascript(\"window.runSimulation()\"))\n",
    "    display(Javascript(\"window.runPlotCells()\"))\n",
    "    display(Javascript(\"window.runCSVCodeRefresh()\"))\n",
    "    display(Javascript(\"window.runCSVWidgetRefresh()\"))\n",
    "def get_widget_data(b):\n",
    "    clear_output()\n",
    "    model_settings = display_model_settings()\n",
    "    growth_settings = display_growth_settings()\n",
    "    sim_settings = display_simulation_settings()\n",
    "    simulation_settings_label = widgets.Label(value='Simulation Settings')\n",
    "    growth_settings_label = widgets.Label(value='Growth Settings')\n",
    "    all_settings_tab = widgets.VBox([model_settings,\n",
    "                                     simulation_settings_label,\n",
    "                                     sim_settings,\n",
    "                                     growth_settings_label,\n",
    "                                     growth_settings])\n",
    "    tab_contents = ['P0', 'P1', 'P2']\n",
    "    tabnames = ['Model Settings',\n",
    "                'Simulation Settings',\n",
    "                'Model Choices']\n",
    "    children = [widgets.Text(description=name) for name in tab_contents]\n",
    "    confirm_tab = widgets.Tab()\n",
    "    confirm_tab.children = [all_settings_tab]\n",
    "\n",
    "    for i in range(len(tabnames)):\n",
    "        confirm_tab.set_title(i, tabnames[i])\n",
    "    display(buttons)\n",
    "    display(confirm_tab)\n",
    "    \n",
    "# Create button widgets for Showing, Confirming, and Executing models.\n",
    "button_model_settings = widgets.Button(description=\"Show Model Settings\")\n",
    "button_model_settings.on_click(get_widget_data)\n",
    "button_confirm = widgets.Button(description='Save and Execute')\n",
    "button_confirm.on_click(execute_models)\n",
    "buttons = widgets.HBox([button_model_settings, button_confirm])"
   ]
  },
  {
   "cell_type": "markdown",
   "metadata": {
    "hide_input": true
   },
   "source": [
    "### Data Export Widget"
   ]
  },
  {
   "cell_type": "code",
   "execution_count": 5,
   "metadata": {
    "hide_input": false,
    "init_cell": true
   },
   "outputs": [],
   "source": [
    "%run growth_files/widgets_data_export.py"
   ]
  },
  {
   "cell_type": "code",
   "execution_count": null,
   "metadata": {
    "hide_input": false,
    "init_cell": true,
    "tags": [
     "csv_export_code"
    ]
   },
   "outputs": [],
   "source": [
    "\n",
    "\n",
    "data_export_button_dict, button_panel = data_export_widget()\n",
    "\n",
    "def on_button_clicked_no_growth(b):\n",
    "    d = model_no_growth.model_run_date_time\n",
    "    filename = 'csv_exports/no_growth_summary'+d+'.csv'\n",
    "    filename2 = 'csv_exports/no_growth_model_data'+d+'.csv'\n",
    "    model_no_growth.summary_matrix.to_csv(filename, index=False, header=True)\n",
    "    t = model_no_growth.simulation_matrix.to_dataframe('results').unstack()\n",
    "    t.columns = t.columns.droplevel(0)\n",
    "    t.loc[:,'notes'] = model_no_growth.annotation\n",
    "    t.reset_index().to_csv(filename2, index=False, header=True)\n",
    "    \n",
    "def on_button_clicked_linear_growth(b):\n",
    "    d = model_linear_growth.model_run_date_time\n",
    "    filename = 'csv_exports/linear_growth_summary'+d+'.csv'\n",
    "    filename2 = 'csv_exports/linear_growth_model_data'+d+'.csv'\n",
    "    model_linear_growth.summary_matrix.to_csv(filename, index=False, header=True)\n",
    "    t = model_linear_growth.simulation_matrix.to_dataframe('results').unstack()\n",
    "    t.columns = t.columns.droplevel(0)\n",
    "    t.loc[:,'notes'] = model_linear_growth.annotation\n",
    "    t.reset_index().to_csv(filename2, index=False, header=True)\n",
    "    \n",
    "def on_button_clicked_3yr_growth(b):\n",
    "    d = model_3yr_growth_rate.model_run_date_time\n",
    "    filename = 'csv_exports/model_3yr_growth_summary'+d+'.csv'\n",
    "    filename2 = 'csv_exports/model_3yr_growth_data'+d+'.csv'\n",
    "    model_3yr_growth_rate.summary_matrix.to_csv(filename, index=False, header=True)\n",
    "    t = model_3yr_growth_rate.simulation_matrix.to_dataframe('results').unstack()\n",
    "    t.columns = t.columns.droplevel(0)\n",
    "    t.loc[:,'notes'] = model_3yr_growth_rate.annotation\n",
    "    t.reset_index().to_csv(filename2, index=False, header=True)    \n",
    "    \n",
    "def on_button_clicked_4yr_growth(b):\n",
    "    d = model_4yr_growth_rate.model_run_date_time\n",
    "    filename = 'csv_exports/model_4yr_growth_summary'+d+'.csv'\n",
    "    filename2 = 'csv_exports/model_4yr_growth_data'+d+'.csv'\n",
    "    model_4yr_growth_rate.summary_matrix.to_csv(filename, index=False, header=True)\n",
    "    t = model_4yr_growth_rate.simulation_matrix.to_dataframe('results').unstack()\n",
    "    t.columns = t.columns.droplevel(0)\n",
    "    t.loc[:,'notes'] = model_3yr_growth_rate.annotation\n",
    "    t.reset_index().to_csv(filename2, index=False, header=True)\n",
    "    \n",
    "data_export_button_dict['button_no_growth'].on_click(on_button_clicked_no_growth)    \n",
    "data_export_button_dict['button_linear_growth'].on_click(on_button_clicked_linear_growth)    \n",
    "data_export_button_dict['button_3yr_growth'].on_click(on_button_clicked_3yr_growth)    \n",
    "data_export_button_dict['button_4yr_growth'].on_click(on_button_clicked_4yr_growth)    \n"
   ]
  },
  {
   "cell_type": "markdown",
   "metadata": {},
   "source": [
    "# Auxillary functions\n"
   ]
  },
  {
   "cell_type": "code",
   "execution_count": 7,
   "metadata": {
    "hide_input": false,
    "init_cell": true
   },
   "outputs": [
    {
     "data": {
      "application/javascript": [
       "window.findCellIndicesByTag = function findCellIndicesByTag(tagName) {\n",
       "  return (Jupyter.notebook.get_cells()\n",
       "    .filter(\n",
       "      ({metadata: {tags}}) => tags && tags.includes(tagName)\n",
       "    )\n",
       "    .map((cell) => Jupyter.notebook.find_cell_index(cell))\n",
       "  );\n",
       "};\n",
       "\n",
       "window.runPlotCells = function runPlotCells() {\n",
       "    var c = window.findCellIndicesByTag('plotcell');\n",
       "    Jupyter.notebook.execute_cells(c);\n",
       "};\n",
       "\n",
       "window.runWidgetCells = function runWidgetCells() {\n",
       "    var c = window.findCellIndicesByTag('widget_setup');\n",
       "    Jupyter.notebook.execute_cells(c);\n",
       "};\n",
       "\n",
       "window.runWidgetDisplay = function runWidgetDisplay() {\n",
       "    var c = window.findCellIndicesByTag('widget_display');\n",
       "    Jupyter.notebook.execute_cells(c);\n",
       "};\n",
       "\n",
       "window.runGrowthEventHandler = function runGrowthEventHandler() {\n",
       "    var c = window.findCellIndicesByTag('growth_event_handler');\n",
       "    Jupyter.notebook.execute_cells(c);\n",
       "};\n",
       "\n",
       "window.runGrowthWidgetRefresh = function runGrowthWidgetRefresh() {\n",
       "    var c = window.findCellIndicesByTag('widget_input_refresh');\n",
       "    Jupyter.notebook.execute_cells(c);\n",
       "};\n",
       "\n",
       "window.runSimulation = function runSimulation() {\n",
       "    var c = window.findCellIndicesByTag('run_simulation');\n",
       "    Jupyter.notebook.execute_cells(c);\n",
       "};\n",
       "\n",
       "window.runCSVCodeRefresh = function runCSVCodeRefresh() {\n",
       "    var c = window.findCellIndicesByTag('csv_export_code');\n",
       "    Jupyter.notebook.execute_cells(c);\n",
       "};\n",
       "\n",
       "window.runCSVWidgetRefresh = function runCSVWidgetRefresh() {\n",
       "    var c = window.findCellIndicesByTag('csv_export_widget');\n",
       "    Jupyter.notebook.execute_cells(c);\n",
       "};\n"
      ],
      "text/plain": [
       "<IPython.core.display.Javascript object>"
      ]
     },
     "metadata": {},
     "output_type": "display_data"
    }
   ],
   "source": [
    "%%javascript\n",
    "window.findCellIndicesByTag = function findCellIndicesByTag(tagName) {\n",
    "  return (Jupyter.notebook.get_cells()\n",
    "    .filter(\n",
    "      ({metadata: {tags}}) => tags && tags.includes(tagName)\n",
    "    )\n",
    "    .map((cell) => Jupyter.notebook.find_cell_index(cell))\n",
    "  );\n",
    "};\n",
    "\n",
    "window.runPlotCells = function runPlotCells() {\n",
    "    var c = window.findCellIndicesByTag('plotcell');\n",
    "    Jupyter.notebook.execute_cells(c);\n",
    "};\n",
    "\n",
    "window.runWidgetCells = function runWidgetCells() {\n",
    "    var c = window.findCellIndicesByTag('widget_setup');\n",
    "    Jupyter.notebook.execute_cells(c);\n",
    "};\n",
    "\n",
    "window.runWidgetDisplay = function runWidgetDisplay() {\n",
    "    var c = window.findCellIndicesByTag('widget_display');\n",
    "    Jupyter.notebook.execute_cells(c);\n",
    "};\n",
    "\n",
    "window.runGrowthEventHandler = function runGrowthEventHandler() {\n",
    "    var c = window.findCellIndicesByTag('growth_event_handler');\n",
    "    Jupyter.notebook.execute_cells(c);\n",
    "};\n",
    "\n",
    "window.runGrowthWidgetRefresh = function runGrowthWidgetRefresh() {\n",
    "    var c = window.findCellIndicesByTag('widget_input_refresh');\n",
    "    Jupyter.notebook.execute_cells(c);\n",
    "};\n",
    "\n",
    "window.runSimulation = function runSimulation() {\n",
    "    var c = window.findCellIndicesByTag('run_simulation');\n",
    "    Jupyter.notebook.execute_cells(c);\n",
    "};\n",
    "\n",
    "window.runCSVCodeRefresh = function runCSVCodeRefresh() {\n",
    "    var c = window.findCellIndicesByTag('csv_export_code');\n",
    "    Jupyter.notebook.execute_cells(c);\n",
    "};\n",
    "\n",
    "window.runCSVWidgetRefresh = function runCSVWidgetRefresh() {\n",
    "    var c = window.findCellIndicesByTag('csv_export_widget');\n",
    "    Jupyter.notebook.execute_cells(c);\n",
    "};"
   ]
  },
  {
   "cell_type": "code",
   "execution_count": 80,
   "metadata": {
    "hide_input": false,
    "tags": [
     "growth_event_handler"
    ]
   },
   "outputs": [
    {
     "data": {
      "application/javascript": [
       "window.runGrowthWidgetRefresh()"
      ],
      "text/plain": [
       "<IPython.core.display.Javascript object>"
      ]
     },
     "metadata": {},
     "output_type": "display_data"
    },
    {
     "data": {
      "application/javascript": [
       "window.runWidgetDisplay()"
      ],
      "text/plain": [
       "<IPython.core.display.Javascript object>"
      ]
     },
     "metadata": {},
     "output_type": "display_data"
    }
   ],
   "source": [
    "growth_rate_dict, growth_rate_widget = growth_widget_panel(model_settings_dict['duration'].value)\n",
    "display(Javascript(\"window.runGrowthWidgetRefresh()\"))\n",
    "display(Javascript(\"window.runWidgetDisplay()\"))"
   ]
  },
  {
   "cell_type": "code",
   "execution_count": 8,
   "metadata": {
    "hide_input": false,
    "init_cell": true
   },
   "outputs": [
    {
     "data": {
      "application/javascript": [
       "window.runWidgetCells()"
      ],
      "text/plain": [
       "<IPython.core.display.Javascript object>"
      ]
     },
     "metadata": {},
     "output_type": "display_data"
    },
    {
     "data": {
      "application/javascript": [
       "window.runWidgetDisplay()"
      ],
      "text/plain": [
       "<IPython.core.display.Javascript object>"
      ]
     },
     "metadata": {},
     "output_type": "display_data"
    }
   ],
   "source": [
    "display(Javascript(\"window.runWidgetCells()\"))\n",
    "display(Javascript(\"window.runWidgetDisplay()\"))\n"
   ]
  }
 ],
 "metadata": {
  "celltoolbar": "Tags",
  "kernelspec": {
   "display_name": "Python 3",
   "language": "python",
   "name": "python3"
  },
  "language_info": {
   "codemirror_mode": {
    "name": "ipython",
    "version": 3
   },
   "file_extension": ".py",
   "mimetype": "text/x-python",
   "name": "python",
   "nbconvert_exporter": "python",
   "pygments_lexer": "ipython3",
   "version": "3.7.4"
  },
  "latex_envs": {
   "LaTeX_envs_menu_present": true,
   "autoclose": false,
   "autocomplete": true,
   "bibliofile": "biblio.bib",
   "cite_by": "apalike",
   "current_citInitial": 1,
   "eqLabelWithNumbers": true,
   "eqNumInitial": 1,
   "hotkeys": {
    "equation": "Ctrl-E",
    "itemize": "Ctrl-I"
   },
   "labels_anchors": false,
   "latex_user_defs": false,
   "report_style_numbering": false,
   "user_envs_cfg": false
  },
  "toc": {
   "base_numbering": 1,
   "nav_menu": {},
   "number_sections": true,
   "sideBar": true,
   "skip_h1_title": false,
   "title_cell": "Table of Contents",
   "title_sidebar": "Contents",
   "toc_cell": true,
   "toc_position": {
    "height": "calc(100% - 180px)",
    "left": "10px",
    "top": "150px",
    "width": "165px"
   },
   "toc_section_display": false,
   "toc_window_display": false
  },
  "toc_position": {
   "left": "-4.65625px",
   "right": "20px",
   "top": "113px",
   "width": "300px"
  }
 },
 "nbformat": 4,
 "nbformat_minor": 2
}
