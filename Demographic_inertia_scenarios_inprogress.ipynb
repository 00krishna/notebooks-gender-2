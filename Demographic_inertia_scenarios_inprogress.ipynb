{
 "cells": [
  {
   "cell_type": "markdown",
   "metadata": {
    "toc": true
   },
   "source": [
    "<h1>Table of Contents<span class=\"tocSkip\"></span></h1>\n",
    "<div class=\"toc\"><ul class=\"toc-item\"><li><span><a href=\"#Set-Model-Parameters\" data-toc-modified-id=\"Set-Model-Parameters-1\"><span class=\"toc-item-num\">1&nbsp;&nbsp;</span>Set Model Parameters</a></span></li><li><span><a href=\"#Notes\" data-toc-modified-id=\"Notes-2\"><span class=\"toc-item-num\">2&nbsp;&nbsp;</span>Notes</a></span></li><li><span><a href=\"#Confirm-Model-Settings-and-Execute-Simulation\" data-toc-modified-id=\"Confirm-Model-Settings-and-Execute-Simulation-3\"><span class=\"toc-item-num\">3&nbsp;&nbsp;</span>Confirm Model Settings and Execute Simulation</a></span></li><li><span><a href=\"#Simulation-Results\" data-toc-modified-id=\"Simulation-Results-4\"><span class=\"toc-item-num\">4&nbsp;&nbsp;</span>Simulation Results</a></span><ul class=\"toc-item\"><li><span><a href=\"#Comparison-of-Model-3-Growth-Models:-Change-in-Proportion-of-Women\" data-toc-modified-id=\"Comparison-of-Model-3-Growth-Models:-Change-in-Proportion-of-Women-4.1\"><span class=\"toc-item-num\">4.1&nbsp;&nbsp;</span>Comparison of Model 3 Growth Models: Change in Proportion of Women</a></span></li><li><span><a href=\"#Comparison-of-Model-3-Growth-Models:-Probability-of-Achieving-25%-Women\" data-toc-modified-id=\"Comparison-of-Model-3-Growth-Models:-Probability-of-Achieving-25%-Women-4.2\"><span class=\"toc-item-num\">4.2&nbsp;&nbsp;</span>Comparison of Model 3 Growth Models: Probability of Achieving 25% Women</a></span></li><li><span><a href=\"#Comparison-of-Model-3-Growth-Models:-Change-in-Number-Women,-Model-3\" data-toc-modified-id=\"Comparison-of-Model-3-Growth-Models:-Change-in-Number-Women,-Model-3-4.3\"><span class=\"toc-item-num\">4.3&nbsp;&nbsp;</span>Comparison of Model 3 Growth Models: Change in Number Women, Model 3</a></span></li><li><span><a href=\"#Comparison-of-Model-3-Growth-Models:-Department-Size\" data-toc-modified-id=\"Comparison-of-Model-3-Growth-Models:-Department-Size-4.4\"><span class=\"toc-item-num\">4.4&nbsp;&nbsp;</span>Comparison of Model 3 Growth Models: Department Size</a></span></li></ul></li><li><span><a href=\"#Data-Export\" data-toc-modified-id=\"Data-Export-5\"><span class=\"toc-item-num\">5&nbsp;&nbsp;</span>Data Export</a></span><ul class=\"toc-item\"><li><span><a href=\"#PDF-Export\" data-toc-modified-id=\"PDF-Export-5.1\"><span class=\"toc-item-num\">5.1&nbsp;&nbsp;</span>PDF Export</a></span></li></ul></li><li><span><a href=\"#Notebook-Settings\" data-toc-modified-id=\"Notebook-Settings-6\"><span class=\"toc-item-num\">6&nbsp;&nbsp;</span>Notebook Settings</a></span><ul class=\"toc-item\"><li><span><a href=\"#Initialize-Widgets\" data-toc-modified-id=\"Initialize-Widgets-6.1\"><span class=\"toc-item-num\">6.1&nbsp;&nbsp;</span>Initialize Widgets</a></span></li><li><span><a href=\"#Widget-setup\" data-toc-modified-id=\"Widget-setup-6.2\"><span class=\"toc-item-num\">6.2&nbsp;&nbsp;</span>Widget setup</a></span><ul class=\"toc-item\"><li><span><a href=\"#Model-Settings-Widget\" data-toc-modified-id=\"Model-Settings-Widget-6.2.1\"><span class=\"toc-item-num\">6.2.1&nbsp;&nbsp;</span>Model Settings Widget</a></span></li><li><span><a href=\"#Model-Confirmation-Widget\" data-toc-modified-id=\"Model-Confirmation-Widget-6.2.2\"><span class=\"toc-item-num\">6.2.2&nbsp;&nbsp;</span>Model Confirmation Widget</a></span></li><li><span><a href=\"#Data-Export-Widget\" data-toc-modified-id=\"Data-Export-Widget-6.2.3\"><span class=\"toc-item-num\">6.2.3&nbsp;&nbsp;</span>Data Export Widget</a></span></li></ul></li></ul></li><li><span><a href=\"#Auxillary-functions\" data-toc-modified-id=\"Auxillary-functions-7\"><span class=\"toc-item-num\">7&nbsp;&nbsp;</span>Auxillary functions</a></span></li></ul></div>"
   ]
  },
  {
   "cell_type": "markdown",
   "metadata": {},
   "source": [
    "# Set Model Parameters "
   ]
  },
  {
   "cell_type": "code",
   "execution_count": 18,
   "metadata": {
    "hide_input": false,
    "scrolled": false,
    "tags": [
     "widget_display",
     "widget_input_refresh"
    ]
   },
   "outputs": [
    {
     "data": {
      "application/vnd.jupyter.widget-view+json": {
       "model_id": "21d96069a2834aff920c7706d4d165ba",
       "version_major": 2,
       "version_minor": 0
      },
      "text/plain": [
       "Tab(children=(VBox(children=(HTML(value=\"<font size='+1'><b>Scenario 1 Settings</b></font>\"), HBox(children=(V…"
      ]
     },
     "metadata": {},
     "output_type": "display_data"
    }
   ],
   "source": [
    "display(tab)"
   ]
  },
  {
   "cell_type": "markdown",
   "metadata": {},
   "source": [
    "# Notes "
   ]
  },
  {
   "cell_type": "code",
   "execution_count": 19,
   "metadata": {
    "tags": [
     "widget_display"
    ]
   },
   "outputs": [
    {
     "data": {
      "application/vnd.jupyter.widget-view+json": {
       "model_id": "b620618d4f1d404e8042e02ac6769e22",
       "version_major": 2,
       "version_minor": 0
      },
      "text/plain": [
       "VBox(children=(Textarea(value='', layout=Layout(height='100%')),), layout=Layout(height='300px'))"
      ]
     },
     "metadata": {},
     "output_type": "display_data"
    }
   ],
   "source": [
    "display(annotation_box)"
   ]
  },
  {
   "cell_type": "markdown",
   "metadata": {
    "hide_input": false
   },
   "source": [
    "# Confirm Model Settings and Execute Simulation\n"
   ]
  },
  {
   "cell_type": "code",
   "execution_count": 20,
   "metadata": {
    "hide_input": false,
    "scrolled": false,
    "tags": [
     "widget_display"
    ]
   },
   "outputs": [
    {
     "data": {
      "application/vnd.jupyter.widget-view+json": {
       "model_id": "1afa75f9ac014d5a971496ba01ddf32e",
       "version_major": 2,
       "version_minor": 0
      },
      "text/plain": [
       "HBox(children=(Button(description='Show Model Settings', style=ButtonStyle()), Button(description='Save and Ex…"
      ]
     },
     "metadata": {},
     "output_type": "display_data"
    },
    {
     "data": {
      "application/vnd.jupyter.widget-view+json": {
       "model_id": "c54398623ecd412e8675f1f2d110820e",
       "version_major": 2,
       "version_minor": 0
      },
      "text/plain": [
       "Tab(children=(VBox(children=(HTML(value=\"<font size='+1'><b>Scenario 1 Settings</b></font>\"), HBox(children=(O…"
      ]
     },
     "metadata": {},
     "output_type": "display_data"
    },
    {
     "data": {
      "application/javascript": [
       "window.runSimulation()"
      ],
      "text/plain": [
       "<IPython.core.display.Javascript object>"
      ]
     },
     "metadata": {},
     "output_type": "display_data"
    },
    {
     "data": {
      "application/javascript": [
       "window.runPlotCells()"
      ],
      "text/plain": [
       "<IPython.core.display.Javascript object>"
      ]
     },
     "metadata": {},
     "output_type": "display_data"
    }
   ],
   "source": [
    "display(buttons)"
   ]
  },
  {
   "cell_type": "code",
   "execution_count": 39,
   "metadata": {
    "hide_input": false,
    "tags": [
     "run_simulation"
    ]
   },
   "outputs": [
    {
     "name": "stderr",
     "output_type": "stream",
     "text": [
      "100%|██████████| 100/100 [00:53<00:00,  1.86it/s]\n",
      "100%|██████████| 100/100 [00:52<00:00,  1.89it/s]\n",
      "100%|██████████| 100/100 [00:52<00:00,  1.91it/s]\n"
     ]
    }
   ],
   "source": [
    "\n",
    "def set_mgmt_data(numbers_dict,\n",
    "                  hiring_dict,\n",
    "                  attrition_dict,\n",
    "                  promotion_dict,\n",
    "                  model_settings_dict):\n",
    "    data_mgmt = { 'number_of_females_1': numbers_dict['f1'].value,\n",
    "                  'number_of_females_2': numbers_dict['f2'].value,\n",
    "                  'number_of_females_3': numbers_dict['f3'].value,\n",
    "                  'number_of_males_1': numbers_dict['m1'].value,\n",
    "                  'number_of_males_2': numbers_dict['m2'].value,\n",
    "                  'number_of_males_3': numbers_dict['m3'].value,\n",
    "                  'hiring_rate_women_1':hiring_dict['f1'].value,\n",
    "                  'hiring_rate_women_2':hiring_dict['f2'].value,\n",
    "                  'hiring_rate_women_3':hiring_dict['f3'].value,\n",
    "                  'hiring_rate_men_1': hiring_dict['m1'].value,\n",
    "                  'hiring_rate_men_2': hiring_dict['m2'].value,\n",
    "                  'hiring_rate_men3': hiring_dict['m3'].value,\n",
    "                  'attrition_rate_women_1':attrition_dict['f1'].value,\n",
    "                  'attrition_rate_women_2':attrition_dict['f2'].value,\n",
    "                  'attrition_rate_women_3':attrition_dict['f3'].value,\n",
    "                  'attrition_rate_men_1':attrition_dict['m1'].value,\n",
    "                  'attrition_rate_men_2':attrition_dict['m2'].value,\n",
    "                  'attrition_rate_men_3':attrition_dict['m3'].value,\n",
    "                  'female_promotion_probability_1': promotion_dict['f1'].value,\n",
    "                  'female_promotion_probability_2': promotion_dict['f2'].value,\n",
    "                  'male_promotion_probability_1' : promotion_dict['m1'].value,\n",
    "                  'male_promotion_probability_2' : promotion_dict['m2'].value,\n",
    "                  'duration':model_settings_dict['duration'].value,\n",
    "                  'upperbound': model_settings_dict['upperbound'].value,\n",
    "                  'lowerbound': model_settings_dict['lowerbound'].value,\n",
    "                  'annotation_text': annotation_text.value, \n",
    "                  't_fpct': model_settings_dict['target_percentage_women'].value,\n",
    "                  'variation_range': model_settings_dict['variation_range'].value,\n",
    "                  'scenario1_linear_growth': [sc1_growth_rate_dict['widget_linear_growth_rate'].value],\n",
    "                  'scenario2_linear_growth': [sc2_growth_rate_dict['widget_linear_growth_rate'].value],\n",
    "                  'scenario3_linear_growth': [sc3_growth_rate_dict['widget_linear_growth_rate'].value],\n",
    "                  'scenario1_threeyr_growth': [sc1_growth_rate_dict['widget_increment3_' + str(i)].value for i in range(sc1_growth_rate_dict['increment3'])],\n",
    "                  'scenario2_threeyr_growth': [sc2_growth_rate_dict['widget_increment3_' + str(i)].value for i in range(sc2_growth_rate_dict['increment3'])], \n",
    "                  'scenario3_threeyr_growth': [sc3_growth_rate_dict['widget_increment3_' + str(i)].value for i in range(sc3_growth_rate_dict['increment3'])],\n",
    "                  'scenario1_fouryr_growth': [sc1_growth_rate_dict['widget_increment4_' + str(i)].value for i in range(sc1_growth_rate_dict['increment4'])],\n",
    "                  'scenario2_fouryr_growth': [sc2_growth_rate_dict['widget_increment4_' + str(i)].value for i in range(sc2_growth_rate_dict['increment4'])],\n",
    "                  'scenario3_fouryr_growth': [sc3_growth_rate_dict['widget_increment4_' + str(i)].value for i in range(sc3_growth_rate_dict['increment4'])]\n",
    "}\n",
    "    \n",
    "    return data_mgmt\n",
    "\n",
    "data_mgmt_sc1 = set_mgmt_data(sc1_numbers_dict,\n",
    "                             sc1_hiring_dict,\n",
    "                             sc1_attrition_dict,\n",
    "                             sc1_promotion_dict,\n",
    "                             model_settings_dict)\n",
    "data_mgmt_sc2 = set_mgmt_data(sc2_numbers_dict,\n",
    "                             sc2_hiring_dict,\n",
    "                             sc2_attrition_dict,\n",
    "                             sc2_promotion_dict,\n",
    "                             model_settings_dict)\n",
    "data_mgmt_sc3 = set_mgmt_data(sc3_numbers_dict,\n",
    "                             sc3_hiring_dict,\n",
    "                             sc3_attrition_dict,\n",
    "                             sc3_promotion_dict,\n",
    "                             model_settings_dict)\n",
    "\n",
    "data_mgmt_sc1['growth_rate'] = [sc1_growth_rate_dict['widget_linear_growth_rate'].value]\n",
    "data_mgmt_sc2['growth_rate'] = [sc2_growth_rate_dict['widget_linear_growth_rate'].value]\n",
    "data_mgmt_sc3['growth_rate'] = [sc3_growth_rate_dict['widget_linear_growth_rate'].value]\n",
    "\n",
    "model_sc1 = pyugend2.ModelGenderDiversityGrowthAsDrift(data_mgmt_sc1)\n",
    "model_sc2 = pyugend2.ModelGenderDiversityGrowthAsDrift(data_mgmt_sc2)\n",
    "model_sc3 = pyugend2.ModelGenderDiversityGrowthAsDrift(data_mgmt_sc3)\n",
    "\n",
    "model_sc1.model_common_name = 'Scenario 1 Model'\n",
    "model_sc2.model_common_name = 'Scenario 2 Model'\n",
    "model_sc3.model_common_name = 'Scenario 3 Model'\n",
    "\n",
    "visualization_dict = {}\n",
    "viz_keys = ['sc1_', 'sc2_', 'sc3_']\n",
    "i=0\n",
    "for d in [data_mgmt_sc1, data_mgmt_sc2, data_mgmt_sc3]:\n",
    "    for k, v in d.items():\n",
    "        visualization_dict[viz_keys[i] + k] = v\n",
    "    i +=1\n",
    "\n",
    "model_list = [model_sc1, model_sc2, model_sc3]\n",
    "results = pyugend2.Comparison(model_list)\n",
    "\n",
    "results.run_all_models(100)"
   ]
  },
  {
   "cell_type": "markdown",
   "metadata": {
    "hide_input": true
   },
   "source": [
    "# Simulation Results\n"
   ]
  },
  {
   "cell_type": "markdown",
   "metadata": {
    "hide_input": false
   },
   "source": [
    "## Comparison of Model 3 Growth Models: Change in Proportion of Women"
   ]
  },
  {
   "cell_type": "code",
   "execution_count": 40,
   "metadata": {
    "hide_input": true,
    "tags": [
     "plotcell"
    ]
   },
   "outputs": [
    {
     "data": {
      "application/vnd.plotly.v1+json": {
       "config": {
        "linkText": "Export to plot.ly",
        "plotlyServerURL": "https://plot.ly",
        "showLink": false
       },
       "data": [
        {
         "fill": "tozerox",
         "fillcolor": "rgba(0,0,255,0.25)",
         "legendgroup": "scenario 1",
         "line": {
          "color": "rgb(0,0,255)",
          "width": 1
         },
         "mode": "lines",
         "name": "scenario 1",
         "showlegend": false,
         "type": "scatter",
         "x": [
          0,
          1,
          2,
          3,
          4,
          5,
          6,
          7,
          8,
          9,
          10,
          11,
          12,
          12,
          11,
          10,
          9,
          8,
          7,
          6,
          5,
          4,
          3,
          2,
          1,
          0
         ],
         "y": [
          0.108,
          0.146,
          0.169,
          0.176,
          0.184,
          0.189,
          0.195,
          0.193,
          0.198,
          0.204,
          0.214,
          0.217,
          0.215,
          0.1,
          0.097,
          0.101,
          0.098,
          0.096,
          0.094,
          0.095,
          0.095,
          0.093,
          0.091,
          0.089,
          0.093,
          0.108
         ]
        },
        {
         "legendgroup": "scenario 1",
         "line": {
          "color": "rgb(0,0,255)",
          "width": 2
         },
         "marker": {
          "size": 4
         },
         "mode": "lines+markers",
         "name": "scenario 1",
         "showlegend": true,
         "type": "scatter",
         "x": [
          0,
          1,
          2,
          3,
          4,
          5,
          6,
          7,
          8,
          9,
          10,
          11,
          12
         ],
         "y": [
          0.108,
          0.117,
          0.123,
          0.128,
          0.136,
          0.14,
          0.143,
          0.144,
          0.147,
          0.148,
          0.152,
          0.155,
          0.159
         ]
        },
        {
         "fill": "tozerox",
         "fillcolor": "rgba(0,128,0,0.25)",
         "legendgroup": "scenario 2",
         "line": {
          "color": "rgb(0,128,0)",
          "width": 1
         },
         "mode": "lines",
         "name": "scenario 2",
         "showlegend": false,
         "type": "scatter",
         "x": [
          0,
          1,
          2,
          3,
          4,
          5,
          6,
          7,
          8,
          9,
          10,
          11,
          12,
          12,
          11,
          10,
          9,
          8,
          7,
          6,
          5,
          4,
          3,
          2,
          1,
          0
         ],
         "y": [
          0.108,
          0.175,
          0.221,
          0.226,
          0.223,
          0.227,
          0.234,
          0.239,
          0.244,
          0.243,
          0.237,
          0.239,
          0.241,
          0.128,
          0.13,
          0.128,
          0.129,
          0.129,
          0.124,
          0.116,
          0.114,
          0.116,
          0.116,
          0.11,
          0.09,
          0.108
         ]
        },
        {
         "legendgroup": "scenario 2",
         "line": {
          "color": "rgb(0,128,0)",
          "width": 2
         },
         "marker": {
          "size": 4
         },
         "mode": "lines+markers",
         "name": "scenario 2",
         "showlegend": true,
         "type": "scatter",
         "x": [
          0,
          1,
          2,
          3,
          4,
          5,
          6,
          7,
          8,
          9,
          10,
          11,
          12
         ],
         "y": [
          0.108,
          0.137,
          0.161,
          0.168,
          0.17,
          0.171,
          0.173,
          0.176,
          0.178,
          0.181,
          0.181,
          0.18,
          0.181
         ]
        },
        {
         "fill": "tozerox",
         "fillcolor": "rgba(128,0,128,0.25)",
         "legendgroup": "scenario 3",
         "line": {
          "color": "rgb(128,0,128)",
          "width": 1
         },
         "mode": "lines",
         "name": "scenario 3",
         "showlegend": false,
         "type": "scatter",
         "x": [
          0,
          1,
          2,
          3,
          4,
          5,
          6,
          7,
          8,
          9,
          10,
          11,
          12,
          12,
          11,
          10,
          9,
          8,
          7,
          6,
          5,
          4,
          3,
          2,
          1,
          0
         ],
         "y": [
          0.108,
          0.185,
          0.214,
          0.218,
          0.218,
          0.221,
          0.232,
          0.232,
          0.224,
          0.233,
          0.237,
          0.239,
          0.24,
          0.119,
          0.119,
          0.121,
          0.127,
          0.12,
          0.105,
          0.101,
          0.108,
          0.111,
          0.115,
          0.117,
          0.108,
          0.108
         ]
        },
        {
         "legendgroup": "scenario 3",
         "line": {
          "color": "rgb(128,0,128)",
          "width": 2
         },
         "marker": {
          "size": 4
         },
         "mode": "lines+markers",
         "name": "scenario 3",
         "showlegend": true,
         "type": "scatter",
         "x": [
          0,
          1,
          2,
          3,
          4,
          5,
          6,
          7,
          8,
          9,
          10,
          11,
          12
         ],
         "y": [
          0.108,
          0.144,
          0.162,
          0.163,
          0.164,
          0.166,
          0.167,
          0.168,
          0.171,
          0.177,
          0.177,
          0.179,
          0.178
         ]
        },
        {
         "line": {
          "color": "blue",
          "dash": "dashdot"
         },
         "marker": {
          "size": 4
         },
         "mode": "lines+markers",
         "name": "Management Data",
         "type": "scatter",
         "x": [
          0,
          1,
          2,
          3,
          4,
          5,
          6,
          7,
          8,
          9,
          10,
          11,
          12
         ],
         "y": [
          0.10800000000000001,
          0.099,
          0.115,
          0.128,
          0.14300000000000002,
          0.153,
          0.146,
          0.14,
          0.136,
          0.16899999999999998,
          0.17300000000000001,
          0.22,
          0.213
         ]
        },
        {
         "line": {
          "color": "red",
          "dash": "dash",
          "width": 1
         },
         "mode": "lines",
         "name": "Target Percentage",
         "type": "scatter",
         "x": [
          0,
          1,
          2,
          3,
          4,
          5,
          6,
          7,
          8,
          9,
          10,
          11,
          12
         ],
         "y": [
          0.25,
          0.25,
          0.25,
          0.25,
          0.25,
          0.25,
          0.25,
          0.25,
          0.25,
          0.25,
          0.25,
          0.25,
          0.25
         ]
        }
       ],
       "layout": {
        "height": 800,
        "paper_bgcolor": "rgb(255,255,255)",
        "plot_bgcolor": "rgb(255,255,255)",
        "template": {
         "data": {
          "bar": [
           {
            "error_x": {
             "color": "#2a3f5f"
            },
            "error_y": {
             "color": "#2a3f5f"
            },
            "marker": {
             "line": {
              "color": "#E5ECF6",
              "width": 0.5
             }
            },
            "type": "bar"
           }
          ],
          "barpolar": [
           {
            "marker": {
             "line": {
              "color": "#E5ECF6",
              "width": 0.5
             }
            },
            "type": "barpolar"
           }
          ],
          "carpet": [
           {
            "aaxis": {
             "endlinecolor": "#2a3f5f",
             "gridcolor": "white",
             "linecolor": "white",
             "minorgridcolor": "white",
             "startlinecolor": "#2a3f5f"
            },
            "baxis": {
             "endlinecolor": "#2a3f5f",
             "gridcolor": "white",
             "linecolor": "white",
             "minorgridcolor": "white",
             "startlinecolor": "#2a3f5f"
            },
            "type": "carpet"
           }
          ],
          "choropleth": [
           {
            "colorbar": {
             "outlinewidth": 0,
             "ticks": ""
            },
            "type": "choropleth"
           }
          ],
          "contour": [
           {
            "colorbar": {
             "outlinewidth": 0,
             "ticks": ""
            },
            "colorscale": [
             [
              0,
              "#0d0887"
             ],
             [
              0.1111111111111111,
              "#46039f"
             ],
             [
              0.2222222222222222,
              "#7201a8"
             ],
             [
              0.3333333333333333,
              "#9c179e"
             ],
             [
              0.4444444444444444,
              "#bd3786"
             ],
             [
              0.5555555555555556,
              "#d8576b"
             ],
             [
              0.6666666666666666,
              "#ed7953"
             ],
             [
              0.7777777777777778,
              "#fb9f3a"
             ],
             [
              0.8888888888888888,
              "#fdca26"
             ],
             [
              1,
              "#f0f921"
             ]
            ],
            "type": "contour"
           }
          ],
          "contourcarpet": [
           {
            "colorbar": {
             "outlinewidth": 0,
             "ticks": ""
            },
            "type": "contourcarpet"
           }
          ],
          "heatmap": [
           {
            "colorbar": {
             "outlinewidth": 0,
             "ticks": ""
            },
            "colorscale": [
             [
              0,
              "#0d0887"
             ],
             [
              0.1111111111111111,
              "#46039f"
             ],
             [
              0.2222222222222222,
              "#7201a8"
             ],
             [
              0.3333333333333333,
              "#9c179e"
             ],
             [
              0.4444444444444444,
              "#bd3786"
             ],
             [
              0.5555555555555556,
              "#d8576b"
             ],
             [
              0.6666666666666666,
              "#ed7953"
             ],
             [
              0.7777777777777778,
              "#fb9f3a"
             ],
             [
              0.8888888888888888,
              "#fdca26"
             ],
             [
              1,
              "#f0f921"
             ]
            ],
            "type": "heatmap"
           }
          ],
          "heatmapgl": [
           {
            "colorbar": {
             "outlinewidth": 0,
             "ticks": ""
            },
            "colorscale": [
             [
              0,
              "#0d0887"
             ],
             [
              0.1111111111111111,
              "#46039f"
             ],
             [
              0.2222222222222222,
              "#7201a8"
             ],
             [
              0.3333333333333333,
              "#9c179e"
             ],
             [
              0.4444444444444444,
              "#bd3786"
             ],
             [
              0.5555555555555556,
              "#d8576b"
             ],
             [
              0.6666666666666666,
              "#ed7953"
             ],
             [
              0.7777777777777778,
              "#fb9f3a"
             ],
             [
              0.8888888888888888,
              "#fdca26"
             ],
             [
              1,
              "#f0f921"
             ]
            ],
            "type": "heatmapgl"
           }
          ],
          "histogram": [
           {
            "marker": {
             "colorbar": {
              "outlinewidth": 0,
              "ticks": ""
             }
            },
            "type": "histogram"
           }
          ],
          "histogram2d": [
           {
            "colorbar": {
             "outlinewidth": 0,
             "ticks": ""
            },
            "colorscale": [
             [
              0,
              "#0d0887"
             ],
             [
              0.1111111111111111,
              "#46039f"
             ],
             [
              0.2222222222222222,
              "#7201a8"
             ],
             [
              0.3333333333333333,
              "#9c179e"
             ],
             [
              0.4444444444444444,
              "#bd3786"
             ],
             [
              0.5555555555555556,
              "#d8576b"
             ],
             [
              0.6666666666666666,
              "#ed7953"
             ],
             [
              0.7777777777777778,
              "#fb9f3a"
             ],
             [
              0.8888888888888888,
              "#fdca26"
             ],
             [
              1,
              "#f0f921"
             ]
            ],
            "type": "histogram2d"
           }
          ],
          "histogram2dcontour": [
           {
            "colorbar": {
             "outlinewidth": 0,
             "ticks": ""
            },
            "colorscale": [
             [
              0,
              "#0d0887"
             ],
             [
              0.1111111111111111,
              "#46039f"
             ],
             [
              0.2222222222222222,
              "#7201a8"
             ],
             [
              0.3333333333333333,
              "#9c179e"
             ],
             [
              0.4444444444444444,
              "#bd3786"
             ],
             [
              0.5555555555555556,
              "#d8576b"
             ],
             [
              0.6666666666666666,
              "#ed7953"
             ],
             [
              0.7777777777777778,
              "#fb9f3a"
             ],
             [
              0.8888888888888888,
              "#fdca26"
             ],
             [
              1,
              "#f0f921"
             ]
            ],
            "type": "histogram2dcontour"
           }
          ],
          "mesh3d": [
           {
            "colorbar": {
             "outlinewidth": 0,
             "ticks": ""
            },
            "type": "mesh3d"
           }
          ],
          "parcoords": [
           {
            "line": {
             "colorbar": {
              "outlinewidth": 0,
              "ticks": ""
             }
            },
            "type": "parcoords"
           }
          ],
          "scatter": [
           {
            "marker": {
             "colorbar": {
              "outlinewidth": 0,
              "ticks": ""
             }
            },
            "type": "scatter"
           }
          ],
          "scatter3d": [
           {
            "line": {
             "colorbar": {
              "outlinewidth": 0,
              "ticks": ""
             }
            },
            "marker": {
             "colorbar": {
              "outlinewidth": 0,
              "ticks": ""
             }
            },
            "type": "scatter3d"
           }
          ],
          "scattercarpet": [
           {
            "marker": {
             "colorbar": {
              "outlinewidth": 0,
              "ticks": ""
             }
            },
            "type": "scattercarpet"
           }
          ],
          "scattergeo": [
           {
            "marker": {
             "colorbar": {
              "outlinewidth": 0,
              "ticks": ""
             }
            },
            "type": "scattergeo"
           }
          ],
          "scattergl": [
           {
            "marker": {
             "colorbar": {
              "outlinewidth": 0,
              "ticks": ""
             }
            },
            "type": "scattergl"
           }
          ],
          "scattermapbox": [
           {
            "marker": {
             "colorbar": {
              "outlinewidth": 0,
              "ticks": ""
             }
            },
            "type": "scattermapbox"
           }
          ],
          "scatterpolar": [
           {
            "marker": {
             "colorbar": {
              "outlinewidth": 0,
              "ticks": ""
             }
            },
            "type": "scatterpolar"
           }
          ],
          "scatterpolargl": [
           {
            "marker": {
             "colorbar": {
              "outlinewidth": 0,
              "ticks": ""
             }
            },
            "type": "scatterpolargl"
           }
          ],
          "scatterternary": [
           {
            "marker": {
             "colorbar": {
              "outlinewidth": 0,
              "ticks": ""
             }
            },
            "type": "scatterternary"
           }
          ],
          "surface": [
           {
            "colorbar": {
             "outlinewidth": 0,
             "ticks": ""
            },
            "colorscale": [
             [
              0,
              "#0d0887"
             ],
             [
              0.1111111111111111,
              "#46039f"
             ],
             [
              0.2222222222222222,
              "#7201a8"
             ],
             [
              0.3333333333333333,
              "#9c179e"
             ],
             [
              0.4444444444444444,
              "#bd3786"
             ],
             [
              0.5555555555555556,
              "#d8576b"
             ],
             [
              0.6666666666666666,
              "#ed7953"
             ],
             [
              0.7777777777777778,
              "#fb9f3a"
             ],
             [
              0.8888888888888888,
              "#fdca26"
             ],
             [
              1,
              "#f0f921"
             ]
            ],
            "type": "surface"
           }
          ],
          "table": [
           {
            "cells": {
             "fill": {
              "color": "#EBF0F8"
             },
             "line": {
              "color": "white"
             }
            },
            "header": {
             "fill": {
              "color": "#C8D4E3"
             },
             "line": {
              "color": "white"
             }
            },
            "type": "table"
           }
          ]
         },
         "layout": {
          "annotationdefaults": {
           "arrowcolor": "#2a3f5f",
           "arrowhead": 0,
           "arrowwidth": 1
          },
          "colorscale": {
           "diverging": [
            [
             0,
             "#8e0152"
            ],
            [
             0.1,
             "#c51b7d"
            ],
            [
             0.2,
             "#de77ae"
            ],
            [
             0.3,
             "#f1b6da"
            ],
            [
             0.4,
             "#fde0ef"
            ],
            [
             0.5,
             "#f7f7f7"
            ],
            [
             0.6,
             "#e6f5d0"
            ],
            [
             0.7,
             "#b8e186"
            ],
            [
             0.8,
             "#7fbc41"
            ],
            [
             0.9,
             "#4d9221"
            ],
            [
             1,
             "#276419"
            ]
           ],
           "sequential": [
            [
             0,
             "#0d0887"
            ],
            [
             0.1111111111111111,
             "#46039f"
            ],
            [
             0.2222222222222222,
             "#7201a8"
            ],
            [
             0.3333333333333333,
             "#9c179e"
            ],
            [
             0.4444444444444444,
             "#bd3786"
            ],
            [
             0.5555555555555556,
             "#d8576b"
            ],
            [
             0.6666666666666666,
             "#ed7953"
            ],
            [
             0.7777777777777778,
             "#fb9f3a"
            ],
            [
             0.8888888888888888,
             "#fdca26"
            ],
            [
             1,
             "#f0f921"
            ]
           ],
           "sequentialminus": [
            [
             0,
             "#0d0887"
            ],
            [
             0.1111111111111111,
             "#46039f"
            ],
            [
             0.2222222222222222,
             "#7201a8"
            ],
            [
             0.3333333333333333,
             "#9c179e"
            ],
            [
             0.4444444444444444,
             "#bd3786"
            ],
            [
             0.5555555555555556,
             "#d8576b"
            ],
            [
             0.6666666666666666,
             "#ed7953"
            ],
            [
             0.7777777777777778,
             "#fb9f3a"
            ],
            [
             0.8888888888888888,
             "#fdca26"
            ],
            [
             1,
             "#f0f921"
            ]
           ]
          },
          "colorway": [
           "#636efa",
           "#EF553B",
           "#00cc96",
           "#ab63fa",
           "#FFA15A",
           "#19d3f3",
           "#FF6692",
           "#B6E880",
           "#FF97FF",
           "#FECB52"
          ],
          "font": {
           "color": "#2a3f5f"
          },
          "geo": {
           "bgcolor": "white",
           "lakecolor": "white",
           "landcolor": "#E5ECF6",
           "showlakes": true,
           "showland": true,
           "subunitcolor": "white"
          },
          "hoverlabel": {
           "align": "left"
          },
          "hovermode": "closest",
          "mapbox": {
           "style": "light"
          },
          "paper_bgcolor": "white",
          "plot_bgcolor": "#E5ECF6",
          "polar": {
           "angularaxis": {
            "gridcolor": "white",
            "linecolor": "white",
            "ticks": ""
           },
           "bgcolor": "#E5ECF6",
           "radialaxis": {
            "gridcolor": "white",
            "linecolor": "white",
            "ticks": ""
           }
          },
          "scene": {
           "xaxis": {
            "backgroundcolor": "#E5ECF6",
            "gridcolor": "white",
            "gridwidth": 2,
            "linecolor": "white",
            "showbackground": true,
            "ticks": "",
            "zerolinecolor": "white"
           },
           "yaxis": {
            "backgroundcolor": "#E5ECF6",
            "gridcolor": "white",
            "gridwidth": 2,
            "linecolor": "white",
            "showbackground": true,
            "ticks": "",
            "zerolinecolor": "white"
           },
           "zaxis": {
            "backgroundcolor": "#E5ECF6",
            "gridcolor": "white",
            "gridwidth": 2,
            "linecolor": "white",
            "showbackground": true,
            "ticks": "",
            "zerolinecolor": "white"
           }
          },
          "shapedefaults": {
           "line": {
            "color": "#2a3f5f"
           }
          },
          "ternary": {
           "aaxis": {
            "gridcolor": "white",
            "linecolor": "white",
            "ticks": ""
           },
           "baxis": {
            "gridcolor": "white",
            "linecolor": "white",
            "ticks": ""
           },
           "bgcolor": "#E5ECF6",
           "caxis": {
            "gridcolor": "white",
            "linecolor": "white",
            "ticks": ""
           }
          },
          "title": {
           "x": 0.05
          },
          "xaxis": {
           "automargin": true,
           "gridcolor": "white",
           "linecolor": "white",
           "ticks": "",
           "zerolinecolor": "white",
           "zerolinewidth": 2
          },
          "yaxis": {
           "automargin": true,
           "gridcolor": "white",
           "linecolor": "white",
           "ticks": "",
           "zerolinecolor": "white",
           "zerolinewidth": 2
          }
         }
        },
        "title": {
         "text": "Scenario Comparison: Change in Proportion of Women"
        },
        "width": 900,
        "xaxis": {
         "gridcolor": "rgb(229,229,229)",
         "showgrid": true,
         "showline": true,
         "showticklabels": true,
         "tickcolor": "rgb(127,127,127)",
         "ticks": "outside",
         "title": {
          "text": "Year"
         },
         "visible": true,
         "zeroline": false
        },
        "yaxis": {
         "gridcolor": "rgb(229,229,229)",
         "showgrid": true,
         "showline": true,
         "showticklabels": true,
         "tickcolor": "rgb(127,127,127)",
         "ticks": "outside",
         "title": {
          "text": "Percentage Women Faculty"
         },
         "zeroline": false
        }
       }
      },
      "text/html": [
       "<div>\n",
       "        \n",
       "        \n",
       "            <div id=\"bd6962d1-9456-4723-852a-f60f640d5b87\" class=\"plotly-graph-div\" style=\"height:800px; width:900px;\"></div>\n",
       "            <script type=\"text/javascript\">\n",
       "                require([\"plotly\"], function(Plotly) {\n",
       "                    window.PLOTLYENV=window.PLOTLYENV || {};\n",
       "                    \n",
       "                if (document.getElementById(\"bd6962d1-9456-4723-852a-f60f640d5b87\")) {\n",
       "                    Plotly.newPlot(\n",
       "                        'bd6962d1-9456-4723-852a-f60f640d5b87',\n",
       "                        [{\"fill\": \"tozerox\", \"fillcolor\": \"rgba(0,0,255,0.25)\", \"legendgroup\": \"scenario 1\", \"line\": {\"color\": \"rgb(0,0,255)\", \"width\": 1}, \"mode\": \"lines\", \"name\": \"scenario 1\", \"showlegend\": false, \"type\": \"scatter\", \"x\": [0.0, 1.0, 2.0, 3.0, 4.0, 5.0, 6.0, 7.0, 8.0, 9.0, 10.0, 11.0, 12.0, 12.0, 11.0, 10.0, 9.0, 8.0, 7.0, 6.0, 5.0, 4.0, 3.0, 2.0, 1.0, 0.0], \"y\": [0.108, 0.146, 0.169, 0.176, 0.184, 0.189, 0.195, 0.193, 0.198, 0.204, 0.214, 0.217, 0.215, 0.1, 0.097, 0.101, 0.098, 0.096, 0.094, 0.095, 0.095, 0.093, 0.091, 0.089, 0.093, 0.108]}, {\"legendgroup\": \"scenario 1\", \"line\": {\"color\": \"rgb(0,0,255)\", \"width\": 2}, \"marker\": {\"size\": 4}, \"mode\": \"lines+markers\", \"name\": \"scenario 1\", \"showlegend\": true, \"type\": \"scatter\", \"x\": [0.0, 1.0, 2.0, 3.0, 4.0, 5.0, 6.0, 7.0, 8.0, 9.0, 10.0, 11.0, 12.0], \"y\": [0.108, 0.117, 0.123, 0.128, 0.136, 0.14, 0.143, 0.144, 0.147, 0.148, 0.152, 0.155, 0.159]}, {\"fill\": \"tozerox\", \"fillcolor\": \"rgba(0,128,0,0.25)\", \"legendgroup\": \"scenario 2\", \"line\": {\"color\": \"rgb(0,128,0)\", \"width\": 1}, \"mode\": \"lines\", \"name\": \"scenario 2\", \"showlegend\": false, \"type\": \"scatter\", \"x\": [0.0, 1.0, 2.0, 3.0, 4.0, 5.0, 6.0, 7.0, 8.0, 9.0, 10.0, 11.0, 12.0, 12.0, 11.0, 10.0, 9.0, 8.0, 7.0, 6.0, 5.0, 4.0, 3.0, 2.0, 1.0, 0.0], \"y\": [0.108, 0.175, 0.221, 0.226, 0.223, 0.227, 0.234, 0.239, 0.244, 0.243, 0.237, 0.239, 0.241, 0.128, 0.13, 0.128, 0.129, 0.129, 0.124, 0.116, 0.114, 0.116, 0.116, 0.11, 0.09, 0.108]}, {\"legendgroup\": \"scenario 2\", \"line\": {\"color\": \"rgb(0,128,0)\", \"width\": 2}, \"marker\": {\"size\": 4}, \"mode\": \"lines+markers\", \"name\": \"scenario 2\", \"showlegend\": true, \"type\": \"scatter\", \"x\": [0.0, 1.0, 2.0, 3.0, 4.0, 5.0, 6.0, 7.0, 8.0, 9.0, 10.0, 11.0, 12.0], \"y\": [0.108, 0.137, 0.161, 0.168, 0.17, 0.171, 0.173, 0.176, 0.178, 0.181, 0.181, 0.18, 0.181]}, {\"fill\": \"tozerox\", \"fillcolor\": \"rgba(128,0,128,0.25)\", \"legendgroup\": \"scenario 3\", \"line\": {\"color\": \"rgb(128,0,128)\", \"width\": 1}, \"mode\": \"lines\", \"name\": \"scenario 3\", \"showlegend\": false, \"type\": \"scatter\", \"x\": [0.0, 1.0, 2.0, 3.0, 4.0, 5.0, 6.0, 7.0, 8.0, 9.0, 10.0, 11.0, 12.0, 12.0, 11.0, 10.0, 9.0, 8.0, 7.0, 6.0, 5.0, 4.0, 3.0, 2.0, 1.0, 0.0], \"y\": [0.108, 0.185, 0.214, 0.218, 0.218, 0.221, 0.232, 0.232, 0.224, 0.233, 0.237, 0.239, 0.24, 0.119, 0.119, 0.121, 0.127, 0.12, 0.105, 0.101, 0.108, 0.111, 0.115, 0.117, 0.108, 0.108]}, {\"legendgroup\": \"scenario 3\", \"line\": {\"color\": \"rgb(128,0,128)\", \"width\": 2}, \"marker\": {\"size\": 4}, \"mode\": \"lines+markers\", \"name\": \"scenario 3\", \"showlegend\": true, \"type\": \"scatter\", \"x\": [0.0, 1.0, 2.0, 3.0, 4.0, 5.0, 6.0, 7.0, 8.0, 9.0, 10.0, 11.0, 12.0], \"y\": [0.108, 0.144, 0.162, 0.163, 0.164, 0.166, 0.167, 0.168, 0.171, 0.177, 0.177, 0.179, 0.178]}, {\"line\": {\"color\": \"blue\", \"dash\": \"dashdot\"}, \"marker\": {\"size\": 4}, \"mode\": \"lines+markers\", \"name\": \"Management Data\", \"type\": \"scatter\", \"x\": [0.0, 1.0, 2.0, 3.0, 4.0, 5.0, 6.0, 7.0, 8.0, 9.0, 10.0, 11.0, 12.0], \"y\": [0.10800000000000001, 0.099, 0.115, 0.128, 0.14300000000000002, 0.153, 0.146, 0.14, 0.136, 0.16899999999999998, 0.17300000000000001, 0.22, 0.213]}, {\"line\": {\"color\": \"red\", \"dash\": \"dash\", \"width\": 1}, \"mode\": \"lines\", \"name\": \"Target Percentage\", \"type\": \"scatter\", \"x\": [0.0, 1.0, 2.0, 3.0, 4.0, 5.0, 6.0, 7.0, 8.0, 9.0, 10.0, 11.0, 12.0], \"y\": [0.25, 0.25, 0.25, 0.25, 0.25, 0.25, 0.25, 0.25, 0.25, 0.25, 0.25, 0.25, 0.25]}],\n",
       "                        {\"height\": 800, \"paper_bgcolor\": \"rgb(255,255,255)\", \"plot_bgcolor\": \"rgb(255,255,255)\", \"template\": {\"data\": {\"bar\": [{\"error_x\": {\"color\": \"#2a3f5f\"}, \"error_y\": {\"color\": \"#2a3f5f\"}, \"marker\": {\"line\": {\"color\": \"#E5ECF6\", \"width\": 0.5}}, \"type\": \"bar\"}], \"barpolar\": [{\"marker\": {\"line\": {\"color\": \"#E5ECF6\", \"width\": 0.5}}, \"type\": \"barpolar\"}], \"carpet\": [{\"aaxis\": {\"endlinecolor\": \"#2a3f5f\", \"gridcolor\": \"white\", \"linecolor\": \"white\", \"minorgridcolor\": \"white\", \"startlinecolor\": \"#2a3f5f\"}, \"baxis\": {\"endlinecolor\": \"#2a3f5f\", \"gridcolor\": \"white\", \"linecolor\": \"white\", \"minorgridcolor\": \"white\", \"startlinecolor\": \"#2a3f5f\"}, \"type\": \"carpet\"}], \"choropleth\": [{\"colorbar\": {\"outlinewidth\": 0, \"ticks\": \"\"}, \"type\": \"choropleth\"}], \"contour\": [{\"colorbar\": {\"outlinewidth\": 0, \"ticks\": \"\"}, \"colorscale\": [[0.0, \"#0d0887\"], [0.1111111111111111, \"#46039f\"], [0.2222222222222222, \"#7201a8\"], [0.3333333333333333, \"#9c179e\"], [0.4444444444444444, \"#bd3786\"], [0.5555555555555556, \"#d8576b\"], [0.6666666666666666, \"#ed7953\"], [0.7777777777777778, \"#fb9f3a\"], [0.8888888888888888, \"#fdca26\"], [1.0, \"#f0f921\"]], \"type\": \"contour\"}], \"contourcarpet\": [{\"colorbar\": {\"outlinewidth\": 0, \"ticks\": \"\"}, \"type\": \"contourcarpet\"}], \"heatmap\": [{\"colorbar\": {\"outlinewidth\": 0, \"ticks\": \"\"}, \"colorscale\": [[0.0, \"#0d0887\"], [0.1111111111111111, \"#46039f\"], [0.2222222222222222, \"#7201a8\"], [0.3333333333333333, \"#9c179e\"], [0.4444444444444444, \"#bd3786\"], [0.5555555555555556, \"#d8576b\"], [0.6666666666666666, \"#ed7953\"], [0.7777777777777778, \"#fb9f3a\"], [0.8888888888888888, \"#fdca26\"], [1.0, \"#f0f921\"]], \"type\": \"heatmap\"}], \"heatmapgl\": [{\"colorbar\": {\"outlinewidth\": 0, \"ticks\": \"\"}, \"colorscale\": [[0.0, \"#0d0887\"], [0.1111111111111111, \"#46039f\"], [0.2222222222222222, \"#7201a8\"], [0.3333333333333333, \"#9c179e\"], [0.4444444444444444, \"#bd3786\"], [0.5555555555555556, \"#d8576b\"], [0.6666666666666666, \"#ed7953\"], [0.7777777777777778, \"#fb9f3a\"], [0.8888888888888888, \"#fdca26\"], [1.0, \"#f0f921\"]], \"type\": \"heatmapgl\"}], \"histogram\": [{\"marker\": {\"colorbar\": {\"outlinewidth\": 0, \"ticks\": \"\"}}, \"type\": \"histogram\"}], \"histogram2d\": [{\"colorbar\": {\"outlinewidth\": 0, \"ticks\": \"\"}, \"colorscale\": [[0.0, \"#0d0887\"], [0.1111111111111111, \"#46039f\"], [0.2222222222222222, \"#7201a8\"], [0.3333333333333333, \"#9c179e\"], [0.4444444444444444, \"#bd3786\"], [0.5555555555555556, \"#d8576b\"], [0.6666666666666666, \"#ed7953\"], [0.7777777777777778, \"#fb9f3a\"], [0.8888888888888888, \"#fdca26\"], [1.0, \"#f0f921\"]], \"type\": \"histogram2d\"}], \"histogram2dcontour\": [{\"colorbar\": {\"outlinewidth\": 0, \"ticks\": \"\"}, \"colorscale\": [[0.0, \"#0d0887\"], [0.1111111111111111, \"#46039f\"], [0.2222222222222222, \"#7201a8\"], [0.3333333333333333, \"#9c179e\"], [0.4444444444444444, \"#bd3786\"], [0.5555555555555556, \"#d8576b\"], [0.6666666666666666, \"#ed7953\"], [0.7777777777777778, \"#fb9f3a\"], [0.8888888888888888, \"#fdca26\"], [1.0, \"#f0f921\"]], \"type\": \"histogram2dcontour\"}], \"mesh3d\": [{\"colorbar\": {\"outlinewidth\": 0, \"ticks\": \"\"}, \"type\": \"mesh3d\"}], \"parcoords\": [{\"line\": {\"colorbar\": {\"outlinewidth\": 0, \"ticks\": \"\"}}, \"type\": \"parcoords\"}], \"scatter\": [{\"marker\": {\"colorbar\": {\"outlinewidth\": 0, \"ticks\": \"\"}}, \"type\": \"scatter\"}], \"scatter3d\": [{\"line\": {\"colorbar\": {\"outlinewidth\": 0, \"ticks\": \"\"}}, \"marker\": {\"colorbar\": {\"outlinewidth\": 0, \"ticks\": \"\"}}, \"type\": \"scatter3d\"}], \"scattercarpet\": [{\"marker\": {\"colorbar\": {\"outlinewidth\": 0, \"ticks\": \"\"}}, \"type\": \"scattercarpet\"}], \"scattergeo\": [{\"marker\": {\"colorbar\": {\"outlinewidth\": 0, \"ticks\": \"\"}}, \"type\": \"scattergeo\"}], \"scattergl\": [{\"marker\": {\"colorbar\": {\"outlinewidth\": 0, \"ticks\": \"\"}}, \"type\": \"scattergl\"}], \"scattermapbox\": [{\"marker\": {\"colorbar\": {\"outlinewidth\": 0, \"ticks\": \"\"}}, \"type\": \"scattermapbox\"}], \"scatterpolar\": [{\"marker\": {\"colorbar\": {\"outlinewidth\": 0, \"ticks\": \"\"}}, \"type\": \"scatterpolar\"}], \"scatterpolargl\": [{\"marker\": {\"colorbar\": {\"outlinewidth\": 0, \"ticks\": \"\"}}, \"type\": \"scatterpolargl\"}], \"scatterternary\": [{\"marker\": {\"colorbar\": {\"outlinewidth\": 0, \"ticks\": \"\"}}, \"type\": \"scatterternary\"}], \"surface\": [{\"colorbar\": {\"outlinewidth\": 0, \"ticks\": \"\"}, \"colorscale\": [[0.0, \"#0d0887\"], [0.1111111111111111, \"#46039f\"], [0.2222222222222222, \"#7201a8\"], [0.3333333333333333, \"#9c179e\"], [0.4444444444444444, \"#bd3786\"], [0.5555555555555556, \"#d8576b\"], [0.6666666666666666, \"#ed7953\"], [0.7777777777777778, \"#fb9f3a\"], [0.8888888888888888, \"#fdca26\"], [1.0, \"#f0f921\"]], \"type\": \"surface\"}], \"table\": [{\"cells\": {\"fill\": {\"color\": \"#EBF0F8\"}, \"line\": {\"color\": \"white\"}}, \"header\": {\"fill\": {\"color\": \"#C8D4E3\"}, \"line\": {\"color\": \"white\"}}, \"type\": \"table\"}]}, \"layout\": {\"annotationdefaults\": {\"arrowcolor\": \"#2a3f5f\", \"arrowhead\": 0, \"arrowwidth\": 1}, \"colorscale\": {\"diverging\": [[0, \"#8e0152\"], [0.1, \"#c51b7d\"], [0.2, \"#de77ae\"], [0.3, \"#f1b6da\"], [0.4, \"#fde0ef\"], [0.5, \"#f7f7f7\"], [0.6, \"#e6f5d0\"], [0.7, \"#b8e186\"], [0.8, \"#7fbc41\"], [0.9, \"#4d9221\"], [1, \"#276419\"]], \"sequential\": [[0.0, \"#0d0887\"], [0.1111111111111111, \"#46039f\"], [0.2222222222222222, \"#7201a8\"], [0.3333333333333333, \"#9c179e\"], [0.4444444444444444, \"#bd3786\"], [0.5555555555555556, \"#d8576b\"], [0.6666666666666666, \"#ed7953\"], [0.7777777777777778, \"#fb9f3a\"], [0.8888888888888888, \"#fdca26\"], [1.0, \"#f0f921\"]], \"sequentialminus\": [[0.0, \"#0d0887\"], [0.1111111111111111, \"#46039f\"], [0.2222222222222222, \"#7201a8\"], [0.3333333333333333, \"#9c179e\"], [0.4444444444444444, \"#bd3786\"], [0.5555555555555556, \"#d8576b\"], [0.6666666666666666, \"#ed7953\"], [0.7777777777777778, \"#fb9f3a\"], [0.8888888888888888, \"#fdca26\"], [1.0, \"#f0f921\"]]}, \"colorway\": [\"#636efa\", \"#EF553B\", \"#00cc96\", \"#ab63fa\", \"#FFA15A\", \"#19d3f3\", \"#FF6692\", \"#B6E880\", \"#FF97FF\", \"#FECB52\"], \"font\": {\"color\": \"#2a3f5f\"}, \"geo\": {\"bgcolor\": \"white\", \"lakecolor\": \"white\", \"landcolor\": \"#E5ECF6\", \"showlakes\": true, \"showland\": true, \"subunitcolor\": \"white\"}, \"hoverlabel\": {\"align\": \"left\"}, \"hovermode\": \"closest\", \"mapbox\": {\"style\": \"light\"}, \"paper_bgcolor\": \"white\", \"plot_bgcolor\": \"#E5ECF6\", \"polar\": {\"angularaxis\": {\"gridcolor\": \"white\", \"linecolor\": \"white\", \"ticks\": \"\"}, \"bgcolor\": \"#E5ECF6\", \"radialaxis\": {\"gridcolor\": \"white\", \"linecolor\": \"white\", \"ticks\": \"\"}}, \"scene\": {\"xaxis\": {\"backgroundcolor\": \"#E5ECF6\", \"gridcolor\": \"white\", \"gridwidth\": 2, \"linecolor\": \"white\", \"showbackground\": true, \"ticks\": \"\", \"zerolinecolor\": \"white\"}, \"yaxis\": {\"backgroundcolor\": \"#E5ECF6\", \"gridcolor\": \"white\", \"gridwidth\": 2, \"linecolor\": \"white\", \"showbackground\": true, \"ticks\": \"\", \"zerolinecolor\": \"white\"}, \"zaxis\": {\"backgroundcolor\": \"#E5ECF6\", \"gridcolor\": \"white\", \"gridwidth\": 2, \"linecolor\": \"white\", \"showbackground\": true, \"ticks\": \"\", \"zerolinecolor\": \"white\"}}, \"shapedefaults\": {\"line\": {\"color\": \"#2a3f5f\"}}, \"ternary\": {\"aaxis\": {\"gridcolor\": \"white\", \"linecolor\": \"white\", \"ticks\": \"\"}, \"baxis\": {\"gridcolor\": \"white\", \"linecolor\": \"white\", \"ticks\": \"\"}, \"bgcolor\": \"#E5ECF6\", \"caxis\": {\"gridcolor\": \"white\", \"linecolor\": \"white\", \"ticks\": \"\"}}, \"title\": {\"x\": 0.05}, \"xaxis\": {\"automargin\": true, \"gridcolor\": \"white\", \"linecolor\": \"white\", \"ticks\": \"\", \"zerolinecolor\": \"white\", \"zerolinewidth\": 2}, \"yaxis\": {\"automargin\": true, \"gridcolor\": \"white\", \"linecolor\": \"white\", \"ticks\": \"\", \"zerolinecolor\": \"white\", \"zerolinewidth\": 2}}}, \"title\": {\"text\": \"Scenario Comparison: Change in Proportion of Women\"}, \"width\": 900, \"xaxis\": {\"gridcolor\": \"rgb(229,229,229)\", \"showgrid\": true, \"showline\": true, \"showticklabels\": true, \"tickcolor\": \"rgb(127,127,127)\", \"ticks\": \"outside\", \"title\": {\"text\": \"Year\"}, \"visible\": true, \"zeroline\": false}, \"yaxis\": {\"gridcolor\": \"rgb(229,229,229)\", \"showgrid\": true, \"showline\": true, \"showticklabels\": true, \"tickcolor\": \"rgb(127,127,127)\", \"ticks\": \"outside\", \"title\": {\"text\": \"Percentage Women Faculty\"}, \"zeroline\": false}},\n",
       "                        {\"responsive\": true}\n",
       "                    ).then(function(){\n",
       "                            \n",
       "var gd = document.getElementById('bd6962d1-9456-4723-852a-f60f640d5b87');\n",
       "var x = new MutationObserver(function (mutations, observer) {{\n",
       "        var display = window.getComputedStyle(gd).display;\n",
       "        if (!display || display === 'none') {{\n",
       "            console.log([gd, 'removed!']);\n",
       "            Plotly.purge(gd);\n",
       "            observer.disconnect();\n",
       "        }}\n",
       "}});\n",
       "\n",
       "// Listen for the removal of the full notebook cells\n",
       "var notebookContainer = gd.closest('#notebook-container');\n",
       "if (notebookContainer) {{\n",
       "    x.observe(notebookContainer, {childList: true});\n",
       "}}\n",
       "\n",
       "// Listen for the clearing of the current output cell\n",
       "var outputEl = gd.closest('.output');\n",
       "if (outputEl) {{\n",
       "    x.observe(outputEl, {childList: true});\n",
       "}}\n",
       "\n",
       "                        })\n",
       "                };\n",
       "                });\n",
       "            </script>\n",
       "        </div>"
      ]
     },
     "metadata": {},
     "output_type": "display_data"
    }
   ],
   "source": [
    "data = []\n",
    "linecolors = ['rgb(0,0,255)', 'rgb(0,128,0)', 'rgb(128,0,128)', 'rgb(139,69,19)']\n",
    "fillcolors = ['rgba(0,0,255,0.25)', 'rgba(0,128,0,0.25)', 'rgba(128,0,128,0.25)', 'rgba(160,82,45,0.25)']\n",
    "legend_labels = ['scenario 1', 'scenario 2', 'scenario 3']\n",
    "\n",
    "for k,v in enumerate(results.mlist):\n",
    "    data.append(go.Scatter(\n",
    "        x=np.append(v.summary_matrix['yr'], v.summary_matrix['yr'].values[::-1]),\n",
    "        y=np.append(v.summary_matrix['fpct_975'], v.summary_matrix['fpct_025'].values[::-1]),\n",
    "        fill='tozerox',\n",
    "        fillcolor=fillcolors[k],\n",
    "        line=dict(color=linecolors[k],\n",
    "                 width=1),\n",
    "        legendgroup=legend_labels[k],\n",
    "        showlegend=False,\n",
    "        mode='lines',\n",
    "        name=legend_labels[k],\n",
    "    ))\n",
    "\n",
    "    data.append(go.Scatter(\n",
    "        x=v.summary_matrix['yr'],\n",
    "        y=v.summary_matrix['fpct_avg'],\n",
    "        line=dict(color=linecolors[k],\n",
    "                 width=2),\n",
    "        legendgroup=legend_labels[k],\n",
    "        showlegend=True,\n",
    "        marker=dict(\n",
    "            size=4),\n",
    "        mode='lines+markers',\n",
    "        name=legend_labels[k],\n",
    "    ))\n",
    "\n",
    "\n",
    "data.append(go.Scatter(\n",
    "    x=v.summary_matrix['yr'], \n",
    "    y=v.summary_matrix['act_fpct'],\n",
    "    line=dict(color='blue',\n",
    "             dash='dashdot'),\n",
    "    name='Management Data',\n",
    "    mode='lines+markers',\n",
    "    marker=dict(\n",
    "        size=4),\n",
    "\n",
    "))\n",
    "\n",
    "data.append(go.Scatter(\n",
    "    x=v.summary_matrix['yr'], \n",
    "    y=np.repeat(v.target_female_percentage, len(v.summary_matrix['yr'])),\n",
    "    line=dict(color='red',\n",
    "             dash='dash',\n",
    "             width=1),\n",
    "    name='Target Percentage',\n",
    "    mode='lines',\n",
    "))\n",
    "    \n",
    "layout = go.Layout(\n",
    "    title='Scenario Comparison: Change in Proportion of Women',\n",
    "    height=800,\n",
    "    width=900,\n",
    "    paper_bgcolor='rgb(255,255,255)',\n",
    "    plot_bgcolor='rgb(255,255,255)',\n",
    "    xaxis=dict(\n",
    "        visible=True,\n",
    "        title='Year',\n",
    "        gridcolor='rgb(229,229,229)',\n",
    "        showgrid=True,\n",
    "        showline=True,\n",
    "        showticklabels=True,\n",
    "        tickcolor='rgb(127,127,127)',\n",
    "        ticks='outside',\n",
    "        zeroline=False\n",
    "    ),\n",
    "    yaxis=dict(\n",
    "        title='Percentage Women Faculty',\n",
    "        gridcolor='rgb(229,229,229)',\n",
    "        showgrid=True,\n",
    "        showline=True,\n",
    "        showticklabels=True,\n",
    "        tickcolor='rgb(127,127,127)',\n",
    "        ticks='outside',\n",
    "        zeroline=False\n",
    "    ),\n",
    ")\n",
    "fig = go.Figure(data=data, layout=layout)\n",
    "plotly.offline.iplot(fig, filename= 'shaded_lines')\n",
    "\n",
    "# export image for ingestion to pdf file.\n",
    "# if not os.path.exists('images'):\n",
    "#     os.mkdir('images')\n",
    "# pio.write_image(fig, 'images/change_in_percentage_faculty_women.png')"
   ]
  },
  {
   "cell_type": "code",
   "execution_count": 41,
   "metadata": {
    "hide_input": true,
    "tags": [
     "plotcell"
    ]
   },
   "outputs": [],
   "source": [
    "linecolors = ['blue', 'green', 'purple', 'brown']\n",
    "legend_labels = ['scenario 1', 'scenario 2', 'scenario 3']\n",
    "\n",
    "plt.figure(figsize=(12,12))\n",
    "\n",
    "for k,v in enumerate(results.mlist):\n",
    "    plt.plot(\n",
    "             v.summary_matrix['yr'], \n",
    "             v.summary_matrix['fpct_avg'],\n",
    "             linewidth=2,\n",
    "             color=linecolors[k],\n",
    "             label=legend_labels[k],\n",
    "             marker=\"o\",\n",
    "            )\n",
    "    plt.fill_between(\n",
    "             v.summary_matrix['yr'],\n",
    "             v.summary_matrix['fpct_975'],\n",
    "             v.summary_matrix['fpct_025'],\n",
    "             alpha=0.25,\n",
    "             facecolor=linecolors[k]\n",
    "            )\n",
    "\n",
    "plt.plot(\n",
    "        v.summary_matrix['yr'],\n",
    "        v.summary_matrix['act_fpct'],\n",
    "        color='blue',\n",
    "        linewidth=2,\n",
    "        linestyle='-.',\n",
    "        label='Management Data')\n",
    "\n",
    "plt.hlines(\n",
    "        v.target_female_percentage,\n",
    "        0,\n",
    "        v.summary_matrix['yr'].max(),\n",
    "        colors='red',\n",
    "        linestyle='--',\n",
    "        label='Target Percentage'\n",
    "        )\n",
    "    \n",
    "plt.title('Scenario Comparison: Change in Proportion of Women', fontsize=20)\n",
    "plt.xlabel('Year', fontsize=16)\n",
    "plt.ylabel('Percentage Female Faculty', fontsize=16)\n",
    "plt.legend(loc='upper right', fontsize=16)\n",
    "if not os.path.exists('images'):\n",
    "    os.mkdir('images')\n",
    "plt.savefig('images/scenarios_change_in_percentage_faculty_women.png')\n",
    "plt.close()"
   ]
  },
  {
   "cell_type": "markdown",
   "metadata": {
    "hide_input": true
   },
   "source": [
    "## Comparison of Model 3 Growth Models: Probability of Achieving 25% Women"
   ]
  },
  {
   "cell_type": "code",
   "execution_count": 42,
   "metadata": {
    "hide_input": true,
    "scrolled": false,
    "tags": [
     "plotcell"
    ]
   },
   "outputs": [
    {
     "data": {
      "application/vnd.plotly.v1+json": {
       "config": {
        "linkText": "Export to plot.ly",
        "plotlyServerURL": "https://plot.ly",
        "showLink": false
       },
       "data": [
        {
         "legendgroup": "scenario 1",
         "line": {
          "color": "rgb(0,0,255)",
          "width": 2
         },
         "marker": {
          "size": 4
         },
         "mode": "lines+markers",
         "name": "scenario 1",
         "showlegend": true,
         "type": "scatter",
         "x": [
          0,
          1,
          2,
          3,
          4,
          5,
          6,
          7,
          8,
          9,
          10,
          11,
          12
         ],
         "y": [
          0,
          0,
          0,
          0,
          0,
          0,
          0,
          0,
          0,
          0,
          0,
          0,
          0
         ]
        },
        {
         "legendgroup": "scenario 2",
         "line": {
          "color": "rgb(0,128,0)",
          "width": 2
         },
         "marker": {
          "size": 4
         },
         "mode": "lines+markers",
         "name": "scenario 2",
         "showlegend": true,
         "type": "scatter",
         "x": [
          0,
          1,
          2,
          3,
          4,
          5,
          6,
          7,
          8,
          9,
          10,
          11,
          12
         ],
         "y": [
          0,
          0,
          0,
          0.010000000000000009,
          0,
          0,
          0,
          0.020000000000000018,
          0.010000000000000009,
          0.010000000000000009,
          0.020000000000000018,
          0.010000000000000009,
          0.010000000000000009
         ]
        },
        {
         "legendgroup": "scenario 3",
         "line": {
          "color": "rgb(128,0,128)",
          "width": 2
         },
         "marker": {
          "size": 4
         },
         "mode": "lines+markers",
         "name": "scenario 3",
         "showlegend": true,
         "type": "scatter",
         "x": [
          0,
          1,
          2,
          3,
          4,
          5,
          6,
          7,
          8,
          9,
          10,
          11,
          12
         ],
         "y": [
          0,
          0,
          0,
          0,
          0,
          0,
          0.010000000000000009,
          0.010000000000000009,
          0.020000000000000018,
          0.010000000000000009,
          0.010000000000000009,
          0.020000000000000018,
          0.020000000000000018
         ]
        },
        {
         "line": {
          "color": "red",
          "dash": "dash"
         },
         "mode": "lines",
         "name": "Target Probability",
         "type": "scatter",
         "x": [
          0,
          1,
          2,
          3,
          4,
          5,
          6,
          7,
          8,
          9,
          10,
          11,
          12
         ],
         "y": [
          0.5,
          0.5,
          0.5,
          0.5,
          0.5,
          0.5,
          0.5,
          0.5,
          0.5,
          0.5,
          0.5,
          0.5,
          0.5
         ]
        }
       ],
       "layout": {
        "height": 800,
        "paper_bgcolor": "rgb(255,255,255)",
        "plot_bgcolor": "rgb(255,255,255)",
        "template": {
         "data": {
          "bar": [
           {
            "error_x": {
             "color": "#2a3f5f"
            },
            "error_y": {
             "color": "#2a3f5f"
            },
            "marker": {
             "line": {
              "color": "#E5ECF6",
              "width": 0.5
             }
            },
            "type": "bar"
           }
          ],
          "barpolar": [
           {
            "marker": {
             "line": {
              "color": "#E5ECF6",
              "width": 0.5
             }
            },
            "type": "barpolar"
           }
          ],
          "carpet": [
           {
            "aaxis": {
             "endlinecolor": "#2a3f5f",
             "gridcolor": "white",
             "linecolor": "white",
             "minorgridcolor": "white",
             "startlinecolor": "#2a3f5f"
            },
            "baxis": {
             "endlinecolor": "#2a3f5f",
             "gridcolor": "white",
             "linecolor": "white",
             "minorgridcolor": "white",
             "startlinecolor": "#2a3f5f"
            },
            "type": "carpet"
           }
          ],
          "choropleth": [
           {
            "colorbar": {
             "outlinewidth": 0,
             "ticks": ""
            },
            "type": "choropleth"
           }
          ],
          "contour": [
           {
            "colorbar": {
             "outlinewidth": 0,
             "ticks": ""
            },
            "colorscale": [
             [
              0,
              "#0d0887"
             ],
             [
              0.1111111111111111,
              "#46039f"
             ],
             [
              0.2222222222222222,
              "#7201a8"
             ],
             [
              0.3333333333333333,
              "#9c179e"
             ],
             [
              0.4444444444444444,
              "#bd3786"
             ],
             [
              0.5555555555555556,
              "#d8576b"
             ],
             [
              0.6666666666666666,
              "#ed7953"
             ],
             [
              0.7777777777777778,
              "#fb9f3a"
             ],
             [
              0.8888888888888888,
              "#fdca26"
             ],
             [
              1,
              "#f0f921"
             ]
            ],
            "type": "contour"
           }
          ],
          "contourcarpet": [
           {
            "colorbar": {
             "outlinewidth": 0,
             "ticks": ""
            },
            "type": "contourcarpet"
           }
          ],
          "heatmap": [
           {
            "colorbar": {
             "outlinewidth": 0,
             "ticks": ""
            },
            "colorscale": [
             [
              0,
              "#0d0887"
             ],
             [
              0.1111111111111111,
              "#46039f"
             ],
             [
              0.2222222222222222,
              "#7201a8"
             ],
             [
              0.3333333333333333,
              "#9c179e"
             ],
             [
              0.4444444444444444,
              "#bd3786"
             ],
             [
              0.5555555555555556,
              "#d8576b"
             ],
             [
              0.6666666666666666,
              "#ed7953"
             ],
             [
              0.7777777777777778,
              "#fb9f3a"
             ],
             [
              0.8888888888888888,
              "#fdca26"
             ],
             [
              1,
              "#f0f921"
             ]
            ],
            "type": "heatmap"
           }
          ],
          "heatmapgl": [
           {
            "colorbar": {
             "outlinewidth": 0,
             "ticks": ""
            },
            "colorscale": [
             [
              0,
              "#0d0887"
             ],
             [
              0.1111111111111111,
              "#46039f"
             ],
             [
              0.2222222222222222,
              "#7201a8"
             ],
             [
              0.3333333333333333,
              "#9c179e"
             ],
             [
              0.4444444444444444,
              "#bd3786"
             ],
             [
              0.5555555555555556,
              "#d8576b"
             ],
             [
              0.6666666666666666,
              "#ed7953"
             ],
             [
              0.7777777777777778,
              "#fb9f3a"
             ],
             [
              0.8888888888888888,
              "#fdca26"
             ],
             [
              1,
              "#f0f921"
             ]
            ],
            "type": "heatmapgl"
           }
          ],
          "histogram": [
           {
            "marker": {
             "colorbar": {
              "outlinewidth": 0,
              "ticks": ""
             }
            },
            "type": "histogram"
           }
          ],
          "histogram2d": [
           {
            "colorbar": {
             "outlinewidth": 0,
             "ticks": ""
            },
            "colorscale": [
             [
              0,
              "#0d0887"
             ],
             [
              0.1111111111111111,
              "#46039f"
             ],
             [
              0.2222222222222222,
              "#7201a8"
             ],
             [
              0.3333333333333333,
              "#9c179e"
             ],
             [
              0.4444444444444444,
              "#bd3786"
             ],
             [
              0.5555555555555556,
              "#d8576b"
             ],
             [
              0.6666666666666666,
              "#ed7953"
             ],
             [
              0.7777777777777778,
              "#fb9f3a"
             ],
             [
              0.8888888888888888,
              "#fdca26"
             ],
             [
              1,
              "#f0f921"
             ]
            ],
            "type": "histogram2d"
           }
          ],
          "histogram2dcontour": [
           {
            "colorbar": {
             "outlinewidth": 0,
             "ticks": ""
            },
            "colorscale": [
             [
              0,
              "#0d0887"
             ],
             [
              0.1111111111111111,
              "#46039f"
             ],
             [
              0.2222222222222222,
              "#7201a8"
             ],
             [
              0.3333333333333333,
              "#9c179e"
             ],
             [
              0.4444444444444444,
              "#bd3786"
             ],
             [
              0.5555555555555556,
              "#d8576b"
             ],
             [
              0.6666666666666666,
              "#ed7953"
             ],
             [
              0.7777777777777778,
              "#fb9f3a"
             ],
             [
              0.8888888888888888,
              "#fdca26"
             ],
             [
              1,
              "#f0f921"
             ]
            ],
            "type": "histogram2dcontour"
           }
          ],
          "mesh3d": [
           {
            "colorbar": {
             "outlinewidth": 0,
             "ticks": ""
            },
            "type": "mesh3d"
           }
          ],
          "parcoords": [
           {
            "line": {
             "colorbar": {
              "outlinewidth": 0,
              "ticks": ""
             }
            },
            "type": "parcoords"
           }
          ],
          "scatter": [
           {
            "marker": {
             "colorbar": {
              "outlinewidth": 0,
              "ticks": ""
             }
            },
            "type": "scatter"
           }
          ],
          "scatter3d": [
           {
            "line": {
             "colorbar": {
              "outlinewidth": 0,
              "ticks": ""
             }
            },
            "marker": {
             "colorbar": {
              "outlinewidth": 0,
              "ticks": ""
             }
            },
            "type": "scatter3d"
           }
          ],
          "scattercarpet": [
           {
            "marker": {
             "colorbar": {
              "outlinewidth": 0,
              "ticks": ""
             }
            },
            "type": "scattercarpet"
           }
          ],
          "scattergeo": [
           {
            "marker": {
             "colorbar": {
              "outlinewidth": 0,
              "ticks": ""
             }
            },
            "type": "scattergeo"
           }
          ],
          "scattergl": [
           {
            "marker": {
             "colorbar": {
              "outlinewidth": 0,
              "ticks": ""
             }
            },
            "type": "scattergl"
           }
          ],
          "scattermapbox": [
           {
            "marker": {
             "colorbar": {
              "outlinewidth": 0,
              "ticks": ""
             }
            },
            "type": "scattermapbox"
           }
          ],
          "scatterpolar": [
           {
            "marker": {
             "colorbar": {
              "outlinewidth": 0,
              "ticks": ""
             }
            },
            "type": "scatterpolar"
           }
          ],
          "scatterpolargl": [
           {
            "marker": {
             "colorbar": {
              "outlinewidth": 0,
              "ticks": ""
             }
            },
            "type": "scatterpolargl"
           }
          ],
          "scatterternary": [
           {
            "marker": {
             "colorbar": {
              "outlinewidth": 0,
              "ticks": ""
             }
            },
            "type": "scatterternary"
           }
          ],
          "surface": [
           {
            "colorbar": {
             "outlinewidth": 0,
             "ticks": ""
            },
            "colorscale": [
             [
              0,
              "#0d0887"
             ],
             [
              0.1111111111111111,
              "#46039f"
             ],
             [
              0.2222222222222222,
              "#7201a8"
             ],
             [
              0.3333333333333333,
              "#9c179e"
             ],
             [
              0.4444444444444444,
              "#bd3786"
             ],
             [
              0.5555555555555556,
              "#d8576b"
             ],
             [
              0.6666666666666666,
              "#ed7953"
             ],
             [
              0.7777777777777778,
              "#fb9f3a"
             ],
             [
              0.8888888888888888,
              "#fdca26"
             ],
             [
              1,
              "#f0f921"
             ]
            ],
            "type": "surface"
           }
          ],
          "table": [
           {
            "cells": {
             "fill": {
              "color": "#EBF0F8"
             },
             "line": {
              "color": "white"
             }
            },
            "header": {
             "fill": {
              "color": "#C8D4E3"
             },
             "line": {
              "color": "white"
             }
            },
            "type": "table"
           }
          ]
         },
         "layout": {
          "annotationdefaults": {
           "arrowcolor": "#2a3f5f",
           "arrowhead": 0,
           "arrowwidth": 1
          },
          "colorscale": {
           "diverging": [
            [
             0,
             "#8e0152"
            ],
            [
             0.1,
             "#c51b7d"
            ],
            [
             0.2,
             "#de77ae"
            ],
            [
             0.3,
             "#f1b6da"
            ],
            [
             0.4,
             "#fde0ef"
            ],
            [
             0.5,
             "#f7f7f7"
            ],
            [
             0.6,
             "#e6f5d0"
            ],
            [
             0.7,
             "#b8e186"
            ],
            [
             0.8,
             "#7fbc41"
            ],
            [
             0.9,
             "#4d9221"
            ],
            [
             1,
             "#276419"
            ]
           ],
           "sequential": [
            [
             0,
             "#0d0887"
            ],
            [
             0.1111111111111111,
             "#46039f"
            ],
            [
             0.2222222222222222,
             "#7201a8"
            ],
            [
             0.3333333333333333,
             "#9c179e"
            ],
            [
             0.4444444444444444,
             "#bd3786"
            ],
            [
             0.5555555555555556,
             "#d8576b"
            ],
            [
             0.6666666666666666,
             "#ed7953"
            ],
            [
             0.7777777777777778,
             "#fb9f3a"
            ],
            [
             0.8888888888888888,
             "#fdca26"
            ],
            [
             1,
             "#f0f921"
            ]
           ],
           "sequentialminus": [
            [
             0,
             "#0d0887"
            ],
            [
             0.1111111111111111,
             "#46039f"
            ],
            [
             0.2222222222222222,
             "#7201a8"
            ],
            [
             0.3333333333333333,
             "#9c179e"
            ],
            [
             0.4444444444444444,
             "#bd3786"
            ],
            [
             0.5555555555555556,
             "#d8576b"
            ],
            [
             0.6666666666666666,
             "#ed7953"
            ],
            [
             0.7777777777777778,
             "#fb9f3a"
            ],
            [
             0.8888888888888888,
             "#fdca26"
            ],
            [
             1,
             "#f0f921"
            ]
           ]
          },
          "colorway": [
           "#636efa",
           "#EF553B",
           "#00cc96",
           "#ab63fa",
           "#FFA15A",
           "#19d3f3",
           "#FF6692",
           "#B6E880",
           "#FF97FF",
           "#FECB52"
          ],
          "font": {
           "color": "#2a3f5f"
          },
          "geo": {
           "bgcolor": "white",
           "lakecolor": "white",
           "landcolor": "#E5ECF6",
           "showlakes": true,
           "showland": true,
           "subunitcolor": "white"
          },
          "hoverlabel": {
           "align": "left"
          },
          "hovermode": "closest",
          "mapbox": {
           "style": "light"
          },
          "paper_bgcolor": "white",
          "plot_bgcolor": "#E5ECF6",
          "polar": {
           "angularaxis": {
            "gridcolor": "white",
            "linecolor": "white",
            "ticks": ""
           },
           "bgcolor": "#E5ECF6",
           "radialaxis": {
            "gridcolor": "white",
            "linecolor": "white",
            "ticks": ""
           }
          },
          "scene": {
           "xaxis": {
            "backgroundcolor": "#E5ECF6",
            "gridcolor": "white",
            "gridwidth": 2,
            "linecolor": "white",
            "showbackground": true,
            "ticks": "",
            "zerolinecolor": "white"
           },
           "yaxis": {
            "backgroundcolor": "#E5ECF6",
            "gridcolor": "white",
            "gridwidth": 2,
            "linecolor": "white",
            "showbackground": true,
            "ticks": "",
            "zerolinecolor": "white"
           },
           "zaxis": {
            "backgroundcolor": "#E5ECF6",
            "gridcolor": "white",
            "gridwidth": 2,
            "linecolor": "white",
            "showbackground": true,
            "ticks": "",
            "zerolinecolor": "white"
           }
          },
          "shapedefaults": {
           "line": {
            "color": "#2a3f5f"
           }
          },
          "ternary": {
           "aaxis": {
            "gridcolor": "white",
            "linecolor": "white",
            "ticks": ""
           },
           "baxis": {
            "gridcolor": "white",
            "linecolor": "white",
            "ticks": ""
           },
           "bgcolor": "#E5ECF6",
           "caxis": {
            "gridcolor": "white",
            "linecolor": "white",
            "ticks": ""
           }
          },
          "title": {
           "x": 0.05
          },
          "xaxis": {
           "automargin": true,
           "gridcolor": "white",
           "linecolor": "white",
           "ticks": "",
           "zerolinecolor": "white",
           "zerolinewidth": 2
          },
          "yaxis": {
           "automargin": true,
           "gridcolor": "white",
           "linecolor": "white",
           "ticks": "",
           "zerolinecolor": "white",
           "zerolinewidth": 2
          }
         }
        },
        "title": {
         "text": "Scenario Comparison: Probability of Achieving 25% Women"
        },
        "width": 900,
        "xaxis": {
         "gridcolor": "rgb(229,229,229)",
         "showgrid": true,
         "showline": true,
         "showticklabels": true,
         "tickcolor": "rgb(127,127,127)",
         "ticks": "outside",
         "title": {
          "text": "Year"
         },
         "visible": true,
         "zeroline": false
        },
        "yaxis": {
         "gridcolor": "rgb(229,229,229)",
         "showgrid": true,
         "showline": true,
         "showticklabels": true,
         "tickcolor": "rgb(127,127,127)",
         "ticks": "outside",
         "title": {
          "text": "Probability of Achieving Target"
         },
         "zeroline": false
        }
       }
      },
      "text/html": [
       "<div>\n",
       "        \n",
       "        \n",
       "            <div id=\"80108797-d3c3-400f-8e25-7c65eaee82ec\" class=\"plotly-graph-div\" style=\"height:800px; width:900px;\"></div>\n",
       "            <script type=\"text/javascript\">\n",
       "                require([\"plotly\"], function(Plotly) {\n",
       "                    window.PLOTLYENV=window.PLOTLYENV || {};\n",
       "                    \n",
       "                if (document.getElementById(\"80108797-d3c3-400f-8e25-7c65eaee82ec\")) {\n",
       "                    Plotly.newPlot(\n",
       "                        '80108797-d3c3-400f-8e25-7c65eaee82ec',\n",
       "                        [{\"legendgroup\": \"scenario 1\", \"line\": {\"color\": \"rgb(0,0,255)\", \"width\": 2}, \"marker\": {\"size\": 4}, \"mode\": \"lines+markers\", \"name\": \"scenario 1\", \"showlegend\": true, \"type\": \"scatter\", \"x\": [0.0, 1.0, 2.0, 3.0, 4.0, 5.0, 6.0, 7.0, 8.0, 9.0, 10.0, 11.0, 12.0], \"y\": [0.0, 0.0, 0.0, 0.0, 0.0, 0.0, 0.0, 0.0, 0.0, 0.0, 0.0, 0.0, 0.0]}, {\"legendgroup\": \"scenario 2\", \"line\": {\"color\": \"rgb(0,128,0)\", \"width\": 2}, \"marker\": {\"size\": 4}, \"mode\": \"lines+markers\", \"name\": \"scenario 2\", \"showlegend\": true, \"type\": \"scatter\", \"x\": [0.0, 1.0, 2.0, 3.0, 4.0, 5.0, 6.0, 7.0, 8.0, 9.0, 10.0, 11.0, 12.0], \"y\": [0.0, 0.0, 0.0, 0.010000000000000009, 0.0, 0.0, 0.0, 0.020000000000000018, 0.010000000000000009, 0.010000000000000009, 0.020000000000000018, 0.010000000000000009, 0.010000000000000009]}, {\"legendgroup\": \"scenario 3\", \"line\": {\"color\": \"rgb(128,0,128)\", \"width\": 2}, \"marker\": {\"size\": 4}, \"mode\": \"lines+markers\", \"name\": \"scenario 3\", \"showlegend\": true, \"type\": \"scatter\", \"x\": [0.0, 1.0, 2.0, 3.0, 4.0, 5.0, 6.0, 7.0, 8.0, 9.0, 10.0, 11.0, 12.0], \"y\": [0.0, 0.0, 0.0, 0.0, 0.0, 0.0, 0.010000000000000009, 0.010000000000000009, 0.020000000000000018, 0.010000000000000009, 0.010000000000000009, 0.020000000000000018, 0.020000000000000018]}, {\"line\": {\"color\": \"red\", \"dash\": \"dash\"}, \"mode\": \"lines\", \"name\": \"Target Probability\", \"type\": \"scatter\", \"x\": [0.0, 1.0, 2.0, 3.0, 4.0, 5.0, 6.0, 7.0, 8.0, 9.0, 10.0, 11.0, 12.0], \"y\": [0.5, 0.5, 0.5, 0.5, 0.5, 0.5, 0.5, 0.5, 0.5, 0.5, 0.5, 0.5, 0.5]}],\n",
       "                        {\"height\": 800, \"paper_bgcolor\": \"rgb(255,255,255)\", \"plot_bgcolor\": \"rgb(255,255,255)\", \"template\": {\"data\": {\"bar\": [{\"error_x\": {\"color\": \"#2a3f5f\"}, \"error_y\": {\"color\": \"#2a3f5f\"}, \"marker\": {\"line\": {\"color\": \"#E5ECF6\", \"width\": 0.5}}, \"type\": \"bar\"}], \"barpolar\": [{\"marker\": {\"line\": {\"color\": \"#E5ECF6\", \"width\": 0.5}}, \"type\": \"barpolar\"}], \"carpet\": [{\"aaxis\": {\"endlinecolor\": \"#2a3f5f\", \"gridcolor\": \"white\", \"linecolor\": \"white\", \"minorgridcolor\": \"white\", \"startlinecolor\": \"#2a3f5f\"}, \"baxis\": {\"endlinecolor\": \"#2a3f5f\", \"gridcolor\": \"white\", \"linecolor\": \"white\", \"minorgridcolor\": \"white\", \"startlinecolor\": \"#2a3f5f\"}, \"type\": \"carpet\"}], \"choropleth\": [{\"colorbar\": {\"outlinewidth\": 0, \"ticks\": \"\"}, \"type\": \"choropleth\"}], \"contour\": [{\"colorbar\": {\"outlinewidth\": 0, \"ticks\": \"\"}, \"colorscale\": [[0.0, \"#0d0887\"], [0.1111111111111111, \"#46039f\"], [0.2222222222222222, \"#7201a8\"], [0.3333333333333333, \"#9c179e\"], [0.4444444444444444, \"#bd3786\"], [0.5555555555555556, \"#d8576b\"], [0.6666666666666666, \"#ed7953\"], [0.7777777777777778, \"#fb9f3a\"], [0.8888888888888888, \"#fdca26\"], [1.0, \"#f0f921\"]], \"type\": \"contour\"}], \"contourcarpet\": [{\"colorbar\": {\"outlinewidth\": 0, \"ticks\": \"\"}, \"type\": \"contourcarpet\"}], \"heatmap\": [{\"colorbar\": {\"outlinewidth\": 0, \"ticks\": \"\"}, \"colorscale\": [[0.0, \"#0d0887\"], [0.1111111111111111, \"#46039f\"], [0.2222222222222222, \"#7201a8\"], [0.3333333333333333, \"#9c179e\"], [0.4444444444444444, \"#bd3786\"], [0.5555555555555556, \"#d8576b\"], [0.6666666666666666, \"#ed7953\"], [0.7777777777777778, \"#fb9f3a\"], [0.8888888888888888, \"#fdca26\"], [1.0, \"#f0f921\"]], \"type\": \"heatmap\"}], \"heatmapgl\": [{\"colorbar\": {\"outlinewidth\": 0, \"ticks\": \"\"}, \"colorscale\": [[0.0, \"#0d0887\"], [0.1111111111111111, \"#46039f\"], [0.2222222222222222, \"#7201a8\"], [0.3333333333333333, \"#9c179e\"], [0.4444444444444444, \"#bd3786\"], [0.5555555555555556, \"#d8576b\"], [0.6666666666666666, \"#ed7953\"], [0.7777777777777778, \"#fb9f3a\"], [0.8888888888888888, \"#fdca26\"], [1.0, \"#f0f921\"]], \"type\": \"heatmapgl\"}], \"histogram\": [{\"marker\": {\"colorbar\": {\"outlinewidth\": 0, \"ticks\": \"\"}}, \"type\": \"histogram\"}], \"histogram2d\": [{\"colorbar\": {\"outlinewidth\": 0, \"ticks\": \"\"}, \"colorscale\": [[0.0, \"#0d0887\"], [0.1111111111111111, \"#46039f\"], [0.2222222222222222, \"#7201a8\"], [0.3333333333333333, \"#9c179e\"], [0.4444444444444444, \"#bd3786\"], [0.5555555555555556, \"#d8576b\"], [0.6666666666666666, \"#ed7953\"], [0.7777777777777778, \"#fb9f3a\"], [0.8888888888888888, \"#fdca26\"], [1.0, \"#f0f921\"]], \"type\": \"histogram2d\"}], \"histogram2dcontour\": [{\"colorbar\": {\"outlinewidth\": 0, \"ticks\": \"\"}, \"colorscale\": [[0.0, \"#0d0887\"], [0.1111111111111111, \"#46039f\"], [0.2222222222222222, \"#7201a8\"], [0.3333333333333333, \"#9c179e\"], [0.4444444444444444, \"#bd3786\"], [0.5555555555555556, \"#d8576b\"], [0.6666666666666666, \"#ed7953\"], [0.7777777777777778, \"#fb9f3a\"], [0.8888888888888888, \"#fdca26\"], [1.0, \"#f0f921\"]], \"type\": \"histogram2dcontour\"}], \"mesh3d\": [{\"colorbar\": {\"outlinewidth\": 0, \"ticks\": \"\"}, \"type\": \"mesh3d\"}], \"parcoords\": [{\"line\": {\"colorbar\": {\"outlinewidth\": 0, \"ticks\": \"\"}}, \"type\": \"parcoords\"}], \"scatter\": [{\"marker\": {\"colorbar\": {\"outlinewidth\": 0, \"ticks\": \"\"}}, \"type\": \"scatter\"}], \"scatter3d\": [{\"line\": {\"colorbar\": {\"outlinewidth\": 0, \"ticks\": \"\"}}, \"marker\": {\"colorbar\": {\"outlinewidth\": 0, \"ticks\": \"\"}}, \"type\": \"scatter3d\"}], \"scattercarpet\": [{\"marker\": {\"colorbar\": {\"outlinewidth\": 0, \"ticks\": \"\"}}, \"type\": \"scattercarpet\"}], \"scattergeo\": [{\"marker\": {\"colorbar\": {\"outlinewidth\": 0, \"ticks\": \"\"}}, \"type\": \"scattergeo\"}], \"scattergl\": [{\"marker\": {\"colorbar\": {\"outlinewidth\": 0, \"ticks\": \"\"}}, \"type\": \"scattergl\"}], \"scattermapbox\": [{\"marker\": {\"colorbar\": {\"outlinewidth\": 0, \"ticks\": \"\"}}, \"type\": \"scattermapbox\"}], \"scatterpolar\": [{\"marker\": {\"colorbar\": {\"outlinewidth\": 0, \"ticks\": \"\"}}, \"type\": \"scatterpolar\"}], \"scatterpolargl\": [{\"marker\": {\"colorbar\": {\"outlinewidth\": 0, \"ticks\": \"\"}}, \"type\": \"scatterpolargl\"}], \"scatterternary\": [{\"marker\": {\"colorbar\": {\"outlinewidth\": 0, \"ticks\": \"\"}}, \"type\": \"scatterternary\"}], \"surface\": [{\"colorbar\": {\"outlinewidth\": 0, \"ticks\": \"\"}, \"colorscale\": [[0.0, \"#0d0887\"], [0.1111111111111111, \"#46039f\"], [0.2222222222222222, \"#7201a8\"], [0.3333333333333333, \"#9c179e\"], [0.4444444444444444, \"#bd3786\"], [0.5555555555555556, \"#d8576b\"], [0.6666666666666666, \"#ed7953\"], [0.7777777777777778, \"#fb9f3a\"], [0.8888888888888888, \"#fdca26\"], [1.0, \"#f0f921\"]], \"type\": \"surface\"}], \"table\": [{\"cells\": {\"fill\": {\"color\": \"#EBF0F8\"}, \"line\": {\"color\": \"white\"}}, \"header\": {\"fill\": {\"color\": \"#C8D4E3\"}, \"line\": {\"color\": \"white\"}}, \"type\": \"table\"}]}, \"layout\": {\"annotationdefaults\": {\"arrowcolor\": \"#2a3f5f\", \"arrowhead\": 0, \"arrowwidth\": 1}, \"colorscale\": {\"diverging\": [[0, \"#8e0152\"], [0.1, \"#c51b7d\"], [0.2, \"#de77ae\"], [0.3, \"#f1b6da\"], [0.4, \"#fde0ef\"], [0.5, \"#f7f7f7\"], [0.6, \"#e6f5d0\"], [0.7, \"#b8e186\"], [0.8, \"#7fbc41\"], [0.9, \"#4d9221\"], [1, \"#276419\"]], \"sequential\": [[0.0, \"#0d0887\"], [0.1111111111111111, \"#46039f\"], [0.2222222222222222, \"#7201a8\"], [0.3333333333333333, \"#9c179e\"], [0.4444444444444444, \"#bd3786\"], [0.5555555555555556, \"#d8576b\"], [0.6666666666666666, \"#ed7953\"], [0.7777777777777778, \"#fb9f3a\"], [0.8888888888888888, \"#fdca26\"], [1.0, \"#f0f921\"]], \"sequentialminus\": [[0.0, \"#0d0887\"], [0.1111111111111111, \"#46039f\"], [0.2222222222222222, \"#7201a8\"], [0.3333333333333333, \"#9c179e\"], [0.4444444444444444, \"#bd3786\"], [0.5555555555555556, \"#d8576b\"], [0.6666666666666666, \"#ed7953\"], [0.7777777777777778, \"#fb9f3a\"], [0.8888888888888888, \"#fdca26\"], [1.0, \"#f0f921\"]]}, \"colorway\": [\"#636efa\", \"#EF553B\", \"#00cc96\", \"#ab63fa\", \"#FFA15A\", \"#19d3f3\", \"#FF6692\", \"#B6E880\", \"#FF97FF\", \"#FECB52\"], \"font\": {\"color\": \"#2a3f5f\"}, \"geo\": {\"bgcolor\": \"white\", \"lakecolor\": \"white\", \"landcolor\": \"#E5ECF6\", \"showlakes\": true, \"showland\": true, \"subunitcolor\": \"white\"}, \"hoverlabel\": {\"align\": \"left\"}, \"hovermode\": \"closest\", \"mapbox\": {\"style\": \"light\"}, \"paper_bgcolor\": \"white\", \"plot_bgcolor\": \"#E5ECF6\", \"polar\": {\"angularaxis\": {\"gridcolor\": \"white\", \"linecolor\": \"white\", \"ticks\": \"\"}, \"bgcolor\": \"#E5ECF6\", \"radialaxis\": {\"gridcolor\": \"white\", \"linecolor\": \"white\", \"ticks\": \"\"}}, \"scene\": {\"xaxis\": {\"backgroundcolor\": \"#E5ECF6\", \"gridcolor\": \"white\", \"gridwidth\": 2, \"linecolor\": \"white\", \"showbackground\": true, \"ticks\": \"\", \"zerolinecolor\": \"white\"}, \"yaxis\": {\"backgroundcolor\": \"#E5ECF6\", \"gridcolor\": \"white\", \"gridwidth\": 2, \"linecolor\": \"white\", \"showbackground\": true, \"ticks\": \"\", \"zerolinecolor\": \"white\"}, \"zaxis\": {\"backgroundcolor\": \"#E5ECF6\", \"gridcolor\": \"white\", \"gridwidth\": 2, \"linecolor\": \"white\", \"showbackground\": true, \"ticks\": \"\", \"zerolinecolor\": \"white\"}}, \"shapedefaults\": {\"line\": {\"color\": \"#2a3f5f\"}}, \"ternary\": {\"aaxis\": {\"gridcolor\": \"white\", \"linecolor\": \"white\", \"ticks\": \"\"}, \"baxis\": {\"gridcolor\": \"white\", \"linecolor\": \"white\", \"ticks\": \"\"}, \"bgcolor\": \"#E5ECF6\", \"caxis\": {\"gridcolor\": \"white\", \"linecolor\": \"white\", \"ticks\": \"\"}}, \"title\": {\"x\": 0.05}, \"xaxis\": {\"automargin\": true, \"gridcolor\": \"white\", \"linecolor\": \"white\", \"ticks\": \"\", \"zerolinecolor\": \"white\", \"zerolinewidth\": 2}, \"yaxis\": {\"automargin\": true, \"gridcolor\": \"white\", \"linecolor\": \"white\", \"ticks\": \"\", \"zerolinecolor\": \"white\", \"zerolinewidth\": 2}}}, \"title\": {\"text\": \"Scenario Comparison: Probability of Achieving 25% Women\"}, \"width\": 900, \"xaxis\": {\"gridcolor\": \"rgb(229,229,229)\", \"showgrid\": true, \"showline\": true, \"showticklabels\": true, \"tickcolor\": \"rgb(127,127,127)\", \"ticks\": \"outside\", \"title\": {\"text\": \"Year\"}, \"visible\": true, \"zeroline\": false}, \"yaxis\": {\"gridcolor\": \"rgb(229,229,229)\", \"showgrid\": true, \"showline\": true, \"showticklabels\": true, \"tickcolor\": \"rgb(127,127,127)\", \"ticks\": \"outside\", \"title\": {\"text\": \"Probability of Achieving Target\"}, \"zeroline\": false}},\n",
       "                        {\"responsive\": true}\n",
       "                    ).then(function(){\n",
       "                            \n",
       "var gd = document.getElementById('80108797-d3c3-400f-8e25-7c65eaee82ec');\n",
       "var x = new MutationObserver(function (mutations, observer) {{\n",
       "        var display = window.getComputedStyle(gd).display;\n",
       "        if (!display || display === 'none') {{\n",
       "            console.log([gd, 'removed!']);\n",
       "            Plotly.purge(gd);\n",
       "            observer.disconnect();\n",
       "        }}\n",
       "}});\n",
       "\n",
       "// Listen for the removal of the full notebook cells\n",
       "var notebookContainer = gd.closest('#notebook-container');\n",
       "if (notebookContainer) {{\n",
       "    x.observe(notebookContainer, {childList: true});\n",
       "}}\n",
       "\n",
       "// Listen for the clearing of the current output cell\n",
       "var outputEl = gd.closest('.output');\n",
       "if (outputEl) {{\n",
       "    x.observe(outputEl, {childList: true});\n",
       "}}\n",
       "\n",
       "                        })\n",
       "                };\n",
       "                });\n",
       "            </script>\n",
       "        </div>"
      ]
     },
     "metadata": {},
     "output_type": "display_data"
    }
   ],
   "source": [
    "data = []\n",
    "linecolors = ['rgb(0,0,255)', 'rgb(0,128,0)', 'rgb(128,0,128)', 'rgb(139,69,19)']\n",
    "fillcolors = ['rgba(0,0,255,0.25)', 'rgba(0,128,0,0.25)', 'rgba(128,0,128,0.25)', 'rgba(160,82,45,0.25)']\n",
    "legend_labels = ['scenario 1', 'scenario 2', 'scenario 3']\n",
    "\n",
    "\n",
    "for k,v in enumerate(results.mlist):\n",
    "\n",
    "    data.append(go.Scatter(\n",
    "        x=v.summary_matrix['yr'],\n",
    "        y=v.summary_matrix['p_fpct'],\n",
    "        line=dict(color=linecolors[k],\n",
    "                 width=2),\n",
    "        legendgroup=legend_labels[k],\n",
    "        showlegend=True,\n",
    "        marker=dict(\n",
    "            size=4),\n",
    "        mode='lines+markers',\n",
    "        name=legend_labels[k],\n",
    "    ))\n",
    "\n",
    "\n",
    "data.append(go.Scatter(\n",
    "    x=v.summary_matrix['yr'], \n",
    "    y=np.repeat(0.5, len(v.summary_matrix['yr'])),\n",
    "    line=dict(color='red',\n",
    "             dash='dash'),\n",
    "    name='Target Probability',\n",
    "    mode='lines',\n",
    "))\n",
    "    \n",
    "layout = go.Layout(\n",
    "    title='Scenario Comparison: Probability of Achieving 25% Women',\n",
    "    height=800,\n",
    "    width=900,\n",
    "    paper_bgcolor='rgb(255,255,255)',\n",
    "    plot_bgcolor='rgb(255,255,255)',\n",
    "    xaxis=dict(\n",
    "        visible=True,\n",
    "        title='Year',\n",
    "        gridcolor='rgb(229,229,229)',\n",
    "        showgrid=True,\n",
    "        showline=True,\n",
    "        showticklabels=True,\n",
    "        tickcolor='rgb(127,127,127)',\n",
    "        ticks='outside',\n",
    "        zeroline=False\n",
    "    ),\n",
    "    yaxis=dict(\n",
    "        title='Probability of Achieving Target',\n",
    "        gridcolor='rgb(229,229,229)',\n",
    "        showgrid=True,\n",
    "        showline=True,\n",
    "        showticklabels=True,\n",
    "        tickcolor='rgb(127,127,127)',\n",
    "        ticks='outside',\n",
    "        zeroline=False\n",
    "    ),\n",
    ")\n",
    "fig = go.Figure(data=data, layout=layout)\n",
    "plotly.offline.iplot(fig, filename= 'shaded_lines')\n",
    "\n",
    "# export image for ingestion to pdf file.\n",
    "# if not os.path.exists('images'):\n",
    "#     os.mkdir('images')\n",
    "# pio.write_image(fig, 'images/probability_of_reaching_gender_target.png')"
   ]
  },
  {
   "cell_type": "code",
   "execution_count": 43,
   "metadata": {
    "hide_input": true,
    "tags": [
     "plotcell"
    ]
   },
   "outputs": [],
   "source": [
    "linecolors = ['blue', 'green', 'purple', 'brown']\n",
    "legend_labels = ['scenario 1', 'scenario 2', 'scenario 3']\n",
    "\n",
    "plt.figure(figsize=(12,12))\n",
    "\n",
    "for k,v in enumerate(results.mlist):\n",
    "    plt.plot(\n",
    "             v.summary_matrix['yr'], \n",
    "             v.summary_matrix['p_fpct'],\n",
    "             linewidth=2,\n",
    "             color=linecolors[k],\n",
    "             label=legend_labels[k],\n",
    "             marker=\"o\",\n",
    "            )\n",
    "\n",
    "plt.hlines(\n",
    "        0.5,\n",
    "        0,\n",
    "        v.summary_matrix['yr'].max(),\n",
    "        colors='red',\n",
    "        linestyle='--',\n",
    "        label='Target Probability'\n",
    "        )\n",
    "    \n",
    "plt.title('Scenario Comparison: Probability of Achieving 25% Women', fontsize=20)\n",
    "plt.xlabel('Year', fontsize=16)\n",
    "plt.ylabel('Probability of Achieving Target', fontsize=16)\n",
    "plt.legend(loc='upper right', fontsize=14)\n",
    "if not os.path.exists('images'):\n",
    "    os.mkdir('images')\n",
    "plt.savefig('images/scenarios_probability_of_reaching_gender_target.png')\n",
    "plt.close()"
   ]
  },
  {
   "cell_type": "markdown",
   "metadata": {
    "hide_input": true
   },
   "source": [
    "## Comparison of Model 3 Growth Models: Change in Number Women, Model 3"
   ]
  },
  {
   "cell_type": "code",
   "execution_count": 44,
   "metadata": {
    "hide_input": true,
    "scrolled": false,
    "tags": [
     "plotcell"
    ]
   },
   "outputs": [
    {
     "data": {
      "application/vnd.plotly.v1+json": {
       "config": {
        "linkText": "Export to plot.ly",
        "plotlyServerURL": "https://plot.ly",
        "showLink": false
       },
       "data": [
        {
         "fill": "tozerox",
         "fillcolor": "rgba(0,0,255,0.25)",
         "legendgroup": "scenario 1",
         "line": {
          "color": "rgb(0,0,255)",
          "width": 1
         },
         "mode": "lines",
         "name": "scenario 1",
         "showlegend": false,
         "type": "scatter",
         "x": [
          0,
          1,
          2,
          3,
          4,
          5,
          6,
          7,
          8,
          9,
          10,
          11,
          12,
          12,
          11,
          10,
          9,
          8,
          7,
          6,
          5,
          4,
          3,
          2,
          1,
          0
         ],
         "y": [
          8,
          11,
          12.525,
          14,
          15,
          15,
          16,
          16.525,
          17,
          18,
          19,
          20,
          20,
          9,
          8.475,
          8,
          7.475,
          7.475,
          8,
          8,
          8,
          7,
          7,
          7,
          7,
          8
         ]
        },
        {
         "legendgroup": "scenario 1",
         "line": {
          "color": "rgb(0,0,255)",
          "width": 2
         },
         "marker": {
          "size": 4
         },
         "mode": "lines+markers",
         "name": "scenario 1",
         "showlegend": true,
         "type": "scatter",
         "x": [
          0,
          1,
          2,
          3,
          4,
          5,
          6,
          7,
          8,
          9,
          10,
          11,
          12
         ],
         "y": [
          8,
          8.8,
          9.46,
          10.1,
          10.82,
          11.35,
          11.76,
          12,
          12.34,
          12.68,
          13.17,
          13.76,
          14.18
         ]
        },
        {
         "fill": "tozerox",
         "fillcolor": "rgba(0,128,0,0.25)",
         "legendgroup": "scenario 2",
         "line": {
          "color": "rgb(0,128,0)",
          "width": 1
         },
         "mode": "lines",
         "name": "scenario 2",
         "showlegend": false,
         "type": "scatter",
         "x": [
          0,
          1,
          2,
          3,
          4,
          5,
          6,
          7,
          8,
          9,
          10,
          11,
          12,
          12,
          11,
          10,
          9,
          8,
          7,
          6,
          5,
          4,
          3,
          2,
          1,
          0
         ],
         "y": [
          8,
          18,
          30.525,
          38,
          36,
          34.525,
          35.575,
          39.525,
          39,
          38,
          40.525,
          39.525,
          38.575,
          19,
          18,
          19.475,
          17.475,
          18,
          18,
          16,
          15.475,
          16.475,
          17,
          14.475,
          9,
          8
         ]
        },
        {
         "legendgroup": "scenario 2",
         "line": {
          "color": "rgb(0,128,0)",
          "width": 2
         },
         "marker": {
          "size": 4
         },
         "mode": "lines+markers",
         "name": "scenario 2",
         "showlegend": true,
         "type": "scatter",
         "x": [
          0,
          1,
          2,
          3,
          4,
          5,
          6,
          7,
          8,
          9,
          10,
          11,
          12
         ],
         "y": [
          8,
          13.69,
          21.57,
          26.62,
          26.81,
          26.19,
          25.8,
          25.97,
          26.65,
          27.68,
          27.85,
          27.46,
          26.8
         ]
        },
        {
         "fill": "tozerox",
         "fillcolor": "rgba(128,0,128,0.25)",
         "legendgroup": "scenario 3",
         "line": {
          "color": "rgb(128,0,128)",
          "width": 1
         },
         "mode": "lines",
         "name": "scenario 3",
         "showlegend": false,
         "type": "scatter",
         "x": [
          0,
          1,
          2,
          3,
          4,
          5,
          6,
          7,
          8,
          9,
          10,
          11,
          12,
          12,
          11,
          10,
          9,
          8,
          7,
          6,
          5,
          4,
          3,
          2,
          1,
          0
         ],
         "y": [
          8,
          21.525,
          39.525,
          38.05,
          36.05,
          34.575,
          37,
          38,
          42.1,
          46.05,
          43.525,
          40,
          39.525,
          18.475,
          18.475,
          18.475,
          19,
          16,
          13.95,
          14.475,
          15.475,
          17.475,
          19.475,
          20.475,
          13,
          8
         ]
        },
        {
         "legendgroup": "scenario 3",
         "line": {
          "color": "rgb(128,0,128)",
          "width": 2
         },
         "marker": {
          "size": 4
         },
         "mode": "lines+markers",
         "name": "scenario 3",
         "showlegend": true,
         "type": "scatter",
         "x": [
          0,
          1,
          2,
          3,
          4,
          5,
          6,
          7,
          8,
          9,
          10,
          11,
          12
         ],
         "y": [
          8,
          16.61,
          28.87,
          27.47,
          26.14,
          24.99,
          24.55,
          24.84,
          27.36,
          29.82,
          29.79,
          29.28,
          28.93
         ]
        },
        {
         "line": {
          "color": "blue",
          "dash": "dashdot"
         },
         "marker": {
          "size": 4
         },
         "mode": "lines+markers",
         "name": "Management Data",
         "type": "scatter",
         "x": [
          0,
          1,
          2,
          3,
          4,
          5,
          6,
          7,
          8,
          9,
          10,
          11,
          12
         ],
         "y": [
          8,
          7,
          9,
          10,
          12,
          13,
          13,
          12,
          11,
          14,
          14,
          18,
          19
         ]
        }
       ],
       "layout": {
        "height": 800,
        "paper_bgcolor": "rgb(255,255,255)",
        "plot_bgcolor": "rgb(255,255,255)",
        "template": {
         "data": {
          "bar": [
           {
            "error_x": {
             "color": "#2a3f5f"
            },
            "error_y": {
             "color": "#2a3f5f"
            },
            "marker": {
             "line": {
              "color": "#E5ECF6",
              "width": 0.5
             }
            },
            "type": "bar"
           }
          ],
          "barpolar": [
           {
            "marker": {
             "line": {
              "color": "#E5ECF6",
              "width": 0.5
             }
            },
            "type": "barpolar"
           }
          ],
          "carpet": [
           {
            "aaxis": {
             "endlinecolor": "#2a3f5f",
             "gridcolor": "white",
             "linecolor": "white",
             "minorgridcolor": "white",
             "startlinecolor": "#2a3f5f"
            },
            "baxis": {
             "endlinecolor": "#2a3f5f",
             "gridcolor": "white",
             "linecolor": "white",
             "minorgridcolor": "white",
             "startlinecolor": "#2a3f5f"
            },
            "type": "carpet"
           }
          ],
          "choropleth": [
           {
            "colorbar": {
             "outlinewidth": 0,
             "ticks": ""
            },
            "type": "choropleth"
           }
          ],
          "contour": [
           {
            "colorbar": {
             "outlinewidth": 0,
             "ticks": ""
            },
            "colorscale": [
             [
              0,
              "#0d0887"
             ],
             [
              0.1111111111111111,
              "#46039f"
             ],
             [
              0.2222222222222222,
              "#7201a8"
             ],
             [
              0.3333333333333333,
              "#9c179e"
             ],
             [
              0.4444444444444444,
              "#bd3786"
             ],
             [
              0.5555555555555556,
              "#d8576b"
             ],
             [
              0.6666666666666666,
              "#ed7953"
             ],
             [
              0.7777777777777778,
              "#fb9f3a"
             ],
             [
              0.8888888888888888,
              "#fdca26"
             ],
             [
              1,
              "#f0f921"
             ]
            ],
            "type": "contour"
           }
          ],
          "contourcarpet": [
           {
            "colorbar": {
             "outlinewidth": 0,
             "ticks": ""
            },
            "type": "contourcarpet"
           }
          ],
          "heatmap": [
           {
            "colorbar": {
             "outlinewidth": 0,
             "ticks": ""
            },
            "colorscale": [
             [
              0,
              "#0d0887"
             ],
             [
              0.1111111111111111,
              "#46039f"
             ],
             [
              0.2222222222222222,
              "#7201a8"
             ],
             [
              0.3333333333333333,
              "#9c179e"
             ],
             [
              0.4444444444444444,
              "#bd3786"
             ],
             [
              0.5555555555555556,
              "#d8576b"
             ],
             [
              0.6666666666666666,
              "#ed7953"
             ],
             [
              0.7777777777777778,
              "#fb9f3a"
             ],
             [
              0.8888888888888888,
              "#fdca26"
             ],
             [
              1,
              "#f0f921"
             ]
            ],
            "type": "heatmap"
           }
          ],
          "heatmapgl": [
           {
            "colorbar": {
             "outlinewidth": 0,
             "ticks": ""
            },
            "colorscale": [
             [
              0,
              "#0d0887"
             ],
             [
              0.1111111111111111,
              "#46039f"
             ],
             [
              0.2222222222222222,
              "#7201a8"
             ],
             [
              0.3333333333333333,
              "#9c179e"
             ],
             [
              0.4444444444444444,
              "#bd3786"
             ],
             [
              0.5555555555555556,
              "#d8576b"
             ],
             [
              0.6666666666666666,
              "#ed7953"
             ],
             [
              0.7777777777777778,
              "#fb9f3a"
             ],
             [
              0.8888888888888888,
              "#fdca26"
             ],
             [
              1,
              "#f0f921"
             ]
            ],
            "type": "heatmapgl"
           }
          ],
          "histogram": [
           {
            "marker": {
             "colorbar": {
              "outlinewidth": 0,
              "ticks": ""
             }
            },
            "type": "histogram"
           }
          ],
          "histogram2d": [
           {
            "colorbar": {
             "outlinewidth": 0,
             "ticks": ""
            },
            "colorscale": [
             [
              0,
              "#0d0887"
             ],
             [
              0.1111111111111111,
              "#46039f"
             ],
             [
              0.2222222222222222,
              "#7201a8"
             ],
             [
              0.3333333333333333,
              "#9c179e"
             ],
             [
              0.4444444444444444,
              "#bd3786"
             ],
             [
              0.5555555555555556,
              "#d8576b"
             ],
             [
              0.6666666666666666,
              "#ed7953"
             ],
             [
              0.7777777777777778,
              "#fb9f3a"
             ],
             [
              0.8888888888888888,
              "#fdca26"
             ],
             [
              1,
              "#f0f921"
             ]
            ],
            "type": "histogram2d"
           }
          ],
          "histogram2dcontour": [
           {
            "colorbar": {
             "outlinewidth": 0,
             "ticks": ""
            },
            "colorscale": [
             [
              0,
              "#0d0887"
             ],
             [
              0.1111111111111111,
              "#46039f"
             ],
             [
              0.2222222222222222,
              "#7201a8"
             ],
             [
              0.3333333333333333,
              "#9c179e"
             ],
             [
              0.4444444444444444,
              "#bd3786"
             ],
             [
              0.5555555555555556,
              "#d8576b"
             ],
             [
              0.6666666666666666,
              "#ed7953"
             ],
             [
              0.7777777777777778,
              "#fb9f3a"
             ],
             [
              0.8888888888888888,
              "#fdca26"
             ],
             [
              1,
              "#f0f921"
             ]
            ],
            "type": "histogram2dcontour"
           }
          ],
          "mesh3d": [
           {
            "colorbar": {
             "outlinewidth": 0,
             "ticks": ""
            },
            "type": "mesh3d"
           }
          ],
          "parcoords": [
           {
            "line": {
             "colorbar": {
              "outlinewidth": 0,
              "ticks": ""
             }
            },
            "type": "parcoords"
           }
          ],
          "scatter": [
           {
            "marker": {
             "colorbar": {
              "outlinewidth": 0,
              "ticks": ""
             }
            },
            "type": "scatter"
           }
          ],
          "scatter3d": [
           {
            "line": {
             "colorbar": {
              "outlinewidth": 0,
              "ticks": ""
             }
            },
            "marker": {
             "colorbar": {
              "outlinewidth": 0,
              "ticks": ""
             }
            },
            "type": "scatter3d"
           }
          ],
          "scattercarpet": [
           {
            "marker": {
             "colorbar": {
              "outlinewidth": 0,
              "ticks": ""
             }
            },
            "type": "scattercarpet"
           }
          ],
          "scattergeo": [
           {
            "marker": {
             "colorbar": {
              "outlinewidth": 0,
              "ticks": ""
             }
            },
            "type": "scattergeo"
           }
          ],
          "scattergl": [
           {
            "marker": {
             "colorbar": {
              "outlinewidth": 0,
              "ticks": ""
             }
            },
            "type": "scattergl"
           }
          ],
          "scattermapbox": [
           {
            "marker": {
             "colorbar": {
              "outlinewidth": 0,
              "ticks": ""
             }
            },
            "type": "scattermapbox"
           }
          ],
          "scatterpolar": [
           {
            "marker": {
             "colorbar": {
              "outlinewidth": 0,
              "ticks": ""
             }
            },
            "type": "scatterpolar"
           }
          ],
          "scatterpolargl": [
           {
            "marker": {
             "colorbar": {
              "outlinewidth": 0,
              "ticks": ""
             }
            },
            "type": "scatterpolargl"
           }
          ],
          "scatterternary": [
           {
            "marker": {
             "colorbar": {
              "outlinewidth": 0,
              "ticks": ""
             }
            },
            "type": "scatterternary"
           }
          ],
          "surface": [
           {
            "colorbar": {
             "outlinewidth": 0,
             "ticks": ""
            },
            "colorscale": [
             [
              0,
              "#0d0887"
             ],
             [
              0.1111111111111111,
              "#46039f"
             ],
             [
              0.2222222222222222,
              "#7201a8"
             ],
             [
              0.3333333333333333,
              "#9c179e"
             ],
             [
              0.4444444444444444,
              "#bd3786"
             ],
             [
              0.5555555555555556,
              "#d8576b"
             ],
             [
              0.6666666666666666,
              "#ed7953"
             ],
             [
              0.7777777777777778,
              "#fb9f3a"
             ],
             [
              0.8888888888888888,
              "#fdca26"
             ],
             [
              1,
              "#f0f921"
             ]
            ],
            "type": "surface"
           }
          ],
          "table": [
           {
            "cells": {
             "fill": {
              "color": "#EBF0F8"
             },
             "line": {
              "color": "white"
             }
            },
            "header": {
             "fill": {
              "color": "#C8D4E3"
             },
             "line": {
              "color": "white"
             }
            },
            "type": "table"
           }
          ]
         },
         "layout": {
          "annotationdefaults": {
           "arrowcolor": "#2a3f5f",
           "arrowhead": 0,
           "arrowwidth": 1
          },
          "colorscale": {
           "diverging": [
            [
             0,
             "#8e0152"
            ],
            [
             0.1,
             "#c51b7d"
            ],
            [
             0.2,
             "#de77ae"
            ],
            [
             0.3,
             "#f1b6da"
            ],
            [
             0.4,
             "#fde0ef"
            ],
            [
             0.5,
             "#f7f7f7"
            ],
            [
             0.6,
             "#e6f5d0"
            ],
            [
             0.7,
             "#b8e186"
            ],
            [
             0.8,
             "#7fbc41"
            ],
            [
             0.9,
             "#4d9221"
            ],
            [
             1,
             "#276419"
            ]
           ],
           "sequential": [
            [
             0,
             "#0d0887"
            ],
            [
             0.1111111111111111,
             "#46039f"
            ],
            [
             0.2222222222222222,
             "#7201a8"
            ],
            [
             0.3333333333333333,
             "#9c179e"
            ],
            [
             0.4444444444444444,
             "#bd3786"
            ],
            [
             0.5555555555555556,
             "#d8576b"
            ],
            [
             0.6666666666666666,
             "#ed7953"
            ],
            [
             0.7777777777777778,
             "#fb9f3a"
            ],
            [
             0.8888888888888888,
             "#fdca26"
            ],
            [
             1,
             "#f0f921"
            ]
           ],
           "sequentialminus": [
            [
             0,
             "#0d0887"
            ],
            [
             0.1111111111111111,
             "#46039f"
            ],
            [
             0.2222222222222222,
             "#7201a8"
            ],
            [
             0.3333333333333333,
             "#9c179e"
            ],
            [
             0.4444444444444444,
             "#bd3786"
            ],
            [
             0.5555555555555556,
             "#d8576b"
            ],
            [
             0.6666666666666666,
             "#ed7953"
            ],
            [
             0.7777777777777778,
             "#fb9f3a"
            ],
            [
             0.8888888888888888,
             "#fdca26"
            ],
            [
             1,
             "#f0f921"
            ]
           ]
          },
          "colorway": [
           "#636efa",
           "#EF553B",
           "#00cc96",
           "#ab63fa",
           "#FFA15A",
           "#19d3f3",
           "#FF6692",
           "#B6E880",
           "#FF97FF",
           "#FECB52"
          ],
          "font": {
           "color": "#2a3f5f"
          },
          "geo": {
           "bgcolor": "white",
           "lakecolor": "white",
           "landcolor": "#E5ECF6",
           "showlakes": true,
           "showland": true,
           "subunitcolor": "white"
          },
          "hoverlabel": {
           "align": "left"
          },
          "hovermode": "closest",
          "mapbox": {
           "style": "light"
          },
          "paper_bgcolor": "white",
          "plot_bgcolor": "#E5ECF6",
          "polar": {
           "angularaxis": {
            "gridcolor": "white",
            "linecolor": "white",
            "ticks": ""
           },
           "bgcolor": "#E5ECF6",
           "radialaxis": {
            "gridcolor": "white",
            "linecolor": "white",
            "ticks": ""
           }
          },
          "scene": {
           "xaxis": {
            "backgroundcolor": "#E5ECF6",
            "gridcolor": "white",
            "gridwidth": 2,
            "linecolor": "white",
            "showbackground": true,
            "ticks": "",
            "zerolinecolor": "white"
           },
           "yaxis": {
            "backgroundcolor": "#E5ECF6",
            "gridcolor": "white",
            "gridwidth": 2,
            "linecolor": "white",
            "showbackground": true,
            "ticks": "",
            "zerolinecolor": "white"
           },
           "zaxis": {
            "backgroundcolor": "#E5ECF6",
            "gridcolor": "white",
            "gridwidth": 2,
            "linecolor": "white",
            "showbackground": true,
            "ticks": "",
            "zerolinecolor": "white"
           }
          },
          "shapedefaults": {
           "line": {
            "color": "#2a3f5f"
           }
          },
          "ternary": {
           "aaxis": {
            "gridcolor": "white",
            "linecolor": "white",
            "ticks": ""
           },
           "baxis": {
            "gridcolor": "white",
            "linecolor": "white",
            "ticks": ""
           },
           "bgcolor": "#E5ECF6",
           "caxis": {
            "gridcolor": "white",
            "linecolor": "white",
            "ticks": ""
           }
          },
          "title": {
           "x": 0.05
          },
          "xaxis": {
           "automargin": true,
           "gridcolor": "white",
           "linecolor": "white",
           "ticks": "",
           "zerolinecolor": "white",
           "zerolinewidth": 2
          },
          "yaxis": {
           "automargin": true,
           "gridcolor": "white",
           "linecolor": "white",
           "ticks": "",
           "zerolinecolor": "white",
           "zerolinewidth": 2
          }
         }
        },
        "title": {
         "text": "Scenario Comparison: Change in Number Women, Model 3"
        },
        "width": 900,
        "xaxis": {
         "gridcolor": "rgb(229,229,229)",
         "showgrid": true,
         "showline": true,
         "showticklabels": true,
         "tickcolor": "rgb(127,127,127)",
         "ticks": "outside",
         "title": {
          "text": "Year"
         },
         "visible": true,
         "zeroline": false
        },
        "yaxis": {
         "gridcolor": "rgb(229,229,229)",
         "showgrid": true,
         "showline": true,
         "showticklabels": true,
         "tickcolor": "rgb(127,127,127)",
         "ticks": "outside",
         "title": {
          "text": "Number of Women Faculty"
         },
         "zeroline": false
        }
       }
      },
      "text/html": [
       "<div>\n",
       "        \n",
       "        \n",
       "            <div id=\"1272ca17-f407-4074-8f6c-9599f090f2c1\" class=\"plotly-graph-div\" style=\"height:800px; width:900px;\"></div>\n",
       "            <script type=\"text/javascript\">\n",
       "                require([\"plotly\"], function(Plotly) {\n",
       "                    window.PLOTLYENV=window.PLOTLYENV || {};\n",
       "                    \n",
       "                if (document.getElementById(\"1272ca17-f407-4074-8f6c-9599f090f2c1\")) {\n",
       "                    Plotly.newPlot(\n",
       "                        '1272ca17-f407-4074-8f6c-9599f090f2c1',\n",
       "                        [{\"fill\": \"tozerox\", \"fillcolor\": \"rgba(0,0,255,0.25)\", \"legendgroup\": \"scenario 1\", \"line\": {\"color\": \"rgb(0,0,255)\", \"width\": 1}, \"mode\": \"lines\", \"name\": \"scenario 1\", \"showlegend\": false, \"type\": \"scatter\", \"x\": [0.0, 1.0, 2.0, 3.0, 4.0, 5.0, 6.0, 7.0, 8.0, 9.0, 10.0, 11.0, 12.0, 12.0, 11.0, 10.0, 9.0, 8.0, 7.0, 6.0, 5.0, 4.0, 3.0, 2.0, 1.0, 0.0], \"y\": [8.0, 11.0, 12.525, 14.0, 15.0, 15.0, 16.0, 16.525, 17.0, 18.0, 19.0, 20.0, 20.0, 9.0, 8.475, 8.0, 7.475, 7.475, 8.0, 8.0, 8.0, 7.0, 7.0, 7.0, 7.0, 8.0]}, {\"legendgroup\": \"scenario 1\", \"line\": {\"color\": \"rgb(0,0,255)\", \"width\": 2}, \"marker\": {\"size\": 4}, \"mode\": \"lines+markers\", \"name\": \"scenario 1\", \"showlegend\": true, \"type\": \"scatter\", \"x\": [0.0, 1.0, 2.0, 3.0, 4.0, 5.0, 6.0, 7.0, 8.0, 9.0, 10.0, 11.0, 12.0], \"y\": [8.0, 8.8, 9.46, 10.1, 10.82, 11.35, 11.76, 12.0, 12.34, 12.68, 13.17, 13.76, 14.18]}, {\"fill\": \"tozerox\", \"fillcolor\": \"rgba(0,128,0,0.25)\", \"legendgroup\": \"scenario 2\", \"line\": {\"color\": \"rgb(0,128,0)\", \"width\": 1}, \"mode\": \"lines\", \"name\": \"scenario 2\", \"showlegend\": false, \"type\": \"scatter\", \"x\": [0.0, 1.0, 2.0, 3.0, 4.0, 5.0, 6.0, 7.0, 8.0, 9.0, 10.0, 11.0, 12.0, 12.0, 11.0, 10.0, 9.0, 8.0, 7.0, 6.0, 5.0, 4.0, 3.0, 2.0, 1.0, 0.0], \"y\": [8.0, 18.0, 30.525, 38.0, 36.0, 34.525, 35.575, 39.525, 39.0, 38.0, 40.525, 39.525, 38.575, 19.0, 18.0, 19.475, 17.475, 18.0, 18.0, 16.0, 15.475, 16.475, 17.0, 14.475, 9.0, 8.0]}, {\"legendgroup\": \"scenario 2\", \"line\": {\"color\": \"rgb(0,128,0)\", \"width\": 2}, \"marker\": {\"size\": 4}, \"mode\": \"lines+markers\", \"name\": \"scenario 2\", \"showlegend\": true, \"type\": \"scatter\", \"x\": [0.0, 1.0, 2.0, 3.0, 4.0, 5.0, 6.0, 7.0, 8.0, 9.0, 10.0, 11.0, 12.0], \"y\": [8.0, 13.69, 21.57, 26.62, 26.81, 26.19, 25.8, 25.97, 26.65, 27.68, 27.85, 27.46, 26.8]}, {\"fill\": \"tozerox\", \"fillcolor\": \"rgba(128,0,128,0.25)\", \"legendgroup\": \"scenario 3\", \"line\": {\"color\": \"rgb(128,0,128)\", \"width\": 1}, \"mode\": \"lines\", \"name\": \"scenario 3\", \"showlegend\": false, \"type\": \"scatter\", \"x\": [0.0, 1.0, 2.0, 3.0, 4.0, 5.0, 6.0, 7.0, 8.0, 9.0, 10.0, 11.0, 12.0, 12.0, 11.0, 10.0, 9.0, 8.0, 7.0, 6.0, 5.0, 4.0, 3.0, 2.0, 1.0, 0.0], \"y\": [8.0, 21.525, 39.525, 38.05, 36.05, 34.575, 37.0, 38.0, 42.1, 46.05, 43.525, 40.0, 39.525, 18.475, 18.475, 18.475, 19.0, 16.0, 13.95, 14.475, 15.475, 17.475, 19.475, 20.475, 13.0, 8.0]}, {\"legendgroup\": \"scenario 3\", \"line\": {\"color\": \"rgb(128,0,128)\", \"width\": 2}, \"marker\": {\"size\": 4}, \"mode\": \"lines+markers\", \"name\": \"scenario 3\", \"showlegend\": true, \"type\": \"scatter\", \"x\": [0.0, 1.0, 2.0, 3.0, 4.0, 5.0, 6.0, 7.0, 8.0, 9.0, 10.0, 11.0, 12.0], \"y\": [8.0, 16.61, 28.87, 27.47, 26.14, 24.99, 24.55, 24.84, 27.36, 29.82, 29.79, 29.28, 28.93]}, {\"line\": {\"color\": \"blue\", \"dash\": \"dashdot\"}, \"marker\": {\"size\": 4}, \"mode\": \"lines+markers\", \"name\": \"Management Data\", \"type\": \"scatter\", \"x\": [0.0, 1.0, 2.0, 3.0, 4.0, 5.0, 6.0, 7.0, 8.0, 9.0, 10.0, 11.0, 12.0], \"y\": [8.0, 7.0, 9.0, 10.0, 12.0, 13.0, 13.0, 12.0, 11.0, 14.0, 14.0, 18.0, 19.0]}],\n",
       "                        {\"height\": 800, \"paper_bgcolor\": \"rgb(255,255,255)\", \"plot_bgcolor\": \"rgb(255,255,255)\", \"template\": {\"data\": {\"bar\": [{\"error_x\": {\"color\": \"#2a3f5f\"}, \"error_y\": {\"color\": \"#2a3f5f\"}, \"marker\": {\"line\": {\"color\": \"#E5ECF6\", \"width\": 0.5}}, \"type\": \"bar\"}], \"barpolar\": [{\"marker\": {\"line\": {\"color\": \"#E5ECF6\", \"width\": 0.5}}, \"type\": \"barpolar\"}], \"carpet\": [{\"aaxis\": {\"endlinecolor\": \"#2a3f5f\", \"gridcolor\": \"white\", \"linecolor\": \"white\", \"minorgridcolor\": \"white\", \"startlinecolor\": \"#2a3f5f\"}, \"baxis\": {\"endlinecolor\": \"#2a3f5f\", \"gridcolor\": \"white\", \"linecolor\": \"white\", \"minorgridcolor\": \"white\", \"startlinecolor\": \"#2a3f5f\"}, \"type\": \"carpet\"}], \"choropleth\": [{\"colorbar\": {\"outlinewidth\": 0, \"ticks\": \"\"}, \"type\": \"choropleth\"}], \"contour\": [{\"colorbar\": {\"outlinewidth\": 0, \"ticks\": \"\"}, \"colorscale\": [[0.0, \"#0d0887\"], [0.1111111111111111, \"#46039f\"], [0.2222222222222222, \"#7201a8\"], [0.3333333333333333, \"#9c179e\"], [0.4444444444444444, \"#bd3786\"], [0.5555555555555556, \"#d8576b\"], [0.6666666666666666, \"#ed7953\"], [0.7777777777777778, \"#fb9f3a\"], [0.8888888888888888, \"#fdca26\"], [1.0, \"#f0f921\"]], \"type\": \"contour\"}], \"contourcarpet\": [{\"colorbar\": {\"outlinewidth\": 0, \"ticks\": \"\"}, \"type\": \"contourcarpet\"}], \"heatmap\": [{\"colorbar\": {\"outlinewidth\": 0, \"ticks\": \"\"}, \"colorscale\": [[0.0, \"#0d0887\"], [0.1111111111111111, \"#46039f\"], [0.2222222222222222, \"#7201a8\"], [0.3333333333333333, \"#9c179e\"], [0.4444444444444444, \"#bd3786\"], [0.5555555555555556, \"#d8576b\"], [0.6666666666666666, \"#ed7953\"], [0.7777777777777778, \"#fb9f3a\"], [0.8888888888888888, \"#fdca26\"], [1.0, \"#f0f921\"]], \"type\": \"heatmap\"}], \"heatmapgl\": [{\"colorbar\": {\"outlinewidth\": 0, \"ticks\": \"\"}, \"colorscale\": [[0.0, \"#0d0887\"], [0.1111111111111111, \"#46039f\"], [0.2222222222222222, \"#7201a8\"], [0.3333333333333333, \"#9c179e\"], [0.4444444444444444, \"#bd3786\"], [0.5555555555555556, \"#d8576b\"], [0.6666666666666666, \"#ed7953\"], [0.7777777777777778, \"#fb9f3a\"], [0.8888888888888888, \"#fdca26\"], [1.0, \"#f0f921\"]], \"type\": \"heatmapgl\"}], \"histogram\": [{\"marker\": {\"colorbar\": {\"outlinewidth\": 0, \"ticks\": \"\"}}, \"type\": \"histogram\"}], \"histogram2d\": [{\"colorbar\": {\"outlinewidth\": 0, \"ticks\": \"\"}, \"colorscale\": [[0.0, \"#0d0887\"], [0.1111111111111111, \"#46039f\"], [0.2222222222222222, \"#7201a8\"], [0.3333333333333333, \"#9c179e\"], [0.4444444444444444, \"#bd3786\"], [0.5555555555555556, \"#d8576b\"], [0.6666666666666666, \"#ed7953\"], [0.7777777777777778, \"#fb9f3a\"], [0.8888888888888888, \"#fdca26\"], [1.0, \"#f0f921\"]], \"type\": \"histogram2d\"}], \"histogram2dcontour\": [{\"colorbar\": {\"outlinewidth\": 0, \"ticks\": \"\"}, \"colorscale\": [[0.0, \"#0d0887\"], [0.1111111111111111, \"#46039f\"], [0.2222222222222222, \"#7201a8\"], [0.3333333333333333, \"#9c179e\"], [0.4444444444444444, \"#bd3786\"], [0.5555555555555556, \"#d8576b\"], [0.6666666666666666, \"#ed7953\"], [0.7777777777777778, \"#fb9f3a\"], [0.8888888888888888, \"#fdca26\"], [1.0, \"#f0f921\"]], \"type\": \"histogram2dcontour\"}], \"mesh3d\": [{\"colorbar\": {\"outlinewidth\": 0, \"ticks\": \"\"}, \"type\": \"mesh3d\"}], \"parcoords\": [{\"line\": {\"colorbar\": {\"outlinewidth\": 0, \"ticks\": \"\"}}, \"type\": \"parcoords\"}], \"scatter\": [{\"marker\": {\"colorbar\": {\"outlinewidth\": 0, \"ticks\": \"\"}}, \"type\": \"scatter\"}], \"scatter3d\": [{\"line\": {\"colorbar\": {\"outlinewidth\": 0, \"ticks\": \"\"}}, \"marker\": {\"colorbar\": {\"outlinewidth\": 0, \"ticks\": \"\"}}, \"type\": \"scatter3d\"}], \"scattercarpet\": [{\"marker\": {\"colorbar\": {\"outlinewidth\": 0, \"ticks\": \"\"}}, \"type\": \"scattercarpet\"}], \"scattergeo\": [{\"marker\": {\"colorbar\": {\"outlinewidth\": 0, \"ticks\": \"\"}}, \"type\": \"scattergeo\"}], \"scattergl\": [{\"marker\": {\"colorbar\": {\"outlinewidth\": 0, \"ticks\": \"\"}}, \"type\": \"scattergl\"}], \"scattermapbox\": [{\"marker\": {\"colorbar\": {\"outlinewidth\": 0, \"ticks\": \"\"}}, \"type\": \"scattermapbox\"}], \"scatterpolar\": [{\"marker\": {\"colorbar\": {\"outlinewidth\": 0, \"ticks\": \"\"}}, \"type\": \"scatterpolar\"}], \"scatterpolargl\": [{\"marker\": {\"colorbar\": {\"outlinewidth\": 0, \"ticks\": \"\"}}, \"type\": \"scatterpolargl\"}], \"scatterternary\": [{\"marker\": {\"colorbar\": {\"outlinewidth\": 0, \"ticks\": \"\"}}, \"type\": \"scatterternary\"}], \"surface\": [{\"colorbar\": {\"outlinewidth\": 0, \"ticks\": \"\"}, \"colorscale\": [[0.0, \"#0d0887\"], [0.1111111111111111, \"#46039f\"], [0.2222222222222222, \"#7201a8\"], [0.3333333333333333, \"#9c179e\"], [0.4444444444444444, \"#bd3786\"], [0.5555555555555556, \"#d8576b\"], [0.6666666666666666, \"#ed7953\"], [0.7777777777777778, \"#fb9f3a\"], [0.8888888888888888, \"#fdca26\"], [1.0, \"#f0f921\"]], \"type\": \"surface\"}], \"table\": [{\"cells\": {\"fill\": {\"color\": \"#EBF0F8\"}, \"line\": {\"color\": \"white\"}}, \"header\": {\"fill\": {\"color\": \"#C8D4E3\"}, \"line\": {\"color\": \"white\"}}, \"type\": \"table\"}]}, \"layout\": {\"annotationdefaults\": {\"arrowcolor\": \"#2a3f5f\", \"arrowhead\": 0, \"arrowwidth\": 1}, \"colorscale\": {\"diverging\": [[0, \"#8e0152\"], [0.1, \"#c51b7d\"], [0.2, \"#de77ae\"], [0.3, \"#f1b6da\"], [0.4, \"#fde0ef\"], [0.5, \"#f7f7f7\"], [0.6, \"#e6f5d0\"], [0.7, \"#b8e186\"], [0.8, \"#7fbc41\"], [0.9, \"#4d9221\"], [1, \"#276419\"]], \"sequential\": [[0.0, \"#0d0887\"], [0.1111111111111111, \"#46039f\"], [0.2222222222222222, \"#7201a8\"], [0.3333333333333333, \"#9c179e\"], [0.4444444444444444, \"#bd3786\"], [0.5555555555555556, \"#d8576b\"], [0.6666666666666666, \"#ed7953\"], [0.7777777777777778, \"#fb9f3a\"], [0.8888888888888888, \"#fdca26\"], [1.0, \"#f0f921\"]], \"sequentialminus\": [[0.0, \"#0d0887\"], [0.1111111111111111, \"#46039f\"], [0.2222222222222222, \"#7201a8\"], [0.3333333333333333, \"#9c179e\"], [0.4444444444444444, \"#bd3786\"], [0.5555555555555556, \"#d8576b\"], [0.6666666666666666, \"#ed7953\"], [0.7777777777777778, \"#fb9f3a\"], [0.8888888888888888, \"#fdca26\"], [1.0, \"#f0f921\"]]}, \"colorway\": [\"#636efa\", \"#EF553B\", \"#00cc96\", \"#ab63fa\", \"#FFA15A\", \"#19d3f3\", \"#FF6692\", \"#B6E880\", \"#FF97FF\", \"#FECB52\"], \"font\": {\"color\": \"#2a3f5f\"}, \"geo\": {\"bgcolor\": \"white\", \"lakecolor\": \"white\", \"landcolor\": \"#E5ECF6\", \"showlakes\": true, \"showland\": true, \"subunitcolor\": \"white\"}, \"hoverlabel\": {\"align\": \"left\"}, \"hovermode\": \"closest\", \"mapbox\": {\"style\": \"light\"}, \"paper_bgcolor\": \"white\", \"plot_bgcolor\": \"#E5ECF6\", \"polar\": {\"angularaxis\": {\"gridcolor\": \"white\", \"linecolor\": \"white\", \"ticks\": \"\"}, \"bgcolor\": \"#E5ECF6\", \"radialaxis\": {\"gridcolor\": \"white\", \"linecolor\": \"white\", \"ticks\": \"\"}}, \"scene\": {\"xaxis\": {\"backgroundcolor\": \"#E5ECF6\", \"gridcolor\": \"white\", \"gridwidth\": 2, \"linecolor\": \"white\", \"showbackground\": true, \"ticks\": \"\", \"zerolinecolor\": \"white\"}, \"yaxis\": {\"backgroundcolor\": \"#E5ECF6\", \"gridcolor\": \"white\", \"gridwidth\": 2, \"linecolor\": \"white\", \"showbackground\": true, \"ticks\": \"\", \"zerolinecolor\": \"white\"}, \"zaxis\": {\"backgroundcolor\": \"#E5ECF6\", \"gridcolor\": \"white\", \"gridwidth\": 2, \"linecolor\": \"white\", \"showbackground\": true, \"ticks\": \"\", \"zerolinecolor\": \"white\"}}, \"shapedefaults\": {\"line\": {\"color\": \"#2a3f5f\"}}, \"ternary\": {\"aaxis\": {\"gridcolor\": \"white\", \"linecolor\": \"white\", \"ticks\": \"\"}, \"baxis\": {\"gridcolor\": \"white\", \"linecolor\": \"white\", \"ticks\": \"\"}, \"bgcolor\": \"#E5ECF6\", \"caxis\": {\"gridcolor\": \"white\", \"linecolor\": \"white\", \"ticks\": \"\"}}, \"title\": {\"x\": 0.05}, \"xaxis\": {\"automargin\": true, \"gridcolor\": \"white\", \"linecolor\": \"white\", \"ticks\": \"\", \"zerolinecolor\": \"white\", \"zerolinewidth\": 2}, \"yaxis\": {\"automargin\": true, \"gridcolor\": \"white\", \"linecolor\": \"white\", \"ticks\": \"\", \"zerolinecolor\": \"white\", \"zerolinewidth\": 2}}}, \"title\": {\"text\": \"Scenario Comparison: Change in Number Women, Model 3\"}, \"width\": 900, \"xaxis\": {\"gridcolor\": \"rgb(229,229,229)\", \"showgrid\": true, \"showline\": true, \"showticklabels\": true, \"tickcolor\": \"rgb(127,127,127)\", \"ticks\": \"outside\", \"title\": {\"text\": \"Year\"}, \"visible\": true, \"zeroline\": false}, \"yaxis\": {\"gridcolor\": \"rgb(229,229,229)\", \"showgrid\": true, \"showline\": true, \"showticklabels\": true, \"tickcolor\": \"rgb(127,127,127)\", \"ticks\": \"outside\", \"title\": {\"text\": \"Number of Women Faculty\"}, \"zeroline\": false}},\n",
       "                        {\"responsive\": true}\n",
       "                    ).then(function(){\n",
       "                            \n",
       "var gd = document.getElementById('1272ca17-f407-4074-8f6c-9599f090f2c1');\n",
       "var x = new MutationObserver(function (mutations, observer) {{\n",
       "        var display = window.getComputedStyle(gd).display;\n",
       "        if (!display || display === 'none') {{\n",
       "            console.log([gd, 'removed!']);\n",
       "            Plotly.purge(gd);\n",
       "            observer.disconnect();\n",
       "        }}\n",
       "}});\n",
       "\n",
       "// Listen for the removal of the full notebook cells\n",
       "var notebookContainer = gd.closest('#notebook-container');\n",
       "if (notebookContainer) {{\n",
       "    x.observe(notebookContainer, {childList: true});\n",
       "}}\n",
       "\n",
       "// Listen for the clearing of the current output cell\n",
       "var outputEl = gd.closest('.output');\n",
       "if (outputEl) {{\n",
       "    x.observe(outputEl, {childList: true});\n",
       "}}\n",
       "\n",
       "                        })\n",
       "                };\n",
       "                });\n",
       "            </script>\n",
       "        </div>"
      ]
     },
     "metadata": {},
     "output_type": "display_data"
    }
   ],
   "source": [
    "data = []\n",
    "linecolors = ['rgb(0,0,255)', 'rgb(0,128,0)', 'rgb(128,0,128)', 'rgb(139,69,19)']\n",
    "fillcolors = ['rgba(0,0,255,0.25)', 'rgba(0,128,0,0.25)', 'rgba(128,0,128,0.25)', 'rgba(160,82,45,0.25)']\n",
    "legend_labels = ['scenario 1', 'scenario 2', 'scenario 3']\n",
    "\n",
    "\n",
    "for k,v in enumerate(results.mlist):\n",
    "    data.append(go.Scatter(\n",
    "        x=np.append(v.summary_matrix['yr'], v.summary_matrix['yr'].values[::-1]),\n",
    "        y=np.append(v.summary_matrix['f_975'], v.summary_matrix['f_025'].values[::-1]),\n",
    "        fill='tozerox',\n",
    "        fillcolor=fillcolors[k],\n",
    "        line=dict(color=linecolors[k],\n",
    "                 width=1),\n",
    "        legendgroup=legend_labels[k],\n",
    "        showlegend=False,\n",
    "        mode='lines',\n",
    "        name=legend_labels[k],\n",
    "    ))\n",
    "\n",
    "    data.append(go.Scatter(\n",
    "        x=v.summary_matrix['yr'],\n",
    "        y=v.summary_matrix['f_avg'],\n",
    "        line=dict(color=linecolors[k],\n",
    "                 width=2),\n",
    "        legendgroup=legend_labels[k],\n",
    "        showlegend=True,\n",
    "        marker=dict(\n",
    "            size=4),\n",
    "        mode='lines+markers',\n",
    "        name=legend_labels[k],\n",
    "    ))\n",
    "\n",
    "\n",
    "data.append(go.Scatter(\n",
    "    x=v.summary_matrix['yr'], \n",
    "    y=v.summary_matrix['act_f'],\n",
    "    line=dict(color='blue',\n",
    "             dash='dashdot'),\n",
    "    name='Management Data',\n",
    "    mode='lines+markers',\n",
    "    marker=dict(\n",
    "        size=4),\n",
    "\n",
    "))\n",
    "    \n",
    "layout = go.Layout(\n",
    "    title='Scenario Comparison: Change in Number Women, Model 3',\n",
    "    height=800,\n",
    "    width=900,\n",
    "    paper_bgcolor='rgb(255,255,255)',\n",
    "    plot_bgcolor='rgb(255,255,255)',\n",
    "    xaxis=dict(\n",
    "        visible=True,\n",
    "        title='Year',\n",
    "        gridcolor='rgb(229,229,229)',\n",
    "        showgrid=True,\n",
    "        showline=True,\n",
    "        showticklabels=True,\n",
    "        tickcolor='rgb(127,127,127)',\n",
    "        ticks='outside',\n",
    "        zeroline=False\n",
    "    ),\n",
    "    yaxis=dict(\n",
    "        title='Number of Women Faculty',\n",
    "        gridcolor='rgb(229,229,229)',\n",
    "        showgrid=True,\n",
    "        showline=True,\n",
    "        showticklabels=True,\n",
    "        tickcolor='rgb(127,127,127)',\n",
    "        ticks='outside',\n",
    "        zeroline=False\n",
    "    ),\n",
    ")\n",
    "fig = go.Figure(data=data, layout=layout)\n",
    "plotly.offline.iplot(fig, filename= 'shaded_lines')\n",
    "\n",
    "# export image for ingestion to pdf file.\n",
    "# if not os.path.exists('images'):\n",
    "#     os.mkdir('images')\n",
    "# pio.write_image(fig, 'images/change_in_number_women.png')"
   ]
  },
  {
   "cell_type": "code",
   "execution_count": 45,
   "metadata": {
    "hide_input": true,
    "tags": [
     "plotcell"
    ]
   },
   "outputs": [],
   "source": [
    "linecolors = ['blue', 'green', 'purple', 'brown']\n",
    "legend_labels = ['scenario 1', 'scenario 2', 'scenario 3']\n",
    "\n",
    "plt.figure(figsize=(12,12))\n",
    "\n",
    "for k,v in enumerate(results.mlist):\n",
    "    plt.plot(\n",
    "             v.summary_matrix['yr'], \n",
    "             v.summary_matrix['f_avg'],\n",
    "             linewidth=2,\n",
    "             color=linecolors[k],\n",
    "             label=legend_labels[k],\n",
    "             marker=\"o\",\n",
    "            )\n",
    "    plt.fill_between(\n",
    "             v.summary_matrix['yr'],\n",
    "             v.summary_matrix['f_975'],\n",
    "             v.summary_matrix['f_025'],\n",
    "             alpha=0.25,\n",
    "             facecolor=linecolors[k]\n",
    "            )\n",
    "\n",
    "plt.plot(\n",
    "        v.summary_matrix['yr'],\n",
    "        v.summary_matrix['act_f'],\n",
    "        color='blue',\n",
    "        linewidth=2,\n",
    "        linestyle='-.',\n",
    "        label='Management Data')\n",
    "    \n",
    "plt.title('Scenario Comparison: Change in Number Women, Model 3', fontsize=20)\n",
    "plt.xlabel('Year', fontsize=16)\n",
    "plt.ylabel('Number of Women Faculty', fontsize=16)\n",
    "plt.legend(loc='upper right', fontsize=16)\n",
    "if not os.path.exists('images'):\n",
    "    os.mkdir('images')\n",
    "plt.savefig('images/scenarios_change_in_number_women.png')\n",
    "plt.close()"
   ]
  },
  {
   "cell_type": "markdown",
   "metadata": {},
   "source": [
    "## Comparison of Model 3 Growth Models: Department Size"
   ]
  },
  {
   "cell_type": "code",
   "execution_count": 46,
   "metadata": {
    "hide_input": true,
    "scrolled": false,
    "tags": [
     "plotcell"
    ]
   },
   "outputs": [
    {
     "data": {
      "application/vnd.plotly.v1+json": {
       "config": {
        "linkText": "Export to plot.ly",
        "plotlyServerURL": "https://plot.ly",
        "showLink": false
       },
       "data": [
        {
         "fill": "tozerox",
         "fillcolor": "rgba(0,0,255,0.25)",
         "legendgroup": "scenario 1",
         "line": {
          "color": "rgb(0,0,255)",
          "width": 1
         },
         "mode": "lines",
         "name": "scenario 1",
         "showlegend": false,
         "type": "scatter",
         "x": [
          0,
          1,
          2,
          3,
          4,
          5,
          6,
          7,
          8,
          9,
          10,
          11,
          12,
          12,
          11,
          10,
          9,
          8,
          7,
          6,
          5,
          4,
          3,
          2,
          1,
          0
         ],
         "y": [
          74,
          79.525,
          85.575,
          89.05,
          89.525,
          92,
          93.525,
          94.525,
          96.525,
          102,
          105,
          108.1,
          106.525,
          70,
          70.95,
          68.475,
          70,
          70.475,
          68,
          66.475,
          67,
          67.475,
          70,
          70,
          70.475,
          74
         ]
        },
        {
         "legendgroup": "scenario 1",
         "line": {
          "color": "rgb(0,0,255)",
          "width": 2
         },
         "marker": {
          "size": 4
         },
         "mode": "lines+markers",
         "name": "scenario 1",
         "showlegend": true,
         "type": "scatter",
         "x": [
          0,
          1,
          2,
          3,
          4,
          5,
          6,
          7,
          8,
          9,
          10,
          11,
          12
         ],
         "y": [
          74,
          75.43,
          76.86,
          78.66,
          79.48,
          80.86,
          82.16,
          83.36,
          84.09,
          85.47,
          86.72,
          88.29,
          89.05
         ]
        },
        {
         "fill": "tozerox",
         "fillcolor": "rgba(0,128,0,0.25)",
         "legendgroup": "scenario 2",
         "line": {
          "color": "rgb(0,128,0)",
          "width": 1
         },
         "mode": "lines",
         "name": "scenario 2",
         "showlegend": false,
         "type": "scatter",
         "x": [
          0,
          1,
          2,
          3,
          4,
          5,
          6,
          7,
          8,
          9,
          10,
          11,
          12,
          12,
          11,
          10,
          9,
          8,
          7,
          6,
          5,
          4,
          3,
          2,
          1,
          0
         ],
         "y": [
          74,
          108,
          148,
          185,
          180,
          172.525,
          172.525,
          181,
          181.05,
          181,
          179.525,
          180,
          176.525,
          130.475,
          132.425,
          130.475,
          132,
          129.475,
          133,
          132,
          134.475,
          133.425,
          132,
          118,
          91,
          74
         ]
        },
        {
         "legendgroup": "scenario 2",
         "line": {
          "color": "rgb(0,128,0)",
          "width": 2
         },
         "marker": {
          "size": 4
         },
         "mode": "lines+markers",
         "name": "scenario 2",
         "showlegend": true,
         "type": "scatter",
         "x": [
          0,
          1,
          2,
          3,
          4,
          5,
          6,
          7,
          8,
          9,
          10,
          11,
          12
         ],
         "y": [
          74,
          99.97,
          134.11,
          157.71,
          157.63,
          153.29,
          148.95,
          147.03,
          149.27,
          152.8,
          153.65,
          152.63,
          148.47
         ]
        },
        {
         "fill": "tozerox",
         "fillcolor": "rgba(128,0,128,0.25)",
         "legendgroup": "scenario 3",
         "line": {
          "color": "rgb(128,0,128)",
          "width": 1
         },
         "mode": "lines",
         "name": "scenario 3",
         "showlegend": false,
         "type": "scatter",
         "x": [
          0,
          1,
          2,
          3,
          4,
          5,
          6,
          7,
          8,
          9,
          10,
          11,
          12,
          12,
          11,
          10,
          9,
          8,
          7,
          6,
          5,
          4,
          3,
          2,
          1,
          0
         ],
         "y": [
          74,
          124.05,
          198.1,
          186.05,
          177,
          168,
          180.975,
          200.525,
          205.525,
          205.525,
          203,
          196,
          204.525,
          134.475,
          130.475,
          135,
          131,
          131,
          132,
          129.475,
          135.475,
          143,
          151,
          160,
          104,
          74
         ]
        },
        {
         "legendgroup": "scenario 3",
         "line": {
          "color": "rgb(128,0,128)",
          "width": 2
         },
         "marker": {
          "size": 4
         },
         "mode": "lines+markers",
         "name": "scenario 3",
         "showlegend": true,
         "type": "scatter",
         "x": [
          0,
          1,
          2,
          3,
          4,
          5,
          6,
          7,
          8,
          9,
          10,
          11,
          12
         ],
         "y": [
          74,
          115.29,
          178.15,
          168.23,
          159.12,
          150.82,
          146.51,
          147.15,
          158.34,
          168.08,
          167.61,
          163.31,
          162.03
         ]
        },
        {
         "line": {
          "color": "blue",
          "dash": "dashdot"
         },
         "marker": {
          "size": 4
         },
         "mode": "lines+markers",
         "name": "Management Data",
         "type": "scatter",
         "x": [
          0,
          1,
          2,
          3,
          4,
          5,
          6,
          7,
          8,
          9,
          10,
          11,
          12
         ],
         "y": [
          74,
          71,
          78,
          78,
          84,
          85,
          89,
          86,
          81,
          83,
          81,
          82,
          89
         ]
        }
       ],
       "layout": {
        "height": 800,
        "paper_bgcolor": "rgb(255,255,255)",
        "plot_bgcolor": "rgb(255,255,255)",
        "template": {
         "data": {
          "bar": [
           {
            "error_x": {
             "color": "#2a3f5f"
            },
            "error_y": {
             "color": "#2a3f5f"
            },
            "marker": {
             "line": {
              "color": "#E5ECF6",
              "width": 0.5
             }
            },
            "type": "bar"
           }
          ],
          "barpolar": [
           {
            "marker": {
             "line": {
              "color": "#E5ECF6",
              "width": 0.5
             }
            },
            "type": "barpolar"
           }
          ],
          "carpet": [
           {
            "aaxis": {
             "endlinecolor": "#2a3f5f",
             "gridcolor": "white",
             "linecolor": "white",
             "minorgridcolor": "white",
             "startlinecolor": "#2a3f5f"
            },
            "baxis": {
             "endlinecolor": "#2a3f5f",
             "gridcolor": "white",
             "linecolor": "white",
             "minorgridcolor": "white",
             "startlinecolor": "#2a3f5f"
            },
            "type": "carpet"
           }
          ],
          "choropleth": [
           {
            "colorbar": {
             "outlinewidth": 0,
             "ticks": ""
            },
            "type": "choropleth"
           }
          ],
          "contour": [
           {
            "colorbar": {
             "outlinewidth": 0,
             "ticks": ""
            },
            "colorscale": [
             [
              0,
              "#0d0887"
             ],
             [
              0.1111111111111111,
              "#46039f"
             ],
             [
              0.2222222222222222,
              "#7201a8"
             ],
             [
              0.3333333333333333,
              "#9c179e"
             ],
             [
              0.4444444444444444,
              "#bd3786"
             ],
             [
              0.5555555555555556,
              "#d8576b"
             ],
             [
              0.6666666666666666,
              "#ed7953"
             ],
             [
              0.7777777777777778,
              "#fb9f3a"
             ],
             [
              0.8888888888888888,
              "#fdca26"
             ],
             [
              1,
              "#f0f921"
             ]
            ],
            "type": "contour"
           }
          ],
          "contourcarpet": [
           {
            "colorbar": {
             "outlinewidth": 0,
             "ticks": ""
            },
            "type": "contourcarpet"
           }
          ],
          "heatmap": [
           {
            "colorbar": {
             "outlinewidth": 0,
             "ticks": ""
            },
            "colorscale": [
             [
              0,
              "#0d0887"
             ],
             [
              0.1111111111111111,
              "#46039f"
             ],
             [
              0.2222222222222222,
              "#7201a8"
             ],
             [
              0.3333333333333333,
              "#9c179e"
             ],
             [
              0.4444444444444444,
              "#bd3786"
             ],
             [
              0.5555555555555556,
              "#d8576b"
             ],
             [
              0.6666666666666666,
              "#ed7953"
             ],
             [
              0.7777777777777778,
              "#fb9f3a"
             ],
             [
              0.8888888888888888,
              "#fdca26"
             ],
             [
              1,
              "#f0f921"
             ]
            ],
            "type": "heatmap"
           }
          ],
          "heatmapgl": [
           {
            "colorbar": {
             "outlinewidth": 0,
             "ticks": ""
            },
            "colorscale": [
             [
              0,
              "#0d0887"
             ],
             [
              0.1111111111111111,
              "#46039f"
             ],
             [
              0.2222222222222222,
              "#7201a8"
             ],
             [
              0.3333333333333333,
              "#9c179e"
             ],
             [
              0.4444444444444444,
              "#bd3786"
             ],
             [
              0.5555555555555556,
              "#d8576b"
             ],
             [
              0.6666666666666666,
              "#ed7953"
             ],
             [
              0.7777777777777778,
              "#fb9f3a"
             ],
             [
              0.8888888888888888,
              "#fdca26"
             ],
             [
              1,
              "#f0f921"
             ]
            ],
            "type": "heatmapgl"
           }
          ],
          "histogram": [
           {
            "marker": {
             "colorbar": {
              "outlinewidth": 0,
              "ticks": ""
             }
            },
            "type": "histogram"
           }
          ],
          "histogram2d": [
           {
            "colorbar": {
             "outlinewidth": 0,
             "ticks": ""
            },
            "colorscale": [
             [
              0,
              "#0d0887"
             ],
             [
              0.1111111111111111,
              "#46039f"
             ],
             [
              0.2222222222222222,
              "#7201a8"
             ],
             [
              0.3333333333333333,
              "#9c179e"
             ],
             [
              0.4444444444444444,
              "#bd3786"
             ],
             [
              0.5555555555555556,
              "#d8576b"
             ],
             [
              0.6666666666666666,
              "#ed7953"
             ],
             [
              0.7777777777777778,
              "#fb9f3a"
             ],
             [
              0.8888888888888888,
              "#fdca26"
             ],
             [
              1,
              "#f0f921"
             ]
            ],
            "type": "histogram2d"
           }
          ],
          "histogram2dcontour": [
           {
            "colorbar": {
             "outlinewidth": 0,
             "ticks": ""
            },
            "colorscale": [
             [
              0,
              "#0d0887"
             ],
             [
              0.1111111111111111,
              "#46039f"
             ],
             [
              0.2222222222222222,
              "#7201a8"
             ],
             [
              0.3333333333333333,
              "#9c179e"
             ],
             [
              0.4444444444444444,
              "#bd3786"
             ],
             [
              0.5555555555555556,
              "#d8576b"
             ],
             [
              0.6666666666666666,
              "#ed7953"
             ],
             [
              0.7777777777777778,
              "#fb9f3a"
             ],
             [
              0.8888888888888888,
              "#fdca26"
             ],
             [
              1,
              "#f0f921"
             ]
            ],
            "type": "histogram2dcontour"
           }
          ],
          "mesh3d": [
           {
            "colorbar": {
             "outlinewidth": 0,
             "ticks": ""
            },
            "type": "mesh3d"
           }
          ],
          "parcoords": [
           {
            "line": {
             "colorbar": {
              "outlinewidth": 0,
              "ticks": ""
             }
            },
            "type": "parcoords"
           }
          ],
          "scatter": [
           {
            "marker": {
             "colorbar": {
              "outlinewidth": 0,
              "ticks": ""
             }
            },
            "type": "scatter"
           }
          ],
          "scatter3d": [
           {
            "line": {
             "colorbar": {
              "outlinewidth": 0,
              "ticks": ""
             }
            },
            "marker": {
             "colorbar": {
              "outlinewidth": 0,
              "ticks": ""
             }
            },
            "type": "scatter3d"
           }
          ],
          "scattercarpet": [
           {
            "marker": {
             "colorbar": {
              "outlinewidth": 0,
              "ticks": ""
             }
            },
            "type": "scattercarpet"
           }
          ],
          "scattergeo": [
           {
            "marker": {
             "colorbar": {
              "outlinewidth": 0,
              "ticks": ""
             }
            },
            "type": "scattergeo"
           }
          ],
          "scattergl": [
           {
            "marker": {
             "colorbar": {
              "outlinewidth": 0,
              "ticks": ""
             }
            },
            "type": "scattergl"
           }
          ],
          "scattermapbox": [
           {
            "marker": {
             "colorbar": {
              "outlinewidth": 0,
              "ticks": ""
             }
            },
            "type": "scattermapbox"
           }
          ],
          "scatterpolar": [
           {
            "marker": {
             "colorbar": {
              "outlinewidth": 0,
              "ticks": ""
             }
            },
            "type": "scatterpolar"
           }
          ],
          "scatterpolargl": [
           {
            "marker": {
             "colorbar": {
              "outlinewidth": 0,
              "ticks": ""
             }
            },
            "type": "scatterpolargl"
           }
          ],
          "scatterternary": [
           {
            "marker": {
             "colorbar": {
              "outlinewidth": 0,
              "ticks": ""
             }
            },
            "type": "scatterternary"
           }
          ],
          "surface": [
           {
            "colorbar": {
             "outlinewidth": 0,
             "ticks": ""
            },
            "colorscale": [
             [
              0,
              "#0d0887"
             ],
             [
              0.1111111111111111,
              "#46039f"
             ],
             [
              0.2222222222222222,
              "#7201a8"
             ],
             [
              0.3333333333333333,
              "#9c179e"
             ],
             [
              0.4444444444444444,
              "#bd3786"
             ],
             [
              0.5555555555555556,
              "#d8576b"
             ],
             [
              0.6666666666666666,
              "#ed7953"
             ],
             [
              0.7777777777777778,
              "#fb9f3a"
             ],
             [
              0.8888888888888888,
              "#fdca26"
             ],
             [
              1,
              "#f0f921"
             ]
            ],
            "type": "surface"
           }
          ],
          "table": [
           {
            "cells": {
             "fill": {
              "color": "#EBF0F8"
             },
             "line": {
              "color": "white"
             }
            },
            "header": {
             "fill": {
              "color": "#C8D4E3"
             },
             "line": {
              "color": "white"
             }
            },
            "type": "table"
           }
          ]
         },
         "layout": {
          "annotationdefaults": {
           "arrowcolor": "#2a3f5f",
           "arrowhead": 0,
           "arrowwidth": 1
          },
          "colorscale": {
           "diverging": [
            [
             0,
             "#8e0152"
            ],
            [
             0.1,
             "#c51b7d"
            ],
            [
             0.2,
             "#de77ae"
            ],
            [
             0.3,
             "#f1b6da"
            ],
            [
             0.4,
             "#fde0ef"
            ],
            [
             0.5,
             "#f7f7f7"
            ],
            [
             0.6,
             "#e6f5d0"
            ],
            [
             0.7,
             "#b8e186"
            ],
            [
             0.8,
             "#7fbc41"
            ],
            [
             0.9,
             "#4d9221"
            ],
            [
             1,
             "#276419"
            ]
           ],
           "sequential": [
            [
             0,
             "#0d0887"
            ],
            [
             0.1111111111111111,
             "#46039f"
            ],
            [
             0.2222222222222222,
             "#7201a8"
            ],
            [
             0.3333333333333333,
             "#9c179e"
            ],
            [
             0.4444444444444444,
             "#bd3786"
            ],
            [
             0.5555555555555556,
             "#d8576b"
            ],
            [
             0.6666666666666666,
             "#ed7953"
            ],
            [
             0.7777777777777778,
             "#fb9f3a"
            ],
            [
             0.8888888888888888,
             "#fdca26"
            ],
            [
             1,
             "#f0f921"
            ]
           ],
           "sequentialminus": [
            [
             0,
             "#0d0887"
            ],
            [
             0.1111111111111111,
             "#46039f"
            ],
            [
             0.2222222222222222,
             "#7201a8"
            ],
            [
             0.3333333333333333,
             "#9c179e"
            ],
            [
             0.4444444444444444,
             "#bd3786"
            ],
            [
             0.5555555555555556,
             "#d8576b"
            ],
            [
             0.6666666666666666,
             "#ed7953"
            ],
            [
             0.7777777777777778,
             "#fb9f3a"
            ],
            [
             0.8888888888888888,
             "#fdca26"
            ],
            [
             1,
             "#f0f921"
            ]
           ]
          },
          "colorway": [
           "#636efa",
           "#EF553B",
           "#00cc96",
           "#ab63fa",
           "#FFA15A",
           "#19d3f3",
           "#FF6692",
           "#B6E880",
           "#FF97FF",
           "#FECB52"
          ],
          "font": {
           "color": "#2a3f5f"
          },
          "geo": {
           "bgcolor": "white",
           "lakecolor": "white",
           "landcolor": "#E5ECF6",
           "showlakes": true,
           "showland": true,
           "subunitcolor": "white"
          },
          "hoverlabel": {
           "align": "left"
          },
          "hovermode": "closest",
          "mapbox": {
           "style": "light"
          },
          "paper_bgcolor": "white",
          "plot_bgcolor": "#E5ECF6",
          "polar": {
           "angularaxis": {
            "gridcolor": "white",
            "linecolor": "white",
            "ticks": ""
           },
           "bgcolor": "#E5ECF6",
           "radialaxis": {
            "gridcolor": "white",
            "linecolor": "white",
            "ticks": ""
           }
          },
          "scene": {
           "xaxis": {
            "backgroundcolor": "#E5ECF6",
            "gridcolor": "white",
            "gridwidth": 2,
            "linecolor": "white",
            "showbackground": true,
            "ticks": "",
            "zerolinecolor": "white"
           },
           "yaxis": {
            "backgroundcolor": "#E5ECF6",
            "gridcolor": "white",
            "gridwidth": 2,
            "linecolor": "white",
            "showbackground": true,
            "ticks": "",
            "zerolinecolor": "white"
           },
           "zaxis": {
            "backgroundcolor": "#E5ECF6",
            "gridcolor": "white",
            "gridwidth": 2,
            "linecolor": "white",
            "showbackground": true,
            "ticks": "",
            "zerolinecolor": "white"
           }
          },
          "shapedefaults": {
           "line": {
            "color": "#2a3f5f"
           }
          },
          "ternary": {
           "aaxis": {
            "gridcolor": "white",
            "linecolor": "white",
            "ticks": ""
           },
           "baxis": {
            "gridcolor": "white",
            "linecolor": "white",
            "ticks": ""
           },
           "bgcolor": "#E5ECF6",
           "caxis": {
            "gridcolor": "white",
            "linecolor": "white",
            "ticks": ""
           }
          },
          "title": {
           "x": 0.05
          },
          "xaxis": {
           "automargin": true,
           "gridcolor": "white",
           "linecolor": "white",
           "ticks": "",
           "zerolinecolor": "white",
           "zerolinewidth": 2
          },
          "yaxis": {
           "automargin": true,
           "gridcolor": "white",
           "linecolor": "white",
           "ticks": "",
           "zerolinecolor": "white",
           "zerolinewidth": 2
          }
         }
        },
        "title": {
         "text": "Scenario Comparison: Department Size"
        },
        "width": 900,
        "xaxis": {
         "gridcolor": "rgb(229,229,229)",
         "showgrid": true,
         "showline": true,
         "showticklabels": true,
         "tickcolor": "rgb(127,127,127)",
         "ticks": "outside",
         "title": {
          "text": "Year"
         },
         "visible": true,
         "zeroline": false
        },
        "yaxis": {
         "gridcolor": "rgb(229,229,229)",
         "showgrid": true,
         "showline": true,
         "showticklabels": true,
         "tickcolor": "rgb(127,127,127)",
         "ticks": "outside",
         "title": {
          "text": "Number of Faculty in the Department"
         },
         "zeroline": false
        }
       }
      },
      "text/html": [
       "<div>\n",
       "        \n",
       "        \n",
       "            <div id=\"7a4e320b-0d00-41c5-99c3-b2c8121fb11f\" class=\"plotly-graph-div\" style=\"height:800px; width:900px;\"></div>\n",
       "            <script type=\"text/javascript\">\n",
       "                require([\"plotly\"], function(Plotly) {\n",
       "                    window.PLOTLYENV=window.PLOTLYENV || {};\n",
       "                    \n",
       "                if (document.getElementById(\"7a4e320b-0d00-41c5-99c3-b2c8121fb11f\")) {\n",
       "                    Plotly.newPlot(\n",
       "                        '7a4e320b-0d00-41c5-99c3-b2c8121fb11f',\n",
       "                        [{\"fill\": \"tozerox\", \"fillcolor\": \"rgba(0,0,255,0.25)\", \"legendgroup\": \"scenario 1\", \"line\": {\"color\": \"rgb(0,0,255)\", \"width\": 1}, \"mode\": \"lines\", \"name\": \"scenario 1\", \"showlegend\": false, \"type\": \"scatter\", \"x\": [0.0, 1.0, 2.0, 3.0, 4.0, 5.0, 6.0, 7.0, 8.0, 9.0, 10.0, 11.0, 12.0, 12.0, 11.0, 10.0, 9.0, 8.0, 7.0, 6.0, 5.0, 4.0, 3.0, 2.0, 1.0, 0.0], \"y\": [74.0, 79.525, 85.575, 89.05, 89.525, 92.0, 93.525, 94.525, 96.525, 102.0, 105.0, 108.1, 106.525, 70.0, 70.95, 68.475, 70.0, 70.475, 68.0, 66.475, 67.0, 67.475, 70.0, 70.0, 70.475, 74.0]}, {\"legendgroup\": \"scenario 1\", \"line\": {\"color\": \"rgb(0,0,255)\", \"width\": 2}, \"marker\": {\"size\": 4}, \"mode\": \"lines+markers\", \"name\": \"scenario 1\", \"showlegend\": true, \"type\": \"scatter\", \"x\": [0.0, 1.0, 2.0, 3.0, 4.0, 5.0, 6.0, 7.0, 8.0, 9.0, 10.0, 11.0, 12.0], \"y\": [74.0, 75.43, 76.86, 78.66, 79.48, 80.86, 82.16, 83.36, 84.09, 85.47, 86.72, 88.29, 89.05]}, {\"fill\": \"tozerox\", \"fillcolor\": \"rgba(0,128,0,0.25)\", \"legendgroup\": \"scenario 2\", \"line\": {\"color\": \"rgb(0,128,0)\", \"width\": 1}, \"mode\": \"lines\", \"name\": \"scenario 2\", \"showlegend\": false, \"type\": \"scatter\", \"x\": [0.0, 1.0, 2.0, 3.0, 4.0, 5.0, 6.0, 7.0, 8.0, 9.0, 10.0, 11.0, 12.0, 12.0, 11.0, 10.0, 9.0, 8.0, 7.0, 6.0, 5.0, 4.0, 3.0, 2.0, 1.0, 0.0], \"y\": [74.0, 108.0, 148.0, 185.0, 180.0, 172.525, 172.525, 181.0, 181.05, 181.0, 179.525, 180.0, 176.525, 130.475, 132.425, 130.475, 132.0, 129.475, 133.0, 132.0, 134.475, 133.425, 132.0, 118.0, 91.0, 74.0]}, {\"legendgroup\": \"scenario 2\", \"line\": {\"color\": \"rgb(0,128,0)\", \"width\": 2}, \"marker\": {\"size\": 4}, \"mode\": \"lines+markers\", \"name\": \"scenario 2\", \"showlegend\": true, \"type\": \"scatter\", \"x\": [0.0, 1.0, 2.0, 3.0, 4.0, 5.0, 6.0, 7.0, 8.0, 9.0, 10.0, 11.0, 12.0], \"y\": [74.0, 99.97, 134.11, 157.71, 157.63, 153.29, 148.95, 147.03, 149.27, 152.8, 153.65, 152.63, 148.47]}, {\"fill\": \"tozerox\", \"fillcolor\": \"rgba(128,0,128,0.25)\", \"legendgroup\": \"scenario 3\", \"line\": {\"color\": \"rgb(128,0,128)\", \"width\": 1}, \"mode\": \"lines\", \"name\": \"scenario 3\", \"showlegend\": false, \"type\": \"scatter\", \"x\": [0.0, 1.0, 2.0, 3.0, 4.0, 5.0, 6.0, 7.0, 8.0, 9.0, 10.0, 11.0, 12.0, 12.0, 11.0, 10.0, 9.0, 8.0, 7.0, 6.0, 5.0, 4.0, 3.0, 2.0, 1.0, 0.0], \"y\": [74.0, 124.05, 198.1, 186.05, 177.0, 168.0, 180.975, 200.525, 205.525, 205.525, 203.0, 196.0, 204.525, 134.475, 130.475, 135.0, 131.0, 131.0, 132.0, 129.475, 135.475, 143.0, 151.0, 160.0, 104.0, 74.0]}, {\"legendgroup\": \"scenario 3\", \"line\": {\"color\": \"rgb(128,0,128)\", \"width\": 2}, \"marker\": {\"size\": 4}, \"mode\": \"lines+markers\", \"name\": \"scenario 3\", \"showlegend\": true, \"type\": \"scatter\", \"x\": [0.0, 1.0, 2.0, 3.0, 4.0, 5.0, 6.0, 7.0, 8.0, 9.0, 10.0, 11.0, 12.0], \"y\": [74.0, 115.29, 178.15, 168.23, 159.12, 150.82, 146.51, 147.15, 158.34, 168.08, 167.61, 163.31, 162.03]}, {\"line\": {\"color\": \"blue\", \"dash\": \"dashdot\"}, \"marker\": {\"size\": 4}, \"mode\": \"lines+markers\", \"name\": \"Management Data\", \"type\": \"scatter\", \"x\": [0.0, 1.0, 2.0, 3.0, 4.0, 5.0, 6.0, 7.0, 8.0, 9.0, 10.0, 11.0, 12.0], \"y\": [74.0, 71.0, 78.0, 78.0, 84.0, 85.0, 89.0, 86.0, 81.0, 83.0, 81.0, 82.0, 89.0]}],\n",
       "                        {\"height\": 800, \"paper_bgcolor\": \"rgb(255,255,255)\", \"plot_bgcolor\": \"rgb(255,255,255)\", \"template\": {\"data\": {\"bar\": [{\"error_x\": {\"color\": \"#2a3f5f\"}, \"error_y\": {\"color\": \"#2a3f5f\"}, \"marker\": {\"line\": {\"color\": \"#E5ECF6\", \"width\": 0.5}}, \"type\": \"bar\"}], \"barpolar\": [{\"marker\": {\"line\": {\"color\": \"#E5ECF6\", \"width\": 0.5}}, \"type\": \"barpolar\"}], \"carpet\": [{\"aaxis\": {\"endlinecolor\": \"#2a3f5f\", \"gridcolor\": \"white\", \"linecolor\": \"white\", \"minorgridcolor\": \"white\", \"startlinecolor\": \"#2a3f5f\"}, \"baxis\": {\"endlinecolor\": \"#2a3f5f\", \"gridcolor\": \"white\", \"linecolor\": \"white\", \"minorgridcolor\": \"white\", \"startlinecolor\": \"#2a3f5f\"}, \"type\": \"carpet\"}], \"choropleth\": [{\"colorbar\": {\"outlinewidth\": 0, \"ticks\": \"\"}, \"type\": \"choropleth\"}], \"contour\": [{\"colorbar\": {\"outlinewidth\": 0, \"ticks\": \"\"}, \"colorscale\": [[0.0, \"#0d0887\"], [0.1111111111111111, \"#46039f\"], [0.2222222222222222, \"#7201a8\"], [0.3333333333333333, \"#9c179e\"], [0.4444444444444444, \"#bd3786\"], [0.5555555555555556, \"#d8576b\"], [0.6666666666666666, \"#ed7953\"], [0.7777777777777778, \"#fb9f3a\"], [0.8888888888888888, \"#fdca26\"], [1.0, \"#f0f921\"]], \"type\": \"contour\"}], \"contourcarpet\": [{\"colorbar\": {\"outlinewidth\": 0, \"ticks\": \"\"}, \"type\": \"contourcarpet\"}], \"heatmap\": [{\"colorbar\": {\"outlinewidth\": 0, \"ticks\": \"\"}, \"colorscale\": [[0.0, \"#0d0887\"], [0.1111111111111111, \"#46039f\"], [0.2222222222222222, \"#7201a8\"], [0.3333333333333333, \"#9c179e\"], [0.4444444444444444, \"#bd3786\"], [0.5555555555555556, \"#d8576b\"], [0.6666666666666666, \"#ed7953\"], [0.7777777777777778, \"#fb9f3a\"], [0.8888888888888888, \"#fdca26\"], [1.0, \"#f0f921\"]], \"type\": \"heatmap\"}], \"heatmapgl\": [{\"colorbar\": {\"outlinewidth\": 0, \"ticks\": \"\"}, \"colorscale\": [[0.0, \"#0d0887\"], [0.1111111111111111, \"#46039f\"], [0.2222222222222222, \"#7201a8\"], [0.3333333333333333, \"#9c179e\"], [0.4444444444444444, \"#bd3786\"], [0.5555555555555556, \"#d8576b\"], [0.6666666666666666, \"#ed7953\"], [0.7777777777777778, \"#fb9f3a\"], [0.8888888888888888, \"#fdca26\"], [1.0, \"#f0f921\"]], \"type\": \"heatmapgl\"}], \"histogram\": [{\"marker\": {\"colorbar\": {\"outlinewidth\": 0, \"ticks\": \"\"}}, \"type\": \"histogram\"}], \"histogram2d\": [{\"colorbar\": {\"outlinewidth\": 0, \"ticks\": \"\"}, \"colorscale\": [[0.0, \"#0d0887\"], [0.1111111111111111, \"#46039f\"], [0.2222222222222222, \"#7201a8\"], [0.3333333333333333, \"#9c179e\"], [0.4444444444444444, \"#bd3786\"], [0.5555555555555556, \"#d8576b\"], [0.6666666666666666, \"#ed7953\"], [0.7777777777777778, \"#fb9f3a\"], [0.8888888888888888, \"#fdca26\"], [1.0, \"#f0f921\"]], \"type\": \"histogram2d\"}], \"histogram2dcontour\": [{\"colorbar\": {\"outlinewidth\": 0, \"ticks\": \"\"}, \"colorscale\": [[0.0, \"#0d0887\"], [0.1111111111111111, \"#46039f\"], [0.2222222222222222, \"#7201a8\"], [0.3333333333333333, \"#9c179e\"], [0.4444444444444444, \"#bd3786\"], [0.5555555555555556, \"#d8576b\"], [0.6666666666666666, \"#ed7953\"], [0.7777777777777778, \"#fb9f3a\"], [0.8888888888888888, \"#fdca26\"], [1.0, \"#f0f921\"]], \"type\": \"histogram2dcontour\"}], \"mesh3d\": [{\"colorbar\": {\"outlinewidth\": 0, \"ticks\": \"\"}, \"type\": \"mesh3d\"}], \"parcoords\": [{\"line\": {\"colorbar\": {\"outlinewidth\": 0, \"ticks\": \"\"}}, \"type\": \"parcoords\"}], \"scatter\": [{\"marker\": {\"colorbar\": {\"outlinewidth\": 0, \"ticks\": \"\"}}, \"type\": \"scatter\"}], \"scatter3d\": [{\"line\": {\"colorbar\": {\"outlinewidth\": 0, \"ticks\": \"\"}}, \"marker\": {\"colorbar\": {\"outlinewidth\": 0, \"ticks\": \"\"}}, \"type\": \"scatter3d\"}], \"scattercarpet\": [{\"marker\": {\"colorbar\": {\"outlinewidth\": 0, \"ticks\": \"\"}}, \"type\": \"scattercarpet\"}], \"scattergeo\": [{\"marker\": {\"colorbar\": {\"outlinewidth\": 0, \"ticks\": \"\"}}, \"type\": \"scattergeo\"}], \"scattergl\": [{\"marker\": {\"colorbar\": {\"outlinewidth\": 0, \"ticks\": \"\"}}, \"type\": \"scattergl\"}], \"scattermapbox\": [{\"marker\": {\"colorbar\": {\"outlinewidth\": 0, \"ticks\": \"\"}}, \"type\": \"scattermapbox\"}], \"scatterpolar\": [{\"marker\": {\"colorbar\": {\"outlinewidth\": 0, \"ticks\": \"\"}}, \"type\": \"scatterpolar\"}], \"scatterpolargl\": [{\"marker\": {\"colorbar\": {\"outlinewidth\": 0, \"ticks\": \"\"}}, \"type\": \"scatterpolargl\"}], \"scatterternary\": [{\"marker\": {\"colorbar\": {\"outlinewidth\": 0, \"ticks\": \"\"}}, \"type\": \"scatterternary\"}], \"surface\": [{\"colorbar\": {\"outlinewidth\": 0, \"ticks\": \"\"}, \"colorscale\": [[0.0, \"#0d0887\"], [0.1111111111111111, \"#46039f\"], [0.2222222222222222, \"#7201a8\"], [0.3333333333333333, \"#9c179e\"], [0.4444444444444444, \"#bd3786\"], [0.5555555555555556, \"#d8576b\"], [0.6666666666666666, \"#ed7953\"], [0.7777777777777778, \"#fb9f3a\"], [0.8888888888888888, \"#fdca26\"], [1.0, \"#f0f921\"]], \"type\": \"surface\"}], \"table\": [{\"cells\": {\"fill\": {\"color\": \"#EBF0F8\"}, \"line\": {\"color\": \"white\"}}, \"header\": {\"fill\": {\"color\": \"#C8D4E3\"}, \"line\": {\"color\": \"white\"}}, \"type\": \"table\"}]}, \"layout\": {\"annotationdefaults\": {\"arrowcolor\": \"#2a3f5f\", \"arrowhead\": 0, \"arrowwidth\": 1}, \"colorscale\": {\"diverging\": [[0, \"#8e0152\"], [0.1, \"#c51b7d\"], [0.2, \"#de77ae\"], [0.3, \"#f1b6da\"], [0.4, \"#fde0ef\"], [0.5, \"#f7f7f7\"], [0.6, \"#e6f5d0\"], [0.7, \"#b8e186\"], [0.8, \"#7fbc41\"], [0.9, \"#4d9221\"], [1, \"#276419\"]], \"sequential\": [[0.0, \"#0d0887\"], [0.1111111111111111, \"#46039f\"], [0.2222222222222222, \"#7201a8\"], [0.3333333333333333, \"#9c179e\"], [0.4444444444444444, \"#bd3786\"], [0.5555555555555556, \"#d8576b\"], [0.6666666666666666, \"#ed7953\"], [0.7777777777777778, \"#fb9f3a\"], [0.8888888888888888, \"#fdca26\"], [1.0, \"#f0f921\"]], \"sequentialminus\": [[0.0, \"#0d0887\"], [0.1111111111111111, \"#46039f\"], [0.2222222222222222, \"#7201a8\"], [0.3333333333333333, \"#9c179e\"], [0.4444444444444444, \"#bd3786\"], [0.5555555555555556, \"#d8576b\"], [0.6666666666666666, \"#ed7953\"], [0.7777777777777778, \"#fb9f3a\"], [0.8888888888888888, \"#fdca26\"], [1.0, \"#f0f921\"]]}, \"colorway\": [\"#636efa\", \"#EF553B\", \"#00cc96\", \"#ab63fa\", \"#FFA15A\", \"#19d3f3\", \"#FF6692\", \"#B6E880\", \"#FF97FF\", \"#FECB52\"], \"font\": {\"color\": \"#2a3f5f\"}, \"geo\": {\"bgcolor\": \"white\", \"lakecolor\": \"white\", \"landcolor\": \"#E5ECF6\", \"showlakes\": true, \"showland\": true, \"subunitcolor\": \"white\"}, \"hoverlabel\": {\"align\": \"left\"}, \"hovermode\": \"closest\", \"mapbox\": {\"style\": \"light\"}, \"paper_bgcolor\": \"white\", \"plot_bgcolor\": \"#E5ECF6\", \"polar\": {\"angularaxis\": {\"gridcolor\": \"white\", \"linecolor\": \"white\", \"ticks\": \"\"}, \"bgcolor\": \"#E5ECF6\", \"radialaxis\": {\"gridcolor\": \"white\", \"linecolor\": \"white\", \"ticks\": \"\"}}, \"scene\": {\"xaxis\": {\"backgroundcolor\": \"#E5ECF6\", \"gridcolor\": \"white\", \"gridwidth\": 2, \"linecolor\": \"white\", \"showbackground\": true, \"ticks\": \"\", \"zerolinecolor\": \"white\"}, \"yaxis\": {\"backgroundcolor\": \"#E5ECF6\", \"gridcolor\": \"white\", \"gridwidth\": 2, \"linecolor\": \"white\", \"showbackground\": true, \"ticks\": \"\", \"zerolinecolor\": \"white\"}, \"zaxis\": {\"backgroundcolor\": \"#E5ECF6\", \"gridcolor\": \"white\", \"gridwidth\": 2, \"linecolor\": \"white\", \"showbackground\": true, \"ticks\": \"\", \"zerolinecolor\": \"white\"}}, \"shapedefaults\": {\"line\": {\"color\": \"#2a3f5f\"}}, \"ternary\": {\"aaxis\": {\"gridcolor\": \"white\", \"linecolor\": \"white\", \"ticks\": \"\"}, \"baxis\": {\"gridcolor\": \"white\", \"linecolor\": \"white\", \"ticks\": \"\"}, \"bgcolor\": \"#E5ECF6\", \"caxis\": {\"gridcolor\": \"white\", \"linecolor\": \"white\", \"ticks\": \"\"}}, \"title\": {\"x\": 0.05}, \"xaxis\": {\"automargin\": true, \"gridcolor\": \"white\", \"linecolor\": \"white\", \"ticks\": \"\", \"zerolinecolor\": \"white\", \"zerolinewidth\": 2}, \"yaxis\": {\"automargin\": true, \"gridcolor\": \"white\", \"linecolor\": \"white\", \"ticks\": \"\", \"zerolinecolor\": \"white\", \"zerolinewidth\": 2}}}, \"title\": {\"text\": \"Scenario Comparison: Department Size\"}, \"width\": 900, \"xaxis\": {\"gridcolor\": \"rgb(229,229,229)\", \"showgrid\": true, \"showline\": true, \"showticklabels\": true, \"tickcolor\": \"rgb(127,127,127)\", \"ticks\": \"outside\", \"title\": {\"text\": \"Year\"}, \"visible\": true, \"zeroline\": false}, \"yaxis\": {\"gridcolor\": \"rgb(229,229,229)\", \"showgrid\": true, \"showline\": true, \"showticklabels\": true, \"tickcolor\": \"rgb(127,127,127)\", \"ticks\": \"outside\", \"title\": {\"text\": \"Number of Faculty in the Department\"}, \"zeroline\": false}},\n",
       "                        {\"responsive\": true}\n",
       "                    ).then(function(){\n",
       "                            \n",
       "var gd = document.getElementById('7a4e320b-0d00-41c5-99c3-b2c8121fb11f');\n",
       "var x = new MutationObserver(function (mutations, observer) {{\n",
       "        var display = window.getComputedStyle(gd).display;\n",
       "        if (!display || display === 'none') {{\n",
       "            console.log([gd, 'removed!']);\n",
       "            Plotly.purge(gd);\n",
       "            observer.disconnect();\n",
       "        }}\n",
       "}});\n",
       "\n",
       "// Listen for the removal of the full notebook cells\n",
       "var notebookContainer = gd.closest('#notebook-container');\n",
       "if (notebookContainer) {{\n",
       "    x.observe(notebookContainer, {childList: true});\n",
       "}}\n",
       "\n",
       "// Listen for the clearing of the current output cell\n",
       "var outputEl = gd.closest('.output');\n",
       "if (outputEl) {{\n",
       "    x.observe(outputEl, {childList: true});\n",
       "}}\n",
       "\n",
       "                        })\n",
       "                };\n",
       "                });\n",
       "            </script>\n",
       "        </div>"
      ]
     },
     "metadata": {},
     "output_type": "display_data"
    }
   ],
   "source": [
    "data = []\n",
    "linecolors = ['rgb(0,0,255)', 'rgb(0,128,0)', 'rgb(128,0,128)', 'rgb(139,69,19)']\n",
    "fillcolors = ['rgba(0,0,255,0.25)', 'rgba(0,128,0,0.25)', 'rgba(128,0,128,0.25)', 'rgba(160,82,45,0.25)']\n",
    "legend_labels = ['scenario 1', 'scenario 2', 'scenario 3']\n",
    "\n",
    "for k,v in enumerate(results.mlist):\n",
    "    data.append(go.Scatter(\n",
    "        x=np.append(v.summary_matrix['yr'], v.summary_matrix['yr'].values[::-1]),\n",
    "        y=np.append(v.summary_matrix['deptn_975'], v.summary_matrix['deptn_025'].values[::-1]),\n",
    "        fill='tozerox',\n",
    "        fillcolor=fillcolors[k],\n",
    "        line=dict(color=linecolors[k],\n",
    "                 width=1),\n",
    "        legendgroup=legend_labels[k],\n",
    "        showlegend=False,\n",
    "        mode='lines',\n",
    "        name=legend_labels[k],\n",
    "    ))\n",
    "\n",
    "    data.append(go.Scatter(\n",
    "        x=v.summary_matrix['yr'],\n",
    "        y=v.summary_matrix['deptn_avg'],\n",
    "        line=dict(color=linecolors[k],\n",
    "                 width=2),\n",
    "        legendgroup=legend_labels[k],\n",
    "        showlegend=True,\n",
    "        marker=dict(\n",
    "            size=4),\n",
    "        mode='lines+markers',\n",
    "        name=legend_labels[k],\n",
    "    ))\n",
    "\n",
    "\n",
    "data.append(go.Scatter(\n",
    "    x=v.summary_matrix['yr'], \n",
    "    y=v.summary_matrix['act_deptn'],\n",
    "    line=dict(color='blue',\n",
    "             dash='dashdot'),\n",
    "    name='Management Data',\n",
    "    mode='lines+markers',\n",
    "    marker=dict(\n",
    "        size=4),\n",
    "\n",
    "))\n",
    "    \n",
    "layout = go.Layout(\n",
    "    title='Scenario Comparison: Department Size',\n",
    "    height=800,\n",
    "    width=900,\n",
    "    paper_bgcolor='rgb(255,255,255)',\n",
    "    plot_bgcolor='rgb(255,255,255)',\n",
    "    xaxis=dict(\n",
    "        visible=True,\n",
    "        title='Year',\n",
    "        gridcolor='rgb(229,229,229)',\n",
    "        showgrid=True,\n",
    "        showline=True,\n",
    "        showticklabels=True,\n",
    "        tickcolor='rgb(127,127,127)',\n",
    "        ticks='outside',\n",
    "        zeroline=False\n",
    "    ),\n",
    "    yaxis=dict(\n",
    "        title='Number of Faculty in the Department',\n",
    "        gridcolor='rgb(229,229,229)',\n",
    "        showgrid=True,\n",
    "        showline=True,\n",
    "        showticklabels=True,\n",
    "        tickcolor='rgb(127,127,127)',\n",
    "        ticks='outside',\n",
    "        zeroline=False\n",
    "    ),\n",
    ")\n",
    "fig = go.Figure(data=data, layout=layout)\n",
    "plotly.offline.iplot(fig, filename= 'shaded_lines')\n",
    "\n",
    "# export image for ingestion to pdf file.\n",
    "# if not os.path.exists('images'):\n",
    "#     os.mkdir('images')\n",
    "# pio.write_image(fig, 'images/dept_size_plot.png')"
   ]
  },
  {
   "cell_type": "code",
   "execution_count": 47,
   "metadata": {
    "hide_input": true,
    "tags": [
     "plotcell"
    ]
   },
   "outputs": [],
   "source": [
    "linecolors = ['blue', 'green', 'purple', 'brown']\n",
    "legend_labels = ['scenario 1', 'scenario 2', 'scenario 3']\n",
    "\n",
    "plt.figure(figsize=(12,12))\n",
    "\n",
    "for k,v in enumerate(results.mlist):\n",
    "    plt.plot(\n",
    "             v.summary_matrix['yr'], \n",
    "             v.summary_matrix['deptn_avg'],\n",
    "             linewidth=2,\n",
    "             color=linecolors[k],\n",
    "             label=legend_labels[k],\n",
    "             marker=\"o\",\n",
    "            )\n",
    "    plt.fill_between(\n",
    "             v.summary_matrix['yr'],\n",
    "             v.summary_matrix['deptn_975'],\n",
    "             v.summary_matrix['deptn_025'],\n",
    "             alpha=0.25,\n",
    "             facecolor=linecolors[k]\n",
    "            )\n",
    "\n",
    "plt.plot(\n",
    "        v.summary_matrix['yr'],\n",
    "        v.summary_matrix['act_deptn'],\n",
    "        color='blue',\n",
    "        linewidth=2,\n",
    "        linestyle='-.',\n",
    "        label='Management Data')\n",
    "    \n",
    "plt.title('Scenario Comparison: Department Size', fontsize=20)\n",
    "plt.xlabel('Year', fontsize=16)\n",
    "plt.ylabel('Number of Faculty in the Department', fontsize=16)\n",
    "plt.legend(loc='upper right', fontsize=16)\n",
    "if not os.path.exists('images'):\n",
    "    os.mkdir('images')\n",
    "plt.savefig('images/scenarios_dept_size_plot.png')\n",
    "plt.close()"
   ]
  },
  {
   "cell_type": "markdown",
   "metadata": {
    "hide_input": true
   },
   "source": [
    "# Data Export\n",
    "\n",
    "This section of the notebook allows the user to export data do CSV format. "
   ]
  },
  {
   "cell_type": "code",
   "execution_count": 21,
   "metadata": {
    "hide_input": false,
    "tags": [
     "widget_display"
    ]
   },
   "outputs": [
    {
     "data": {
      "application/vnd.jupyter.widget-view+json": {
       "model_id": "35b1caebcfdb43699fb258f180519a53",
       "version_major": 2,
       "version_minor": 0
      },
      "text/plain": [
       "HBox(children=(Button(description='Export Scenario 1', icon='check', style=ButtonStyle(), tooltip='Export to C…"
      ]
     },
     "metadata": {},
     "output_type": "display_data"
    }
   ],
   "source": [
    "display(button_panel)"
   ]
  },
  {
   "cell_type": "markdown",
   "metadata": {},
   "source": [
    "## PDF Export\n",
    "The button below will export the notebook data as a PDF file."
   ]
  },
  {
   "cell_type": "code",
   "execution_count": 38,
   "metadata": {
    "hide_input": true,
    "tags": [
     "widget_display"
    ]
   },
   "outputs": [
    {
     "data": {
      "application/vnd.jupyter.widget-view+json": {
       "model_id": "928826c4ec5f48dcaaa21449f3575d15",
       "version_major": 2,
       "version_minor": 0
      },
      "text/plain": [
       "Button(description='Generate PDF', style=ButtonStyle())"
      ]
     },
     "metadata": {},
     "output_type": "display_data"
    },
    {
     "name": "stdout",
     "output_type": "stream",
     "text": [
      "PDF Generated\n",
      "PDF Generated\n",
      "PDF Generated\n",
      "PDF Generated\n"
     ]
    }
   ],
   "source": [
    "from IPython.display import display\n",
    "button = widgets.Button(description=\"Generate PDF\")\n",
    "display(button)\n",
    "\n",
    "def on_button_clicked(b):\n",
    "    \n",
    "    # TODO pull the dictionary with model settings and use it to populate Jinja 2 template\n",
    "    data_for_pdf = visualization_dict\n",
    "    data_for_pdf['date_time'] = model_sc1.model_run_date_time\n",
    "    report_filename = 'pdf_exports/scenario_simulation_report'+ model_sc1.model_run_date_time + '.pdf'\n",
    "    file_loader = FileSystemLoader('./styles')\n",
    "    env = Environment(loader=file_loader)\n",
    "    template = env.get_template('scenario_simulation_report.md')\n",
    "    output = template.render(data_for_pdf)\n",
    "    with open(\"styles/temp_simulation_report.md\", \"w\") as fh:\n",
    "        fh.write(output)\n",
    "        \n",
    "    subprocess.run(['md2pdf', 'styles/temp_simulation_report.md', report_filename])\n",
    "    os.remove('styles/temp_simulation_report.md')\n",
    "    print(\"PDF Generated\")\n",
    "button.on_click(on_button_clicked)\n"
   ]
  },
  {
   "cell_type": "markdown",
   "metadata": {},
   "source": [
    "# Notebook Settings"
   ]
  },
  {
   "cell_type": "code",
   "execution_count": 23,
   "metadata": {
    "hide_input": true,
    "init_cell": true
   },
   "outputs": [
    {
     "data": {
      "text/html": [
       "        <script type=\"text/javascript\">\n",
       "        window.PlotlyConfig = {MathJaxConfig: 'local'};\n",
       "        if (window.MathJax) {MathJax.Hub.Config({SVG: {font: \"STIX-Web\"}});}\n",
       "        if (typeof require !== 'undefined') {\n",
       "        require.undef(\"plotly\");\n",
       "        requirejs.config({\n",
       "            paths: {\n",
       "                'plotly': ['https://cdn.plot.ly/plotly-latest.min']\n",
       "            }\n",
       "        });\n",
       "        require(['plotly'], function(Plotly) {\n",
       "            window._Plotly = Plotly;\n",
       "        });\n",
       "        }\n",
       "        </script>\n",
       "        "
      ]
     },
     "metadata": {},
     "output_type": "display_data"
    }
   ],
   "source": [
    "from ipywidgets import interact, interactive, fixed, interact_manual\n",
    "import ipywidgets as widgets\n",
    "from ipywidgets import Textarea, VBox\n",
    "from IPython.display import display, HTML, clear_output\n",
    "from IPython.core.display import Javascript\n",
    "from IPython.display import display\n",
    "import os\n",
    "import numpy as np\n",
    "import pandas as pd\n",
    "import pyugend2\n",
    "import time\n",
    "import datetime\n",
    "import builtins\n",
    "from IPython.lib import deepreload\n",
    "builtins.reload = deepreload.reload\n",
    "from IPython.display import display\n",
    "import math\n",
    "import datetime\n",
    "from IPython.display import Image\n",
    "import warnings\n",
    "warnings.filterwarnings('ignore')\n",
    "from fitter import Fitter\n",
    "%reload_ext autoreload\n",
    "import plotly\n",
    "import chart_studio.plotly as py\n",
    "import plotly.graph_objs as go\n",
    "plotly.offline.init_notebook_mode(connected=True)\n",
    "import plotly.io as pio\n",
    "import matplotlib.pyplot as plt\n",
    "import copy\n",
    "\n",
    "plotly.__version__\n",
    "\n",
    "from jinja2 import Environment, FileSystemLoader\n",
    "import subprocess"
   ]
  },
  {
   "cell_type": "markdown",
   "metadata": {
    "hide_input": true
   },
   "source": [
    "## Initialize Widgets "
   ]
  },
  {
   "cell_type": "markdown",
   "metadata": {
    "hide_input": true
   },
   "source": [
    "## Widget setup\n",
    "\n"
   ]
  },
  {
   "cell_type": "markdown",
   "metadata": {
    "hide_input": true
   },
   "source": [
    "### Model Settings Widget"
   ]
  },
  {
   "cell_type": "code",
   "execution_count": 2,
   "metadata": {
    "hide_input": true,
    "init_cell": true
   },
   "outputs": [],
   "source": [
    "%run scenario_files/widgets_settings.py\n"
   ]
  },
  {
   "cell_type": "code",
   "execution_count": 3,
   "metadata": {
    "hide_input": true,
    "init_cell": true,
    "tags": [
     "widget_input_refresh"
    ]
   },
   "outputs": [],
   "source": [
    "def create_widgets_tab():\n",
    "    tab_contents = ['P0', 'P1', 'P2', 'P3', 'P4', 'P5', 'P6', 'P7']\n",
    "    tabnames = ['numbers',\n",
    "               'attrition',\n",
    "               'hiring',\n",
    "               'promotion',\n",
    "               'model settings',\n",
    "               'growth sc 1',\n",
    "               'growth sc 2',\n",
    "               'growth sc 3']\n",
    "    children = [widgets.Text(description=name) for name in tab_contents]\n",
    "    tab = widgets.Tab()\n",
    "    tab.children = [scenario_number_widget, \n",
    "                    scenario_attrition_widget, \n",
    "                    scenario_hiring_widget, \n",
    "                    scenario_promotion_widget, \n",
    "                    model_settings_widget, \n",
    "                    sc1_growth_rate_widget,\n",
    "                    sc2_growth_rate_widget,\n",
    "                    sc3_growth_rate_widget]\n",
    "\n",
    "    for i in range(len(tabnames)):\n",
    "        tab.set_title(i, tabnames[i])\n",
    "    return tab\n",
    "\n",
    "tab = create_widgets_tab()\n",
    "\n",
    "# Handler to connect change in duration to change in tab.\n",
    "def handle_growth_widget_change(change):\n",
    "    display(Javascript(\"window.runGrowthEventHandler()\"))\n",
    "    tab = create_widgets_tab()\n",
    "    \n",
    "model_settings_dict['duration'].observe(handle_growth_widget_change, names='value')\n",
    "\n",
    "annotation_text = Textarea(layout={'height': '100%'})\n",
    "annotation_box = VBox([annotation_text], layout={'height': '300px'})"
   ]
  },
  {
   "cell_type": "markdown",
   "metadata": {
    "hide_input": true
   },
   "source": [
    "### Model Confirmation Widget"
   ]
  },
  {
   "cell_type": "code",
   "execution_count": 4,
   "metadata": {
    "hide_input": true,
    "init_cell": true
   },
   "outputs": [],
   "source": [
    "def execute_models(b):\n",
    "    display(Javascript(\"window.runSimulation()\"))\n",
    "    display(Javascript(\"window.runPlotCells()\"))\n",
    "    \n",
    "    \n",
    "def get_widget_data(b):\n",
    "    clear_output()\n",
    "    model_settings_sc1 = display_model_settings_scenario1()\n",
    "    model_settings_sc2 = display_model_settings_scenario2()\n",
    "    model_settings_sc3 = display_model_settings_scenario3()\n",
    "    label_sc1 = widgets.HTML(value=\"<font size='+1'><b>Scenario 1 Settings</b></font>\")\n",
    "    label_sc2 = widgets.HTML(value=\"<font size='+1'><b>Scenario 2 Settings</b></font>\")\n",
    "    label_sc3 = widgets.HTML(value=\"<font size='+1'><b>Scenario 3 Settings</b></font>\")\n",
    "    sc1_growth_settings = display_growth_settings(sc1_growth_rate_dict)\n",
    "    sc2_growth_settings = display_growth_settings(sc2_growth_rate_dict)\n",
    "    sc3_growth_settings = display_growth_settings(sc3_growth_rate_dict)\n",
    "    sim_settings = display_simulation_settings()\n",
    "    simulation_settings_label = widgets.HTML(value=\"<font size='+1'><b>Simulation Settings</b></font>\")\n",
    "    growth_settings_label = widgets.HTML(value=\"<font size='+1'><b>Growth Settings</b></font>\")\n",
    "    all_settings_tab = widgets.VBox([label_sc1,\n",
    "                                     model_settings_sc1,\n",
    "                                     label_sc2,\n",
    "                                     model_settings_sc2,\n",
    "                                     label_sc3,\n",
    "                                     model_settings_sc3,\n",
    "                                     simulation_settings_label,\n",
    "                                     sim_settings,\n",
    "                                     growth_settings_label,\n",
    "                                     sc1_growth_settings, \n",
    "                                     growth_settings_label,\n",
    "                                     sc2_growth_settings,\n",
    "                                     growth_settings_label,\n",
    "                                     sc3_growth_settings])\n",
    "    tab_contents = ['P0', 'P1', 'P2']\n",
    "    tabnames = ['Model Settings',\n",
    "               'Simulation Settings',\n",
    "               'Model Choices']\n",
    "    children = [widgets.Text(description=name) for name in tab_contents]\n",
    "    confirm_tab = widgets.Tab()\n",
    "    confirm_tab.children = [all_settings_tab]\n",
    "\n",
    "    for i in range(len(tabnames)):\n",
    "        confirm_tab.set_title(i, tabnames[i])\n",
    "    display(buttons)\n",
    "    display(confirm_tab)    \n",
    "    \n",
    "# Create button widgets for Showing, Confirming, and Executing models.\n",
    "button_model_settings = widgets.Button(description=\"Show Model Settings\")\n",
    "button_model_settings.on_click(get_widget_data)\n",
    "button_confirm = widgets.Button(description='Save and Execute')\n",
    "button_confirm.on_click(execute_models)\n",
    "buttons = widgets.HBox([button_model_settings, button_confirm])"
   ]
  },
  {
   "cell_type": "markdown",
   "metadata": {
    "hide_input": true
   },
   "source": [
    "### Data Export Widget"
   ]
  },
  {
   "cell_type": "code",
   "execution_count": 5,
   "metadata": {
    "hide_input": true,
    "init_cell": true
   },
   "outputs": [],
   "source": [
    "%run scenario_files/widgets_data_export.py"
   ]
  },
  {
   "cell_type": "code",
   "execution_count": 6,
   "metadata": {
    "hide_input": true,
    "init_cell": true,
    "tags": [
     "csv_export_code"
    ]
   },
   "outputs": [],
   "source": [
    "data_export_button_dict, button_panel = data_export_widget()\n",
    "\n",
    "def on_button_clicked_no_growth(b):\n",
    "    d = model_sc1.model_run_date_time\n",
    "    filename = 'csv_exports/scenario1_summary'+d+'.csv'\n",
    "    filename2 = 'csv_exports/scenario1_model_data'+d+'.csv'\n",
    "    model_sc1.summary_matrix.to_csv(filename, index=False, header=True)\n",
    "    t = model_sc1.simulation_matrix.to_dataframe('results').unstack()\n",
    "    t.columns = t.columns.droplevel(0)\n",
    "    t.loc[:,'notes'] = model_sc1.annotation\n",
    "    t.reset_index().to_csv(filename2, index=False, header=True)\n",
    "    \n",
    "    \n",
    "def on_button_clicked_linear_growth(b):\n",
    "    d = model_sc2.model_run_date_time\n",
    "    filename = 'csv_exports/scenario2_summary'+d+'.csv'\n",
    "    filename2 = 'csv_exports/scenario2_model_data'+d+'.csv'\n",
    "    model_sc2.summary_matrix.to_csv(filename, index=False, header=True)\n",
    "    t = model_sc2.simulation_matrix.to_dataframe('results').unstack()\n",
    "    t.columns = t.columns.droplevel(0)\n",
    "    t.loc[:,'notes'] = model_sc2.annotation\n",
    "    t.reset_index().to_csv(filename2, index=False, header=True)\n",
    "\n",
    "def on_button_clicked_3yr_growth(b):\n",
    "    d = model_sc3.model_run_date_time\n",
    "    filename = 'csv_exports/scenario3_summary'+d+'.csv'\n",
    "    filename2 = 'csv_exports/scenario3_model_data'+d+'.csv'\n",
    "    model_sc3.summary_matrix.to_csv(filename, index=False, header=True)\n",
    "    t = model_sc3.simulation_matrix.to_dataframe('results').unstack()\n",
    "    t.columns = t.columns.droplevel(0)\n",
    "    t.loc[:,'notes'] = model_sc3.annotation\n",
    "    t.reset_index().to_csv(filename2, index=False, header=True)\n",
    "    \n",
    "data_export_button_dict['button_no_growth'].on_click(on_button_clicked_no_growth)    \n",
    "data_export_button_dict['button_linear_growth'].on_click(on_button_clicked_linear_growth)    \n",
    "data_export_button_dict['button_3yr_growth'].on_click(on_button_clicked_3yr_growth)    \n"
   ]
  },
  {
   "cell_type": "markdown",
   "metadata": {
    "hide_input": true
   },
   "source": [
    "# Auxillary functions\n"
   ]
  },
  {
   "cell_type": "code",
   "execution_count": 7,
   "metadata": {
    "hide_input": true,
    "init_cell": true
   },
   "outputs": [
    {
     "data": {
      "application/javascript": [
       "window.findCellIndicesByTag = function findCellIndicesByTag(tagName) {\n",
       "  return (Jupyter.notebook.get_cells()\n",
       "    .filter(\n",
       "      ({metadata: {tags}}) => tags && tags.includes(tagName)\n",
       "    )\n",
       "    .map((cell) => Jupyter.notebook.find_cell_index(cell))\n",
       "  );\n",
       "};\n",
       "\n",
       "window.runPlotCells = function runPlotCells() {\n",
       "    var c = window.findCellIndicesByTag('plotcell');\n",
       "    Jupyter.notebook.execute_cells(c);\n",
       "};\n",
       "\n",
       "window.runWidgetCells = function runWidgetCells() {\n",
       "    var c = window.findCellIndicesByTag('widget_setup');\n",
       "    Jupyter.notebook.execute_cells(c);\n",
       "};\n",
       "\n",
       "window.runWidgetDisplay = function runWidgetDisplay() {\n",
       "    var c = window.findCellIndicesByTag('widget_display');\n",
       "    Jupyter.notebook.execute_cells(c);\n",
       "};\n",
       "\n",
       "window.runGrowthEventHandler = function runGrowthEventHandler() {\n",
       "    var c = window.findCellIndicesByTag('growth_event_handler');\n",
       "    Jupyter.notebook.execute_cells(c);\n",
       "};\n",
       "\n",
       "window.runGrowthWidgetRefresh = function runGrowthWidgetRefresh() {\n",
       "    var c = window.findCellIndicesByTag('widget_input_refresh');\n",
       "    Jupyter.notebook.execute_cells(c);\n",
       "};\n",
       "\n",
       "window.runSimulation = function runSimulation() {\n",
       "    var c = window.findCellIndicesByTag('run_simulation');\n",
       "    Jupyter.notebook.execute_cells(c);\n",
       "};\n",
       "\n",
       "window.runCSVCodeRefresh = function runCSVCodeRefresh() {\n",
       "    var c = window.findCellIndicesByTag('csv_export_code');\n",
       "    Jupyter.notebook.execute_cells(c);\n",
       "};\n",
       "\n",
       "window.runCSVWidgetRefresh = function runCSVWidgetRefresh() {\n",
       "    var c = window.findCellIndicesByTag('csv_export_widget');\n",
       "    Jupyter.notebook.execute_cells(c);\n",
       "};\n"
      ],
      "text/plain": [
       "<IPython.core.display.Javascript object>"
      ]
     },
     "metadata": {},
     "output_type": "display_data"
    }
   ],
   "source": [
    "%%javascript\n",
    "window.findCellIndicesByTag = function findCellIndicesByTag(tagName) {\n",
    "  return (Jupyter.notebook.get_cells()\n",
    "    .filter(\n",
    "      ({metadata: {tags}}) => tags && tags.includes(tagName)\n",
    "    )\n",
    "    .map((cell) => Jupyter.notebook.find_cell_index(cell))\n",
    "  );\n",
    "};\n",
    "\n",
    "window.runPlotCells = function runPlotCells() {\n",
    "    var c = window.findCellIndicesByTag('plotcell');\n",
    "    Jupyter.notebook.execute_cells(c);\n",
    "};\n",
    "\n",
    "window.runWidgetCells = function runWidgetCells() {\n",
    "    var c = window.findCellIndicesByTag('widget_setup');\n",
    "    Jupyter.notebook.execute_cells(c);\n",
    "};\n",
    "\n",
    "window.runWidgetDisplay = function runWidgetDisplay() {\n",
    "    var c = window.findCellIndicesByTag('widget_display');\n",
    "    Jupyter.notebook.execute_cells(c);\n",
    "};\n",
    "\n",
    "window.runGrowthEventHandler = function runGrowthEventHandler() {\n",
    "    var c = window.findCellIndicesByTag('growth_event_handler');\n",
    "    Jupyter.notebook.execute_cells(c);\n",
    "};\n",
    "\n",
    "window.runGrowthWidgetRefresh = function runGrowthWidgetRefresh() {\n",
    "    var c = window.findCellIndicesByTag('widget_input_refresh');\n",
    "    Jupyter.notebook.execute_cells(c);\n",
    "};\n",
    "\n",
    "window.runSimulation = function runSimulation() {\n",
    "    var c = window.findCellIndicesByTag('run_simulation');\n",
    "    Jupyter.notebook.execute_cells(c);\n",
    "};\n",
    "\n",
    "window.runCSVCodeRefresh = function runCSVCodeRefresh() {\n",
    "    var c = window.findCellIndicesByTag('csv_export_code');\n",
    "    Jupyter.notebook.execute_cells(c);\n",
    "};\n",
    "\n",
    "window.runCSVWidgetRefresh = function runCSVWidgetRefresh() {\n",
    "    var c = window.findCellIndicesByTag('csv_export_widget');\n",
    "    Jupyter.notebook.execute_cells(c);\n",
    "};"
   ]
  },
  {
   "cell_type": "code",
   "execution_count": 30,
   "metadata": {
    "hide_input": true,
    "tags": [
     "growth_event_handler"
    ]
   },
   "outputs": [
    {
     "data": {
      "application/javascript": [
       "window.runGrowthWidgetRefresh()"
      ],
      "text/plain": [
       "<IPython.core.display.Javascript object>"
      ]
     },
     "metadata": {},
     "output_type": "display_data"
    },
    {
     "data": {
      "application/javascript": [
       "window.runWidgetDisplay()"
      ],
      "text/plain": [
       "<IPython.core.display.Javascript object>"
      ]
     },
     "metadata": {},
     "output_type": "display_data"
    }
   ],
   "source": [
    "sc1_growth_rate_dict, sc1_growth_rate_widget = growth_widget_panel(model_settings_dict['duration'].value)\n",
    "sc2_growth_rate_dict, sc2_growth_rate_widget = growth_widget_panel(model_settings_dict['duration'].value)\n",
    "sc3_growth_rate_dict, sc3_growth_rate_widget = growth_widget_panel(model_settings_dict['duration'].value)\n",
    "\n",
    "display(Javascript(\"window.runGrowthWidgetRefresh()\"))\n",
    "display(Javascript(\"window.runWidgetDisplay()\"))"
   ]
  },
  {
   "cell_type": "code",
   "execution_count": 8,
   "metadata": {
    "hide_input": true,
    "init_cell": true
   },
   "outputs": [
    {
     "data": {
      "application/javascript": [
       "window.runWidgetCells()"
      ],
      "text/plain": [
       "<IPython.core.display.Javascript object>"
      ]
     },
     "metadata": {},
     "output_type": "display_data"
    },
    {
     "data": {
      "application/javascript": [
       "window.runWidgetDisplay()"
      ],
      "text/plain": [
       "<IPython.core.display.Javascript object>"
      ]
     },
     "metadata": {},
     "output_type": "display_data"
    }
   ],
   "source": [
    "display(Javascript(\"window.runWidgetCells()\"))\n",
    "display(Javascript(\"window.runWidgetDisplay()\"))\n"
   ]
  }
 ],
 "metadata": {
  "kernelspec": {
   "display_name": "Python 3",
   "language": "python",
   "name": "python3"
  },
  "language_info": {
   "codemirror_mode": {
    "name": "ipython",
    "version": 3
   },
   "file_extension": ".py",
   "mimetype": "text/x-python",
   "name": "python",
   "nbconvert_exporter": "python",
   "pygments_lexer": "ipython3",
   "version": "3.7.4"
  },
  "latex_envs": {
   "LaTeX_envs_menu_present": true,
   "autoclose": false,
   "autocomplete": true,
   "bibliofile": "biblio.bib",
   "cite_by": "apalike",
   "current_citInitial": 1,
   "eqLabelWithNumbers": true,
   "eqNumInitial": 1,
   "hotkeys": {
    "equation": "Ctrl-E",
    "itemize": "Ctrl-I"
   },
   "labels_anchors": false,
   "latex_user_defs": false,
   "report_style_numbering": false,
   "user_envs_cfg": false
  },
  "toc": {
   "base_numbering": 1,
   "nav_menu": {},
   "number_sections": true,
   "sideBar": true,
   "skip_h1_title": false,
   "title_cell": "Table of Contents",
   "title_sidebar": "Contents",
   "toc_cell": true,
   "toc_position": {
    "height": "calc(100% - 180px)",
    "left": "10px",
    "top": "150px",
    "width": "165px"
   },
   "toc_section_display": true,
   "toc_window_display": true
  }
 },
 "nbformat": 4,
 "nbformat_minor": 2
}
