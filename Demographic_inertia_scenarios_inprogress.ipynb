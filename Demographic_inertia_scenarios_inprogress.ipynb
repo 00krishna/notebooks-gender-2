{
 "cells": [
  {
   "cell_type": "markdown",
   "metadata": {
    "toc": true
   },
   "source": [
    "<h1>Table of Contents<span class=\"tocSkip\"></span></h1>\n",
    "<div class=\"toc\"><ul class=\"toc-item\"><li><span><a href=\"#Set-Model-Parameters\" data-toc-modified-id=\"Set-Model-Parameters-1\"><span class=\"toc-item-num\">1&nbsp;&nbsp;</span>Set Model Parameters</a></span></li><li><span><a href=\"#Notes\" data-toc-modified-id=\"Notes-2\"><span class=\"toc-item-num\">2&nbsp;&nbsp;</span>Notes</a></span></li><li><span><a href=\"#Confirm-Model-Settings-and-Execute-Simulation\" data-toc-modified-id=\"Confirm-Model-Settings-and-Execute-Simulation-3\"><span class=\"toc-item-num\">3&nbsp;&nbsp;</span>Confirm Model Settings and Execute Simulation</a></span></li><li><span><a href=\"#Simulation-Results\" data-toc-modified-id=\"Simulation-Results-4\"><span class=\"toc-item-num\">4&nbsp;&nbsp;</span>Simulation Results</a></span><ul class=\"toc-item\"><li><span><a href=\"#Comparison-of-Model-3-Growth-Models:-Change-in-Proportion-of-Women\" data-toc-modified-id=\"Comparison-of-Model-3-Growth-Models:-Change-in-Proportion-of-Women-4.1\"><span class=\"toc-item-num\">4.1&nbsp;&nbsp;</span>Comparison of Model 3 Growth Models: Change in Proportion of Women</a></span></li><li><span><a href=\"#Comparison-of-Model-3-Growth-Models:-Probability-of-Achieving-25%-Women\" data-toc-modified-id=\"Comparison-of-Model-3-Growth-Models:-Probability-of-Achieving-25%-Women-4.2\"><span class=\"toc-item-num\">4.2&nbsp;&nbsp;</span>Comparison of Model 3 Growth Models: Probability of Achieving 25% Women</a></span></li><li><span><a href=\"#Comparison-of-Model-3-Growth-Models:-Change-in-Number-Women,-Model-3\" data-toc-modified-id=\"Comparison-of-Model-3-Growth-Models:-Change-in-Number-Women,-Model-3-4.3\"><span class=\"toc-item-num\">4.3&nbsp;&nbsp;</span>Comparison of Model 3 Growth Models: Change in Number Women, Model 3</a></span></li><li><span><a href=\"#Comparison-of-Model-3-Growth-Models:-Department-Size\" data-toc-modified-id=\"Comparison-of-Model-3-Growth-Models:-Department-Size-4.4\"><span class=\"toc-item-num\">4.4&nbsp;&nbsp;</span>Comparison of Model 3 Growth Models: Department Size</a></span></li></ul></li><li><span><a href=\"#Data-Export\" data-toc-modified-id=\"Data-Export-5\"><span class=\"toc-item-num\">5&nbsp;&nbsp;</span>Data Export</a></span><ul class=\"toc-item\"><li><span><a href=\"#PDF-Export\" data-toc-modified-id=\"PDF-Export-5.1\"><span class=\"toc-item-num\">5.1&nbsp;&nbsp;</span>PDF Export</a></span></li></ul></li><li><span><a href=\"#Notebook-Settings\" data-toc-modified-id=\"Notebook-Settings-6\"><span class=\"toc-item-num\">6&nbsp;&nbsp;</span>Notebook Settings</a></span><ul class=\"toc-item\"><li><span><a href=\"#Initialize-Widgets\" data-toc-modified-id=\"Initialize-Widgets-6.1\"><span class=\"toc-item-num\">6.1&nbsp;&nbsp;</span>Initialize Widgets</a></span></li><li><span><a href=\"#Widget-setup\" data-toc-modified-id=\"Widget-setup-6.2\"><span class=\"toc-item-num\">6.2&nbsp;&nbsp;</span>Widget setup</a></span><ul class=\"toc-item\"><li><span><a href=\"#Model-Settings-Widget\" data-toc-modified-id=\"Model-Settings-Widget-6.2.1\"><span class=\"toc-item-num\">6.2.1&nbsp;&nbsp;</span>Model Settings Widget</a></span></li><li><span><a href=\"#Model-Confirmation-Widget\" data-toc-modified-id=\"Model-Confirmation-Widget-6.2.2\"><span class=\"toc-item-num\">6.2.2&nbsp;&nbsp;</span>Model Confirmation Widget</a></span></li><li><span><a href=\"#Data-Export-Widget\" data-toc-modified-id=\"Data-Export-Widget-6.2.3\"><span class=\"toc-item-num\">6.2.3&nbsp;&nbsp;</span>Data Export Widget</a></span></li></ul></li></ul></li><li><span><a href=\"#Auxillary-functions\" data-toc-modified-id=\"Auxillary-functions-7\"><span class=\"toc-item-num\">7&nbsp;&nbsp;</span>Auxillary functions</a></span></li></ul></div>"
   ]
  },
  {
   "cell_type": "markdown",
   "metadata": {},
   "source": [
    "# Set Model Parameters "
   ]
  },
  {
   "cell_type": "code",
   "execution_count": 18,
   "metadata": {
    "hide_input": false,
    "scrolled": false,
    "tags": [
     "widget_display",
     "widget_input_refresh"
    ]
   },
   "outputs": [
    {
     "data": {
      "application/vnd.jupyter.widget-view+json": {
       "model_id": "7b3c52b88b1b4d49b32ac15e960e3496",
       "version_major": 2,
       "version_minor": 0
      },
      "text/plain": [
       "Tab(children=(VBox(children=(HTML(value=\"<font size='+1'><b>Scenario 1 Settings</b></font>\"), HBox(children=(V…"
      ]
     },
     "metadata": {},
     "output_type": "display_data"
    }
   ],
   "source": [
    "display(tab)"
   ]
  },
  {
   "cell_type": "markdown",
   "metadata": {},
   "source": [
    "# Notes "
   ]
  },
  {
   "cell_type": "code",
   "execution_count": 19,
   "metadata": {
    "tags": [
     "widget_display"
    ]
   },
   "outputs": [
    {
     "data": {
      "application/vnd.jupyter.widget-view+json": {
       "model_id": "0b4f394c03804454a320bf29610e721d",
       "version_major": 2,
       "version_minor": 0
      },
      "text/plain": [
       "VBox(children=(Textarea(value='', layout=Layout(height='100%')),), layout=Layout(height='300px'))"
      ]
     },
     "metadata": {},
     "output_type": "display_data"
    }
   ],
   "source": [
    "display(annotation_box)"
   ]
  },
  {
   "cell_type": "markdown",
   "metadata": {
    "hide_input": false
   },
   "source": [
    "# Confirm Model Settings and Execute Simulation\n"
   ]
  },
  {
   "cell_type": "code",
   "execution_count": 20,
   "metadata": {
    "hide_input": false,
    "scrolled": false,
    "tags": [
     "widget_display"
    ]
   },
   "outputs": [
    {
     "data": {
      "application/vnd.jupyter.widget-view+json": {
       "model_id": "7d034778992a41fd8768bf13c044fc70",
       "version_major": 2,
       "version_minor": 0
      },
      "text/plain": [
       "HBox(children=(Button(description='Show Model Settings', style=ButtonStyle()), Button(description='Save and Ex…"
      ]
     },
     "metadata": {},
     "output_type": "display_data"
    }
   ],
   "source": [
    "display(buttons)"
   ]
  },
  {
   "cell_type": "code",
   "execution_count": 9,
   "metadata": {
    "hide_input": false,
    "tags": [
     "run_simulation"
    ]
   },
   "outputs": [
    {
     "name": "stderr",
     "output_type": "stream",
     "text": [
      "100%|██████████| 100/100 [00:53<00:00,  1.86it/s]\n",
      " 52%|█████▏    | 52/100 [00:28<00:25,  1.87it/s]"
     ]
    },
    {
     "ename": "KeyboardInterrupt",
     "evalue": "",
     "output_type": "error",
     "traceback": [
      "\u001b[0;31m---------------------------------------------------------------------------\u001b[0m",
      "\u001b[0;31mKeyboardInterrupt\u001b[0m                         Traceback (most recent call last)",
      "\u001b[0;32m<ipython-input-9-f670adf23c49>\u001b[0m in \u001b[0;36m<module>\u001b[0;34m\u001b[0m\n\u001b[1;32m     84\u001b[0m \u001b[0mresults\u001b[0m \u001b[0;34m=\u001b[0m \u001b[0mpyugend2\u001b[0m\u001b[0;34m.\u001b[0m\u001b[0mComparison\u001b[0m\u001b[0;34m(\u001b[0m\u001b[0mmodel_list\u001b[0m\u001b[0;34m)\u001b[0m\u001b[0;34m\u001b[0m\u001b[0;34m\u001b[0m\u001b[0m\n\u001b[1;32m     85\u001b[0m \u001b[0;34m\u001b[0m\u001b[0m\n\u001b[0;32m---> 86\u001b[0;31m \u001b[0mresults\u001b[0m\u001b[0;34m.\u001b[0m\u001b[0mrun_all_models\u001b[0m\u001b[0;34m(\u001b[0m\u001b[0;36m100\u001b[0m\u001b[0;34m)\u001b[0m\u001b[0;34m\u001b[0m\u001b[0;34m\u001b[0m\u001b[0m\n\u001b[0m",
      "\u001b[0;32m/media/hayagriva/anaconda3/envs/pGendUniv/lib/python3.7/site-packages/pyugend2-0.2.0-py3.7.egg/pyugend2/Comparison.py\u001b[0m in \u001b[0;36mrun_all_models\u001b[0;34m(self, number_of_runs)\u001b[0m\n\u001b[1;32m     23\u001b[0m     \u001b[0;32mdef\u001b[0m \u001b[0mrun_all_models\u001b[0m\u001b[0;34m(\u001b[0m\u001b[0mself\u001b[0m\u001b[0;34m,\u001b[0m \u001b[0mnumber_of_runs\u001b[0m\u001b[0;34m)\u001b[0m\u001b[0;34m:\u001b[0m\u001b[0;34m\u001b[0m\u001b[0;34m\u001b[0m\u001b[0m\n\u001b[1;32m     24\u001b[0m         \u001b[0;32mfor\u001b[0m \u001b[0mmod\u001b[0m \u001b[0;32min\u001b[0m \u001b[0mself\u001b[0m\u001b[0;34m.\u001b[0m\u001b[0mmlist\u001b[0m\u001b[0;34m:\u001b[0m\u001b[0;34m\u001b[0m\u001b[0;34m\u001b[0m\u001b[0m\n\u001b[0;32m---> 25\u001b[0;31m             \u001b[0mmod\u001b[0m\u001b[0;34m.\u001b[0m\u001b[0mrun_multiple\u001b[0m\u001b[0;34m(\u001b[0m\u001b[0mnumber_of_runs\u001b[0m\u001b[0;34m)\u001b[0m\u001b[0;34m\u001b[0m\u001b[0;34m\u001b[0m\u001b[0m\n\u001b[0m\u001b[1;32m     26\u001b[0m \u001b[0;34m\u001b[0m\u001b[0m\n\u001b[1;32m     27\u001b[0m \u001b[0;34m\u001b[0m\u001b[0m\n",
      "\u001b[0;32m/media/hayagriva/anaconda3/envs/pGendUniv/lib/python3.7/site-packages/pyugend2-0.2.0-py3.7.egg/pyugend2/Models.py\u001b[0m in \u001b[0;36mrun_multiple\u001b[0;34m(self, num_iterations)\u001b[0m\n\u001b[1;32m    122\u001b[0m         \u001b[0;31m# first get the sizing of the storage array\u001b[0m\u001b[0;34m\u001b[0m\u001b[0;34m\u001b[0m\u001b[0;34m\u001b[0m\u001b[0m\n\u001b[1;32m    123\u001b[0m         \u001b[0;31m# set up the array to hold the data array from each model run.\u001b[0m\u001b[0;34m\u001b[0m\u001b[0;34m\u001b[0m\u001b[0;34m\u001b[0m\u001b[0m\n\u001b[0;32m--> 124\u001b[0;31m         \u001b[0mself\u001b[0m\u001b[0;34m.\u001b[0m\u001b[0mrun_model_iterations\u001b[0m\u001b[0;34m(\u001b[0m\u001b[0mnum_iterations\u001b[0m\u001b[0;34m)\u001b[0m\u001b[0;34m\u001b[0m\u001b[0;34m\u001b[0m\u001b[0m\n\u001b[0m\u001b[1;32m    125\u001b[0m         \u001b[0;31m# calculate summaries\u001b[0m\u001b[0;34m\u001b[0m\u001b[0;34m\u001b[0m\u001b[0;34m\u001b[0m\u001b[0m\n\u001b[1;32m    126\u001b[0m         \u001b[0mself\u001b[0m\u001b[0;34m.\u001b[0m\u001b[0mcalculate_simulation_summaries\u001b[0m\u001b[0;34m(\u001b[0m\u001b[0;34m)\u001b[0m\u001b[0;34m\u001b[0m\u001b[0;34m\u001b[0m\u001b[0m\n",
      "\u001b[0;32m/media/hayagriva/anaconda3/envs/pGendUniv/lib/python3.7/site-packages/pyugend2-0.2.0-py3.7.egg/pyugend2/Models.py\u001b[0m in \u001b[0;36mrun_model_iterations\u001b[0;34m(self, num_iterations)\u001b[0m\n\u001b[1;32m    140\u001b[0m         \u001b[0mself\u001b[0m\u001b[0;34m.\u001b[0m\u001b[0mitercount\u001b[0m \u001b[0;34m=\u001b[0m \u001b[0;36m0\u001b[0m\u001b[0;34m\u001b[0m\u001b[0;34m\u001b[0m\u001b[0m\n\u001b[1;32m    141\u001b[0m         \u001b[0;32mfor\u001b[0m \u001b[0mi\u001b[0m \u001b[0;32min\u001b[0m \u001b[0mtqdm\u001b[0m\u001b[0;34m(\u001b[0m\u001b[0mrange\u001b[0m\u001b[0;34m(\u001b[0m\u001b[0mnum_iterations\u001b[0m\u001b[0;34m)\u001b[0m\u001b[0;34m)\u001b[0m\u001b[0;34m:\u001b[0m\u001b[0;34m\u001b[0m\u001b[0;34m\u001b[0m\u001b[0m\n\u001b[0;32m--> 142\u001b[0;31m             \u001b[0msimulation_matrix\u001b[0m\u001b[0;34m[\u001b[0m\u001b[0mi\u001b[0m\u001b[0;34m,\u001b[0m \u001b[0;34m:\u001b[0m\u001b[0;34m,\u001b[0m \u001b[0;34m:\u001b[0m\u001b[0;34m]\u001b[0m \u001b[0;34m=\u001b[0m \u001b[0mself\u001b[0m\u001b[0;34m.\u001b[0m\u001b[0mrun_model\u001b[0m\u001b[0;34m(\u001b[0m\u001b[0;34m)\u001b[0m\u001b[0;34m\u001b[0m\u001b[0;34m\u001b[0m\u001b[0m\n\u001b[0m\u001b[1;32m    143\u001b[0m             \u001b[0mself\u001b[0m\u001b[0;34m.\u001b[0m\u001b[0mitercount\u001b[0m \u001b[0;34m+=\u001b[0m \u001b[0;36m1\u001b[0m\u001b[0;34m\u001b[0m\u001b[0;34m\u001b[0m\u001b[0m\n\u001b[1;32m    144\u001b[0m         \u001b[0mself\u001b[0m\u001b[0;34m.\u001b[0m\u001b[0msimulation_matrix\u001b[0m \u001b[0;34m=\u001b[0m \u001b[0msimulation_matrix\u001b[0m\u001b[0;34m\u001b[0m\u001b[0;34m\u001b[0m\u001b[0m\n",
      "\u001b[0;32m/media/hayagriva/anaconda3/envs/pGendUniv/lib/python3.7/site-packages/pyugend2-0.2.0-py3.7.egg/pyugend2/ModelGenderDiversityGrowthAsDrift.py\u001b[0m in \u001b[0;36mrun_model\u001b[0;34m(self)\u001b[0m\n\u001b[1;32m    326\u001b[0m             \u001b[0;31m# capture the hiring rate parameters for each group\u001b[0m\u001b[0;34m\u001b[0m\u001b[0;34m\u001b[0m\u001b[0;34m\u001b[0m\u001b[0m\n\u001b[1;32m    327\u001b[0m             \u001b[0mres\u001b[0m\u001b[0;34m.\u001b[0m\u001b[0mloc\u001b[0m\u001b[0;34m[\u001b[0m\u001b[0mi\u001b[0m\u001b[0;34m,\u001b[0m \u001b[0;34m'r_fhire1'\u001b[0m\u001b[0;34m]\u001b[0m \u001b[0;34m=\u001b[0m \u001b[0mself\u001b[0m\u001b[0;34m.\u001b[0m\u001b[0mhiring_rate_f1\u001b[0m\u001b[0;34m\u001b[0m\u001b[0;34m\u001b[0m\u001b[0m\n\u001b[0;32m--> 328\u001b[0;31m             \u001b[0mres\u001b[0m\u001b[0;34m.\u001b[0m\u001b[0mloc\u001b[0m\u001b[0;34m[\u001b[0m\u001b[0mi\u001b[0m\u001b[0;34m,\u001b[0m \u001b[0;34m'r_fhire2'\u001b[0m\u001b[0;34m]\u001b[0m \u001b[0;34m=\u001b[0m \u001b[0mself\u001b[0m\u001b[0;34m.\u001b[0m\u001b[0mhiring_rate_f2\u001b[0m\u001b[0;34m\u001b[0m\u001b[0;34m\u001b[0m\u001b[0m\n\u001b[0m\u001b[1;32m    329\u001b[0m             \u001b[0mres\u001b[0m\u001b[0;34m.\u001b[0m\u001b[0mloc\u001b[0m\u001b[0;34m[\u001b[0m\u001b[0mi\u001b[0m\u001b[0;34m,\u001b[0m \u001b[0;34m'r_fhire3'\u001b[0m\u001b[0;34m]\u001b[0m \u001b[0;34m=\u001b[0m \u001b[0mself\u001b[0m\u001b[0;34m.\u001b[0m\u001b[0mhiring_rate_f3\u001b[0m\u001b[0;34m\u001b[0m\u001b[0;34m\u001b[0m\u001b[0m\n\u001b[1;32m    330\u001b[0m             \u001b[0mres\u001b[0m\u001b[0;34m.\u001b[0m\u001b[0mloc\u001b[0m\u001b[0;34m[\u001b[0m\u001b[0mi\u001b[0m\u001b[0;34m,\u001b[0m \u001b[0;34m'r_mhire1'\u001b[0m\u001b[0;34m]\u001b[0m \u001b[0;34m=\u001b[0m \u001b[0mself\u001b[0m\u001b[0;34m.\u001b[0m\u001b[0mhiring_rate_m1\u001b[0m\u001b[0;34m\u001b[0m\u001b[0;34m\u001b[0m\u001b[0m\n",
      "\u001b[0;32m/media/hayagriva/anaconda3/envs/pGendUniv/lib/python3.7/site-packages/pandas/core/indexing.py\u001b[0m in \u001b[0;36m__setitem__\u001b[0;34m(self, key, value)\u001b[0m\n\u001b[1;32m    203\u001b[0m             \u001b[0mkey\u001b[0m \u001b[0;34m=\u001b[0m \u001b[0mcom\u001b[0m\u001b[0;34m.\u001b[0m\u001b[0mapply_if_callable\u001b[0m\u001b[0;34m(\u001b[0m\u001b[0mkey\u001b[0m\u001b[0;34m,\u001b[0m \u001b[0mself\u001b[0m\u001b[0;34m.\u001b[0m\u001b[0mobj\u001b[0m\u001b[0;34m)\u001b[0m\u001b[0;34m\u001b[0m\u001b[0;34m\u001b[0m\u001b[0m\n\u001b[1;32m    204\u001b[0m         \u001b[0mindexer\u001b[0m \u001b[0;34m=\u001b[0m \u001b[0mself\u001b[0m\u001b[0;34m.\u001b[0m\u001b[0m_get_setitem_indexer\u001b[0m\u001b[0;34m(\u001b[0m\u001b[0mkey\u001b[0m\u001b[0;34m)\u001b[0m\u001b[0;34m\u001b[0m\u001b[0;34m\u001b[0m\u001b[0m\n\u001b[0;32m--> 205\u001b[0;31m         \u001b[0mself\u001b[0m\u001b[0;34m.\u001b[0m\u001b[0m_setitem_with_indexer\u001b[0m\u001b[0;34m(\u001b[0m\u001b[0mindexer\u001b[0m\u001b[0;34m,\u001b[0m \u001b[0mvalue\u001b[0m\u001b[0;34m)\u001b[0m\u001b[0;34m\u001b[0m\u001b[0;34m\u001b[0m\u001b[0m\n\u001b[0m\u001b[1;32m    206\u001b[0m \u001b[0;34m\u001b[0m\u001b[0m\n\u001b[1;32m    207\u001b[0m     \u001b[0;32mdef\u001b[0m \u001b[0m_validate_key\u001b[0m\u001b[0;34m(\u001b[0m\u001b[0mself\u001b[0m\u001b[0;34m,\u001b[0m \u001b[0mkey\u001b[0m\u001b[0;34m,\u001b[0m \u001b[0maxis\u001b[0m\u001b[0;34m:\u001b[0m \u001b[0mint\u001b[0m\u001b[0;34m)\u001b[0m\u001b[0;34m:\u001b[0m\u001b[0;34m\u001b[0m\u001b[0;34m\u001b[0m\u001b[0m\n",
      "\u001b[0;32m/media/hayagriva/anaconda3/envs/pGendUniv/lib/python3.7/site-packages/pandas/core/indexing.py\u001b[0m in \u001b[0;36m_setitem_with_indexer\u001b[0;34m(self, indexer, value)\u001b[0m\n\u001b[1;32m    555\u001b[0m                 \u001b[0;31m# scalar\u001b[0m\u001b[0;34m\u001b[0m\u001b[0;34m\u001b[0m\u001b[0;34m\u001b[0m\u001b[0m\n\u001b[1;32m    556\u001b[0m                 \u001b[0;32mfor\u001b[0m \u001b[0mitem\u001b[0m \u001b[0;32min\u001b[0m \u001b[0mlabels\u001b[0m\u001b[0;34m:\u001b[0m\u001b[0;34m\u001b[0m\u001b[0;34m\u001b[0m\u001b[0m\n\u001b[0;32m--> 557\u001b[0;31m                     \u001b[0msetter\u001b[0m\u001b[0;34m(\u001b[0m\u001b[0mitem\u001b[0m\u001b[0;34m,\u001b[0m \u001b[0mvalue\u001b[0m\u001b[0;34m)\u001b[0m\u001b[0;34m\u001b[0m\u001b[0;34m\u001b[0m\u001b[0m\n\u001b[0m\u001b[1;32m    558\u001b[0m \u001b[0;34m\u001b[0m\u001b[0m\n\u001b[1;32m    559\u001b[0m         \u001b[0;32melse\u001b[0m\u001b[0;34m:\u001b[0m\u001b[0;34m\u001b[0m\u001b[0;34m\u001b[0m\u001b[0m\n",
      "\u001b[0;32m/media/hayagriva/anaconda3/envs/pGendUniv/lib/python3.7/site-packages/pandas/core/indexing.py\u001b[0m in \u001b[0;36msetter\u001b[0;34m(item, v)\u001b[0m\n\u001b[1;32m    492\u001b[0m \u001b[0;34m\u001b[0m\u001b[0m\n\u001b[1;32m    493\u001b[0m                 \u001b[0;31m# reset the sliced object if unique\u001b[0m\u001b[0;34m\u001b[0m\u001b[0;34m\u001b[0m\u001b[0;34m\u001b[0m\u001b[0m\n\u001b[0;32m--> 494\u001b[0;31m                 \u001b[0mself\u001b[0m\u001b[0;34m.\u001b[0m\u001b[0mobj\u001b[0m\u001b[0;34m[\u001b[0m\u001b[0mitem\u001b[0m\u001b[0;34m]\u001b[0m \u001b[0;34m=\u001b[0m \u001b[0ms\u001b[0m\u001b[0;34m\u001b[0m\u001b[0;34m\u001b[0m\u001b[0m\n\u001b[0m\u001b[1;32m    495\u001b[0m \u001b[0;34m\u001b[0m\u001b[0m\n\u001b[1;32m    496\u001b[0m             \u001b[0;31m# we need an iterable, with a ndim of at least 1\u001b[0m\u001b[0;34m\u001b[0m\u001b[0;34m\u001b[0m\u001b[0;34m\u001b[0m\u001b[0m\n",
      "\u001b[0;32m/media/hayagriva/anaconda3/envs/pGendUniv/lib/python3.7/site-packages/pandas/core/frame.py\u001b[0m in \u001b[0;36m__setitem__\u001b[0;34m(self, key, value)\u001b[0m\n\u001b[1;32m   3470\u001b[0m         \u001b[0;32melse\u001b[0m\u001b[0;34m:\u001b[0m\u001b[0;34m\u001b[0m\u001b[0;34m\u001b[0m\u001b[0m\n\u001b[1;32m   3471\u001b[0m             \u001b[0;31m# set column\u001b[0m\u001b[0;34m\u001b[0m\u001b[0;34m\u001b[0m\u001b[0;34m\u001b[0m\u001b[0m\n\u001b[0;32m-> 3472\u001b[0;31m             \u001b[0mself\u001b[0m\u001b[0;34m.\u001b[0m\u001b[0m_set_item\u001b[0m\u001b[0;34m(\u001b[0m\u001b[0mkey\u001b[0m\u001b[0;34m,\u001b[0m \u001b[0mvalue\u001b[0m\u001b[0;34m)\u001b[0m\u001b[0;34m\u001b[0m\u001b[0;34m\u001b[0m\u001b[0m\n\u001b[0m\u001b[1;32m   3473\u001b[0m \u001b[0;34m\u001b[0m\u001b[0m\n\u001b[1;32m   3474\u001b[0m     \u001b[0;32mdef\u001b[0m \u001b[0m_setitem_slice\u001b[0m\u001b[0;34m(\u001b[0m\u001b[0mself\u001b[0m\u001b[0;34m,\u001b[0m \u001b[0mkey\u001b[0m\u001b[0;34m,\u001b[0m \u001b[0mvalue\u001b[0m\u001b[0;34m)\u001b[0m\u001b[0;34m:\u001b[0m\u001b[0;34m\u001b[0m\u001b[0;34m\u001b[0m\u001b[0m\n",
      "\u001b[0;32m/media/hayagriva/anaconda3/envs/pGendUniv/lib/python3.7/site-packages/pandas/core/frame.py\u001b[0m in \u001b[0;36m_set_item\u001b[0;34m(self, key, value)\u001b[0m\n\u001b[1;32m   3547\u001b[0m \u001b[0;34m\u001b[0m\u001b[0m\n\u001b[1;32m   3548\u001b[0m         \u001b[0mself\u001b[0m\u001b[0;34m.\u001b[0m\u001b[0m_ensure_valid_index\u001b[0m\u001b[0;34m(\u001b[0m\u001b[0mvalue\u001b[0m\u001b[0;34m)\u001b[0m\u001b[0;34m\u001b[0m\u001b[0;34m\u001b[0m\u001b[0m\n\u001b[0;32m-> 3549\u001b[0;31m         \u001b[0mvalue\u001b[0m \u001b[0;34m=\u001b[0m \u001b[0mself\u001b[0m\u001b[0;34m.\u001b[0m\u001b[0m_sanitize_column\u001b[0m\u001b[0;34m(\u001b[0m\u001b[0mkey\u001b[0m\u001b[0;34m,\u001b[0m \u001b[0mvalue\u001b[0m\u001b[0;34m)\u001b[0m\u001b[0;34m\u001b[0m\u001b[0;34m\u001b[0m\u001b[0m\n\u001b[0m\u001b[1;32m   3550\u001b[0m         \u001b[0mNDFrame\u001b[0m\u001b[0;34m.\u001b[0m\u001b[0m_set_item\u001b[0m\u001b[0;34m(\u001b[0m\u001b[0mself\u001b[0m\u001b[0;34m,\u001b[0m \u001b[0mkey\u001b[0m\u001b[0;34m,\u001b[0m \u001b[0mvalue\u001b[0m\u001b[0;34m)\u001b[0m\u001b[0;34m\u001b[0m\u001b[0;34m\u001b[0m\u001b[0m\n\u001b[1;32m   3551\u001b[0m \u001b[0;34m\u001b[0m\u001b[0m\n",
      "\u001b[0;32m/media/hayagriva/anaconda3/envs/pGendUniv/lib/python3.7/site-packages/pandas/core/frame.py\u001b[0m in \u001b[0;36m_sanitize_column\u001b[0;34m(self, key, value, broadcast)\u001b[0m\n\u001b[1;32m   3758\u001b[0m \u001b[0;34m\u001b[0m\u001b[0m\n\u001b[1;32m   3759\u001b[0m         \u001b[0;31m# return internal types directly\u001b[0m\u001b[0;34m\u001b[0m\u001b[0;34m\u001b[0m\u001b[0;34m\u001b[0m\u001b[0m\n\u001b[0;32m-> 3760\u001b[0;31m         \u001b[0;32mif\u001b[0m \u001b[0mis_extension_type\u001b[0m\u001b[0;34m(\u001b[0m\u001b[0mvalue\u001b[0m\u001b[0;34m)\u001b[0m \u001b[0;32mor\u001b[0m \u001b[0mis_extension_array_dtype\u001b[0m\u001b[0;34m(\u001b[0m\u001b[0mvalue\u001b[0m\u001b[0;34m)\u001b[0m\u001b[0;34m:\u001b[0m\u001b[0;34m\u001b[0m\u001b[0;34m\u001b[0m\u001b[0m\n\u001b[0m\u001b[1;32m   3761\u001b[0m             \u001b[0;32mreturn\u001b[0m \u001b[0mvalue\u001b[0m\u001b[0;34m\u001b[0m\u001b[0;34m\u001b[0m\u001b[0m\n\u001b[1;32m   3762\u001b[0m \u001b[0;34m\u001b[0m\u001b[0m\n",
      "\u001b[0;32m/media/hayagriva/anaconda3/envs/pGendUniv/lib/python3.7/site-packages/pandas/core/dtypes/common.py\u001b[0m in \u001b[0;36mis_extension_type\u001b[0;34m(arr)\u001b[0m\n\u001b[1;32m   1732\u001b[0m     \"\"\"\n\u001b[1;32m   1733\u001b[0m \u001b[0;34m\u001b[0m\u001b[0m\n\u001b[0;32m-> 1734\u001b[0;31m     \u001b[0;32mif\u001b[0m \u001b[0mis_categorical\u001b[0m\u001b[0;34m(\u001b[0m\u001b[0marr\u001b[0m\u001b[0;34m)\u001b[0m\u001b[0;34m:\u001b[0m\u001b[0;34m\u001b[0m\u001b[0;34m\u001b[0m\u001b[0m\n\u001b[0m\u001b[1;32m   1735\u001b[0m         \u001b[0;32mreturn\u001b[0m \u001b[0;32mTrue\u001b[0m\u001b[0;34m\u001b[0m\u001b[0;34m\u001b[0m\u001b[0m\n\u001b[1;32m   1736\u001b[0m     \u001b[0;32melif\u001b[0m \u001b[0mis_sparse\u001b[0m\u001b[0;34m(\u001b[0m\u001b[0marr\u001b[0m\u001b[0;34m)\u001b[0m\u001b[0;34m:\u001b[0m\u001b[0;34m\u001b[0m\u001b[0;34m\u001b[0m\u001b[0m\n",
      "\u001b[0;32m/media/hayagriva/anaconda3/envs/pGendUniv/lib/python3.7/site-packages/pandas/core/dtypes/common.py\u001b[0m in \u001b[0;36mis_categorical\u001b[0;34m(arr)\u001b[0m\n\u001b[1;32m    385\u001b[0m     \"\"\"\n\u001b[1;32m    386\u001b[0m \u001b[0;34m\u001b[0m\u001b[0m\n\u001b[0;32m--> 387\u001b[0;31m     \u001b[0;32mreturn\u001b[0m \u001b[0misinstance\u001b[0m\u001b[0;34m(\u001b[0m\u001b[0marr\u001b[0m\u001b[0;34m,\u001b[0m \u001b[0mABCCategorical\u001b[0m\u001b[0;34m)\u001b[0m \u001b[0;32mor\u001b[0m \u001b[0mis_categorical_dtype\u001b[0m\u001b[0;34m(\u001b[0m\u001b[0marr\u001b[0m\u001b[0;34m)\u001b[0m\u001b[0;34m\u001b[0m\u001b[0;34m\u001b[0m\u001b[0m\n\u001b[0m\u001b[1;32m    388\u001b[0m \u001b[0;34m\u001b[0m\u001b[0m\n\u001b[1;32m    389\u001b[0m \u001b[0;34m\u001b[0m\u001b[0m\n",
      "\u001b[0;32m/media/hayagriva/anaconda3/envs/pGendUniv/lib/python3.7/site-packages/pandas/core/dtypes/common.py\u001b[0m in \u001b[0;36mis_categorical_dtype\u001b[0;34m(arr_or_dtype)\u001b[0m\n\u001b[1;32m    706\u001b[0m     \u001b[0;32mif\u001b[0m \u001b[0marr_or_dtype\u001b[0m \u001b[0;32mis\u001b[0m \u001b[0;32mNone\u001b[0m\u001b[0;34m:\u001b[0m\u001b[0;34m\u001b[0m\u001b[0;34m\u001b[0m\u001b[0m\n\u001b[1;32m    707\u001b[0m         \u001b[0;32mreturn\u001b[0m \u001b[0;32mFalse\u001b[0m\u001b[0;34m\u001b[0m\u001b[0;34m\u001b[0m\u001b[0m\n\u001b[0;32m--> 708\u001b[0;31m     \u001b[0;32mreturn\u001b[0m \u001b[0mCategoricalDtype\u001b[0m\u001b[0;34m.\u001b[0m\u001b[0mis_dtype\u001b[0m\u001b[0;34m(\u001b[0m\u001b[0marr_or_dtype\u001b[0m\u001b[0;34m)\u001b[0m\u001b[0;34m\u001b[0m\u001b[0;34m\u001b[0m\u001b[0m\n\u001b[0m\u001b[1;32m    709\u001b[0m \u001b[0;34m\u001b[0m\u001b[0m\n\u001b[1;32m    710\u001b[0m \u001b[0;34m\u001b[0m\u001b[0m\n",
      "\u001b[0;32m/media/hayagriva/anaconda3/envs/pGendUniv/lib/python3.7/site-packages/pandas/core/dtypes/base.py\u001b[0m in \u001b[0;36mis_dtype\u001b[0;34m(cls, dtype)\u001b[0m\n\u001b[1;32m    254\u001b[0m         \u001b[0mdtype\u001b[0m \u001b[0;34m=\u001b[0m \u001b[0mgetattr\u001b[0m\u001b[0;34m(\u001b[0m\u001b[0mdtype\u001b[0m\u001b[0;34m,\u001b[0m \u001b[0;34m\"dtype\"\u001b[0m\u001b[0;34m,\u001b[0m \u001b[0mdtype\u001b[0m\u001b[0;34m)\u001b[0m\u001b[0;34m\u001b[0m\u001b[0;34m\u001b[0m\u001b[0m\n\u001b[1;32m    255\u001b[0m \u001b[0;34m\u001b[0m\u001b[0m\n\u001b[0;32m--> 256\u001b[0;31m         \u001b[0;32mif\u001b[0m \u001b[0misinstance\u001b[0m\u001b[0;34m(\u001b[0m\u001b[0mdtype\u001b[0m\u001b[0;34m,\u001b[0m \u001b[0;34m(\u001b[0m\u001b[0mABCSeries\u001b[0m\u001b[0;34m,\u001b[0m \u001b[0mABCIndexClass\u001b[0m\u001b[0;34m,\u001b[0m \u001b[0mABCDataFrame\u001b[0m\u001b[0;34m,\u001b[0m \u001b[0mnp\u001b[0m\u001b[0;34m.\u001b[0m\u001b[0mdtype\u001b[0m\u001b[0;34m)\u001b[0m\u001b[0;34m)\u001b[0m\u001b[0;34m:\u001b[0m\u001b[0;34m\u001b[0m\u001b[0;34m\u001b[0m\u001b[0m\n\u001b[0m\u001b[1;32m    257\u001b[0m             \u001b[0;31m# https://github.com/pandas-dev/pandas/issues/22960\u001b[0m\u001b[0;34m\u001b[0m\u001b[0;34m\u001b[0m\u001b[0;34m\u001b[0m\u001b[0m\n\u001b[1;32m    258\u001b[0m             \u001b[0;31m# avoid passing data to `construct_from_string`. This could\u001b[0m\u001b[0;34m\u001b[0m\u001b[0;34m\u001b[0m\u001b[0;34m\u001b[0m\u001b[0m\n",
      "\u001b[0;32m/media/hayagriva/anaconda3/envs/pGendUniv/lib/python3.7/site-packages/pandas/core/dtypes/generic.py\u001b[0m in \u001b[0;36m_check\u001b[0;34m(cls, inst)\u001b[0m\n\u001b[1;32m      7\u001b[0m     \u001b[0;34m@\u001b[0m\u001b[0mclassmethod\u001b[0m\u001b[0;34m\u001b[0m\u001b[0;34m\u001b[0m\u001b[0m\n\u001b[1;32m      8\u001b[0m     \u001b[0;32mdef\u001b[0m \u001b[0m_check\u001b[0m\u001b[0;34m(\u001b[0m\u001b[0mcls\u001b[0m\u001b[0;34m,\u001b[0m \u001b[0minst\u001b[0m\u001b[0;34m)\u001b[0m\u001b[0;34m:\u001b[0m\u001b[0;34m\u001b[0m\u001b[0;34m\u001b[0m\u001b[0m\n\u001b[0;32m----> 9\u001b[0;31m         \u001b[0;32mreturn\u001b[0m \u001b[0mgetattr\u001b[0m\u001b[0;34m(\u001b[0m\u001b[0minst\u001b[0m\u001b[0;34m,\u001b[0m \u001b[0mattr\u001b[0m\u001b[0;34m,\u001b[0m \u001b[0;34m\"_typ\"\u001b[0m\u001b[0;34m)\u001b[0m \u001b[0;32min\u001b[0m \u001b[0mcomp\u001b[0m\u001b[0;34m\u001b[0m\u001b[0;34m\u001b[0m\u001b[0m\n\u001b[0m\u001b[1;32m     10\u001b[0m \u001b[0;34m\u001b[0m\u001b[0m\n\u001b[1;32m     11\u001b[0m     \u001b[0mdct\u001b[0m \u001b[0;34m=\u001b[0m \u001b[0mdict\u001b[0m\u001b[0;34m(\u001b[0m\u001b[0m__instancecheck__\u001b[0m\u001b[0;34m=\u001b[0m\u001b[0m_check\u001b[0m\u001b[0;34m,\u001b[0m \u001b[0m__subclasscheck__\u001b[0m\u001b[0;34m=\u001b[0m\u001b[0m_check\u001b[0m\u001b[0;34m)\u001b[0m\u001b[0;34m\u001b[0m\u001b[0;34m\u001b[0m\u001b[0m\n",
      "\u001b[0;31mKeyboardInterrupt\u001b[0m: "
     ]
    }
   ],
   "source": [
    "\n",
    "def set_mgmt_data(numbers_dict,\n",
    "                  hiring_dict,\n",
    "                  attrition_dict,\n",
    "                  promotion_dict,\n",
    "                  model_settings_dict):\n",
    "    data_mgmt = { 'number_of_females_1': numbers_dict['f1'].value,\n",
    "                  'number_of_females_2': numbers_dict['f2'].value,\n",
    "                  'number_of_females_3': numbers_dict['f3'].value,\n",
    "                  'number_of_males_1': numbers_dict['m1'].value,\n",
    "                  'number_of_males_2': numbers_dict['m2'].value,\n",
    "                  'number_of_males_3': numbers_dict['m3'].value,\n",
    "                  'hiring_rate_women_1':hiring_dict['f1'].value,\n",
    "                  'hiring_rate_women_2':hiring_dict['f2'].value,\n",
    "                  'hiring_rate_women_3':hiring_dict['f3'].value,\n",
    "                  'hiring_rate_men_1': hiring_dict['m1'].value,\n",
    "                  'hiring_rate_men_2': hiring_dict['m2'].value,\n",
    "                  'hiring_rate_men3': hiring_dict['m3'].value,\n",
    "                  'attrition_rate_women_1':attrition_dict['f1'].value,\n",
    "                  'attrition_rate_women_2':attrition_dict['f2'].value,\n",
    "                  'attrition_rate_women_3':attrition_dict['f3'].value,\n",
    "                  'attrition_rate_men_1':attrition_dict['m1'].value,\n",
    "                  'attrition_rate_men_2':attrition_dict['m2'].value,\n",
    "                  'attrition_rate_men_3':attrition_dict['m3'].value,\n",
    "                  'female_promotion_probability_1': promotion_dict['f1'].value,\n",
    "                  'female_promotion_probability_2': promotion_dict['f2'].value,\n",
    "                  'male_promotion_probability_1' : promotion_dict['m1'].value,\n",
    "                  'male_promotion_probability_2' : promotion_dict['m2'].value,\n",
    "                  'duration':model_settings_dict['duration'].value,\n",
    "                  'upperbound': model_settings_dict['upperbound'].value,\n",
    "                  'lowerbound': model_settings_dict['lowerbound'].value,\n",
    "                  'annotation_text': annotation_text.value, \n",
    "                  't_fpct': model_settings_dict['target_percentage_women'].value,\n",
    "                  'variation_range': model_settings_dict['variation_range'].value,\n",
    "                  'scenario1_linear_growth': [sc1_growth_rate_dict['widget_linear_growth_rate'].value],\n",
    "                  'scenario2_linear_growth': [sc2_growth_rate_dict['widget_linear_growth_rate'].value],\n",
    "                  'scenario3_linear_growth': [sc3_growth_rate_dict['widget_linear_growth_rate'].value],\n",
    "                  'scenario1_threeyr_growth': [sc1_growth_rate_dict['widget_increment3_' + str(i)].value for i in range(sc1_growth_rate_dict['increment3'])],\n",
    "                  'scenario2_threeyr_growth': [sc2_growth_rate_dict['widget_increment3_' + str(i)].value for i in range(sc2_growth_rate_dict['increment3'])], \n",
    "                  'scenario3_threeyr_growth': [sc3_growth_rate_dict['widget_increment3_' + str(i)].value for i in range(sc3_growth_rate_dict['increment3'])],\n",
    "                  'scenario1_fouryr_growth': [sc1_growth_rate_dict['widget_increment4_' + str(i)].value for i in range(sc1_growth_rate_dict['increment4'])],\n",
    "                  'scenario2_fouryr_growth': [sc2_growth_rate_dict['widget_increment4_' + str(i)].value for i in range(sc2_growth_rate_dict['increment4'])],\n",
    "                  'scenario3_fouryr_growth': [sc3_growth_rate_dict['widget_increment4_' + str(i)].value for i in range(sc3_growth_rate_dict['increment4'])]\n",
    "}\n",
    "    \n",
    "    return data_mgmt\n",
    "\n",
    "data_mgmt_sc1 = set_mgmt_data(sc1_numbers_dict,\n",
    "                             sc1_hiring_dict,\n",
    "                             sc1_attrition_dict,\n",
    "                             sc1_promotion_dict,\n",
    "                             model_settings_dict)\n",
    "data_mgmt_sc2 = set_mgmt_data(sc2_numbers_dict,\n",
    "                             sc2_hiring_dict,\n",
    "                             sc2_attrition_dict,\n",
    "                             sc2_promotion_dict,\n",
    "                             model_settings_dict)\n",
    "data_mgmt_sc3 = set_mgmt_data(sc3_numbers_dict,\n",
    "                             sc3_hiring_dict,\n",
    "                             sc3_attrition_dict,\n",
    "                             sc3_promotion_dict,\n",
    "                             model_settings_dict)\n",
    "\n",
    "data_mgmt_sc1['growth_rate'] = [sc1_growth_rate_dict['widget_linear_growth_rate'].value]\n",
    "data_mgmt_sc2['growth_rate'] = [sc2_growth_rate_dict['widget_linear_growth_rate'].value]\n",
    "data_mgmt_sc3['growth_rate'] = [sc3_growth_rate_dict['widget_linear_growth_rate'].value]\n",
    "\n",
    "model_sc1 = pyugend2.ModelGenderDiversityGrowthAsDrift(data_mgmt_sc1)\n",
    "model_sc2 = pyugend2.ModelGenderDiversityGrowthAsDrift(data_mgmt_sc2)\n",
    "model_sc3 = pyugend2.ModelGenderDiversityGrowthAsDrift(data_mgmt_sc3)\n",
    "\n",
    "model_sc1.model_common_name = 'Scenario 1 Model'\n",
    "model_sc2.model_common_name = 'Scenario 2 Model'\n",
    "model_sc3.model_common_name = 'Scenario 3 Model'\n",
    "\n",
    "visualization_dict = {}\n",
    "viz_keys = ['sc1_', 'sc2_', 'sc3_']\n",
    "i=0\n",
    "for d in [data_mgmt_sc1, data_mgmt_sc2, data_mgmt_sc3]:\n",
    "    for k, v in d.items():\n",
    "        visualization_dict[viz_keys[i] + k] = v\n",
    "    i +=1\n",
    "\n",
    "model_list = [model_sc1, model_sc2, model_sc3]\n",
    "results = pyugend2.Comparison(model_list)\n",
    "\n",
    "results.run_all_models(100)"
   ]
  },
  {
   "cell_type": "markdown",
   "metadata": {
    "hide_input": true
   },
   "source": [
    "# Simulation Results\n"
   ]
  },
  {
   "cell_type": "markdown",
   "metadata": {
    "hide_input": false
   },
   "source": [
    "## Comparison of Model 3 Growth Models: Change in Proportion of Women"
   ]
  },
  {
   "cell_type": "code",
   "execution_count": null,
   "metadata": {
    "hide_input": true,
    "tags": [
     "plotcell"
    ]
   },
   "outputs": [],
   "source": [
    "data = []\n",
    "linecolors = ['rgb(0,0,255)', 'rgb(0,128,0)', 'rgb(128,0,128)', 'rgb(139,69,19)']\n",
    "fillcolors = ['rgba(0,0,255,0.25)', 'rgba(0,128,0,0.25)', 'rgba(128,0,128,0.25)', 'rgba(160,82,45,0.25)']\n",
    "legend_labels = ['scenario 1', 'scenario 2', 'scenario 3']\n",
    "\n",
    "for k,v in enumerate(results.mlist):\n",
    "    data.append(go.Scatter(\n",
    "        x=np.append(v.summary_matrix['yr'], v.summary_matrix['yr'].values[::-1]),\n",
    "        y=np.append(v.summary_matrix['fpct_975'], v.summary_matrix['fpct_025'].values[::-1]),\n",
    "        fill='tozerox',\n",
    "        fillcolor=fillcolors[k],\n",
    "        line=dict(color=linecolors[k],\n",
    "                 width=1),\n",
    "        legendgroup=legend_labels[k],\n",
    "        showlegend=False,\n",
    "        mode='lines',\n",
    "        name=legend_labels[k],\n",
    "    ))\n",
    "\n",
    "    data.append(go.Scatter(\n",
    "        x=v.summary_matrix['yr'],\n",
    "        y=v.summary_matrix['fpct_avg'],\n",
    "        line=dict(color=linecolors[k],\n",
    "                 width=2),\n",
    "        legendgroup=legend_labels[k],\n",
    "        showlegend=True,\n",
    "        marker=dict(\n",
    "            size=4),\n",
    "        mode='lines+markers',\n",
    "        name=legend_labels[k],\n",
    "    ))\n",
    "\n",
    "\n",
    "data.append(go.Scatter(\n",
    "    x=v.summary_matrix['yr'], \n",
    "    y=v.summary_matrix['act_fpct'],\n",
    "    line=dict(color='blue',\n",
    "             dash='dashdot'),\n",
    "    name='Management Data',\n",
    "    mode='lines+markers',\n",
    "    marker=dict(\n",
    "        size=4),\n",
    "\n",
    "))\n",
    "\n",
    "data.append(go.Scatter(\n",
    "    x=v.summary_matrix['yr'], \n",
    "    y=np.repeat(v.target_female_percentage, len(v.summary_matrix['yr'])),\n",
    "    line=dict(color='red',\n",
    "             dash='dash',\n",
    "             width=1),\n",
    "    name='Target Percentage',\n",
    "    mode='lines',\n",
    "))\n",
    "    \n",
    "layout = go.Layout(\n",
    "    title='Scenario Comparison: Change in Proportion of Women',\n",
    "    height=800,\n",
    "    width=900,\n",
    "    paper_bgcolor='rgb(255,255,255)',\n",
    "    plot_bgcolor='rgb(255,255,255)',\n",
    "    xaxis=dict(\n",
    "        visible=True,\n",
    "        title='Year',\n",
    "        gridcolor='rgb(229,229,229)',\n",
    "        showgrid=True,\n",
    "        showline=True,\n",
    "        showticklabels=True,\n",
    "        tickcolor='rgb(127,127,127)',\n",
    "        ticks='outside',\n",
    "        zeroline=False\n",
    "    ),\n",
    "    yaxis=dict(\n",
    "        title='Percentage Women Faculty',\n",
    "        gridcolor='rgb(229,229,229)',\n",
    "        showgrid=True,\n",
    "        showline=True,\n",
    "        showticklabels=True,\n",
    "        tickcolor='rgb(127,127,127)',\n",
    "        ticks='outside',\n",
    "        zeroline=False\n",
    "    ),\n",
    ")\n",
    "fig = go.Figure(data=data, layout=layout)\n",
    "plotly.offline.iplot(fig, filename= 'shaded_lines')\n",
    "\n",
    "# export image for ingestion to pdf file.\n",
    "# if not os.path.exists('images'):\n",
    "#     os.mkdir('images')\n",
    "# pio.write_image(fig, 'images/change_in_percentage_faculty_women.png')"
   ]
  },
  {
   "cell_type": "code",
   "execution_count": null,
   "metadata": {
    "hide_input": true,
    "tags": [
     "plotcell"
    ]
   },
   "outputs": [],
   "source": [
    "linecolors = ['blue', 'green', 'purple', 'brown']\n",
    "legend_labels = ['scenario 1', 'scenario 2', 'scenario 3']\n",
    "\n",
    "plt.figure(figsize=(12,12))\n",
    "\n",
    "for k,v in enumerate(results.mlist):\n",
    "    plt.plot(\n",
    "             v.summary_matrix['yr'], \n",
    "             v.summary_matrix['fpct_avg'],\n",
    "             linewidth=2,\n",
    "             color=linecolors[k],\n",
    "             label=legend_labels[k],\n",
    "             marker=\"o\",\n",
    "            )\n",
    "    plt.fill_between(\n",
    "             v.summary_matrix['yr'],\n",
    "             v.summary_matrix['fpct_975'],\n",
    "             v.summary_matrix['fpct_025'],\n",
    "             alpha=0.25,\n",
    "             facecolor=linecolors[k]\n",
    "            )\n",
    "\n",
    "plt.plot(\n",
    "        v.summary_matrix['yr'],\n",
    "        v.summary_matrix['act_fpct'],\n",
    "        color='blue',\n",
    "        linewidth=2,\n",
    "        linestyle='-.',\n",
    "        label='Management Data')\n",
    "\n",
    "plt.hlines(\n",
    "        v.target_female_percentage,\n",
    "        0,\n",
    "        v.summary_matrix['yr'].max(),\n",
    "        colors='red',\n",
    "        linestyle='--',\n",
    "        label='Target Percentage'\n",
    "        )\n",
    "    \n",
    "plt.title('Scenario Comparison: Change in Proportion of Women', fontsize=20)\n",
    "plt.xlabel('Year', fontsize=16)\n",
    "plt.ylabel('Percentage Female Faculty', fontsize=16)\n",
    "plt.legend(loc='upper right', fontsize=16)\n",
    "if not os.path.exists('images'):\n",
    "    os.mkdir('images')\n",
    "plt.savefig('images/scenarios_change_in_percentage_faculty_women.png')\n",
    "plt.close()"
   ]
  },
  {
   "cell_type": "markdown",
   "metadata": {
    "hide_input": true
   },
   "source": [
    "## Comparison of Model 3 Growth Models: Probability of Achieving 25% Women"
   ]
  },
  {
   "cell_type": "code",
   "execution_count": null,
   "metadata": {
    "hide_input": true,
    "scrolled": false,
    "tags": [
     "plotcell"
    ]
   },
   "outputs": [],
   "source": [
    "data = []\n",
    "linecolors = ['rgb(0,0,255)', 'rgb(0,128,0)', 'rgb(128,0,128)', 'rgb(139,69,19)']\n",
    "fillcolors = ['rgba(0,0,255,0.25)', 'rgba(0,128,0,0.25)', 'rgba(128,0,128,0.25)', 'rgba(160,82,45,0.25)']\n",
    "legend_labels = ['scenario 1', 'scenario 2', 'scenario 3']\n",
    "\n",
    "\n",
    "for k,v in enumerate(results.mlist):\n",
    "\n",
    "    data.append(go.Scatter(\n",
    "        x=v.summary_matrix['yr'],\n",
    "        y=v.summary_matrix['p_fpct'],\n",
    "        line=dict(color=linecolors[k],\n",
    "                 width=2),\n",
    "        legendgroup=legend_labels[k],\n",
    "        showlegend=True,\n",
    "        marker=dict(\n",
    "            size=4),\n",
    "        mode='lines+markers',\n",
    "        name=legend_labels[k],\n",
    "    ))\n",
    "\n",
    "\n",
    "data.append(go.Scatter(\n",
    "    x=v.summary_matrix['yr'], \n",
    "    y=np.repeat(0.5, len(v.summary_matrix['yr'])),\n",
    "    line=dict(color='red',\n",
    "             dash='dash'),\n",
    "    name='Target Probability',\n",
    "    mode='lines',\n",
    "))\n",
    "    \n",
    "layout = go.Layout(\n",
    "    title='Scenario Comparison: Probability of Achieving 25% Women',\n",
    "    height=800,\n",
    "    width=900,\n",
    "    paper_bgcolor='rgb(255,255,255)',\n",
    "    plot_bgcolor='rgb(255,255,255)',\n",
    "    xaxis=dict(\n",
    "        visible=True,\n",
    "        title='Year',\n",
    "        gridcolor='rgb(229,229,229)',\n",
    "        showgrid=True,\n",
    "        showline=True,\n",
    "        showticklabels=True,\n",
    "        tickcolor='rgb(127,127,127)',\n",
    "        ticks='outside',\n",
    "        zeroline=False\n",
    "    ),\n",
    "    yaxis=dict(\n",
    "        title='Probability of Achieving Target',\n",
    "        gridcolor='rgb(229,229,229)',\n",
    "        showgrid=True,\n",
    "        showline=True,\n",
    "        showticklabels=True,\n",
    "        tickcolor='rgb(127,127,127)',\n",
    "        ticks='outside',\n",
    "        zeroline=False\n",
    "    ),\n",
    ")\n",
    "fig = go.Figure(data=data, layout=layout)\n",
    "plotly.offline.iplot(fig, filename= 'shaded_lines')\n",
    "\n",
    "# export image for ingestion to pdf file.\n",
    "# if not os.path.exists('images'):\n",
    "#     os.mkdir('images')\n",
    "# pio.write_image(fig, 'images/probability_of_reaching_gender_target.png')"
   ]
  },
  {
   "cell_type": "code",
   "execution_count": null,
   "metadata": {
    "hide_input": true,
    "tags": [
     "plotcell"
    ]
   },
   "outputs": [],
   "source": [
    "linecolors = ['blue', 'green', 'purple', 'brown']\n",
    "legend_labels = ['scenario 1', 'scenario 2', 'scenario 3']\n",
    "\n",
    "plt.figure(figsize=(12,12))\n",
    "\n",
    "for k,v in enumerate(results.mlist):\n",
    "    plt.plot(\n",
    "             v.summary_matrix['yr'], \n",
    "             v.summary_matrix['p_fpct'],\n",
    "             linewidth=2,\n",
    "             color=linecolors[k],\n",
    "             label=legend_labels[k],\n",
    "             marker=\"o\",\n",
    "            )\n",
    "\n",
    "plt.hlines(\n",
    "        0.5,\n",
    "        0,\n",
    "        v.summary_matrix['yr'].max(),\n",
    "        colors='red',\n",
    "        linestyle='--',\n",
    "        label='Target Probability'\n",
    "        )\n",
    "    \n",
    "plt.title('Scenario Comparison: Probability of Achieving 25% Women', fontsize=20)\n",
    "plt.xlabel('Year', fontsize=16)\n",
    "plt.ylabel('Probability of Achieving Target', fontsize=16)\n",
    "plt.legend(loc='upper right', fontsize=14)\n",
    "if not os.path.exists('images'):\n",
    "    os.mkdir('images')\n",
    "plt.savefig('images/scenarios_probability_of_reaching_gender_target.png')\n",
    "plt.close()"
   ]
  },
  {
   "cell_type": "markdown",
   "metadata": {
    "hide_input": true
   },
   "source": [
    "## Comparison of Model 3 Growth Models: Change in Number Women, Model 3"
   ]
  },
  {
   "cell_type": "code",
   "execution_count": null,
   "metadata": {
    "hide_input": true,
    "scrolled": false,
    "tags": [
     "plotcell"
    ]
   },
   "outputs": [],
   "source": [
    "data = []\n",
    "linecolors = ['rgb(0,0,255)', 'rgb(0,128,0)', 'rgb(128,0,128)', 'rgb(139,69,19)']\n",
    "fillcolors = ['rgba(0,0,255,0.25)', 'rgba(0,128,0,0.25)', 'rgba(128,0,128,0.25)', 'rgba(160,82,45,0.25)']\n",
    "legend_labels = ['scenario 1', 'scenario 2', 'scenario 3']\n",
    "\n",
    "\n",
    "for k,v in enumerate(results.mlist):\n",
    "    data.append(go.Scatter(\n",
    "        x=np.append(v.summary_matrix['yr'], v.summary_matrix['yr'].values[::-1]),\n",
    "        y=np.append(v.summary_matrix['f_975'], v.summary_matrix['f_025'].values[::-1]),\n",
    "        fill='tozerox',\n",
    "        fillcolor=fillcolors[k],\n",
    "        line=dict(color=linecolors[k],\n",
    "                 width=1),\n",
    "        legendgroup=legend_labels[k],\n",
    "        showlegend=False,\n",
    "        mode='lines',\n",
    "        name=legend_labels[k],\n",
    "    ))\n",
    "\n",
    "    data.append(go.Scatter(\n",
    "        x=v.summary_matrix['yr'],\n",
    "        y=v.summary_matrix['f_avg'],\n",
    "        line=dict(color=linecolors[k],\n",
    "                 width=2),\n",
    "        legendgroup=legend_labels[k],\n",
    "        showlegend=True,\n",
    "        marker=dict(\n",
    "            size=4),\n",
    "        mode='lines+markers',\n",
    "        name=legend_labels[k],\n",
    "    ))\n",
    "\n",
    "\n",
    "data.append(go.Scatter(\n",
    "    x=v.summary_matrix['yr'], \n",
    "    y=v.summary_matrix['act_f'],\n",
    "    line=dict(color='blue',\n",
    "             dash='dashdot'),\n",
    "    name='Management Data',\n",
    "    mode='lines+markers',\n",
    "    marker=dict(\n",
    "        size=4),\n",
    "\n",
    "))\n",
    "    \n",
    "layout = go.Layout(\n",
    "    title='Scenario Comparison: Change in Number Women, Model 3',\n",
    "    height=800,\n",
    "    width=900,\n",
    "    paper_bgcolor='rgb(255,255,255)',\n",
    "    plot_bgcolor='rgb(255,255,255)',\n",
    "    xaxis=dict(\n",
    "        visible=True,\n",
    "        title='Year',\n",
    "        gridcolor='rgb(229,229,229)',\n",
    "        showgrid=True,\n",
    "        showline=True,\n",
    "        showticklabels=True,\n",
    "        tickcolor='rgb(127,127,127)',\n",
    "        ticks='outside',\n",
    "        zeroline=False\n",
    "    ),\n",
    "    yaxis=dict(\n",
    "        title='Number of Women Faculty',\n",
    "        gridcolor='rgb(229,229,229)',\n",
    "        showgrid=True,\n",
    "        showline=True,\n",
    "        showticklabels=True,\n",
    "        tickcolor='rgb(127,127,127)',\n",
    "        ticks='outside',\n",
    "        zeroline=False\n",
    "    ),\n",
    ")\n",
    "fig = go.Figure(data=data, layout=layout)\n",
    "plotly.offline.iplot(fig, filename= 'shaded_lines')\n",
    "\n",
    "# export image for ingestion to pdf file.\n",
    "# if not os.path.exists('images'):\n",
    "#     os.mkdir('images')\n",
    "# pio.write_image(fig, 'images/change_in_number_women.png')"
   ]
  },
  {
   "cell_type": "code",
   "execution_count": null,
   "metadata": {
    "hide_input": true,
    "tags": [
     "plotcell"
    ]
   },
   "outputs": [],
   "source": [
    "linecolors = ['blue', 'green', 'purple', 'brown']\n",
    "legend_labels = ['scenario 1', 'scenario 2', 'scenario 3']\n",
    "\n",
    "plt.figure(figsize=(12,12))\n",
    "\n",
    "for k,v in enumerate(results.mlist):\n",
    "    plt.plot(\n",
    "             v.summary_matrix['yr'], \n",
    "             v.summary_matrix['f_avg'],\n",
    "             linewidth=2,\n",
    "             color=linecolors[k],\n",
    "             label=legend_labels[k],\n",
    "             marker=\"o\",\n",
    "            )\n",
    "    plt.fill_between(\n",
    "             v.summary_matrix['yr'],\n",
    "             v.summary_matrix['f_975'],\n",
    "             v.summary_matrix['f_025'],\n",
    "             alpha=0.25,\n",
    "             facecolor=linecolors[k]\n",
    "            )\n",
    "\n",
    "plt.plot(\n",
    "        v.summary_matrix['yr'],\n",
    "        v.summary_matrix['act_f'],\n",
    "        color='blue',\n",
    "        linewidth=2,\n",
    "        linestyle='-.',\n",
    "        label='Management Data')\n",
    "    \n",
    "plt.title('Scenario Comparison: Change in Number Women, Model 3', fontsize=20)\n",
    "plt.xlabel('Year', fontsize=16)\n",
    "plt.ylabel('Number of Women Faculty', fontsize=16)\n",
    "plt.legend(loc='upper right', fontsize=16)\n",
    "if not os.path.exists('images'):\n",
    "    os.mkdir('images')\n",
    "plt.savefig('images/scenarios_change_in_number_women.png')\n",
    "plt.close()"
   ]
  },
  {
   "cell_type": "markdown",
   "metadata": {},
   "source": [
    "## Comparison of Model 3 Growth Models: Department Size"
   ]
  },
  {
   "cell_type": "code",
   "execution_count": null,
   "metadata": {
    "hide_input": true,
    "scrolled": false,
    "tags": [
     "plotcell"
    ]
   },
   "outputs": [],
   "source": [
    "data = []\n",
    "linecolors = ['rgb(0,0,255)', 'rgb(0,128,0)', 'rgb(128,0,128)', 'rgb(139,69,19)']\n",
    "fillcolors = ['rgba(0,0,255,0.25)', 'rgba(0,128,0,0.25)', 'rgba(128,0,128,0.25)', 'rgba(160,82,45,0.25)']\n",
    "legend_labels = ['scenario 1', 'scenario 2', 'scenario 3']\n",
    "\n",
    "for k,v in enumerate(results.mlist):\n",
    "    data.append(go.Scatter(\n",
    "        x=np.append(v.summary_matrix['yr'], v.summary_matrix['yr'].values[::-1]),\n",
    "        y=np.append(v.summary_matrix['deptn_975'], v.summary_matrix['deptn_025'].values[::-1]),\n",
    "        fill='tozerox',\n",
    "        fillcolor=fillcolors[k],\n",
    "        line=dict(color=linecolors[k],\n",
    "                 width=1),\n",
    "        legendgroup=legend_labels[k],\n",
    "        showlegend=False,\n",
    "        mode='lines',\n",
    "        name=legend_labels[k],\n",
    "    ))\n",
    "\n",
    "    data.append(go.Scatter(\n",
    "        x=v.summary_matrix['yr'],\n",
    "        y=v.summary_matrix['deptn_avg'],\n",
    "        line=dict(color=linecolors[k],\n",
    "                 width=2),\n",
    "        legendgroup=legend_labels[k],\n",
    "        showlegend=True,\n",
    "        marker=dict(\n",
    "            size=4),\n",
    "        mode='lines+markers',\n",
    "        name=legend_labels[k],\n",
    "    ))\n",
    "\n",
    "\n",
    "data.append(go.Scatter(\n",
    "    x=v.summary_matrix['yr'], \n",
    "    y=v.summary_matrix['act_deptn'],\n",
    "    line=dict(color='blue',\n",
    "             dash='dashdot'),\n",
    "    name='Management Data',\n",
    "    mode='lines+markers',\n",
    "    marker=dict(\n",
    "        size=4),\n",
    "\n",
    "))\n",
    "    \n",
    "layout = go.Layout(\n",
    "    title='Scenario Comparison: Department Size',\n",
    "    height=800,\n",
    "    width=900,\n",
    "    paper_bgcolor='rgb(255,255,255)',\n",
    "    plot_bgcolor='rgb(255,255,255)',\n",
    "    xaxis=dict(\n",
    "        visible=True,\n",
    "        title='Year',\n",
    "        gridcolor='rgb(229,229,229)',\n",
    "        showgrid=True,\n",
    "        showline=True,\n",
    "        showticklabels=True,\n",
    "        tickcolor='rgb(127,127,127)',\n",
    "        ticks='outside',\n",
    "        zeroline=False\n",
    "    ),\n",
    "    yaxis=dict(\n",
    "        title='Number of Faculty in the Department',\n",
    "        gridcolor='rgb(229,229,229)',\n",
    "        showgrid=True,\n",
    "        showline=True,\n",
    "        showticklabels=True,\n",
    "        tickcolor='rgb(127,127,127)',\n",
    "        ticks='outside',\n",
    "        zeroline=False\n",
    "    ),\n",
    ")\n",
    "fig = go.Figure(data=data, layout=layout)\n",
    "plotly.offline.iplot(fig, filename= 'shaded_lines')\n",
    "\n",
    "# export image for ingestion to pdf file.\n",
    "# if not os.path.exists('images'):\n",
    "#     os.mkdir('images')\n",
    "# pio.write_image(fig, 'images/dept_size_plot.png')"
   ]
  },
  {
   "cell_type": "code",
   "execution_count": null,
   "metadata": {
    "hide_input": true,
    "tags": [
     "plotcell"
    ]
   },
   "outputs": [],
   "source": [
    "linecolors = ['blue', 'green', 'purple', 'brown']\n",
    "legend_labels = ['scenario 1', 'scenario 2', 'scenario 3']\n",
    "\n",
    "plt.figure(figsize=(12,12))\n",
    "\n",
    "for k,v in enumerate(results.mlist):\n",
    "    plt.plot(\n",
    "             v.summary_matrix['yr'], \n",
    "             v.summary_matrix['deptn_avg'],\n",
    "             linewidth=2,\n",
    "             color=linecolors[k],\n",
    "             label=legend_labels[k],\n",
    "             marker=\"o\",\n",
    "            )\n",
    "    plt.fill_between(\n",
    "             v.summary_matrix['yr'],\n",
    "             v.summary_matrix['deptn_975'],\n",
    "             v.summary_matrix['deptn_025'],\n",
    "             alpha=0.25,\n",
    "             facecolor=linecolors[k]\n",
    "            )\n",
    "\n",
    "plt.plot(\n",
    "        v.summary_matrix['yr'],\n",
    "        v.summary_matrix['act_deptn'],\n",
    "        color='blue',\n",
    "        linewidth=2,\n",
    "        linestyle='-.',\n",
    "        label='Management Data')\n",
    "    \n",
    "plt.title('Scenario Comparison: Department Size', fontsize=20)\n",
    "plt.xlabel('Year', fontsize=16)\n",
    "plt.ylabel('Number of Faculty in the Department', fontsize=16)\n",
    "plt.legend(loc='upper right', fontsize=16)\n",
    "if not os.path.exists('images'):\n",
    "    os.mkdir('images')\n",
    "plt.savefig('images/scenarios_dept_size_plot.png')\n",
    "plt.close()"
   ]
  },
  {
   "cell_type": "markdown",
   "metadata": {
    "hide_input": true
   },
   "source": [
    "# Data Export\n",
    "\n",
    "This section of the notebook allows the user to export data do CSV format. "
   ]
  },
  {
   "cell_type": "code",
   "execution_count": 21,
   "metadata": {
    "hide_input": false,
    "tags": [
     "widget_display"
    ]
   },
   "outputs": [
    {
     "data": {
      "application/vnd.jupyter.widget-view+json": {
       "model_id": "885c6890b9e34f149f4b4309232ab034",
       "version_major": 2,
       "version_minor": 0
      },
      "text/plain": [
       "HBox(children=(Button(description='Export Scenario 1', icon='check', style=ButtonStyle(), tooltip='Export to C…"
      ]
     },
     "metadata": {},
     "output_type": "display_data"
    }
   ],
   "source": [
    "display(button_panel)"
   ]
  },
  {
   "cell_type": "markdown",
   "metadata": {},
   "source": [
    "## PDF Export\n",
    "The button below will export the notebook data as a PDF file."
   ]
  },
  {
   "cell_type": "code",
   "execution_count": 22,
   "metadata": {
    "hide_input": true,
    "tags": [
     "widget_display"
    ]
   },
   "outputs": [
    {
     "data": {
      "application/vnd.jupyter.widget-view+json": {
       "model_id": "9668d1eb97d440c7993783b255016582",
       "version_major": 2,
       "version_minor": 0
      },
      "text/plain": [
       "Button(description='Generate PDF', style=ButtonStyle())"
      ]
     },
     "metadata": {},
     "output_type": "display_data"
    }
   ],
   "source": [
    "from IPython.display import display\n",
    "button = widgets.Button(description=\"Generate PDF\")\n",
    "display(button)\n",
    "\n",
    "def on_button_clicked(b):\n",
    "    \n",
    "    # TODO pull the dictionary with model settings and use it to populate Jinja 2 template\n",
    "    data_for_pdf = visualization_dict\n",
    "    data_for_pdf['date_time'] = model_sc1.model_run_date_time\n",
    "    report_filename = 'pdf_exports/scenario_simulation_report'+ model_sc1.model_run_date_time + '.pdf'\n",
    "    file_loader = FileSystemLoader('./styles')\n",
    "    env = Environment(loader=file_loader)\n",
    "    template = env.get_template('scenario_simulation_report.md')\n",
    "    output = template.render(data_for_pdf)\n",
    "    with open(\"styles/temp_simulation_report.md\", \"w\") as fh:\n",
    "        fh.write(output)\n",
    "        \n",
    "    subprocess.run(['md2pdf', 'styles/temp_simulation_report.md', report_filename])\n",
    "    os.remove('styles/temp_simulation_report.md')\n",
    "    print(\"PDF Generated\")\n",
    "button.on_click(on_button_clicked)\n"
   ]
  },
  {
   "cell_type": "markdown",
   "metadata": {},
   "source": [
    "# Notebook Settings"
   ]
  },
  {
   "cell_type": "code",
   "execution_count": 10,
   "metadata": {
    "hide_input": true,
    "init_cell": true
   },
   "outputs": [
    {
     "data": {
      "text/html": [
       "        <script type=\"text/javascript\">\n",
       "        window.PlotlyConfig = {MathJaxConfig: 'local'};\n",
       "        if (window.MathJax) {MathJax.Hub.Config({SVG: {font: \"STIX-Web\"}});}\n",
       "        if (typeof require !== 'undefined') {\n",
       "        require.undef(\"plotly\");\n",
       "        requirejs.config({\n",
       "            paths: {\n",
       "                'plotly': ['https://cdn.plot.ly/plotly-latest.min']\n",
       "            }\n",
       "        });\n",
       "        require(['plotly'], function(Plotly) {\n",
       "            window._Plotly = Plotly;\n",
       "        });\n",
       "        }\n",
       "        </script>\n",
       "        "
      ]
     },
     "metadata": {},
     "output_type": "display_data"
    }
   ],
   "source": [
    "from ipywidgets import interact, interactive, fixed, interact_manual\n",
    "import ipywidgets as widgets\n",
    "from ipywidgets import Textarea, VBox\n",
    "from IPython.display import display, HTML, clear_output\n",
    "from IPython.core.display import Javascript\n",
    "from IPython.display import display\n",
    "import os\n",
    "import numpy as np\n",
    "import pandas as pd\n",
    "import pyugend2\n",
    "import time\n",
    "import datetime\n",
    "import builtins\n",
    "from IPython.lib import deepreload\n",
    "builtins.reload = deepreload.reload\n",
    "from IPython.display import display\n",
    "import math\n",
    "import datetime\n",
    "from IPython.display import Image\n",
    "import warnings\n",
    "warnings.filterwarnings('ignore')\n",
    "from fitter import Fitter\n",
    "%reload_ext autoreload\n",
    "import plotly\n",
    "import chart_studio.plotly as py\n",
    "import plotly.graph_objs as go\n",
    "plotly.offline.init_notebook_mode(connected=True)\n",
    "import plotly.io as pio\n",
    "import matplotlib.pyplot as plt\n",
    "import copy\n",
    "\n",
    "plotly.__version__\n",
    "\n",
    "from jinja2 import Environment, FileSystemLoader\n",
    "import subprocess"
   ]
  },
  {
   "cell_type": "markdown",
   "metadata": {
    "hide_input": true
   },
   "source": [
    "## Initialize Widgets "
   ]
  },
  {
   "cell_type": "markdown",
   "metadata": {
    "hide_input": true
   },
   "source": [
    "## Widget setup\n",
    "\n"
   ]
  },
  {
   "cell_type": "markdown",
   "metadata": {
    "hide_input": true
   },
   "source": [
    "### Model Settings Widget"
   ]
  },
  {
   "cell_type": "code",
   "execution_count": 11,
   "metadata": {
    "hide_input": false,
    "init_cell": true
   },
   "outputs": [],
   "source": [
    "%run scenario_files/widgets_settings.py\n"
   ]
  },
  {
   "cell_type": "code",
   "execution_count": 12,
   "metadata": {
    "hide_input": false,
    "init_cell": true,
    "tags": [
     "widget_input_refresh"
    ]
   },
   "outputs": [],
   "source": [
    "def create_widgets_tab():\n",
    "    tab_contents = ['P0', 'P1', 'P2', 'P3', 'P4', 'P5', 'P6', 'P7']\n",
    "    tabnames = ['numbers',\n",
    "               'attrition',\n",
    "               'hiring',\n",
    "               'promotion',\n",
    "               'model settings',\n",
    "               'growth sc 1',\n",
    "               'growth sc 2',\n",
    "               'growth sc 3']\n",
    "    children = [widgets.Text(description=name) for name in tab_contents]\n",
    "    tab = widgets.Tab()\n",
    "    tab.children = [scenario_number_widget, \n",
    "                    scenario_attrition_widget, \n",
    "                    scenario_hiring_widget, \n",
    "                    scenario_promotion_widget, \n",
    "                    model_settings_widget, \n",
    "                    sc1_growth_rate_widget,\n",
    "                    sc2_growth_rate_widget,\n",
    "                    sc3_growth_rate_widget]\n",
    "\n",
    "    for i in range(len(tabnames)):\n",
    "        tab.set_title(i, tabnames[i])\n",
    "    return tab\n",
    "\n",
    "tab = create_widgets_tab()\n",
    "\n",
    "# Handler to connect change in duration to change in tab.\n",
    "def handle_growth_widget_change(change):\n",
    "    display(Javascript(\"window.runGrowthEventHandler()\"))\n",
    "    tab = create_widgets_tab()\n",
    "\n",
    "def handle_update_average_rates_sc1(change):\n",
    "    avg = round(np.mean([sc1_attrition_dict[k].value for k in widget_sequence]), 4) \n",
    "    sc1_attrition_dict['avgl'].value = str(avg)    \n",
    "\n",
    "def handle_update_average_rates_sc2(change):\n",
    "    avg = round(np.mean([sc2_attrition_dict[k].value for k in widget_sequence]), 4) \n",
    "    sc2_attrition_dict['avgl'].value = str(avg)   \n",
    "    \n",
    "def handle_update_average_rates_sc3(change):\n",
    "    avg = round(np.mean([sc3_attrition_dict[k].value for k in widget_sequence]), 4) \n",
    "    sc3_attrition_dict['avgl'].value = str(avg)   \n",
    "    \n",
    "model_settings_dict['duration'].observe(handle_growth_widget_change, names='value')\n",
    "\n",
    "for k in widget_sequence:\n",
    "    sc1_attrition_dict[k].observe(handle_update_average_rates_sc1, names='value')\n",
    "    sc2_attrition_dict[k].observe(handle_update_average_rates_sc2, names='value')\n",
    "    sc3_attrition_dict[k].observe(handle_update_average_rates_sc3, names='value')\n",
    "\n",
    "\n",
    "# disable hiring_dict and promotion_dict from displaying in the widgets box.\n",
    "sc1_hiring_dict['avgl'].value = ''\n",
    "sc1_hiring_dict['avgll'].value = ''\n",
    "sc1_hiring_dict['davgl'].value = ''\n",
    "sc1_hiring_dict['davgll'].value = ''\n",
    "sc1_hiring_dict['avgl'].value = ''\n",
    "sc1_hiring_dict['avgll'].value = ''\n",
    "sc1_hiring_dict['davgl'].value = ''\n",
    "sc1_hiring_dict['davgll'].value = ''\n",
    "\n",
    "sc2_hiring_dict['avgl'].value = ''\n",
    "sc2_hiring_dict['avgll'].value = ''\n",
    "sc2_hiring_dict['davgl'].value = ''\n",
    "sc2_hiring_dict['davgll'].value = ''\n",
    "sc2_hiring_dict['avgl'].value = ''\n",
    "sc2_hiring_dict['avgll'].value = ''\n",
    "sc2_hiring_dict['davgl'].value = ''\n",
    "sc2_hiring_dict['davgll'].value = ''\n",
    "\n",
    "sc3_hiring_dict['avgl'].value = ''\n",
    "sc3_hiring_dict['avgll'].value = ''\n",
    "sc3_hiring_dict['davgl'].value = ''\n",
    "sc3_hiring_dict['davgll'].value = ''\n",
    "sc3_hiring_dict['avgl'].value = ''\n",
    "sc3_hiring_dict['avgll'].value = ''\n",
    "sc3_hiring_dict['davgl'].value = ''\n",
    "\n",
    "annotation_text = Textarea(layout={'height': '100%'})\n",
    "annotation_box = VBox([annotation_text], layout={'height': '300px'})"
   ]
  },
  {
   "cell_type": "markdown",
   "metadata": {
    "hide_input": true
   },
   "source": [
    "### Model Confirmation Widget"
   ]
  },
  {
   "cell_type": "code",
   "execution_count": 13,
   "metadata": {
    "hide_input": true,
    "init_cell": true
   },
   "outputs": [],
   "source": [
    "def execute_models(b):\n",
    "    display(Javascript(\"window.runSimulation()\"))\n",
    "    display(Javascript(\"window.runPlotCells()\"))\n",
    "    \n",
    "    \n",
    "def get_widget_data(b):\n",
    "    clear_output()\n",
    "    model_settings_sc1 = display_model_settings_scenario1()\n",
    "    model_settings_sc2 = display_model_settings_scenario2()\n",
    "    model_settings_sc3 = display_model_settings_scenario3()\n",
    "    label_sc1 = widgets.HTML(value=\"<font size='+1'><b>Scenario 1 Settings</b></font>\")\n",
    "    label_sc2 = widgets.HTML(value=\"<font size='+1'><b>Scenario 2 Settings</b></font>\")\n",
    "    label_sc3 = widgets.HTML(value=\"<font size='+1'><b>Scenario 3 Settings</b></font>\")\n",
    "    sc1_growth_settings = display_growth_settings(sc1_growth_rate_dict)\n",
    "    sc2_growth_settings = display_growth_settings(sc2_growth_rate_dict)\n",
    "    sc3_growth_settings = display_growth_settings(sc3_growth_rate_dict)\n",
    "    sim_settings = display_simulation_settings()\n",
    "    simulation_settings_label = widgets.HTML(value=\"<font size='+1'><b>Simulation Settings</b></font>\")\n",
    "    growth_settings_label = widgets.HTML(value=\"<font size='+1'><b>Growth Settings</b></font>\")\n",
    "    all_settings_tab = widgets.VBox([label_sc1,\n",
    "                                     model_settings_sc1,\n",
    "                                     label_sc2,\n",
    "                                     model_settings_sc2,\n",
    "                                     label_sc3,\n",
    "                                     model_settings_sc3,\n",
    "                                     simulation_settings_label,\n",
    "                                     sim_settings,\n",
    "                                     growth_settings_label,\n",
    "                                     sc1_growth_settings, \n",
    "                                     growth_settings_label,\n",
    "                                     sc2_growth_settings,\n",
    "                                     growth_settings_label,\n",
    "                                     sc3_growth_settings])\n",
    "    tab_contents = ['P0', 'P1', 'P2']\n",
    "    tabnames = ['Model Settings',\n",
    "               'Simulation Settings',\n",
    "               'Model Choices']\n",
    "    children = [widgets.Text(description=name) for name in tab_contents]\n",
    "    confirm_tab = widgets.Tab()\n",
    "    confirm_tab.children = [all_settings_tab]\n",
    "\n",
    "    for i in range(len(tabnames)):\n",
    "        confirm_tab.set_title(i, tabnames[i])\n",
    "    display(buttons)\n",
    "    display(confirm_tab)    \n",
    "    \n",
    "# Create button widgets for Showing, Confirming, and Executing models.\n",
    "button_model_settings = widgets.Button(description=\"Show Model Settings\")\n",
    "button_model_settings.on_click(get_widget_data)\n",
    "button_confirm = widgets.Button(description='Save and Execute')\n",
    "button_confirm.on_click(execute_models)\n",
    "buttons = widgets.HBox([button_model_settings, button_confirm])"
   ]
  },
  {
   "cell_type": "markdown",
   "metadata": {
    "hide_input": true
   },
   "source": [
    "### Data Export Widget"
   ]
  },
  {
   "cell_type": "code",
   "execution_count": 14,
   "metadata": {
    "hide_input": true,
    "init_cell": true
   },
   "outputs": [],
   "source": [
    "%run scenario_files/widgets_data_export.py"
   ]
  },
  {
   "cell_type": "code",
   "execution_count": 15,
   "metadata": {
    "hide_input": true,
    "init_cell": true,
    "tags": [
     "csv_export_code"
    ]
   },
   "outputs": [],
   "source": [
    "data_export_button_dict, button_panel = data_export_widget()\n",
    "\n",
    "def on_button_clicked_no_growth(b):\n",
    "    d = model_sc1.model_run_date_time\n",
    "    filename = 'csv_exports/scenario1_summary'+d+'.csv'\n",
    "    filename2 = 'csv_exports/scenario1_model_data'+d+'.csv'\n",
    "    model_sc1.summary_matrix.to_csv(filename, index=False, header=True)\n",
    "    t = model_sc1.simulation_matrix.to_dataframe('results').unstack()\n",
    "    t.columns = t.columns.droplevel(0)\n",
    "    t.loc[:,'notes'] = model_sc1.annotation\n",
    "    t.reset_index().to_csv(filename2, index=False, header=True)\n",
    "    \n",
    "    \n",
    "def on_button_clicked_linear_growth(b):\n",
    "    d = model_sc2.model_run_date_time\n",
    "    filename = 'csv_exports/scenario2_summary'+d+'.csv'\n",
    "    filename2 = 'csv_exports/scenario2_model_data'+d+'.csv'\n",
    "    model_sc2.summary_matrix.to_csv(filename, index=False, header=True)\n",
    "    t = model_sc2.simulation_matrix.to_dataframe('results').unstack()\n",
    "    t.columns = t.columns.droplevel(0)\n",
    "    t.loc[:,'notes'] = model_sc2.annotation\n",
    "    t.reset_index().to_csv(filename2, index=False, header=True)\n",
    "\n",
    "def on_button_clicked_3yr_growth(b):\n",
    "    d = model_sc3.model_run_date_time\n",
    "    filename = 'csv_exports/scenario3_summary'+d+'.csv'\n",
    "    filename2 = 'csv_exports/scenario3_model_data'+d+'.csv'\n",
    "    model_sc3.summary_matrix.to_csv(filename, index=False, header=True)\n",
    "    t = model_sc3.simulation_matrix.to_dataframe('results').unstack()\n",
    "    t.columns = t.columns.droplevel(0)\n",
    "    t.loc[:,'notes'] = model_sc3.annotation\n",
    "    t.reset_index().to_csv(filename2, index=False, header=True)\n",
    "    \n",
    "data_export_button_dict['button_no_growth'].on_click(on_button_clicked_no_growth)    \n",
    "data_export_button_dict['button_linear_growth'].on_click(on_button_clicked_linear_growth)    \n",
    "data_export_button_dict['button_3yr_growth'].on_click(on_button_clicked_3yr_growth)    \n"
   ]
  },
  {
   "cell_type": "markdown",
   "metadata": {
    "hide_input": true
   },
   "source": [
    "# Auxillary functions\n"
   ]
  },
  {
   "cell_type": "code",
   "execution_count": 16,
   "metadata": {
    "hide_input": true,
    "init_cell": true
   },
   "outputs": [
    {
     "data": {
      "application/javascript": [
       "window.findCellIndicesByTag = function findCellIndicesByTag(tagName) {\n",
       "  return (Jupyter.notebook.get_cells()\n",
       "    .filter(\n",
       "      ({metadata: {tags}}) => tags && tags.includes(tagName)\n",
       "    )\n",
       "    .map((cell) => Jupyter.notebook.find_cell_index(cell))\n",
       "  );\n",
       "};\n",
       "\n",
       "window.runPlotCells = function runPlotCells() {\n",
       "    var c = window.findCellIndicesByTag('plotcell');\n",
       "    Jupyter.notebook.execute_cells(c);\n",
       "};\n",
       "\n",
       "window.runWidgetCells = function runWidgetCells() {\n",
       "    var c = window.findCellIndicesByTag('widget_setup');\n",
       "    Jupyter.notebook.execute_cells(c);\n",
       "};\n",
       "\n",
       "window.runWidgetDisplay = function runWidgetDisplay() {\n",
       "    var c = window.findCellIndicesByTag('widget_display');\n",
       "    Jupyter.notebook.execute_cells(c);\n",
       "};\n",
       "\n",
       "window.runGrowthEventHandler = function runGrowthEventHandler() {\n",
       "    var c = window.findCellIndicesByTag('growth_event_handler');\n",
       "    Jupyter.notebook.execute_cells(c);\n",
       "};\n",
       "\n",
       "window.runGrowthWidgetRefresh = function runGrowthWidgetRefresh() {\n",
       "    var c = window.findCellIndicesByTag('widget_input_refresh');\n",
       "    Jupyter.notebook.execute_cells(c);\n",
       "};\n",
       "\n",
       "window.runSimulation = function runSimulation() {\n",
       "    var c = window.findCellIndicesByTag('run_simulation');\n",
       "    Jupyter.notebook.execute_cells(c);\n",
       "};\n",
       "\n",
       "window.runCSVCodeRefresh = function runCSVCodeRefresh() {\n",
       "    var c = window.findCellIndicesByTag('csv_export_code');\n",
       "    Jupyter.notebook.execute_cells(c);\n",
       "};\n",
       "\n",
       "window.runCSVWidgetRefresh = function runCSVWidgetRefresh() {\n",
       "    var c = window.findCellIndicesByTag('csv_export_widget');\n",
       "    Jupyter.notebook.execute_cells(c);\n",
       "};\n"
      ],
      "text/plain": [
       "<IPython.core.display.Javascript object>"
      ]
     },
     "metadata": {},
     "output_type": "display_data"
    }
   ],
   "source": [
    "%%javascript\n",
    "window.findCellIndicesByTag = function findCellIndicesByTag(tagName) {\n",
    "  return (Jupyter.notebook.get_cells()\n",
    "    .filter(\n",
    "      ({metadata: {tags}}) => tags && tags.includes(tagName)\n",
    "    )\n",
    "    .map((cell) => Jupyter.notebook.find_cell_index(cell))\n",
    "  );\n",
    "};\n",
    "\n",
    "window.runPlotCells = function runPlotCells() {\n",
    "    var c = window.findCellIndicesByTag('plotcell');\n",
    "    Jupyter.notebook.execute_cells(c);\n",
    "};\n",
    "\n",
    "window.runWidgetCells = function runWidgetCells() {\n",
    "    var c = window.findCellIndicesByTag('widget_setup');\n",
    "    Jupyter.notebook.execute_cells(c);\n",
    "};\n",
    "\n",
    "window.runWidgetDisplay = function runWidgetDisplay() {\n",
    "    var c = window.findCellIndicesByTag('widget_display');\n",
    "    Jupyter.notebook.execute_cells(c);\n",
    "};\n",
    "\n",
    "window.runGrowthEventHandler = function runGrowthEventHandler() {\n",
    "    var c = window.findCellIndicesByTag('growth_event_handler');\n",
    "    Jupyter.notebook.execute_cells(c);\n",
    "};\n",
    "\n",
    "window.runGrowthWidgetRefresh = function runGrowthWidgetRefresh() {\n",
    "    var c = window.findCellIndicesByTag('widget_input_refresh');\n",
    "    Jupyter.notebook.execute_cells(c);\n",
    "};\n",
    "\n",
    "window.runSimulation = function runSimulation() {\n",
    "    var c = window.findCellIndicesByTag('run_simulation');\n",
    "    Jupyter.notebook.execute_cells(c);\n",
    "};\n",
    "\n",
    "window.runCSVCodeRefresh = function runCSVCodeRefresh() {\n",
    "    var c = window.findCellIndicesByTag('csv_export_code');\n",
    "    Jupyter.notebook.execute_cells(c);\n",
    "};\n",
    "\n",
    "window.runCSVWidgetRefresh = function runCSVWidgetRefresh() {\n",
    "    var c = window.findCellIndicesByTag('csv_export_widget');\n",
    "    Jupyter.notebook.execute_cells(c);\n",
    "};"
   ]
  },
  {
   "cell_type": "code",
   "execution_count": 76,
   "metadata": {
    "hide_input": true,
    "tags": [
     "growth_event_handler"
    ]
   },
   "outputs": [
    {
     "data": {
      "application/javascript": [
       "window.runGrowthWidgetRefresh()"
      ],
      "text/plain": [
       "<IPython.core.display.Javascript object>"
      ]
     },
     "metadata": {},
     "output_type": "display_data"
    },
    {
     "data": {
      "application/javascript": [
       "window.runWidgetDisplay()"
      ],
      "text/plain": [
       "<IPython.core.display.Javascript object>"
      ]
     },
     "metadata": {},
     "output_type": "display_data"
    }
   ],
   "source": [
    "sc1_growth_rate_dict, sc1_growth_rate_widget = growth_widget_panel(model_settings_dict['duration'].value)\n",
    "sc2_growth_rate_dict, sc2_growth_rate_widget = growth_widget_panel(model_settings_dict['duration'].value)\n",
    "sc3_growth_rate_dict, sc3_growth_rate_widget = growth_widget_panel(model_settings_dict['duration'].value)\n",
    "\n",
    "display(Javascript(\"window.runGrowthWidgetRefresh()\"))\n",
    "display(Javascript(\"window.runWidgetDisplay()\"))"
   ]
  },
  {
   "cell_type": "code",
   "execution_count": 17,
   "metadata": {
    "hide_input": true,
    "init_cell": true
   },
   "outputs": [
    {
     "data": {
      "application/javascript": [
       "window.runWidgetCells()"
      ],
      "text/plain": [
       "<IPython.core.display.Javascript object>"
      ]
     },
     "metadata": {},
     "output_type": "display_data"
    },
    {
     "data": {
      "application/javascript": [
       "window.runWidgetDisplay()"
      ],
      "text/plain": [
       "<IPython.core.display.Javascript object>"
      ]
     },
     "metadata": {},
     "output_type": "display_data"
    }
   ],
   "source": [
    "display(Javascript(\"window.runWidgetCells()\"))\n",
    "display(Javascript(\"window.runWidgetDisplay()\"))\n"
   ]
  }
 ],
 "metadata": {
  "kernelspec": {
   "display_name": "Python 3",
   "language": "python",
   "name": "python3"
  },
  "language_info": {
   "codemirror_mode": {
    "name": "ipython",
    "version": 3
   },
   "file_extension": ".py",
   "mimetype": "text/x-python",
   "name": "python",
   "nbconvert_exporter": "python",
   "pygments_lexer": "ipython3",
   "version": "3.7.4"
  },
  "latex_envs": {
   "LaTeX_envs_menu_present": true,
   "autoclose": false,
   "autocomplete": true,
   "bibliofile": "biblio.bib",
   "cite_by": "apalike",
   "current_citInitial": 1,
   "eqLabelWithNumbers": true,
   "eqNumInitial": 1,
   "hotkeys": {
    "equation": "Ctrl-E",
    "itemize": "Ctrl-I"
   },
   "labels_anchors": false,
   "latex_user_defs": false,
   "report_style_numbering": false,
   "user_envs_cfg": false
  },
  "toc": {
   "base_numbering": 1,
   "nav_menu": {},
   "number_sections": true,
   "sideBar": true,
   "skip_h1_title": false,
   "title_cell": "Table of Contents",
   "title_sidebar": "Contents",
   "toc_cell": true,
   "toc_position": {
    "height": "calc(100% - 180px)",
    "left": "10px",
    "top": "150px",
    "width": "165px"
   },
   "toc_section_display": true,
   "toc_window_display": true
  }
 },
 "nbformat": 4,
 "nbformat_minor": 2
}
