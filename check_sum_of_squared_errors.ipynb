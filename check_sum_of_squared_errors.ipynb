{
 "cells": [
  {
   "cell_type": "code",
   "execution_count": 1,
   "metadata": {},
   "outputs": [],
   "source": [
    "import pandas as pd\n",
    "import numpy as np"
   ]
  },
  {
   "cell_type": "code",
   "execution_count": 2,
   "metadata": {},
   "outputs": [],
   "source": [
    "dat = pd.read_csv('/home/krishnab/Downloads/for_barbara/no_growth_summary08_52AM on July 08, 2019.csv')"
   ]
  },
  {
   "cell_type": "markdown",
   "metadata": {},
   "source": [
    "Goal is to calculate the sum of squared errors for the simulation versus the data. The variables we are considering are:\n",
    "\n",
    "- fpct\n",
    "- mpct \n",
    "- deptn\n",
    "- f\n",
    "- m \n",
    "- fhire\n",
    "- mhire\n"
   ]
  },
  {
   "cell_type": "code",
   "execution_count": 8,
   "metadata": {},
   "outputs": [
    {
     "data": {
      "text/plain": [
       "<bound method NDFrame.head of     act_attr  act_attr1  act_attr2  act_attr3  act_ch_deptn  act_deptn  \\\n",
       "0        0.0        0.0        0.0        0.0           0.0       74.0   \n",
       "1        6.0        3.0        0.0        3.0          -3.0       71.0   \n",
       "2        3.0        0.0        1.0        2.0           7.0       78.0   \n",
       "3        4.0        3.0        0.0        1.0           0.0       78.0   \n",
       "4        2.0        0.0        0.0        2.0           6.0       84.0   \n",
       "5        1.0        1.0        0.0        0.0           1.0       85.0   \n",
       "6        1.0        1.0        0.0        0.0           4.0       89.0   \n",
       "7        6.0        0.0        2.0        4.0          -3.0       86.0   \n",
       "8        9.0        4.0        1.0        4.0          -5.0       81.0   \n",
       "9        5.0        3.0        0.0        2.0           2.0       83.0   \n",
       "10       7.0        2.0        2.0        3.0          -2.0       81.0   \n",
       "11       7.0        2.0        1.0        4.0           1.0       82.0   \n",
       "12       3.0        2.0        0.0        1.0           7.0       89.0   \n",
       "13       NaN        NaN        NaN        NaN           NaN        NaN   \n",
       "14       NaN        NaN        NaN        NaN           NaN        NaN   \n",
       "15       NaN        NaN        NaN        NaN           NaN        NaN   \n",
       "16       NaN        NaN        NaN        NaN           NaN        NaN   \n",
       "17       NaN        NaN        NaN        NaN           NaN        NaN   \n",
       "18       NaN        NaN        NaN        NaN           NaN        NaN   \n",
       "19       NaN        NaN        NaN        NaN           NaN        NaN   \n",
       "\n",
       "    act_exhire  act_f  act_f1  act_f2  ...  ss_deptn_range  ss_deptn_ub  \\\n",
       "0          0.0    8.0     2.0     3.0  ...             3.0         84.0   \n",
       "1          3.0    7.0     2.0     3.0  ...             3.0         84.0   \n",
       "2          3.0    9.0     4.0     3.0  ...             3.0         84.0   \n",
       "3          1.0   10.0     4.0     3.0  ...             3.0         84.0   \n",
       "4          4.0   12.0     6.0     3.0  ...             3.0         84.0   \n",
       "5          0.0   13.0     7.0     2.0  ...             3.0         84.0   \n",
       "6          4.0   13.0     6.0     3.0  ...             3.0         84.0   \n",
       "7          2.0   12.0     6.0     2.0  ...             3.0         84.0   \n",
       "8         -2.0   11.0     3.0     3.0  ...             3.0         84.0   \n",
       "9         -2.0   14.0     5.0     4.0  ...             3.0         84.0   \n",
       "10         0.0   14.0     5.0     4.0  ...             3.0         84.0   \n",
       "11         1.0   18.0     7.0     6.0  ...             3.0         84.0   \n",
       "12         3.0   19.0     8.0     6.0  ...             3.0         84.0   \n",
       "13         NaN    NaN     NaN     NaN  ...             3.0         84.0   \n",
       "14         NaN    NaN     NaN     NaN  ...             3.0         84.0   \n",
       "15         NaN    NaN     NaN     NaN  ...             3.0         84.0   \n",
       "16         NaN    NaN     NaN     NaN  ...             3.0         84.0   \n",
       "17         NaN    NaN     NaN     NaN  ...             3.0         84.0   \n",
       "18         NaN    NaN     NaN     NaN  ...             3.0         84.0   \n",
       "19         NaN    NaN     NaN     NaN  ...             3.0         84.0   \n",
       "\n",
       "    ss_duration  unfild_025  unfild_975  unfild_avg  unfild_std    yr  p_fpct  \\\n",
       "0          20.0         0.0       0.000       0.000       0.000   0.0   0.000   \n",
       "1          20.0         0.0       6.000       1.986       1.513   1.0   0.000   \n",
       "2          20.0         0.0       6.000       2.078       1.575   2.0   0.000   \n",
       "3          20.0         0.0       6.000       2.124       1.748   3.0   0.000   \n",
       "4          20.0         0.0       6.000       2.022       1.670   4.0   0.000   \n",
       "5          20.0         0.0       6.000       2.202       1.722   5.0   0.000   \n",
       "6          20.0         0.0       6.525       2.138       1.710   6.0   0.000   \n",
       "7          20.0         0.0       6.000       2.212       1.706   7.0   0.004   \n",
       "8          20.0         0.0       6.525       2.214       1.784   8.0   0.006   \n",
       "9          20.0         0.0       6.000       2.238       1.747   9.0   0.016   \n",
       "10         20.0         0.0       6.000       2.078       1.667  10.0   0.024   \n",
       "11         20.0         0.0       6.000       1.972       1.645  11.0   0.040   \n",
       "12         20.0         0.0       6.000       2.206       1.649  12.0   0.062   \n",
       "13         20.0         0.0       6.000       2.130       1.631  13.0   0.096   \n",
       "14         20.0         0.0       6.000       2.046       1.639  14.0   0.120   \n",
       "15         20.0         0.0       6.000       2.228       1.723  15.0   0.152   \n",
       "16         20.0         0.0       6.000       2.144       1.746  16.0   0.174   \n",
       "17         20.0         0.0       6.000       2.206       1.841  17.0   0.222   \n",
       "18         20.0         0.0       6.525       2.250       1.795  18.0   0.252   \n",
       "19         20.0         0.0       6.000       2.086       1.720  19.0   0.268   \n",
       "\n",
       "                                          notes  \n",
       "0   baseline model, defaults for all parameters  \n",
       "1   baseline model, defaults for all parameters  \n",
       "2   baseline model, defaults for all parameters  \n",
       "3   baseline model, defaults for all parameters  \n",
       "4   baseline model, defaults for all parameters  \n",
       "5   baseline model, defaults for all parameters  \n",
       "6   baseline model, defaults for all parameters  \n",
       "7   baseline model, defaults for all parameters  \n",
       "8   baseline model, defaults for all parameters  \n",
       "9   baseline model, defaults for all parameters  \n",
       "10  baseline model, defaults for all parameters  \n",
       "11  baseline model, defaults for all parameters  \n",
       "12  baseline model, defaults for all parameters  \n",
       "13  baseline model, defaults for all parameters  \n",
       "14  baseline model, defaults for all parameters  \n",
       "15  baseline model, defaults for all parameters  \n",
       "16  baseline model, defaults for all parameters  \n",
       "17  baseline model, defaults for all parameters  \n",
       "18  baseline model, defaults for all parameters  \n",
       "19  baseline model, defaults for all parameters  \n",
       "\n",
       "[20 rows x 319 columns]>"
      ]
     },
     "execution_count": 8,
     "metadata": {},
     "output_type": "execute_result"
    }
   ],
   "source": [
    "dat[].head"
   ]
  },
  {
   "cell_type": "code",
   "execution_count": 4,
   "metadata": {},
   "outputs": [
    {
     "data": {
      "text/plain": [
       "Index(['act_attr', 'act_attr1', 'act_attr2', 'act_attr3', 'act_ch_deptn',\n",
       "       'act_deptn', 'act_exhire', 'act_f', 'act_f1', 'act_f2',\n",
       "       ...\n",
       "       'ss_deptn_range', 'ss_deptn_ub', 'ss_duration', 'unfild_025',\n",
       "       'unfild_975', 'unfild_avg', 'unfild_std', 'yr', 'p_fpct', 'notes'],\n",
       "      dtype='object', length=319)"
      ]
     },
     "execution_count": 4,
     "metadata": {},
     "output_type": "execute_result"
    }
   ],
   "source": [
    "dat.columns"
   ]
  },
  {
   "cell_type": "code",
   "execution_count": 5,
   "metadata": {},
   "outputs": [],
   "source": [
    "fpct_st = (dat.fpct_avg - dat.fpct_avg.mean())/dat.fpct_avg.std()"
   ]
  },
  {
   "cell_type": "code",
   "execution_count": 6,
   "metadata": {},
   "outputs": [
    {
     "data": {
      "text/plain": [
       "0    -1.842628\n",
       "1    -1.561525\n",
       "2    -1.308533\n",
       "3    -1.111761\n",
       "4    -0.886879\n",
       "5    -0.718217\n",
       "6    -0.493335\n",
       "7    -0.296563\n",
       "8    -0.127902\n",
       "9     0.012650\n",
       "10    0.181311\n",
       "11    0.321862\n",
       "12    0.490524\n",
       "13    0.659186\n",
       "14    0.771627\n",
       "15    0.912178\n",
       "16    1.052729\n",
       "17    1.193281\n",
       "18    1.305722\n",
       "19    1.446273\n",
       "Name: fpct_avg, dtype: float64"
      ]
     },
     "execution_count": 6,
     "metadata": {},
     "output_type": "execute_result"
    }
   ],
   "source": [
    "fpct_st"
   ]
  },
  {
   "cell_type": "code",
   "execution_count": 7,
   "metadata": {},
   "outputs": [
    {
     "data": {
      "text/plain": [
       "0.03557419969880597"
      ]
     },
     "execution_count": 7,
     "metadata": {},
     "output_type": "execute_result"
    }
   ],
   "source": [
    "dat.fpct_avg.std()"
   ]
  },
  {
   "cell_type": "code",
   "execution_count": null,
   "metadata": {},
   "outputs": [],
   "source": []
  }
 ],
 "metadata": {
  "kernelspec": {
   "display_name": "Python 3",
   "language": "python",
   "name": "python3"
  },
  "language_info": {
   "codemirror_mode": {
    "name": "ipython",
    "version": 3
   },
   "file_extension": ".py",
   "mimetype": "text/x-python",
   "name": "python",
   "nbconvert_exporter": "python",
   "pygments_lexer": "ipython3",
   "version": "3.7.3"
  }
 },
 "nbformat": 4,
 "nbformat_minor": 2
}
